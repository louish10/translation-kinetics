{
 "cells": [
  {
   "cell_type": "code",
   "execution_count": 1,
   "id": "c521f6d7-50a8-475e-8ecb-564c163f3d5e",
   "metadata": {},
   "outputs": [],
   "source": [
    "include(\"../../src/utilities.jl\")\n",
    "include(\"../../src/simple_canonical_model_functions.jl\")\n",
    "include(\"../../src/model_with_ribosomes_functions.jl\")\n",
    "include(\"../../src/canonical_two_stage_model_with_division_functions.jl\")\n",
    "using Catalyst, DifferentialEquations, PyPlot, Statistics, SpecialFunctions"
   ]
  },
  {
   "cell_type": "code",
   "execution_count": 2,
   "id": "31a2d0db-8bf6-40fc-aa1c-5727804cb49d",
   "metadata": {},
   "outputs": [
    {
     "data": {
      "text/plain": [
       "beta_3_exact (generic function with 1 method)"
      ]
     },
     "execution_count": 2,
     "metadata": {},
     "output_type": "execute_result"
    }
   ],
   "source": [
    "function beta_3_exact(beta, gamma, rho, T)\n",
    "    return (3*beta *gamma *(6 *gamma ^2*T^2*\n",
    "   exp(gamma  *T)-3 *gamma ^2 *T^2-4 *gamma *T*\n",
    "   exp(gamma*T)+2 *gamma *T+2*exp(gamma *\n",
    "   T)-2))/(rho*(26 *gamma ^3 *T^3*\n",
    "   exp(gamma*T)-13 *gamma ^3 *T^3-12 *gamma ^2*\n",
    "   T^2* exp(gamma  *T)+12 *gamma ^2 *T^2-6 *gamma* \n",
    "   T *exp(gamma * T)-6 *gamma  *T+12 *exp(gamma* \n",
    "   T)-12))\n",
    "end"
   ]
  },
  {
   "cell_type": "code",
   "execution_count": 3,
   "id": "03b756ad-eb97-4462-9981-954084fa8cb6",
   "metadata": {},
   "outputs": [
    {
     "data": {
      "text/plain": [
       "negative_binomial (generic function with 1 method)"
      ]
     },
     "execution_count": 3,
     "metadata": {},
     "output_type": "execute_result"
    }
   ],
   "source": [
    "function negative_binomial(x, mean, std)\n",
    "    p = 1-mean/std^2\n",
    "    r = mean^2/(std^2-mean)\n",
    "    return SpecialFunctions.gamma.(x .+ r) ./ (SpecialFunctions.gamma.(x .+ 1) .* SpecialFunctions.gamma.(r)) .* (1-p) .^ r .* p .^x\n",
    "end"
   ]
  },
  {
   "cell_type": "code",
   "execution_count": 4,
   "id": "4aab8359-606a-45a1-ab50-d262e1f38f1e",
   "metadata": {},
   "outputs": [
    {
     "data": {
      "text/plain": [
       "simulate_stochastic_cycle (generic function with 1 method)"
      ]
     },
     "execution_count": 4,
     "metadata": {},
     "output_type": "execute_result"
    }
   ],
   "source": [
    "function simulate_cycle(model, p, t0, t_fin, T, species_0, saveat)\n",
    "    tstops = [t0+T:T:t_fin;]\n",
    "    \n",
    "    prob = DiscreteProblem(model, species_0, (t0,t_fin), p)\n",
    "    jump_prob = JumpProblem(model, prob, Direct(), save_positions=(false,false))\n",
    "        \n",
    "    condition(u,t,integrator) = t%27.5==0.0\n",
    "    affect!(integrator) = integrator.u = Utilities.partition_species(integrator.u)\n",
    "    cb = DiscreteCallback(condition,affect!)\n",
    "    \n",
    "    sol = solve(jump_prob, SSAStepper(), saveat=saveat, callback=cb, tstops=tstops)\n",
    "    return sol\n",
    "end\n",
    "\n",
    "function simulate_stochastic_cycle(model, p, t0, t_fin, T, species_0, N, saveat)\n",
    "   prob = DiscreteProblem(\n",
    "        model,\n",
    "        species_0,\n",
    "        (t0,t_fin),\n",
    "        p\n",
    "    )\n",
    "    jump_prob = JumpProblem(model, prob, Direct())\n",
    "    \n",
    "    function affect!(integrator)\n",
    "        integrator.u = Utilities.partition_species(integrator.u)\n",
    "        integrator.u[length(integrator.u)] = 0\n",
    "    end\n",
    "        \n",
    "    condition(u,t,integrator) = u[length(u)]==N\n",
    "    cb = DiscreteCallback(condition,affect!)\n",
    "    sol = solve(jump_prob, SSAStepper(), callback=cb, saveat=saveat)\n",
    "    pop!(sol.u)\n",
    "    pop!(sol.t)\n",
    "    return sol\n",
    "end"
   ]
  },
  {
   "cell_type": "markdown",
   "id": "0229a7f0-98d6-430d-97fc-17f878701d96",
   "metadata": {},
   "source": [
    "## Model I"
   ]
  },
  {
   "cell_type": "code",
   "execution_count": 25,
   "id": "aa1bb9a6-6c35-4181-ba80-aa3649c04e26",
   "metadata": {},
   "outputs": [
    {
     "data": {
      "text/latex": [
       "\\begin{align}\n",
       "\\require{mhchem}\n",
       "\\ce{ \\varnothing &->[alpha] m}\\\\\n",
       "\\ce{ m &->[beta] p + m}\\\\\n",
       "\\ce{ m &->[gamma] \\varnothing}\\\\\n",
       "\\ce{ p &->[delta] \\varnothing}\n",
       "\\end{align}\n"
      ],
      "text/plain": [
       "\u001b[0m\u001b[1mModel ##ReactionSystem#260 with 4 equations\u001b[22m\n",
       "\u001b[0m\u001b[1mStates (2):\u001b[22m\n",
       "  m(t)\n",
       "  p(t)\n",
       "\u001b[0m\u001b[1mParameters (4):\u001b[22m\n",
       "  alpha\n",
       "  beta\n",
       "  gamma\n",
       "  delta"
      ]
     },
     "execution_count": 25,
     "metadata": {},
     "output_type": "execute_result"
    }
   ],
   "source": [
    "sc2s = @reaction_network begin\n",
    "        alpha,  0-->m\n",
    "        beta, m-->p + m\n",
    "        gamma,  m-->0\n",
    "        delta, p-->0\n",
    "end alpha beta gamma delta"
   ]
  },
  {
   "cell_type": "code",
   "execution_count": 26,
   "id": "081e4661-db60-4f81-b47a-a6682b3417de",
   "metadata": {},
   "outputs": [
    {
     "data": {
      "text/plain": [
       "retcode: Default\n",
       "Interpolation: Piecewise constant interpolation\n",
       "t: 46836258-element Vector{Float64}:\n",
       " 0.0\n",
       " 0.6044709319983537\n",
       " 0.8788931717811169\n",
       " 1.0\n",
       " 1.2413004067450566\n",
       " 1.7536086622762475\n",
       " 1.8485726490748955\n",
       " 2.0\n",
       " 2.0130827438974714\n",
       " 2.130069328134645\n",
       " 2.707108106976655\n",
       " 2.815915393816757\n",
       " 3.0\n",
       " ⋮\n",
       " 9.999997046761593e6\n",
       " 9.999997216489306e6\n",
       " 9.999997408033434e6\n",
       " 9.99999794828872e6\n",
       " 9.999998e6\n",
       " 9.999999e6\n",
       " 9.999999040599788e6\n",
       " 9.999999089545866e6\n",
       " 9.999999098973313e6\n",
       " 9.999999372026157e6\n",
       " 9.999999740939416e6\n",
       " 1.0e7\n",
       "u: 46836258-element Vector{Vector{Float64}}:\n",
       " [4.0, 37.0]\n",
       " [4.0, 38.0]\n",
       " [4.0, 39.0]\n",
       " [4.0, 39.0]\n",
       " [3.0, 39.0]\n",
       " [3.0, 38.0]\n",
       " [4.0, 38.0]\n",
       " [4.0, 38.0]\n",
       " [3.0, 38.0]\n",
       " [3.0, 37.0]\n",
       " [2.0, 37.0]\n",
       " [3.0, 37.0]\n",
       " [3.0, 37.0]\n",
       " ⋮\n",
       " [1.0, 29.0]\n",
       " [1.0, 28.0]\n",
       " [2.0, 28.0]\n",
       " [3.0, 28.0]\n",
       " [3.0, 28.0]\n",
       " [3.0, 28.0]\n",
       " [4.0, 28.0]\n",
       " [3.0, 28.0]\n",
       " [3.0, 27.0]\n",
       " [2.0, 27.0]\n",
       " [1.0, 27.0]\n",
       " [1.0, 27.0]"
      ]
     },
     "execution_count": 26,
     "metadata": {},
     "output_type": "execute_result"
    }
   ],
   "source": [
    "alph = 1.0\n",
    "beta = 0.2\n",
    "gamma = 1.25*0.19\n",
    "delta = 0.023\n",
    "    \n",
    "prob = DiscreteProblem(sc2s, [round(alph/gamma), round(alph*beta/gamma/delta)], (0.,10000000.), [alph, beta, gamma ,delta])\n",
    "jump_prob = JumpProblem(sc2s, prob, Direct())\n",
    "\n",
    "sol = solve(jump_prob, SSAStepper(), saveat=1.0)"
   ]
  },
  {
   "cell_type": "code",
   "execution_count": 27,
   "id": "08d61547-c278-446c-a8bb-bc4f59cc001b",
   "metadata": {},
   "outputs": [
    {
     "data": {
      "image/png": "[encoded data removed]",
      "text/plain": [
       "Figure(PyObject <Figure size 640x480 with 1 Axes>)"
      ]
     },
     "metadata": {},
     "output_type": "display_data"
    }
   ],
   "source": [
    "t = sol.t\n",
    "m = map(x -> x[1], sol.u)\n",
    "p = map(x -> x[2], sol.u)\n",
    "min = Int(minimum(p))\n",
    "max = Int(maximum(p))\n",
    "bins = Array(min:1:max)\n",
    "\n",
    "x = LinRange(0,max, max)\n",
    "y = negative_binomial(\n",
    "    x,\n",
    "    SimpleCanonicalModel.p(alph, beta, gamma, delta),\n",
    "    sqrt(SimpleCanonicalModel.p_var(alph, beta, gamma, delta))\n",
    ")\n",
    "hist(p, density=true, bins=bins)\n",
    "xlim([1,100])\n",
    "xscale(\"log\")\n",
    "plot(x,y)\n",
    "savefig(\"../../data/distributions/model_I.svg\")"
   ]
  },
  {
   "cell_type": "code",
   "execution_count": 28,
   "id": "4e6b5962-0c0c-457c-955b-bcedaf6b4751",
   "metadata": {},
   "outputs": [
    {
     "name": "stdout",
     "output_type": "stream",
     "text": [
      "37.20877865605745\n",
      "4.620023123965198\n",
      "65.91314458567946\n",
      "4.454428039161109\n"
     ]
    }
   ],
   "source": [
    "println(mean(p))\n",
    "println(mean(m))\n",
    "println(var(p))\n",
    "println(var(m))"
   ]
  },
  {
   "cell_type": "markdown",
   "id": "38c80f38-6b33-42c5-a7bc-56aa86616842",
   "metadata": {},
   "source": [
    "## Model II"
   ]
  },
  {
   "cell_type": "code",
   "execution_count": 17,
   "id": "b151ad5b-8c56-463d-9f8e-bb16ea7d2f31",
   "metadata": {},
   "outputs": [
    {
     "data": {
      "text/latex": [
       "\\begin{align}\n",
       "\\require{mhchem}\n",
       "\\ce{ \\varnothing &->[alpha] m}\\\\\n",
       "\\ce{ m &->[beta] p + m}\\\\\n",
       "\\ce{ m &->[gamma] \\varnothing}\n",
       "\\end{align}\n"
      ],
      "text/plain": [
       "\u001b[0m\u001b[1mModel ##ReactionSystem#259 with 3 equations\u001b[22m\n",
       "\u001b[0m\u001b[1mStates (2):\u001b[22m\n",
       "  m(t)\n",
       "  p(t)\n",
       "\u001b[0m\u001b[1mParameters (3):\u001b[22m\n",
       "  alpha\n",
       "  beta\n",
       "  gamma"
      ]
     },
     "execution_count": 17,
     "metadata": {},
     "output_type": "execute_result"
    }
   ],
   "source": [
    "c2s = @reaction_network begin\n",
    "        alpha,  0-->m\n",
    "        beta, m-->p + m\n",
    "        gamma,  m-->0\n",
    "    end alpha beta gamma"
   ]
  },
  {
   "cell_type": "code",
   "execution_count": 18,
   "id": "354f3a70-eb8c-4766-b3dd-89e985115097",
   "metadata": {},
   "outputs": [
    {
     "data": {
      "text/plain": [
       "retcode: Default\n",
       "Interpolation: Piecewise constant interpolation\n",
       "t: 11838385-element Vector{Float64}:\n",
       "  0.0\n",
       "  0.9\n",
       "  1.8\n",
       "  2.7\n",
       "  3.6\n",
       "  4.5\n",
       "  5.4\n",
       "  6.3\n",
       "  7.2\n",
       "  8.1\n",
       "  9.0\n",
       "  9.9\n",
       " 10.8\n",
       "  ⋮\n",
       "  9.9999909e6\n",
       "  9.9999918e6\n",
       "  9.9999927e6\n",
       "  9.9999936e6\n",
       "  9.9999945e6\n",
       "  9.9999954e6\n",
       "  9.9999963e6\n",
       "  9.9999972e6\n",
       "  9.9999981e6\n",
       "  9.999999e6\n",
       "  9.9999999e6\n",
       "  1.0e7\n",
       "u: 11838385-element Vector{Vector{Float64}}:\n",
       " [2.0, 25.0]\n",
       " [2.0, 27.0]\n",
       " [3.0, 29.0]\n",
       " [4.0, 29.0]\n",
       " [3.0, 29.0]\n",
       " [5.0, 30.0]\n",
       " [3.0, 30.0]\n",
       " [3.0, 31.0]\n",
       " [5.0, 33.0]\n",
       " [6.0, 35.0]\n",
       " [7.0, 37.0]\n",
       " [7.0, 39.0]\n",
       " [9.0, 40.0]\n",
       " ⋮\n",
       " [6.0, 30.0]\n",
       " [6.0, 30.0]\n",
       " [5.0, 32.0]\n",
       " [2.0, 32.0]\n",
       " [3.0, 32.0]\n",
       " [4.0, 32.0]\n",
       " [4.0, 33.0]\n",
       " [4.0, 34.0]\n",
       " [4.0, 34.0]\n",
       " [3.0, 34.0]\n",
       " [3.0, 34.0]\n",
       " [3.0, 34.0]"
      ]
     },
     "execution_count": 18,
     "metadata": {},
     "output_type": "execute_result"
    }
   ],
   "source": [
    "alph = 1.0\n",
    "beta = 0.2\n",
    "gamma = 0.2\n",
    "T=27.5\n",
    "\n",
    "\n",
    "sol = simulate_cycle(c2s, [alph, beta, gamma], 0.0, 10000000.0, T,\n",
    "        [\n",
    "            round(CanonicalTwoStageModel.mrna(alph, gamma, T, 0)),\n",
    "            round(CanonicalTwoStageModel.approximate_protein_mean(alph, beta, gamma, T, 0))\n",
    "        ],\n",
    "        0.9\n",
    "    )\n",
    "    "
   ]
  },
  {
   "cell_type": "code",
   "execution_count": 19,
   "id": "144ee932-b09a-42bc-894d-5dad1f8e349c",
   "metadata": {},
   "outputs": [],
   "source": [
    "p = zeros(length(sol.u))\n",
    "m = zeros(length(sol.u))\n",
    "for i in 1:length(sol.u)\n",
    "    m[i] = sol.u[i][1]\n",
    "    p[i] = sol.u[i][2]\n",
    "\n",
    "end"
   ]
  },
  {
   "cell_type": "code",
   "execution_count": 20,
   "id": "07f6bd8c-ff1f-4616-ba48-343f89ed149c",
   "metadata": {},
   "outputs": [
    {
     "data": {
      "image/png": "[encoded data removed]",
      "text/plain": [
       "Figure(PyObject <Figure size 640x480 with 1 Axes>)"
      ]
     },
     "metadata": {},
     "output_type": "display_data"
    }
   ],
   "source": [
    "min = Int(minimum(p))\n",
    "max = Int(maximum(p))\n",
    "bins = Array(min:1:max)\n",
    "x = LinRange(1,125, 125)\n",
    "y = negative_binomial(\n",
    "    x,\n",
    "    CanonicalTwoStageModel.p_time_av(alph, beta, gamma, T),\n",
    "    sqrt(CanonicalTwoStageModel.p_var_time_av(alph, beta, gamma, T))\n",
    ")\n",
    "\n",
    "plt.xscale(\"log\")\n",
    "hist(p, density=true, bins=bins)\n",
    "plot(x, y)\n",
    "xlim([1,100])\n",
    "savefig(\"../../data/distributions/model_II.svg\")"
   ]
  },
  {
   "cell_type": "code",
   "execution_count": 21,
   "id": "e7549a4e-7f4b-4ce1-b95f-2a5f8071c001",
   "metadata": {},
   "outputs": [
    {
     "name": "stdout",
     "output_type": "stream",
     "text": [
      "36.715146618394314\n",
      "4.464608390418118\n",
      "130.42811352352956\n",
      "5.037852623391266\n"
     ]
    }
   ],
   "source": [
    "println(mean(p))\n",
    "println(mean(m))\n",
    "println(var(p))\n",
    "println(var(m))"
   ]
  },
  {
   "cell_type": "code",
   "execution_count": null,
   "id": "2602eb3f-6561-460e-8fea-0aa686d74b68",
   "metadata": {},
   "outputs": [],
   "source": []
  },
  {
   "cell_type": "markdown",
   "id": "b2e5ad14-b739-4c25-95b2-89cda2d71f37",
   "metadata": {},
   "source": [
    "## Model III"
   ]
  },
  {
   "cell_type": "code",
   "execution_count": 29,
   "id": "57866831-33d9-4196-9fd3-6e000b0d2334",
   "metadata": {},
   "outputs": [
    {
     "data": {
      "text/latex": [
       "\\begin{align}\n",
       "\\require{mhchem}\n",
       "\\ce{ \\varnothing &->[alpha] m}\\\\\n",
       "\\ce{ m + r &->[beta] p + m + r}\\\\\n",
       "\\ce{ m &->[gamma] \\varnothing}\\\\\n",
       "\\ce{ \\varnothing &->[rho] r}\n",
       "\\end{align}\n"
      ],
      "text/plain": [
       "\u001b[0m\u001b[1mModel ##ReactionSystem#261 with 4 equations\u001b[22m\n",
       "\u001b[0m\u001b[1mStates (3):\u001b[22m\n",
       "  m(t)\n",
       "  r(t)\n",
       "  p(t)\n",
       "\u001b[0m\u001b[1mParameters (4):\u001b[22m\n",
       "  alpha\n",
       "  beta\n",
       "  gamma\n",
       "  rho"
      ]
     },
     "execution_count": 29,
     "metadata": {},
     "output_type": "execute_result"
    }
   ],
   "source": [
    "mwr = @reaction_network begin\n",
    "    alpha,  0-->m\n",
    "    beta, m + r-->p + m + r\n",
    "    gamma,  m-->0\n",
    "    rho, 0-->r\n",
    "end alpha beta gamma rho"
   ]
  },
  {
   "cell_type": "code",
   "execution_count": 30,
   "id": "3bd1cf62-3dcd-4374-8ca1-c9214fb5f9ed",
   "metadata": {},
   "outputs": [
    {
     "data": {
      "text/plain": [
       "retcode: Default\n",
       "Interpolation: Piecewise constant interpolation\n",
       "t: 2446971-element Vector{Float64}:\n",
       "  0.0\n",
       "  2.4\n",
       "  4.8\n",
       "  7.2\n",
       "  9.6\n",
       " 12.0\n",
       " 14.4\n",
       " 16.8\n",
       " 19.2\n",
       " 21.6\n",
       " 24.0\n",
       " 26.4\n",
       " 27.5\n",
       "  ⋮\n",
       "  4.99998e6\n",
       "  4.9999824e6\n",
       "  4.9999848e6\n",
       "  4.9999872e6\n",
       "  4.9999896e6\n",
       "  4.999992e6\n",
       "  4.9999944e6\n",
       "  4.999995e6\n",
       "  4.999995e6\n",
       "  4.9999968e6\n",
       "  4.9999992e6\n",
       "  5.0e6\n",
       "u: 2446971-element Vector{Vector{Float64}}:\n",
       " [2.0, 6.0, 26.0]\n",
       " [3.0, 6.0, 27.0]\n",
       " [4.0, 7.0, 27.0]\n",
       " [8.0, 9.0, 29.0]\n",
       " [6.0, 10.0, 37.0]\n",
       " [7.0, 10.0, 37.0]\n",
       " [8.0, 10.0, 41.0]\n",
       " [9.0, 10.0, 47.0]\n",
       " [7.0, 10.0, 54.0]\n",
       " [4.0, 10.0, 57.0]\n",
       " [5.0, 10.0, 60.0]\n",
       " [6.0, 11.0, 63.0]\n",
       " [8.0, 12.0, 65.0]\n",
       " ⋮\n",
       " [3.0, 14.0, 52.0]\n",
       " [8.0, 15.0, 55.0]\n",
       " [7.0, 15.0, 62.0]\n",
       " [3.0, 15.0, 67.0]\n",
       " [4.0, 17.0, 70.0]\n",
       " [3.0, 18.0, 73.0]\n",
       " [3.0, 18.0, 74.0]\n",
       " [3.0, 18.0, 75.0]\n",
       " [1.0, 9.0, 41.0]\n",
       " [4.0, 10.0, 42.0]\n",
       " [6.0, 11.0, 47.0]\n",
       " [6.0, 11.0, 47.0]"
      ]
     },
     "execution_count": 30,
     "metadata": {},
     "output_type": "execute_result"
    }
   ],
   "source": [
    "alph = 1.0\n",
    "gamma = 0.2\n",
    "rho = 0.2\n",
    "T=27.5\n",
    "beta = 0.99*beta_3_exact(0.2, gamma, rho, T)\n",
    "\n",
    "\n",
    "sol = simulate_cycle(mwr, [alph, beta, gamma, rho], 0.0, 5000000.0, T,\n",
    "        [\n",
    "            round(ModelWithRibosomes.mrna(alph, gamma, T, 0)),\n",
    "            round(ModelWithRibosomes.r(rho, T, 0)),\n",
    "            round(ModelWithRibosomes.p(alph, beta, gamma, rho, T, 0)),\n",
    "        ],\n",
    "        2.4\n",
    "    )"
   ]
  },
  {
   "cell_type": "code",
   "execution_count": 31,
   "id": "3d1053b6-e468-468d-bc32-a49006003a02",
   "metadata": {},
   "outputs": [
    {
     "data": {
      "text/plain": [
       "2446971-element Vector{Float64}:\n",
       " 26.0\n",
       " 27.0\n",
       " 27.0\n",
       " 29.0\n",
       " 37.0\n",
       " 37.0\n",
       " 41.0\n",
       " 47.0\n",
       " 54.0\n",
       " 57.0\n",
       " 60.0\n",
       " 63.0\n",
       " 65.0\n",
       "  ⋮\n",
       " 52.0\n",
       " 55.0\n",
       " 62.0\n",
       " 67.0\n",
       " 70.0\n",
       " 73.0\n",
       " 74.0\n",
       " 75.0\n",
       " 41.0\n",
       " 42.0\n",
       " 47.0\n",
       " 47.0"
      ]
     },
     "execution_count": 31,
     "metadata": {},
     "output_type": "execute_result"
    }
   ],
   "source": [
    "p = zeros(length(sol.u))\n",
    "m = zeros(length(sol.u))\n",
    "for i in 1:length(sol.u)\n",
    "    m[i] = sol.u[i][1]\n",
    "    p[i] = sol.u[i][3]\n",
    "\n",
    "end\n",
    "p"
   ]
  },
  {
   "cell_type": "code",
   "execution_count": 32,
   "id": "4e3ca7e0-0055-449e-8384-203e13164935",
   "metadata": {},
   "outputs": [
    {
     "data": {
      "image/png": "[encoded data removed]",
      "text/plain": [
       "Figure(PyObject <Figure size 640x480 with 1 Axes>)"
      ]
     },
     "metadata": {},
     "output_type": "display_data"
    }
   ],
   "source": [
    "x = LinRange(1,125, 125)\n",
    "y = negative_binomial(\n",
    "    x,\n",
    "    ModelWithRibosomes.p_time_av(alph, beta, gamma, rho, T),\n",
    "    sqrt(ModelWithRibosomes.p_var_time_av(alph, beta, gamma, rho, T))\n",
    ")\n",
    "#histogram(p, normed=true, linecolor=:match, xlim=[0,250])\n",
    "#plot!(x, y)\n",
    "min = Int(minimum(p))\n",
    "max = Int(maximum(p))\n",
    "bins = Array(min:1:max)\n",
    "\n",
    "hist(p, density=true, bins=bins)\n",
    "plot(x, y)\n",
    "plt.xscale(\"log\")\n",
    "xlim([1,100])\n",
    "savefig(\"../../data/distributions/model_III.svg\")"
   ]
  },
  {
   "cell_type": "code",
   "execution_count": 34,
   "id": "86adf12c-976b-4a04-bf83-f1cc6816e65a",
   "metadata": {},
   "outputs": [
    {
     "name": "stdout",
     "output_type": "stream",
     "text": [
      "36.82165542623922\n",
      "4.402256504061552\n",
      "234.53327573065158\n",
      "5.098992182367243\n"
     ]
    }
   ],
   "source": [
    "println(mean(p))\n",
    "println(mean(m))\n",
    "println(var(p))\n",
    "println(var(m))"
   ]
  },
  {
   "cell_type": "markdown",
   "id": "472f90f3-3e43-4b70-a3d3-85c464685142",
   "metadata": {},
   "source": [
    "## Model IV"
   ]
  },
  {
   "cell_type": "code",
   "execution_count": 45,
   "id": "ecb2f161-48bb-41e5-8953-2bc9a0038b89",
   "metadata": {},
   "outputs": [
    {
     "data": {
      "image/png": "[encoded data removed]",
      "text/plain": [
       "Figure(PyObject <Figure size 640x480 with 1 Axes>)"
      ]
     },
     "metadata": {},
     "output_type": "display_data"
    }
   ],
   "source": [
    "slc2sm = @reaction_network begin\n",
    "    alpha,  0-->m\n",
    "    beta, m -->p + m\n",
    "    gamma,  m-->0\n",
    "    k, 0-->n\n",
    "end alpha beta gamma k\n",
    "\n",
    "alph = 0.87*1.0\n",
    "gamma = 0.2\n",
    "T=27.5\n",
    "beta = 1.07*0.2\n",
    "N = 10\n",
    "k = N/T\n",
    "\n",
    "sol = simulate_stochastic_cycle(slc2sm, [alph, beta, gamma, k], 0., 1000000., T,\n",
    "    [\n",
    "        round(CanonicalTwoStageModel.mrna(alph, gamma, T, 0)),\n",
    "        round(CanonicalTwoStageModel.approximate_protein_mean(alph, beta, gamma, T, 0)),\n",
    "        0\n",
    "    ],\n",
    "    N,\n",
    "    2.5\n",
    ")\n",
    "\n",
    "p = zeros(length(sol.u))\n",
    "m = zeros(length(sol.u))\n",
    "for i in 1:length(sol.u)\n",
    "    m[i] = sol.u[i][1]\n",
    "    p[i] = sol.u[i][2]\n",
    "\n",
    "end\n",
    "min = Int(minimum(p))\n",
    "max = Int(maximum(p))\n",
    "bins = Array(min:1:max)\n",
    "\n",
    "plt.xscale(\"log\")\n",
    "xlim([1,100])\n",
    "hist(p, density=true, bins=bins)\n",
    "savefig(\"../../data/distributions/model_IV.svg\")"
   ]
  },
  {
   "cell_type": "code",
   "execution_count": 46,
   "id": "61646944-fd05-4c58-a62b-d307db8aa333",
   "metadata": {},
   "outputs": [
    {
     "name": "stdout",
     "output_type": "stream",
     "text": [
      "36.505705851857336\n",
      "4.464325843121192\n",
      "176.73976617629165\n",
      "4.5668048483166395\n"
     ]
    }
   ],
   "source": [
    "println(mean(p))\n",
    "println(mean(m))\n",
    "println(var(p))\n",
    "println(var(m))"
   ]
  },
  {
   "cell_type": "markdown",
   "id": "7df25dbb-3c0f-4063-adf7-153eb1faafc9",
   "metadata": {},
   "source": [
    "## Model V"
   ]
  },
  {
   "cell_type": "code",
   "execution_count": 49,
   "id": "4710a8ca-63cd-43db-b712-a5391472b8dd",
   "metadata": {},
   "outputs": [
    {
     "data": {
      "image/png": "[encoded data removed]",
      "text/plain": [
       "Figure(PyObject <Figure size 640x480 with 1 Axes>)"
      ]
     },
     "metadata": {},
     "output_type": "display_data"
    }
   ],
   "source": [
    "slm = @reaction_network begin\n",
    "    alpha,  0-->m\n",
    "    beta, m + r-->p + m + r\n",
    "    gamma,  m-->0\n",
    "    rho, 0-->r\n",
    "    k, 0-->n\n",
    "end alpha beta gamma rho k\n",
    "\n",
    "alph = 0.87*1.0\n",
    "gamma = 0.2\n",
    "rho = 0.2\n",
    "T=27.5\n",
    "beta = 0.99*beta_3_exact(0.2, gamma, rho, T)\n",
    "N = 10\n",
    "k = N/T\n",
    "\n",
    "sol = simulate_stochastic_cycle(slm, [alph, beta, gamma, rho, k], 0., 1000000., T,\n",
    "    [\n",
    "        round(ModelWithRibosomes.mrna(alph, gamma, T, 0)),\n",
    "        round(ModelWithRibosomes.r(rho, T, 0)),\n",
    "        round(ModelWithRibosomes.p(alph, beta, gamma, rho, T, 0)),\n",
    "        0\n",
    "    ],\n",
    "    N,\n",
    "    2.5\n",
    ")\n",
    "\n",
    "p = zeros(length(sol.u))\n",
    "m = zeros(length(sol.u))\n",
    "for i in 1:length(sol.u)\n",
    "    m[i] = sol.u[i][1]\n",
    "    p[i] = sol.u[i][3]\n",
    "\n",
    "end\n",
    "min = Int(minimum(p))\n",
    "max = Int(maximum(p))\n",
    "bins = Array(min:1:max)\n",
    "\n",
    "plt.xscale(\"log\")\n",
    "xlim([1,100])\n",
    "hist(p, density=true, bins=bins)\n",
    "savefig(\"../../data/distributions/model_V.svg\")"
   ]
  },
  {
   "cell_type": "code",
   "execution_count": 50,
   "id": "ec7d79ac-2fe3-4809-9f19-9996e07b3fc5",
   "metadata": {},
   "outputs": [
    {
     "name": "stdout",
     "output_type": "stream",
     "text": [
      "36.54190336184477\n",
      "4.461529830515927\n",
      "360.60037647057266\n",
      "4.610697603830317\n"
     ]
    }
   ],
   "source": [
    "println(mean(p))\n",
    "println(mean(m))\n",
    "println(var(p))\n",
    "println(var(m))"
   ]
  },
  {
   "cell_type": "markdown",
   "id": "072ef9c6-0419-4baa-8841-e971226001d9",
   "metadata": {},
   "source": [
    "## Model VI"
   ]
  },
  {
   "cell_type": "code",
   "execution_count": 63,
   "id": "8085c003-82fd-40fc-8dbe-4849d7c0dc3c",
   "metadata": {},
   "outputs": [
    {
     "data": {
      "text/plain": [
       "DiscreteCallback{typeof(condition), typeof(affect!), typeof(DiffEqBase.INITIALIZE_DEFAULT), typeof(DiffEqBase.FINALIZE_DEFAULT)}(condition, affect!, DiffEqBase.INITIALIZE_DEFAULT, DiffEqBase.FINALIZE_DEFAULT, Bool[1, 1])"
      ]
     },
     "execution_count": 63,
     "metadata": {},
     "output_type": "execute_result"
    }
   ],
   "source": [
    "using DiffEqJump\n",
    "\n",
    "alph = 0.76*1.0\n",
    "gamma = 0.2\n",
    "rho = 0.2\n",
    "T=27.5\n",
    "beta = 1.04*beta_3_exact(0.2, gamma, rho, T)\n",
    "N = 10\n",
    "k = N/T\n",
    "\n",
    "R = 8 # point of replication\n",
    "p = (alph, gamma, beta, rho, k)\n",
    "\n",
    "rate1(u,p,t) = u[4] >= R ? 2 * alph : alph\n",
    "function affect1!(integrator)\n",
    "  integrator.u[1] += 1         # m -> m + 1\n",
    "end\n",
    "jump = VariableRateJump(rate1,affect1!)\n",
    "\n",
    "rate2(u,p,t) = gamma * u[1]\n",
    "function affect2!(integrator)\n",
    "  integrator.u[1] -= 1         # m -> m + 1\n",
    "end\n",
    "jump2 = ConstantRateJump(rate2,affect2!)\n",
    "\n",
    "rate3(u,p,t) = beta * u[1] * u[3]\n",
    "function affect3!(integrator)\n",
    "    integrator.u[2] += 1   # p -> p + 1\n",
    "end\n",
    "jump3 = ConstantRateJump(rate3, affect3!)\n",
    "    \n",
    "rate4(u,p,t) = rho\n",
    "function affect4!(integrator)\n",
    "    integrator.u[3] +=1\n",
    "end\n",
    "jump4=ConstantRateJump(rate4, affect4!)\n",
    "\n",
    "rate5(u,p,t) = k\n",
    "function affect5!(integrator)   # n -> n + 1\n",
    "    integrator.u[4] += 1\n",
    "end\n",
    "jump5 = ConstantRateJump(rate5, affect5!)\n",
    "\n",
    "function condition(u,t,integrator) # Event when event_f(u,t) == 0\n",
    "    u[4] >= N\n",
    "end\n",
    "\n",
    "function affect!(integrator)\n",
    "    partition = Utilities.partition_species(integrator.u[1:3])\n",
    "    integrator.u[1] = partition[1]\n",
    "    integrator.u[2] = partition[2]\n",
    "    integrator.u[3] = partition[3]\n",
    "    integrator.u[4] = 0\n",
    "end\n",
    "\n",
    "clb = DiscreteCallback(condition, affect!)"
   ]
  },
  {
   "cell_type": "code",
   "execution_count": 64,
   "id": "7c47bcfa-ce8a-4049-a6d6-401985920082",
   "metadata": {},
   "outputs": [
    {
     "data": {
      "text/plain": [
       "6722349-element Vector{Float64}:\n",
       " 0.0\n",
       " 0.0\n",
       " 0.0\n",
       " 0.0\n",
       " 0.0\n",
       " 0.0\n",
       " 0.0\n",
       " 1.0\n",
       " 1.0\n",
       " 1.0\n",
       " 1.0\n",
       " 1.0\n",
       " 1.0\n",
       " ⋮\n",
       " 6.0\n",
       " 6.0\n",
       " 6.0\n",
       " 6.0\n",
       " 7.0\n",
       " 7.0\n",
       " 7.0\n",
       " 7.0\n",
       " 8.0\n",
       " 8.0\n",
       " 8.0\n",
       " 8.0"
      ]
     },
     "execution_count": 64,
     "metadata": {},
     "output_type": "execute_result"
    }
   ],
   "source": [
    "tspan = (0.0,1000000.0)\n",
    "function f(du,u,p,t)\n",
    "  du[5] = 0\n",
    "end\n",
    "u₀   = [2.0,20.0,5.0, 0.0, 0.0]\n",
    "prob = ODEProblem(f,u₀,tspan,p)\n",
    "jump_prob = JumpProblem(prob,Direct(),jump,jump2,jump3, jump4, jump5)\n",
    "sol = solve(jump_prob,Tsit5(), callback=clb, maxiters=100000000) # Saveat doesn't work, need to do something else...\n",
    "    \n",
    "t = sol.t\n",
    "m = map(x -> x[1], sol.u)\n",
    "p = map(x -> x[2], sol.u)\n",
    "r = map(x -> x[3], sol.u)\n",
    "\n",
    "n = map(x -> x[4], sol.u)"
   ]
  },
  {
   "cell_type": "code",
   "execution_count": 65,
   "id": "0691fb95-2eba-4013-99c8-09223c50d4a9",
   "metadata": {},
   "outputs": [
    {
     "data": {
      "text/plain": [
       "convert_solution_to_evenly_spaced_measurements (generic function with 1 method)"
      ]
     },
     "execution_count": 65,
     "metadata": {},
     "output_type": "execute_result"
    }
   ],
   "source": [
    "tau = 10.0 # Frequency of time savings\n",
    "t_0 = t[1]\n",
    "t_max = last(t)\n",
    "times = t_0:10:t_max\n",
    "measurements = zeros(length(times))\n",
    "\n",
    "function get_value_at_time(measurements, times, t)\n",
    "    for i in 1:length(times)\n",
    "        if t == times[i] || (t > times[i] && t < times[i+1])\n",
    "            return measurements[i]\n",
    "        end\n",
    "    end\n",
    "    return NaN\n",
    "end\n",
    "\n",
    "function convert_solution_to_evenly_spaced_measurements(counts, t, tau)\n",
    "    t_0 = t[1]\n",
    "    t_max = last(t)\n",
    "    times = t_0:tau:t_max\n",
    "    measurements = zeros(length(times))\n",
    "    for i in 1:length(times)\n",
    "        measurements[i] = get_value_at_time(counts, t, times[i])\n",
    "    end\n",
    "    measurements\n",
    "end"
   ]
  },
  {
   "cell_type": "code",
   "execution_count": 66,
   "id": "8cc63b0c-81c7-4997-a2a2-921b775d0ce4",
   "metadata": {},
   "outputs": [
    {
     "data": {
      "image/png": "[encoded data removed]",
      "text/plain": [
       "Figure(PyObject <Figure size 640x480 with 1 Axes>)"
      ]
     },
     "metadata": {},
     "output_type": "display_data"
    }
   ],
   "source": [
    "evenly_spaced_p = convert_solution_to_evenly_spaced_measurements(p, t, 10.0)\n",
    "evenly_spaced_m = convert_solution_to_evenly_spaced_measurements(m, t, 10.0)\n",
    "\n",
    "\n",
    "\n",
    "min = Int(minimum(evenly_spaced_p))\n",
    "max = Int(maximum(evenly_spaced_p))\n",
    "bins = Array(min:1:max)\n",
    "\n",
    "plt.xscale(\"log\")\n",
    "xlim([1,100])\n",
    "hist(evenly_spaced_p, density=true, bins=bins)\n",
    "savefig(\"../../data/distributions/model_VI.svg\")"
   ]
  },
  {
   "cell_type": "code",
   "execution_count": 69,
   "id": "7917d2fe-f61f-4e48-b218-68d644c2cda6",
   "metadata": {},
   "outputs": [
    {
     "name": "stdout",
     "output_type": "stream",
     "text": [
      "36.47263527364726\n",
      "4.446325536744633\n",
      "357.11043366426327\n",
      "5.440041523184769\n"
     ]
    }
   ],
   "source": [
    "println(mean(evenly_spaced_p))\n",
    "println(mean(evenly_spaced_m))\n",
    "println(var(evenly_spaced_p))\n",
    "println(var(evenly_spaced_m))"
   ]
  },
  {
   "cell_type": "code",
   "execution_count": null,
   "id": "dd2d0d1d-c10e-48f6-aa52-4ad46819b91c",
   "metadata": {},
   "outputs": [],
   "source": []
  }
 ],
 "metadata": {
  "kernelspec": {
   "display_name": "Julia 1.6.1",
   "language": "julia",
   "name": "julia-1.6"
  },
  "language_info": {
   "file_extension": ".jl",
   "mimetype": "application/julia",
   "name": "julia",
   "version": "1.6.1"
  }
 },
 "nbformat": 4,
 "nbformat_minor": 5
}
