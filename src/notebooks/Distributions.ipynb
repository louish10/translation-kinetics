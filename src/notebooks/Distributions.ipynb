{
 "cells": [
  {
   "cell_type": "code",
   "execution_count": 271,
   "id": "c521f6d7-50a8-475e-8ecb-564c163f3d5e",
   "metadata": {},
   "outputs": [
    {
     "name": "stderr",
     "output_type": "stream",
     "text": [
      "WARNING: replacing module Utilities.\n",
      "WARNING: replacing module ModelWithRibosomes.\n",
      "WARNING: replacing module CanonicalTwoStageModel.\n"
     ]
    }
   ],
   "source": [
    "include(\"../../src/utilities.jl\")\n",
    "include(\"../../src/model_with_ribosomes_functions.jl\")\n",
    "include(\"../../src/canonical_two_stage_model_with_division_functions.jl\")\n",
    "using Catalyst, DifferentialEquations, Plots, Statistics, SpecialFunctions"
   ]
  },
  {
   "cell_type": "code",
   "execution_count": 272,
   "id": "31a2d0db-8bf6-40fc-aa1c-5727804cb49d",
   "metadata": {},
   "outputs": [
    {
     "data": {
      "text/plain": [
       "beta_3_exact (generic function with 1 method)"
      ]
     },
     "execution_count": 272,
     "metadata": {},
     "output_type": "execute_result"
    }
   ],
   "source": [
    "function beta_3_exact(beta, gamma, rho, T)\n",
    "    return (3*beta *gamma *(6 *gamma ^2*T^2*\n",
    "   exp(gamma  *T)-3 *gamma ^2 *T^2-4 *gamma *T*\n",
    "   exp(gamma*T)+2 *gamma *T+2*exp(gamma *\n",
    "   T)-2))/(rho*(26 *gamma ^3 *T^3*\n",
    "   exp(gamma*T)-13 *gamma ^3 *T^3-12 *gamma ^2*\n",
    "   T^2* exp(gamma  *T)+12 *gamma ^2 *T^2-6 *gamma* \n",
    "   T *exp(gamma * T)-6 *gamma  *T+12 *exp(gamma* \n",
    "   T)-12))\n",
    "end"
   ]
  },
  {
   "cell_type": "code",
   "execution_count": 273,
   "id": "03b756ad-eb97-4462-9981-954084fa8cb6",
   "metadata": {},
   "outputs": [
    {
     "data": {
      "text/plain": [
       "negative_binomial (generic function with 1 method)"
      ]
     },
     "execution_count": 273,
     "metadata": {},
     "output_type": "execute_result"
    }
   ],
   "source": [
    "function negative_binomial(x, mean, std)\n",
    "    p = 1-mean/std^2\n",
    "    r = mean^2/(std^2-mean)\n",
    "    return SpecialFunctions.gamma.(x .+ r) ./ (SpecialFunctions.gamma.(x .+ 1) .* SpecialFunctions.gamma.(r)) .* (1-p) .^ r .* p .^x\n",
    "end"
   ]
  },
  {
   "cell_type": "code",
   "execution_count": 274,
   "id": "4aab8359-606a-45a1-ab50-d262e1f38f1e",
   "metadata": {},
   "outputs": [
    {
     "data": {
      "text/plain": [
       "simulate_stochastic_cycle (generic function with 2 methods)"
      ]
     },
     "execution_count": 274,
     "metadata": {},
     "output_type": "execute_result"
    }
   ],
   "source": [
    "function simulate_cycle(model, p, t0, t_fin, T, species_0, saveat)\n",
    "    tstops = [t0+T:T:t_fin;]\n",
    "    \n",
    "    prob = DiscreteProblem(model, species_0, (t0,t_fin), p)\n",
    "    jump_prob = JumpProblem(model, prob, Direct(), save_positions=(false,false))\n",
    "        \n",
    "    condition(u,t,integrator) = t%27.5==0.0\n",
    "    affect!(integrator) = integrator.u = Utilities.partition_species(integrator.u)\n",
    "    cb = DiscreteCallback(condition,affect!)\n",
    "    \n",
    "    sol = solve(jump_prob, SSAStepper(), saveat=saveat, callback=cb, tstops=tstops)\n",
    "    return sol\n",
    "end\n",
    "\n",
    "function simulate_stochastic_cycle(model, p, t0, t_fin, T, species_0, N, saveat)\n",
    "   prob = DiscreteProblem(\n",
    "        model,\n",
    "        species_0,\n",
    "        (t0,t_fin),\n",
    "        p\n",
    "    )\n",
    "    jump_prob = JumpProblem(model, prob, Direct())\n",
    "    \n",
    "    function affect!(integrator)\n",
    "        integrator.u = Utilities.partition_species(integrator.u)\n",
    "        integrator.u[length(integrator.u)] = 0\n",
    "    end\n",
    "        \n",
    "    condition(u,t,integrator) = u[length(u)]==N\n",
    "    cb = DiscreteCallback(condition,affect!)\n",
    "    sol = solve(jump_prob, SSAStepper(), callback=cb, saveat=saveat)\n",
    "    pop!(sol.u)\n",
    "    pop!(sol.t)\n",
    "    return sol\n",
    "end"
   ]
  },
  {
   "cell_type": "markdown",
   "id": "38c80f38-6b33-42c5-a7bc-56aa86616842",
   "metadata": {},
   "source": [
    "## Model II"
   ]
  },
  {
   "cell_type": "code",
   "execution_count": 275,
   "id": "b151ad5b-8c56-463d-9f8e-bb16ea7d2f31",
   "metadata": {},
   "outputs": [
    {
     "data": {
      "text/latex": [
       "\\begin{align}\n",
       "\\require{mhchem}\n",
       "\\ce{ \\varnothing &->[alpha] m}\\\\\n",
       "\\ce{ m &->[beta] p + m}\\\\\n",
       "\\ce{ m &->[gamma] \\varnothing}\n",
       "\\end{align}\n"
      ],
      "text/plain": [
       "\u001b[0m\u001b[1mModel ##ReactionSystem#377 with 3 equations\u001b[22m\n",
       "\u001b[0m\u001b[1mStates (2):\u001b[22m\n",
       "  m(t)\n",
       "  p(t)\n",
       "\u001b[0m\u001b[1mParameters (3):\u001b[22m\n",
       "  alpha\n",
       "  beta\n",
       "  gamma"
      ]
     },
     "execution_count": 275,
     "metadata": {},
     "output_type": "execute_result"
    }
   ],
   "source": [
    "c2s = @reaction_network begin\n",
    "        alpha,  0-->m\n",
    "        beta, m-->p + m\n",
    "        gamma,  m-->0\n",
    "    end alpha beta gamma"
   ]
  },
  {
   "cell_type": "code",
   "execution_count": 276,
   "id": "354f3a70-eb8c-4766-b3dd-89e985115097",
   "metadata": {},
   "outputs": [
    {
     "data": {
      "text/plain": [
       "retcode: Default\n",
       "Interpolation: Piecewise constant interpolation\n",
       "t: 107273-element Vector{Float64}:\n",
       "      0.0\n",
       "      1.0\n",
       "      2.0\n",
       "      3.0\n",
       "      4.0\n",
       "      5.0\n",
       "      6.0\n",
       "      7.0\n",
       "      8.0\n",
       "      9.0\n",
       "     10.0\n",
       "     11.0\n",
       "     12.0\n",
       "      ⋮\n",
       "  99990.0\n",
       "  99990.0\n",
       "  99991.0\n",
       "  99992.0\n",
       "  99993.0\n",
       "  99994.0\n",
       "  99995.0\n",
       "  99996.0\n",
       "  99997.0\n",
       "  99998.0\n",
       "  99999.0\n",
       " 100000.0\n",
       "u: 107273-element Vector{Vector{Float64}}:\n",
       " [2.0, 25.0]\n",
       " [1.0, 25.0]\n",
       " [2.0, 25.0]\n",
       " [2.0, 26.0]\n",
       " [5.0, 27.0]\n",
       " [8.0, 27.0]\n",
       " [7.0, 28.0]\n",
       " [4.0, 28.0]\n",
       " [4.0, 28.0]\n",
       " [3.0, 29.0]\n",
       " [1.0, 29.0]\n",
       " [3.0, 29.0]\n",
       " [5.0, 29.0]\n",
       " ⋮\n",
       " [2.0, 30.0]\n",
       " [2.0, 30.0]\n",
       " [2.0, 32.0]\n",
       " [4.0, 32.0]\n",
       " [5.0, 32.0]\n",
       " [7.0, 32.0]\n",
       " [6.0, 33.0]\n",
       " [5.0, 38.0]\n",
       " [4.0, 39.0]\n",
       " [4.0, 42.0]\n",
       " [4.0, 42.0]\n",
       " [2.0, 42.0]"
      ]
     },
     "execution_count": 276,
     "metadata": {},
     "output_type": "execute_result"
    }
   ],
   "source": [
    "alph = 1.0\n",
    "beta = 0.2\n",
    "gamma = 0.2\n",
    "T=27.5\n",
    "\n",
    "\n",
    "sol = simulate_cycle(c2s, [alph, beta, gamma], 0.0, 100000.0, T,\n",
    "        [\n",
    "            round(CanonicalTwoStageModel.mrna(alph, gamma, T, 0)),\n",
    "            round(CanonicalTwoStageModel.approximate_protein_mean(alph, beta, gamma, T, 0))\n",
    "        ],\n",
    "        1\n",
    "    )\n",
    "    "
   ]
  },
  {
   "cell_type": "code",
   "execution_count": 277,
   "id": "144ee932-b09a-42bc-894d-5dad1f8e349c",
   "metadata": {},
   "outputs": [
    {
     "data": {
      "text/plain": [
       "107273-element Vector{Float64}:\n",
       " 25.0\n",
       " 25.0\n",
       " 25.0\n",
       " 26.0\n",
       " 27.0\n",
       " 27.0\n",
       " 28.0\n",
       " 28.0\n",
       " 28.0\n",
       " 29.0\n",
       " 29.0\n",
       " 29.0\n",
       " 29.0\n",
       "  ⋮\n",
       " 30.0\n",
       " 30.0\n",
       " 32.0\n",
       " 32.0\n",
       " 32.0\n",
       " 32.0\n",
       " 33.0\n",
       " 38.0\n",
       " 39.0\n",
       " 42.0\n",
       " 42.0\n",
       " 42.0"
      ]
     },
     "execution_count": 277,
     "metadata": {},
     "output_type": "execute_result"
    }
   ],
   "source": [
    "p = zeros(length(sol.u))\n",
    "m = zeros(length(sol.u))\n",
    "for i in 1:length(sol.u)\n",
    "    m[i] = sol.u[i][1]\n",
    "    p[i] = sol.u[i][2]\n",
    "\n",
    "end\n",
    "p"
   ]
  },
  {
   "cell_type": "code",
   "execution_count": 278,
   "id": "07f6bd8c-ff1f-4616-ba48-343f89ed149c",
   "metadata": {},
   "outputs": [],
   "source": [
    "\n",
    "x = LinRange(1,125, 125)\n",
    "y = negative_binomial(\n",
    "    x,\n",
    "    CanonicalTwoStageModel.p_time_av(alph, beta, gamma, T),\n",
    "    sqrt(CanonicalTwoStageModel.p_var_time_av(alph, beta, gamma, T))\n",
    ")\n",
    "histogram(p, normed=true, linecolor=:match, xlim=[0,250])\n",
    "plot!(x, y)\n",
    "savefig(\"../../data/distributions/model_II.svg\")"
   ]
  },
  {
   "cell_type": "code",
   "execution_count": 279,
   "id": "e7549a4e-7f4b-4ce1-b95f-2a5f8071c001",
   "metadata": {},
   "outputs": [
    {
     "name": "stdout",
     "output_type": "stream",
     "text": [
      "36.47919793424254"
     ]
    }
   ],
   "source": [
    "print(mean(p))"
   ]
  },
  {
   "cell_type": "code",
   "execution_count": 280,
   "id": "9d7976fe-a6e6-45fb-85c5-3a01272820ab",
   "metadata": {},
   "outputs": [
    {
     "data": {
      "text/plain": [
       "36.70361474104823"
      ]
     },
     "execution_count": 280,
     "metadata": {},
     "output_type": "execute_result"
    }
   ],
   "source": [
    "CanonicalTwoStageModel.p_time_av(alph, beta, gamma, T)"
   ]
  },
  {
   "cell_type": "code",
   "execution_count": 281,
   "id": "8cbf7a7b-76ed-41a1-be6f-d66855fc4b1d",
   "metadata": {},
   "outputs": [
    {
     "data": {
      "text/plain": [
       "129.143540068147"
      ]
     },
     "execution_count": 281,
     "metadata": {},
     "output_type": "execute_result"
    }
   ],
   "source": [
    "var(p)"
   ]
  },
  {
   "cell_type": "code",
   "execution_count": 282,
   "id": "0213e6c4-9720-4844-b5a7-1d730829629f",
   "metadata": {},
   "outputs": [
    {
     "data": {
      "text/plain": [
       "124.36692709982411"
      ]
     },
     "execution_count": 282,
     "metadata": {},
     "output_type": "execute_result"
    }
   ],
   "source": [
    "CanonicalTwoStageModel.p_var_time_av(alph, beta, gamma, T)"
   ]
  },
  {
   "cell_type": "code",
   "execution_count": null,
   "id": "2602eb3f-6561-460e-8fea-0aa686d74b68",
   "metadata": {},
   "outputs": [],
   "source": []
  },
  {
   "cell_type": "markdown",
   "id": "b2e5ad14-b739-4c25-95b2-89cda2d71f37",
   "metadata": {},
   "source": [
    "## Model III"
   ]
  },
  {
   "cell_type": "code",
   "execution_count": 283,
   "id": "57866831-33d9-4196-9fd3-6e000b0d2334",
   "metadata": {},
   "outputs": [
    {
     "data": {
      "text/latex": [
       "\\begin{align}\n",
       "\\require{mhchem}\n",
       "\\ce{ \\varnothing &->[alpha] m}\\\\\n",
       "\\ce{ m + r &->[beta] p + m + r}\\\\\n",
       "\\ce{ m &->[gamma] \\varnothing}\\\\\n",
       "\\ce{ \\varnothing &->[rho] r}\n",
       "\\end{align}\n"
      ],
      "text/plain": [
       "\u001b[0m\u001b[1mModel ##ReactionSystem#379 with 4 equations\u001b[22m\n",
       "\u001b[0m\u001b[1mStates (3):\u001b[22m\n",
       "  m(t)\n",
       "  r(t)\n",
       "  p(t)\n",
       "\u001b[0m\u001b[1mParameters (4):\u001b[22m\n",
       "  alpha\n",
       "  beta\n",
       "  gamma\n",
       "  rho"
      ]
     },
     "execution_count": 283,
     "metadata": {},
     "output_type": "execute_result"
    }
   ],
   "source": [
    "mwr = @reaction_network begin\n",
    "    alpha,  0-->m\n",
    "    beta, m + r-->p + m + r\n",
    "    gamma,  m-->0\n",
    "    rho, 0-->r\n",
    "end alpha beta gamma rho"
   ]
  },
  {
   "cell_type": "code",
   "execution_count": 284,
   "id": "3bd1cf62-3dcd-4374-8ca1-c9214fb5f9ed",
   "metadata": {},
   "outputs": [
    {
     "data": {
      "text/plain": [
       "retcode: Default\n",
       "Interpolation: Piecewise constant interpolation\n",
       "t: 236363-element Vector{Float64}:\n",
       "      0.0\n",
       "      2.5\n",
       "      5.0\n",
       "      7.5\n",
       "     10.0\n",
       "     12.5\n",
       "     15.0\n",
       "     17.5\n",
       "     20.0\n",
       "     22.5\n",
       "     25.0\n",
       "     27.5\n",
       "     27.5\n",
       "      ⋮\n",
       " 499977.5\n",
       " 499977.5\n",
       " 499977.5\n",
       " 499980.0\n",
       " 499982.5\n",
       " 499985.0\n",
       " 499987.5\n",
       " 499990.0\n",
       " 499992.5\n",
       " 499995.0\n",
       " 499997.5\n",
       " 500000.0\n",
       "u: 236363-element Vector{Vector{Float64}}:\n",
       " [2.0, 6.0, 26.0]\n",
       " [4.0, 6.0, 26.0]\n",
       " [4.0, 6.0, 29.0]\n",
       " [3.0, 6.0, 30.0]\n",
       " [4.0, 6.0, 32.0]\n",
       " [4.0, 6.0, 32.0]\n",
       " [6.0, 6.0, 34.0]\n",
       " [5.0, 8.0, 35.0]\n",
       " [4.0, 9.0, 38.0]\n",
       " [4.0, 10.0, 41.0]\n",
       " [4.0, 10.0, 43.0]\n",
       " [2.0, 10.0, 46.0]\n",
       " [2.0, 4.0, 21.0]\n",
       " ⋮\n",
       " [3.0, 18.0, 57.0]\n",
       " [0.0, 10.0, 34.0]\n",
       " [0.0, 10.0, 34.0]\n",
       " [2.0, 10.0, 35.0]\n",
       " [5.0, 10.0, 35.0]\n",
       " [6.0, 10.0, 42.0]\n",
       " [6.0, 10.0, 45.0]\n",
       " [4.0, 10.0, 46.0]\n",
       " [4.0, 10.0, 48.0]\n",
       " [2.0, 11.0, 51.0]\n",
       " [4.0, 11.0, 51.0]\n",
       " [9.0, 12.0, 55.0]"
      ]
     },
     "execution_count": 284,
     "metadata": {},
     "output_type": "execute_result"
    }
   ],
   "source": [
    "alph = 1.0\n",
    "gamma = 0.2\n",
    "rho = 0.2\n",
    "T=27.5\n",
    "beta = beta_3_exact(0.2, gamma, rho, T)\n",
    "\n",
    "\n",
    "sol = simulate_cycle(mwr, [alph, beta, gamma, rho], 0.0, 500000.0, T,\n",
    "        [\n",
    "            round(ModelWithRibosomes.mrna(alph, gamma, T, 0)),\n",
    "            round(ModelWithRibosomes.r(rho, T, 0)),\n",
    "            round(ModelWithRibosomes.p(alph, beta, gamma, rho, T, 0)),\n",
    "        ],\n",
    "        2.5\n",
    "    )"
   ]
  },
  {
   "cell_type": "code",
   "execution_count": 285,
   "id": "3d1053b6-e468-468d-bc32-a49006003a02",
   "metadata": {},
   "outputs": [
    {
     "data": {
      "text/plain": [
       "236363-element Vector{Float64}:\n",
       " 26.0\n",
       " 26.0\n",
       " 29.0\n",
       " 30.0\n",
       " 32.0\n",
       " 32.0\n",
       " 34.0\n",
       " 35.0\n",
       " 38.0\n",
       " 41.0\n",
       " 43.0\n",
       " 46.0\n",
       " 21.0\n",
       "  ⋮\n",
       " 57.0\n",
       " 34.0\n",
       " 34.0\n",
       " 35.0\n",
       " 35.0\n",
       " 42.0\n",
       " 45.0\n",
       " 46.0\n",
       " 48.0\n",
       " 51.0\n",
       " 51.0\n",
       " 55.0"
      ]
     },
     "execution_count": 285,
     "metadata": {},
     "output_type": "execute_result"
    }
   ],
   "source": [
    "p = zeros(length(sol.u))\n",
    "m = zeros(length(sol.u))\n",
    "for i in 1:length(sol.u)\n",
    "    m[i] = sol.u[i][1]\n",
    "    p[i] = sol.u[i][3]\n",
    "\n",
    "end\n",
    "p"
   ]
  },
  {
   "cell_type": "code",
   "execution_count": 286,
   "id": "4e3ca7e0-0055-449e-8384-203e13164935",
   "metadata": {},
   "outputs": [],
   "source": [
    "x = LinRange(1,125, 125)\n",
    "y = negative_binomial(\n",
    "    x,\n",
    "    ModelWithRibosomes.p_time_av(alph, beta, gamma, rho, T),\n",
    "    sqrt(ModelWithRibosomes.p_var_time_av(alph, beta, gamma, rho, T))\n",
    ")\n",
    "histogram(p, normed=true, linecolor=:match, xlim=[0,250])\n",
    "plot!(x, y)\n",
    "savefig(\"../../data/distributions/model_III.svg\")"
   ]
  },
  {
   "cell_type": "markdown",
   "id": "472f90f3-3e43-4b70-a3d3-85c464685142",
   "metadata": {},
   "source": [
    "## Model IV"
   ]
  },
  {
   "cell_type": "code",
   "execution_count": 289,
   "id": "ecb2f161-48bb-41e5-8953-2bc9a0038b89",
   "metadata": {},
   "outputs": [],
   "source": [
    "slc2sm = @reaction_network begin\n",
    "    alpha,  0-->m\n",
    "    beta, m -->p + m\n",
    "    gamma,  m-->0\n",
    "    k, 0-->n\n",
    "end alpha beta gamma k\n",
    "\n",
    "alph = 1.0\n",
    "gamma = 0.2\n",
    "T=27.5\n",
    "beta = 0.2\n",
    "N = 10\n",
    "k = N/T\n",
    "\n",
    "sol = simulate_stochastic_cycle(slc2sm, [alph, beta, gamma, k], 0., 70000., T,\n",
    "    [\n",
    "        round(CanonicalTwoStageModel.mrna(alph, gamma, T, 0)),\n",
    "        round(CanonicalTwoStageModel.approximate_protein_mean(alph, beta, gamma, T, 0)),\n",
    "        0\n",
    "    ],\n",
    "    N,\n",
    "    2.5\n",
    ")\n",
    "\n",
    "p = zeros(length(sol.u))\n",
    "m = zeros(length(sol.u))\n",
    "for i in 1:length(sol.u)\n",
    "    m[i] = sol.u[i][1]\n",
    "    p[i] = sol.u[i][2]\n",
    "\n",
    "end\n",
    "histogram(p, normed=true, linecolor=:match, xlim=[0,250])\n",
    "savefig(\"../../data/distributions/model_IV.svg\")"
   ]
  },
  {
   "cell_type": "markdown",
   "id": "7df25dbb-3c0f-4063-adf7-153eb1faafc9",
   "metadata": {},
   "source": [
    "## Model V"
   ]
  },
  {
   "cell_type": "code",
   "execution_count": 290,
   "id": "4710a8ca-63cd-43db-b712-a5391472b8dd",
   "metadata": {},
   "outputs": [],
   "source": [
    "slm = @reaction_network begin\n",
    "    alpha,  0-->m\n",
    "    beta, m + r-->p + m + r\n",
    "    gamma,  m-->0\n",
    "    rho, 0-->r\n",
    "    k, 0-->n\n",
    "end alpha beta gamma rho k\n",
    "\n",
    "alph = 1.0\n",
    "gamma = 0.2\n",
    "rho = 0.2\n",
    "T=27.5\n",
    "beta = 0.97*beta_3_exact(0.2, gamma, rho, T)\n",
    "N = 10\n",
    "k = N/T\n",
    "\n",
    "sol = simulate_stochastic_cycle(slm, [alph, beta, gamma, rho, k], 0., 100000., T,\n",
    "    [\n",
    "        round(ModelWithRibosomes.mrna(alph, gamma, T, 0)),\n",
    "        round(ModelWithRibosomes.r(rho, T, 0)),\n",
    "        round(ModelWithRibosomes.p(alph, beta, gamma, rho, T, 0)),\n",
    "        0\n",
    "    ],\n",
    "    N,\n",
    "    2.5\n",
    ")\n",
    "\n",
    "p = zeros(length(sol.u))\n",
    "m = zeros(length(sol.u))\n",
    "for i in 1:length(sol.u)\n",
    "    m[i] = sol.u[i][1]\n",
    "    p[i] = sol.u[i][3]\n",
    "\n",
    "end\n",
    "histogram(p, normed=true, linecolor=:match, xlim=[0,250])\n",
    "savefig(\"../../data/distributions/model_V.svg\")"
   ]
  },
  {
   "cell_type": "code",
   "execution_count": null,
   "id": "af53b196-f236-4a60-8ea8-46e19d2a9335",
   "metadata": {},
   "outputs": [],
   "source": []
  }
 ],
 "metadata": {
  "kernelspec": {
   "display_name": "Julia 1.6.1",
   "language": "julia",
   "name": "julia-1.6"
  },
  "language_info": {
   "file_extension": ".jl",
   "mimetype": "application/julia",
   "name": "julia",
   "version": "1.6.1"
  }
 },
 "nbformat": 4,
 "nbformat_minor": 5
}
