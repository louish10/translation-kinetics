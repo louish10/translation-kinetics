{
 "cells": [
  {
   "cell_type": "code",
   "execution_count": 1,
   "id": "9cb07ceb-0779-4140-b87a-2705b5e63f26",
   "metadata": {},
   "outputs": [],
   "source": [
    "using Catalyst, DifferentialEquations, PyPlot"
   ]
  },
  {
   "cell_type": "markdown",
   "id": "00a8498c-1399-4d2e-bbd0-25f6c16a42c2",
   "metadata": {},
   "source": [
    "### Model A"
   ]
  },
  {
   "cell_type": "code",
   "execution_count": 17,
   "id": "ac1cafdf-14e7-42f0-b6e7-275712b778a4",
   "metadata": {},
   "outputs": [
    {
     "data": {
      "text/latex": [
       "\\begin{align}\n",
       "\\require{mhchem}\n",
       "\\ce{ \\varnothing &<=>[k1][k2] m1}\\\\\n",
       "\\ce{ \\varnothing &<=>[k1p][k2p] m2}\\\\\n",
       "\\ce{ \\varnothing &<=>[k7][k8] r}\\\\\n",
       "\\ce{ m1 + r &<=>[k3][k4] r1}\\\\\n",
       "\\ce{ r1 &->[k5] m1 + r + p1}\\\\\n",
       "\\ce{ m2 + r &<=>[k3p][k4p] r2}\\\\\n",
       "\\ce{ r2 &->[k5p] m2 + r + p2}\\\\\n",
       "\\ce{ p1 &->[k6] \\varnothing}\\\\\n",
       "\\ce{ p2 &->[k6p] \\varnothing}\n",
       "\\end{align}\n"
      ],
      "text/plain": [
       "\u001b[0m\u001b[1mModel ##ReactionSystem#267 with 14 equations\u001b[22m\n",
       "\u001b[0m\u001b[1mStates (7):\u001b[22m\n",
       "  m1(t)\n",
       "  m2(t)\n",
       "  r(t)\n",
       "  r1(t)\n",
       "  p1(t)\n",
       "  r2(t)\n",
       "⋮\n",
       "\u001b[0m\u001b[1mParameters (14):\u001b[22m\n",
       "  k1\n",
       "  k2\n",
       "  k1p\n",
       "  k2p\n",
       "  k7\n",
       "  k8\n",
       "⋮"
      ]
     },
     "execution_count": 17,
     "metadata": {},
     "output_type": "execute_result"
    }
   ],
   "source": [
    "model_a = @reaction_network begin\n",
    "        k1, 0-->m1\n",
    "        k2, m1-->0\n",
    "        k1p, 0-->m2\n",
    "        k2p, m2-->0\n",
    "        k7, 0-->r\n",
    "        k8, r-->0\n",
    "        k3, m1+r-->r1\n",
    "        k4, r1-->m1+r\n",
    "        k5, r1-->m1+r+p1\n",
    "        k3p, m2+r-->r2\n",
    "        k4p, r2-->m2+r\n",
    "        k5p, r2-->m2+r+p2\n",
    "        k6, p1-->0\n",
    "        k6p, p2-->0\n",
    "end k1 k2 k1p k2p k7 k8 k3 k4 k5 k3p k4p k5p k6 k6p"
   ]
  },
  {
   "cell_type": "code",
   "execution_count": null,
   "id": "0f38da82-51d4-4217-a379-59e354d6ddaf",
   "metadata": {},
   "outputs": [],
   "source": []
  }
 ],
 "metadata": {
  "kernelspec": {
   "display_name": "Julia 1.5.3",
   "language": "julia",
   "name": "julia-1.5"
  },
  "language_info": {
   "file_extension": ".jl",
   "mimetype": "application/julia",
   "name": "julia",
   "version": "1.5.3"
  }
 },
 "nbformat": 4,
 "nbformat_minor": 5
}
