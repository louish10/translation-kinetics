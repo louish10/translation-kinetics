{
 "cells": [
  {
   "cell_type": "code",
   "execution_count": 1,
   "id": "67a84c9c-48e8-442f-bd97-447fc36a34c6",
   "metadata": {},
   "outputs": [],
   "source": [
    "include(\"lna.jl\")\n",
    "using DifferentialEquations"
   ]
  },
  {
   "cell_type": "markdown",
   "id": "9880dd36-bfca-4b0a-8b68-7ad5f0870c13",
   "metadata": {},
   "source": [
    "## One mrna species"
   ]
  },
  {
   "cell_type": "code",
   "execution_count": 2,
   "id": "bc205f02-dd5a-4453-8b5f-6eb52d416941",
   "metadata": {},
   "outputs": [
    {
     "data": {
      "text/plain": [
       "4×4 Array{Float64,2}:\n",
       "  3.40394   -2.25494   -0.137453   0.110009\n",
       " -2.25494    3.40394   -0.137453   0.110009\n",
       " -0.137453  -0.137453   6.87097    3.25675\n",
       "  0.110009   0.110009   3.25675   11.939"
      ]
     },
     "execution_count": 2,
     "metadata": {},
     "output_type": "execute_result"
    }
   ],
   "source": [
    "rn = @reaction_network begin\n",
    "    ρ_r, 0 --> R\n",
    "    δ_r, R --> 0\n",
    "    ρ_m, 0 --> M\n",
    "    δ_m, M --> 0\n",
    "    σ_b, M + R --> MR\n",
    "    δ_u, MR --> M + R\n",
    "    ρ_p, MR --> MR + P\n",
    "    δ_r, MR --> 0\n",
    "    δ_r, P --> 0\n",
    "end ρ_r δ_r ρ_m δ_m σ_b δ_u σ_u ρ_p\n",
    "\n",
    "ps = [ 1, 0.1, 1, 0.1, 1, 0.1, 1, 0.1 ]\n",
    "\n",
    "prob = LNAProblem(rn, [0,0,0,0], ps)\n",
    "\n",
    "sol = solve(prob)\n",
    "\n",
    "lnameans = mean(sol)\n",
    "lnacovs = StatsBase.cov(sol)"
   ]
  },
  {
   "cell_type": "code",
   "execution_count": 3,
   "id": "1c4b90bb-d0e7-4d4c-811b-e3c0575131c3",
   "metadata": {},
   "outputs": [
    {
     "data": {
      "text/plain": [
       "retcode: Default\n",
       "Interpolation: Piecewise constant interpolation\n",
       "t: 50001-element Array{Float64,1}:\n",
       "    0.0\n",
       "  100.0\n",
       "  200.0\n",
       "  300.0\n",
       "  400.0\n",
       "  500.0\n",
       "  600.0\n",
       "  700.0\n",
       "  800.0\n",
       "  900.0\n",
       " 1000.0\n",
       " 1100.0\n",
       " 1200.0\n",
       "    ⋮\n",
       "    4.9989e6\n",
       "    4.999e6\n",
       "    4.9991e6\n",
       "    4.9992e6\n",
       "    4.9993e6\n",
       "    4.9994e6\n",
       "    4.9995e6\n",
       "    4.9996e6\n",
       "    4.9997e6\n",
       "    4.9998e6\n",
       "    4.9999e6\n",
       "    5.0e6\n",
       "u: 50001-element Array{Array{Int64,1},1}:\n",
       " [1, 1, 8, 8]\n",
       " [4, 0, 9, 6]\n",
       " [0, 2, 3, 4]\n",
       " [5, 0, 8, 7]\n",
       " [3, 0, 9, 5]\n",
       " [0, 2, 7, 7]\n",
       " [5, 0, 9, 13]\n",
       " [0, 2, 8, 7]\n",
       " [0, 6, 7, 4]\n",
       " [1, 0, 7, 3]\n",
       " [1, 0, 5, 3]\n",
       " [0, 5, 8, 15]\n",
       " [2, 4, 8, 10]\n",
       " ⋮\n",
       " [6, 1, 7, 9]\n",
       " [0, 1, 9, 12]\n",
       " [4, 0, 9, 10]\n",
       " [3, 1, 9, 7]\n",
       " [4, 2, 6, 6]\n",
       " [0, 1, 7, 6]\n",
       " [0, 2, 7, 10]\n",
       " [1, 2, 11, 13]\n",
       " [2, 0, 5, 7]\n",
       " [0, 3, 8, 5]\n",
       " [0, 1, 9, 9]\n",
       " [1, 2, 7, 3]"
      ]
     },
     "execution_count": 3,
     "metadata": {},
     "output_type": "execute_result"
    }
   ],
   "source": [
    "prob = DiscreteProblem(rn, [1, 1, 8, 8], (0, 5000000.),  ps)\n",
    "jump_prob = JumpProblem(rn, prob, Direct(), save_positions=(false, false))\n",
    "\n",
    "sol = solve(jump_prob, SSAStepper(), saveat=100.0)"
   ]
  },
  {
   "cell_type": "code",
   "execution_count": 4,
   "id": "a934f252-4332-45de-9982-85c9e80080cd",
   "metadata": {},
   "outputs": [
    {
     "data": {
      "text/plain": [
       "4-element Array{Float64,1}:\n",
       "  0.5539778765713566\n",
       "  0.5439580769673411\n",
       " -0.5619177177745271\n",
       " -0.5771174137806057"
      ]
     },
     "execution_count": 4,
     "metadata": {},
     "output_type": "execute_result"
    }
   ],
   "source": [
    "mean(sol.u) - [1.3177446889773325, 1.31774468897734, 8.682255311022661, 8.682255311022661]"
   ]
  },
  {
   "cell_type": "code",
   "execution_count": 5,
   "id": "439aeb56-2165-4a31-a0ac-1ff2ada98c0f",
   "metadata": {},
   "outputs": [
    {
     "data": {
      "text/plain": [
       "4×4 Array{Float64,2}:\n",
       "  0.676369   0.375936  -0.31955     -0.173742\n",
       "  0.375936   0.618278  -0.338104    -0.189829\n",
       " -0.31955   -0.338104  -0.00559268   0.0203979\n",
       " -0.173742  -0.189829   0.0203979   -0.536799"
      ]
     },
     "execution_count": 5,
     "metadata": {},
     "output_type": "execute_result"
    }
   ],
   "source": [
    "(StatsBase.cov(sol.u) - lnacovs)"
   ]
  },
  {
   "cell_type": "markdown",
   "id": "9946248c-2402-4c4a-be68-5a2487a70e5e",
   "metadata": {},
   "source": [
    "## Two mrna species"
   ]
  },
  {
   "cell_type": "code",
   "execution_count": 6,
   "id": "076c74fd-ce83-486a-b897-5f4146480fee",
   "metadata": {},
   "outputs": [
    {
     "data": {
      "text/plain": [
       "6×6 Array{Float64,2}:\n",
       "  0.198997   -0.15389   0.0408867   0.0875771  -0.15389   0.0408867\n",
       " -0.15389     7.39258  -1.12692    -1.10357     2.29636  -1.12692\n",
       "  0.0408867  -1.12692   4.86125     2.38602    -1.12692  -0.042524\n",
       "  0.0875771  -1.10357   2.38602    14.5796     -1.10357   2.38602\n",
       " -0.15389     2.29636  -1.12692    -1.10357     7.39258  -1.12692\n",
       "  0.0408867  -1.12692  -0.042524    2.38602    -1.12692   4.86125"
      ]
     },
     "execution_count": 6,
     "metadata": {},
     "output_type": "execute_result"
    }
   ],
   "source": [
    "rn = @reaction_network begin\n",
    "    ρ_r, 0 --> R\n",
    "    δ_r, R --> 0\n",
    "    ρ_m1, 0 --> M1\n",
    "    δ_m1, M1 --> 0\n",
    "    σ_b1, M1 + R --> MR1\n",
    "    δ_u1, MR1 --> M1 + R\n",
    "    ρ_p1, MR1 --> MR1 + P\n",
    "    ρ_m2, 0 --> M2\n",
    "    δ_m2, M2 --> 0\n",
    "    σ_b2, M2 + R --> MR2\n",
    "    δ_u2, MR2 --> M2 + R\n",
    "    ρ_p2, MR2 --> MR2 + P\n",
    "    δ_r, MR1 --> 0\n",
    "    δ_r, MR2 --> 0\n",
    "    δ_r, P --> 0\n",
    "end ρ_r δ_r ρ_m1 δ_m1 σ_b1 δ_u1 σ_u1 ρ_p1 ρ_m2 δ_m2 σ_b2 δ_u2 σ_u2 ρ_p2\n",
    "\n",
    "ps = [ 1, 0.1, 1, 0.1, 1, 0.1, 1, 0.1, 1, 0.1, 1, 0.1, 1, 0.1 ]\n",
    "\n",
    "prob = LNAProblem(rn, [0,0,0,0,0,0], ps)\n",
    "\n",
    "sol = solve(prob)\n",
    "\n",
    "lnameans = mean(sol)\n",
    "lnacovs = StatsBase.cov(sol)"
   ]
  },
  {
   "cell_type": "code",
   "execution_count": 7,
   "id": "c671dc38-f28f-4988-8542-54ca8fec7a6b",
   "metadata": {},
   "outputs": [
    {
     "data": {
      "text/plain": [
       "retcode: Default\n",
       "Interpolation: Piecewise constant interpolation\n",
       "t: 50001-element Array{Float64,1}:\n",
       "    0.0\n",
       "  100.0\n",
       "  200.0\n",
       "  300.0\n",
       "  400.0\n",
       "  500.0\n",
       "  600.0\n",
       "  700.0\n",
       "  800.0\n",
       "  900.0\n",
       " 1000.0\n",
       " 1100.0\n",
       " 1200.0\n",
       "    ⋮\n",
       "    4.9989e6\n",
       "    4.999e6\n",
       "    4.9991e6\n",
       "    4.9992e6\n",
       "    4.9993e6\n",
       "    4.9994e6\n",
       "    4.9995e6\n",
       "    4.9996e6\n",
       "    4.9997e6\n",
       "    4.9998e6\n",
       "    4.9999e6\n",
       "    5.0e6\n",
       "u: 50001-element Array{Array{Int64,1},1}:\n",
       " [1, 1, 8, 8, 8, 8]\n",
       " [0, 7, 4, 6, 6, 6]\n",
       " [0, 4, 5, 17, 1, 9]\n",
       " [0, 8, 4, 4, 5, 4]\n",
       " [0, 9, 3, 15, 3, 8]\n",
       " [0, 3, 4, 7, 2, 2]\n",
       " [0, 1, 4, 13, 5, 9]\n",
       " [0, 7, 6, 12, 8, 3]\n",
       " [0, 3, 5, 5, 5, 1]\n",
       " [0, 3, 4, 13, 6, 7]\n",
       " [0, 8, 3, 12, 7, 4]\n",
       " [0, 4, 7, 6, 7, 3]\n",
       " [1, 2, 6, 8, 2, 6]\n",
       " ⋮\n",
       " [0, 6, 5, 11, 2, 5]\n",
       " [0, 5, 1, 11, 6, 9]\n",
       " [0, 6, 3, 10, 4, 4]\n",
       " [0, 2, 3, 7, 6, 5]\n",
       " [0, 4, 2, 5, 3, 5]\n",
       " [0, 2, 4, 16, 8, 8]\n",
       " [0, 4, 3, 9, 5, 7]\n",
       " [1, 1, 5, 9, 2, 4]\n",
       " [0, 6, 4, 12, 6, 3]\n",
       " [0, 8, 9, 11, 2, 2]\n",
       " [0, 6, 6, 6, 4, 4]\n",
       " [1, 9, 3, 7, 5, 2]"
      ]
     },
     "execution_count": 7,
     "metadata": {},
     "output_type": "execute_result"
    }
   ],
   "source": [
    "prob = DiscreteProblem(rn, [1, 1, 8, 8, 8, 8], (0, 5000000.),  ps)\n",
    "jump_prob = JumpProblem(rn, prob, Direct(), save_positions=(false, false))\n",
    "\n",
    "sol = solve(jump_prob, SSAStepper(), saveat=100.0)"
   ]
  },
  {
   "cell_type": "code",
   "execution_count": 9,
   "id": "ec304667-6d38-4eb2-b97e-df759f4c9554",
   "metadata": {},
   "outputs": [
    {
     "data": {
      "text/plain": [
       "6-element Array{Float64,1}:\n",
       "  0.04764774913634143\n",
       "  0.047013410777446474\n",
       " -0.025953831969022012\n",
       " -0.03344803313065903\n",
       "  0.03281369477176721\n",
       " -0.025173847568709107"
      ]
     },
     "execution_count": 9,
     "metadata": {},
     "output_type": "execute_result"
    }
   ],
   "source": [
    "mean(sol.u) - lnameans"
   ]
  },
  {
   "cell_type": "code",
   "execution_count": 12,
   "id": "c8760aa3-8852-45de-9485-5f68f707f247",
   "metadata": {},
   "outputs": [
    {
     "data": {
      "text/plain": [
       "6×6 Array{Float64,2}:\n",
       "  0.0844164  -0.110681    0.0170481   0.0229204  -0.113232    0.0271009\n",
       " -0.110681   -0.090462    0.110959    0.0997505  -0.0883043   0.0851075\n",
       "  0.0170481   0.110959   -0.0681599  -0.0306588   0.0679243  -0.0463683\n",
       "  0.0229204   0.0997505  -0.0306588  -0.13176     0.0447828  -0.0493226\n",
       " -0.113232   -0.0883043   0.0679243   0.0447828  -0.0701557   0.0769436\n",
       "  0.0271009   0.0851075  -0.0463683  -0.0493226   0.0769436  -0.0521899"
      ]
     },
     "execution_count": 12,
     "metadata": {},
     "output_type": "execute_result"
    }
   ],
   "source": [
    "StatsBase.cov(sol.u) - lnacovs"
   ]
  },
  {
   "cell_type": "markdown",
   "id": "fc287d2d-374b-4488-853e-55d7d9d1e51f",
   "metadata": {},
   "source": [
    "# Arbitrary number of mRNA"
   ]
  },
  {
   "cell_type": "code",
   "execution_count": 48,
   "id": "b746e600-7475-4adc-b2b9-7a08b37f8299",
   "metadata": {},
   "outputs": [
    {
     "data": {
      "text/plain": [
       "generate_rn (generic function with 1 method)"
      ]
     },
     "execution_count": 48,
     "metadata": {},
     "output_type": "execute_result"
    }
   ],
   "source": [
    "function reaction(n)\n",
    "    \"ρ_m$(n), 0 --> M$(n)\n",
    "    δ_m$(n), M$(n) --> 0\n",
    "    σ_b$(n), M$(n) + R --> MR$(n)\n",
    "    δ_u$(n), MR$(n) --> M$(n) + R\n",
    "    ρ_p$(n), MR$(n) --> MR$(n) + P$(n)\n",
    "    δ_r, MR$(n) --> 0\n",
    "    δ_r, P$(n) --> 0\n",
    "    \"\n",
    "end\n",
    "\n",
    "function endstring(n)\n",
    "    cumulative_string = \"end ρ_r δ_r \"\n",
    "    for i in 1:n\n",
    "        cumulative_string = string(cumulative_string, \"ρ_m$(i) δ_m$(i) σ_b$(i) δ_u$(i) σ_u$(i) ρ_p$(i) \")\n",
    "    end\n",
    "    cumulative_string\n",
    "end\n",
    "\n",
    "function generate_rn(n)\n",
    "    rnstring = \"rn = @reaction_network begin\n",
    "        ρ_r, 0 --> R\n",
    "        δ_r, R --> 0\n",
    "    \"\n",
    "    for i in 1:n\n",
    "        rnstring = string(rnstring, reaction(i))\n",
    "    end\n",
    "    rnstring = string(rnstring, endstring(n))\n",
    "    rnexpression = Base.Meta.parse(rnstring)\n",
    "    eval(rnexpression)\n",
    "end"
   ]
  },
  {
   "cell_type": "code",
   "execution_count": 49,
   "id": "8877aaff-9782-49d9-9115-eea5290ba545",
   "metadata": {},
   "outputs": [
    {
     "data": {
      "text/latex": [
       "\\begin{align}\n",
       "\\require{mhchem}\n",
       "\\ce{ \\varnothing &<=>[\\rho_{r}][\\delta_{r}] R}\\\\\n",
       "\\ce{ \\varnothing &<=>[\\rho_{m1}][\\delta_{m1}] M1}\\\\\n",
       "\\ce{ M1 + R &<=>[\\sigma_{b1}][\\delta_{u1}] MR1}\\\\\n",
       "\\ce{ MR1 &->[\\rho_{p1}] MR1 + P1}\\\\\n",
       "\\ce{ MR1 &->[\\delta_{r}] \\varnothing}\\\\\n",
       "\\ce{ P1 &->[\\delta_{r}] \\varnothing}\\\\\n",
       "\\ce{ \\varnothing &<=>[\\rho_{m2}][\\delta_{m2}] M2}\\\\\n",
       "\\ce{ M2 + R &<=>[\\sigma_{b2}][\\delta_{u2}] MR2}\\\\\n",
       "\\ce{ MR2 &->[\\rho_{p2}] MR2 + P2}\\\\\n",
       "\\ce{ MR2 &->[\\delta_{r}] \\varnothing}\\\\\n",
       "\\ce{ P2 &->[\\delta_{r}] \\varnothing}\\\\\n",
       "\\ce{ \\varnothing &<=>[\\rho_{m3}][\\delta_{m3}] M3}\\\\\n",
       "\\ce{ M3 + R &<=>[\\sigma_{b3}][\\delta_{u3}] MR3}\\\\\n",
       "\\ce{ MR3 &->[\\rho_{p3}] MR3 + P3}\\\\\n",
       "\\ce{ MR3 &->[\\delta_{r}] \\varnothing}\\\\\n",
       "\\ce{ P3 &->[\\delta_{r}] \\varnothing}\\\\\n",
       "\\ce{ \\varnothing &<=>[\\rho_{m4}][\\delta_{m4}] M4}\\\\\n",
       "\\ce{ M4 + R &<=>[\\sigma_{b4}][\\delta_{u4}] MR4}\\\\\n",
       "\\ce{ MR4 &->[\\rho_{p4}] MR4 + P4}\\\\\n",
       "\\ce{ MR4 &->[\\delta_{r}] \\varnothing}\\\\\n",
       "\\ce{ P4 &->[\\delta_{r}] \\varnothing}\\\\\n",
       "\\ce{ \\varnothing &<=>[\\rho_{m5}][\\delta_{m5}] M5}\\\\\n",
       "\\ce{ M5 + R &<=>[\\sigma_{b5}][\\delta_{u5}] MR5}\\\\\n",
       "\\ce{ MR5 &->[\\rho_{p5}] MR5 + P5}\\\\\n",
       "\\ce{ MR5 &->[\\delta_{r}] \\varnothing}\\\\\n",
       "\\ce{ P5 &->[\\delta_{r}] \\varnothing}\n",
       "\\end{align}\n"
      ],
      "text/plain": [
       "\u001b[0m\u001b[1mModel ##ReactionSystem#275 with 37 equations\u001b[22m\n",
       "\u001b[0m\u001b[1mStates (16):\u001b[22m\n",
       "  R(t)\n",
       "  M1(t)\n",
       "  MR1(t)\n",
       "  P1(t)\n",
       "  M2(t)\n",
       "  MR2(t)\n",
       "⋮\n",
       "\u001b[0m\u001b[1mParameters (32):\u001b[22m\n",
       "  ρ_r\n",
       "  δ_r\n",
       "  ρ_m1\n",
       "  δ_m1\n",
       "  σ_b1\n",
       "  δ_u1\n",
       "⋮"
      ]
     },
     "execution_count": 49,
     "metadata": {},
     "output_type": "execute_result"
    }
   ],
   "source": [
    "generate_rn(5)"
   ]
  },
  {
   "cell_type": "code",
   "execution_count": 51,
   "id": "19a981b2-4be5-4ca6-bdb4-d72bfdea7430",
   "metadata": {},
   "outputs": [
    {
     "data": {
      "text/plain": [
       "retcode: Default\n",
       "Interpolation: Piecewise constant interpolation\n",
       "t: 50001-element Array{Float64,1}:\n",
       "    0.0\n",
       "  100.0\n",
       "  200.0\n",
       "  300.0\n",
       "  400.0\n",
       "  500.0\n",
       "  600.0\n",
       "  700.0\n",
       "  800.0\n",
       "  900.0\n",
       " 1000.0\n",
       " 1100.0\n",
       " 1200.0\n",
       "    ⋮\n",
       "    4.9989e6\n",
       "    4.999e6\n",
       "    4.9991e6\n",
       "    4.9992e6\n",
       "    4.9993e6\n",
       "    4.9994e6\n",
       "    4.9995e6\n",
       "    4.9996e6\n",
       "    4.9997e6\n",
       "    4.9998e6\n",
       "    4.9999e6\n",
       "    5.0e6\n",
       "u: 50001-element Array{Array{Int64,1},1}:\n",
       " [1, 1, 8, 8]\n",
       " [0, 6, 4, 6]\n",
       " [3, 0, 7, 9]\n",
       " [1, 3, 9, 10]\n",
       " [0, 3, 11, 9]\n",
       " [5, 1, 7, 12]\n",
       " [2, 0, 8, 10]\n",
       " [7, 2, 7, 10]\n",
       " [2, 1, 11, 19]\n",
       " [2, 2, 9, 7]\n",
       " [0, 0, 15, 12]\n",
       " [1, 1, 6, 8]\n",
       " [2, 1, 5, 4]\n",
       " ⋮\n",
       " [0, 3, 10, 11]\n",
       " [1, 2, 12, 12]\n",
       " [3, 0, 6, 4]\n",
       " [0, 2, 6, 3]\n",
       " [0, 3, 7, 5]\n",
       " [4, 0, 7, 9]\n",
       " [3, 0, 9, 6]\n",
       " [7, 0, 2, 2]\n",
       " [0, 4, 3, 11]\n",
       " [0, 6, 8, 5]\n",
       " [5, 0, 5, 7]\n",
       " [0, 8, 3, 13]"
      ]
     },
     "execution_count": 51,
     "metadata": {},
     "output_type": "execute_result"
    }
   ],
   "source": [
    "rn = generate_rn(1)\n",
    "\n",
    "ps = [ 1, 0.1, 1, 0.1, 1, 0.1, 1, 0.1 ]\n",
    "prob = LNAProblem(rn, [0,0,0,0], ps)\n",
    "\n",
    "sol = solve(prob)\n",
    "\n",
    "lnameans = mean(sol)\n",
    "lnacovs = StatsBase.cov(sol)\n",
    "\n",
    "prob = DiscreteProblem(rn, [1, 1, 8, 8], (0, 5000000.),  ps)\n",
    "jump_prob = JumpProblem(rn, prob, Direct(), save_positions=(false, false))\n",
    "\n",
    "sol = solve(jump_prob, SSAStepper(), saveat=100.0)"
   ]
  },
  {
   "cell_type": "code",
   "execution_count": 54,
   "id": "352c367b-c5b8-4146-b4f2-6996a704b5c4",
   "metadata": {},
   "outputs": [
    {
     "data": {
      "text/plain": [
       "4-element Array{Float64,1}:\n",
       "  0.5580977941730045\n",
       "  0.5577778005728689\n",
       " -0.5636776825752303\n",
       " -0.5714975261783586"
      ]
     },
     "execution_count": 54,
     "metadata": {},
     "output_type": "execute_result"
    }
   ],
   "source": [
    "mean(sol.u) - lnameans"
   ]
  },
  {
   "cell_type": "code",
   "execution_count": null,
   "id": "b8231ccc-673f-4847-882b-6aa7d5b3f107",
   "metadata": {},
   "outputs": [],
   "source": []
  }
 ],
 "metadata": {
  "kernelspec": {
   "display_name": "Julia 1.5.3",
   "language": "julia",
   "name": "julia-1.5"
  },
  "language_info": {
   "file_extension": ".jl",
   "mimetype": "application/julia",
   "name": "julia",
   "version": "1.5.3"
  }
 },
 "nbformat": 4,
 "nbformat_minor": 5
}
