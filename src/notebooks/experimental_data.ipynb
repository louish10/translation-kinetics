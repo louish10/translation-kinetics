{
 "cells": [
  {
   "cell_type": "code",
   "execution_count": 1,
   "id": "18c8f04c-2659-4be7-bb3f-c917b042cf10",
   "metadata": {},
   "outputs": [
    {
     "data": {
      "text/plain": [
       "7-element Vector{String}:\n",
       " \"id\"\n",
       " \"pNumber\"\n",
       " \"mNumber\"\n",
       " \"alpha\"\n",
       " \"beta\"\n",
       " \"mHalfLife\"\n",
       " \"pHalfLife\""
      ]
     },
     "execution_count": 1,
     "metadata": {},
     "output_type": "execute_result"
    }
   ],
   "source": [
    "include(\"../lna.jl\")\n",
    "include(\"../functions.jl\")\n",
    "\n",
    "# Load data from schwannhauser\n",
    "exp_data = DataFrame(CSV.File(\"../../data/experimental_data_sanitised.csv\"))\n",
    "dropmissing!(exp_data)\n",
    "names(exp_data)"
   ]
  },
  {
   "cell_type": "code",
   "execution_count": 12,
   "id": "a36c6055-3209-4d92-8121-e433b6d2ff30",
   "metadata": {},
   "outputs": [
    {
     "data": {
      "text/html": [
       "<div class=\"data-frame\"><p>4,247 rows × 7 columns (omitted printing of 6 columns)</p><table class=\"data-frame\"><thead><tr><th></th><th>id</th></tr><tr><th></th><th title=\"String\">String</th></tr></thead><tbody><tr><th>1</th><td>IPI00110850.1;IPI00473320.2;IPI00874780.1;IPI00857335.1;IPI00754167.2;IPI00454053.7</td></tr><tr><th>2</th><td>IPI00307837.6;IPI00831365.1;IPI00831184.1;IPI00849577.1</td></tr><tr><th>3</th><td>IPI00470152.2;IPI00755353.2;IPI00660718.1;IPI00342013.3;IPI00890072.1</td></tr><tr><th>4</th><td>IPI00117352.1</td></tr><tr><th>5</th><td>IPI00468203.3;IPI00605518.1;IPI00885292.1;IPI00885367.1</td></tr><tr><th>6</th><td>IPI00124096.1;IPI00918751.1</td></tr><tr><th>7</th><td>IPI00229517.5</td></tr><tr><th>8</th><td>IPI00890117.1;IPI00848816.1;IPI00407543.2;IPI00409405.2</td></tr><tr><th>9</th><td>IPI00224740.6;IPI00650039.1</td></tr><tr><th>10</th><td>IPI00223713.5</td></tr><tr><th>11</th><td>IPI00880252.1;IPI00114733.1;IPI00880972.1;IPI00123306.2</td></tr><tr><th>12</th><td>IPI00407130.4</td></tr><tr><th>13</th><td>IPI00131459.1;IPI00649586.1;IPI00551485.1;IPI00854035.1</td></tr><tr><th>14</th><td>IPI00229080.7;IPI00830562.2;</td></tr><tr><th>15</th><td>IPI00116498.1;IPI00853851.1;IPI00473203.1;IPI00776377.1;IPI00775847.1</td></tr><tr><th>16</th><td>IPI00108125.4;IPI00648714.1;IPI00850758.1;IPI00848526.1</td></tr><tr><th>17</th><td>IPI00118384.1;IPI00885651.1;IPI00828266.2</td></tr><tr><th>18</th><td>IPI00555113.2</td></tr><tr><th>19</th><td>IPI00751369.1;IPI00319994.6;IPI00756114.1;IPI00754398.1;IPI00467457.3;IPI00881151.1;IPI00881267.1</td></tr><tr><th>20</th><td>IPI00134621.3;IPI00126133.1</td></tr><tr><th>21</th><td>IPI00118676.3;IPI00929797.1;IPI00857870.1;IPI00857990.1</td></tr><tr><th>22</th><td>IPI00121788.1;IPI00648615.3;IPI00648105.1;IPI00848536.1;IPI00605254.5;IPI00649645.1;IPI00853723.1</td></tr><tr><th>23</th><td>IPI00308885.6;IPI00845678.1;IPI00830313.1;IPI00830195.2;IPI00749932.1;IPI00853695.1</td></tr><tr><th>24</th><td>IPI00136984.1;IPI00666161.1;IPI00850934.1;IPI00850039.1;IPI00349458.5;IPI00344904.5</td></tr><tr><th>25</th><td>IPI00322562.5;IPI00663582.1;IPI00895514.1;IPI00895455.1</td></tr><tr><th>26</th><td>IPI00137735.1;IPI00848593.1;IPI00115992.1;IPI00850188.1;IPI00677917.1;IPI00605858.2;IPI00461419.2;IPI00755670.2;IPI00661810.3</td></tr><tr><th>27</th><td>IPI00555055.3;IPI00919098.1;IPI00331734.5;IPI00320149.2;IPI00918450.1;IPI00651852.1</td></tr><tr><th>28</th><td>IPI00117043.1;IPI00404804.1;IPI00266875.5;IPI00885994.1;IPI00885500.1</td></tr><tr><th>29</th><td>IPI00134599.1;IPI00856866.1</td></tr><tr><th>30</th><td>IPI00230395.5;IPI00652811.1</td></tr><tr><th>&vellip;</th><td>&vellip;</td></tr></tbody></table></div>"
      ],
      "text/latex": [
       "\\begin{tabular}{r|cc}\n",
       "\t& id & \\\\\n",
       "\t\\hline\n",
       "\t& String & \\\\\n",
       "\t\\hline\n",
       "\t1 & IPI00110850.1;IPI00473320.2;IPI00874780.1;IPI00857335.1;IPI00754167.2;IPI00454053.7 & $\\dots$ \\\\\n",
       "\t2 & IPI00307837.6;IPI00831365.1;IPI00831184.1;IPI00849577.1 & $\\dots$ \\\\\n",
       "\t3 & IPI00470152.2;IPI00755353.2;IPI00660718.1;IPI00342013.3;IPI00890072.1 & $\\dots$ \\\\\n",
       "\t4 & IPI00117352.1 & $\\dots$ \\\\\n",
       "\t5 & IPI00468203.3;IPI00605518.1;IPI00885292.1;IPI00885367.1 & $\\dots$ \\\\\n",
       "\t6 & IPI00124096.1;IPI00918751.1 & $\\dots$ \\\\\n",
       "\t7 & IPI00229517.5 & $\\dots$ \\\\\n",
       "\t8 & IPI00890117.1;IPI00848816.1;IPI00407543.2;IPI00409405.2 & $\\dots$ \\\\\n",
       "\t9 & IPI00224740.6;IPI00650039.1 & $\\dots$ \\\\\n",
       "\t10 & IPI00223713.5 & $\\dots$ \\\\\n",
       "\t11 & IPI00880252.1;IPI00114733.1;IPI00880972.1;IPI00123306.2 & $\\dots$ \\\\\n",
       "\t12 & IPI00407130.4 & $\\dots$ \\\\\n",
       "\t13 & IPI00131459.1;IPI00649586.1;IPI00551485.1;IPI00854035.1 & $\\dots$ \\\\\n",
       "\t14 & IPI00229080.7;IPI00830562.2; & $\\dots$ \\\\\n",
       "\t15 & IPI00116498.1;IPI00853851.1;IPI00473203.1;IPI00776377.1;IPI00775847.1 & $\\dots$ \\\\\n",
       "\t16 & IPI00108125.4;IPI00648714.1;IPI00850758.1;IPI00848526.1 & $\\dots$ \\\\\n",
       "\t17 & IPI00118384.1;IPI00885651.1;IPI00828266.2 & $\\dots$ \\\\\n",
       "\t18 & IPI00555113.2 & $\\dots$ \\\\\n",
       "\t19 & IPI00751369.1;IPI00319994.6;IPI00756114.1;IPI00754398.1;IPI00467457.3;IPI00881151.1;IPI00881267.1 & $\\dots$ \\\\\n",
       "\t20 & IPI00134621.3;IPI00126133.1 & $\\dots$ \\\\\n",
       "\t21 & IPI00118676.3;IPI00929797.1;IPI00857870.1;IPI00857990.1 & $\\dots$ \\\\\n",
       "\t22 & IPI00121788.1;IPI00648615.3;IPI00648105.1;IPI00848536.1;IPI00605254.5;IPI00649645.1;IPI00853723.1 & $\\dots$ \\\\\n",
       "\t23 & IPI00308885.6;IPI00845678.1;IPI00830313.1;IPI00830195.2;IPI00749932.1;IPI00853695.1 & $\\dots$ \\\\\n",
       "\t24 & IPI00136984.1;IPI00666161.1;IPI00850934.1;IPI00850039.1;IPI00349458.5;IPI00344904.5 & $\\dots$ \\\\\n",
       "\t25 & IPI00322562.5;IPI00663582.1;IPI00895514.1;IPI00895455.1 & $\\dots$ \\\\\n",
       "\t26 & IPI00137735.1;IPI00848593.1;IPI00115992.1;IPI00850188.1;IPI00677917.1;IPI00605858.2;IPI00461419.2;IPI00755670.2;IPI00661810.3 & $\\dots$ \\\\\n",
       "\t27 & IPI00555055.3;IPI00919098.1;IPI00331734.5;IPI00320149.2;IPI00918450.1;IPI00651852.1 & $\\dots$ \\\\\n",
       "\t28 & IPI00117043.1;IPI00404804.1;IPI00266875.5;IPI00885994.1;IPI00885500.1 & $\\dots$ \\\\\n",
       "\t29 & IPI00134599.1;IPI00856866.1 & $\\dots$ \\\\\n",
       "\t30 & IPI00230395.5;IPI00652811.1 & $\\dots$ \\\\\n",
       "\t$\\dots$ & $\\dots$ &  \\\\\n",
       "\\end{tabular}\n"
      ],
      "text/plain": [
       "\u001b[1m4247×7 DataFrame\u001b[0m\n",
       "\u001b[1m  Row \u001b[0m│\u001b[1m id                                \u001b[0m\u001b[1m pNumber     \u001b[0m\u001b[1m mNumber \u001b[0m\u001b[1m alpha   \u001b[0m\u001b[1m beta\u001b[0m ⋯\n",
       "\u001b[1m      \u001b[0m│\u001b[90m String                            \u001b[0m\u001b[90m Float64     \u001b[0m\u001b[90m Float64 \u001b[0m\u001b[90m Float64 \u001b[0m\u001b[90m Floa\u001b[0m ⋯\n",
       "──────┼─────────────────────────────────────────────────────────────────────────\n",
       "    1 │ IPI00110850.1;IPI00473320.2;IPI0…    1.20124e8  2187.76   182.3   1895 ⋯\n",
       "    2 │ IPI00307837.6;IPI00831365.1;IPI0…    3.56322e7  3229.54   196.89   319\n",
       "    3 │ IPI00470152.2;IPI00755353.2;IPI0…    3.39587e7    12.79     1.13     2\n",
       "    4 │ IPI00117352.1                        2.80102e7   395.89    28.39  2019\n",
       "    5 │ IPI00468203.3;IPI00605518.1;IPI0…    2.45855e7   630.69    42.27  1034 ⋯\n",
       "    6 │ IPI00124096.1;IPI00918751.1          2.43716e7  1825.51   118.28   375\n",
       "    7 │ IPI00229517.5                        2.41904e7  2247.05   172.73   277\n",
       "    8 │ IPI00890117.1;IPI00848816.1;IPI0…    2.07284e7   729.82    50.51   956\n",
       "    9 │ IPI00224740.6;IPI00650039.1          2.03004e7   692.25    44.6    864 ⋯\n",
       "   10 │ IPI00223713.5                        1.80489e7     4.31     0.86     1\n",
       "   11 │ IPI00880252.1;IPI00114733.1;IPI0…    1.73323e7   444.32    22.86  1100\n",
       "  ⋮   │                 ⋮                       ⋮          ⋮        ⋮          ⋱\n",
       " 4238 │ IPI00222462.4;IPI00875148.1;IPI0…  143.32          3.47     0.28     3\n",
       " 4239 │ IPI00849717.1                      138.27          6.24     0.81     3 ⋯\n",
       " 4240 │ IPI00400214.3                      135.27        119.57     8.72     0\n",
       " 4241 │ IPI00111639.3                      120.65          5.07     0.4      1\n",
       " 4242 │ IPI00135072.2;IPI00875802.1;IPI0…  110.05          6.2      1.06     1\n",
       " 4243 │ IPI00761443.2;IPI00762507.2;IPI0…  109.98          8.19     0.68     3 ⋯\n",
       " 4244 │ IPI00608114.2;IPI00380409.1        109.67          8.24     0.72     2\n",
       " 4245 │ IPI00330411.4                       75.6          13.73     0.81     6\n",
       " 4246 │ IPI00123119.4;IPI00762213.1         61.37          2.59     0.25     2\n",
       " 4247 │ IPI00850983.2;IPI00881271.2;IPI0…   56.66          3.33     0.32     6 ⋯\n",
       "\u001b[36m                                                 3 columns and 4226 rows omitted\u001b[0m"
      ]
     },
     "execution_count": 12,
     "metadata": {},
     "output_type": "execute_result"
    }
   ],
   "source": [
    "sort!(exp_data, [:pNumber], rev=true)"
   ]
  },
  {
   "cell_type": "code",
   "execution_count": 16,
   "id": "e3e7f39d-4ba8-4939-b600-2f77166ce59b",
   "metadata": {},
   "outputs": [
    {
     "data": {
      "text/html": [
       "<p>DataFrameRow (2 columns)</p><div class=\"data-frame\"><table class=\"data-frame\"><thead><tr><th></th><th>pNumber</th><th>mNumber</th></tr><tr><th></th><th title=\"Float64\">Float64</th><th title=\"Float64\">Float64</th></tr></thead><tbody><tr><th>1</th><td>1.20124e8</td><td>2187.76</td></tr></tbody></table></div>"
      ],
      "text/latex": [
       "\\begin{tabular}{r|cc}\n",
       "\t& pNumber & mNumber\\\\\n",
       "\t\\hline\n",
       "\t& Float64 & Float64\\\\\n",
       "\t\\hline\n",
       "\t1 & 1.20124e8 & 2187.76 \\\\\n",
       "\\end{tabular}\n"
      ],
      "text/plain": [
       "\u001b[1mDataFrameRow\u001b[0m\n",
       "\u001b[1m Row \u001b[0m│\u001b[1m pNumber   \u001b[0m\u001b[1m mNumber \u001b[0m\n",
       "\u001b[1m     \u001b[0m│\u001b[90m Float64   \u001b[0m\u001b[90m Float64 \u001b[0m\n",
       "─────┼────────────────────\n",
       "   1 │ 1.20124e8  2187.76"
      ]
     },
     "execution_count": 16,
     "metadata": {},
     "output_type": "execute_result"
    }
   ],
   "source": [
    "exp_data[1, [:pNumber, :mNumber]]"
   ]
  },
  {
   "cell_type": "code",
   "execution_count": 19,
   "id": "f6dec10e-756b-4199-bedb-2653b256c302",
   "metadata": {},
   "outputs": [
    {
     "data": {
      "text/plain": [
       "172571.12"
      ]
     },
     "execution_count": 19,
     "metadata": {},
     "output_type": "execute_result"
    }
   ],
   "source": [
    "reduce(+, exp_data[!, :mNumber])"
   ]
  },
  {
   "cell_type": "markdown",
   "id": "231e6c5f-4580-47db-90e8-8604c395989a",
   "metadata": {},
   "source": [
    "Total number of mRNA molecules is 172000."
   ]
  },
  {
   "cell_type": "code",
   "execution_count": null,
   "id": "7b40e58e-b292-4c5d-8104-4da76b752ffb",
   "metadata": {},
   "outputs": [],
   "source": []
  }
 ],
 "metadata": {
  "kernelspec": {
   "display_name": "Julia 1.7.2",
   "language": "julia",
   "name": "julia-1.7"
  },
  "language_info": {
   "file_extension": ".jl",
   "mimetype": "application/julia",
   "name": "julia",
   "version": "1.7.2"
  }
 },
 "nbformat": 4,
 "nbformat_minor": 5
}
