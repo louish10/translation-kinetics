{
 "cells": [
  {
   "cell_type": "code",
   "execution_count": 91,
   "id": "fb3219a1-69fb-4696-9aab-03f36bd648bf",
   "metadata": {},
   "outputs": [
    {
     "name": "stderr",
     "output_type": "stream",
     "text": [
      "WARNING: replacing module Utilities.\n",
      "WARNING: replacing module ModelWithRibosomes.\n",
      "WARNING: replacing module CanonicalTwoStageModel.\n"
     ]
    }
   ],
   "source": [
    "include(\"../../src/utilities.jl\")\n",
    "include(\"../../src/model_with_ribosomes_functions.jl\")\n",
    "include(\"../../src/canonical_two_stage_model_with_division_functions.jl\")\n",
    "using Catalyst, DifferentialEquations, Plots, Statistics"
   ]
  },
  {
   "cell_type": "code",
   "execution_count": 92,
   "id": "30979b09-f99b-400a-822d-7cc42a43525c",
   "metadata": {},
   "outputs": [
    {
     "data": {
      "text/plain": [
       "simulate_stochastic_cycle (generic function with 1 method)"
      ]
     },
     "execution_count": 92,
     "metadata": {},
     "output_type": "execute_result"
    }
   ],
   "source": [
    "function simulate_cycle(model, p, t0, t_fin, T, species_0)\n",
    "    tstops = [t0+T:T:t_fin;]\n",
    "    \n",
    "    prob = DiscreteProblem(model, species_0, (t0,t_fin), p)\n",
    "    jump_prob = JumpProblem(model, prob, Direct(), save_positions=(false,false))\n",
    "        \n",
    "    condition(u,t,integrator) = t%27.5==0.0\n",
    "    affect!(integrator) = integrator.u = Utilities.partition_species(integrator.u)\n",
    "    cb = DiscreteCallback(condition,affect!)\n",
    "    \n",
    "    sol = solve(jump_prob, SSAStepper(), saveat=0.01, callback=cb, tstops=tstops)\n",
    "    return sol\n",
    "end\n",
    "\n",
    "function simulate_stochastic_cycle(model, p, t0, t_fin, T, species_0, N)\n",
    "   prob = DiscreteProblem(\n",
    "        model,\n",
    "        species_0,\n",
    "        (t0,t_fin),\n",
    "        p\n",
    "    )\n",
    "    jump_prob = JumpProblem(model, prob, Direct())\n",
    "    \n",
    "    function affect!(integrator)\n",
    "        integrator.u = Utilities.partition_species(integrator.u)\n",
    "        integrator.u[length(integrator.u)] = 0\n",
    "    end\n",
    "        \n",
    "    condition(u,t,integrator) = u[length(u)]==N\n",
    "    cb = DiscreteCallback(condition,affect!)\n",
    "    sol = solve(jump_prob, SSAStepper(), callback=cb)\n",
    "    pop!(sol.u)\n",
    "    pop!(sol.t)\n",
    "    return sol\n",
    "end"
   ]
  },
  {
   "cell_type": "code",
   "execution_count": 93,
   "id": "580094b2-ecc8-4472-80f2-94035622fff7",
   "metadata": {},
   "outputs": [
    {
     "data": {
      "text/latex": [
       "\\begin{align}\n",
       "\\require{mhchem}\n",
       "\\ce{ \\varnothing &->[alpha] m}\\\\\n",
       "\\ce{ m &->[beta] p + m}\\\\\n",
       "\\ce{ m &->[gamma] \\varnothing}\\\\\n",
       "\\ce{ p &->[delta] \\varnothing}\n",
       "\\end{align}\n"
      ],
      "text/plain": [
       "\u001b[0m\u001b[1mModel ##ReactionSystem#350 with 4 equations\u001b[22m\n",
       "\u001b[0m\u001b[1mStates (2):\u001b[22m\n",
       "  m(t)\n",
       "  p(t)\n",
       "\u001b[0m\u001b[1mParameters (4):\u001b[22m\n",
       "  alpha\n",
       "  beta\n",
       "  gamma\n",
       "  delta"
      ]
     },
     "execution_count": 93,
     "metadata": {},
     "output_type": "execute_result"
    }
   ],
   "source": [
    "sc2s = @reaction_network begin\n",
    "        alpha,  0-->m\n",
    "        beta, m-->p + m\n",
    "        gamma,  m-->0\n",
    "        delta, p-->0\n",
    "end alpha beta gamma delta"
   ]
  },
  {
   "cell_type": "code",
   "execution_count": 94,
   "id": "05539cbc-b8f8-49aa-b243-49ac223e7d03",
   "metadata": {},
   "outputs": [],
   "source": [
    "alph = 3.0\n",
    "beta = 0.03\n",
    "gamma = 0.2\n",
    "delta = 0.01\n",
    "T=100.5\n",
    "\n",
    "\n",
    "sol = simulate_cycle(sc2s, [alph, beta, gamma, delta], 0.0, 50.0, T,\n",
    "        [\n",
    "            round(alph/gamma),\n",
    "            round(alph*beta/(gamma*delta))\n",
    "        ]\n",
    "    )\n",
    "    \n",
    "plot(sol, ylabel=\"Copy number\", xlabel=\"t\")\n",
    "savefig(\"../../data/trajectories/model_I.svg\")"
   ]
  },
  {
   "cell_type": "code",
   "execution_count": 95,
   "id": "110e129e-b082-43e9-9595-a0aa6da4c4b1",
   "metadata": {},
   "outputs": [
    {
     "data": {
      "text/latex": [
       "\\begin{align}\n",
       "\\require{mhchem}\n",
       "\\ce{ \\varnothing &->[alpha] m}\\\\\n",
       "\\ce{ m &->[beta] p + m}\\\\\n",
       "\\ce{ m &->[gamma] \\varnothing}\n",
       "\\end{align}\n"
      ],
      "text/plain": [
       "\u001b[0m\u001b[1mModel ##ReactionSystem#352 with 3 equations\u001b[22m\n",
       "\u001b[0m\u001b[1mStates (2):\u001b[22m\n",
       "  m(t)\n",
       "  p(t)\n",
       "\u001b[0m\u001b[1mParameters (3):\u001b[22m\n",
       "  alpha\n",
       "  beta\n",
       "  gamma"
      ]
     },
     "execution_count": 95,
     "metadata": {},
     "output_type": "execute_result"
    }
   ],
   "source": [
    "c2s = @reaction_network begin\n",
    "        alpha,  0-->m\n",
    "        beta, m-->p + m\n",
    "        gamma,  m-->0\n",
    "    end alpha beta gamma"
   ]
  },
  {
   "cell_type": "code",
   "execution_count": 96,
   "id": "3bd3a59c-d66d-4df9-9cbe-bf59c91e195b",
   "metadata": {
    "tags": []
   },
   "outputs": [],
   "source": [
    "alph = 3.0\n",
    "beta = 0.1\n",
    "gamma = 0.2\n",
    "T=27.5\n",
    "\n",
    "\n",
    "sol = simulate_cycle(c2s, [alph, beta, gamma], 0.0, 100.0, T,\n",
    "        [\n",
    "            round(CanonicalTwoStageModel.mrna(alph, gamma, T, 0)),\n",
    "            round(CanonicalTwoStageModel.approximate_protein_mean(alph, beta, gamma, T, 0))\n",
    "        ]\n",
    "    )\n",
    "    \n",
    "plot(sol, ylabel=\"Copy number\", xlabel=\"t\")\n",
    "savefig(\"../../data/trajectories/model_II.svg\")"
   ]
  },
  {
   "cell_type": "code",
   "execution_count": 97,
   "id": "f37660d7-ebf1-4dfd-befa-fb90b2df2d81",
   "metadata": {},
   "outputs": [],
   "source": [
    "mwr = @reaction_network begin\n",
    "    alpha,  0-->m\n",
    "    beta, m + r-->p + m + r\n",
    "    gamma,  m-->0\n",
    "    rho, 0-->r\n",
    "end alpha beta gamma rho\n",
    "\n",
    "alph = 3.0\n",
    "beta = 0.01\n",
    "gamma = 0.2\n",
    "rho = 0.2\n",
    "T=27.5\n",
    "\n",
    "\n",
    "sol = simulate_cycle(mwr, [alph, beta, gamma, rho], 0.0, 100.0, T,\n",
    "        [\n",
    "            round(ModelWithRibosomes.mrna(alph, gamma, T, 0)),\n",
    "            round(ModelWithRibosomes.r(rho, T, 0)),\n",
    "            round(ModelWithRibosomes.p(alph, beta, gamma, rho, T, 0)),\n",
    "        ]\n",
    "    )\n",
    "    \n",
    "plot(sol, ylabel=\"Copy number\", xlabel=\"t\")\n",
    "savefig(\"../../data/trajectories/model_III.svg\")"
   ]
  },
  {
   "cell_type": "code",
   "execution_count": 98,
   "id": "277b87ba-52d0-467b-babb-7f52513795a3",
   "metadata": {},
   "outputs": [],
   "source": [
    "slm = @reaction_network begin\n",
    "    alpha,  0-->m\n",
    "    beta, m + r-->p + m + r\n",
    "    gamma,  m-->0\n",
    "    rho, 0-->r\n",
    "    k, 0-->n\n",
    "end alpha beta gamma rho k\n",
    "\n",
    "alph = 1.0\n",
    "beta = 0.01\n",
    "gamma = 0.2\n",
    "rho = 1.0\n",
    "N = 10\n",
    "T=27.5\n",
    "k = N/T\n",
    "\n",
    "sol = simulate_stochastic_cycle(slm, [alph, beta, gamma, rho, k], 0., 100., T,\n",
    "    [\n",
    "        round(ModelWithRibosomes.mrna(alph, gamma, T, 0)),\n",
    "        round(ModelWithRibosomes.r(rho, T, 0)),\n",
    "        round(ModelWithRibosomes.p(alph, beta, gamma, rho, T, 0)),\n",
    "        0\n",
    "    ],\n",
    "    N)\n",
    "plot(sol, ylabel=\"Copy number\", xlabel=\"t\")\n",
    "\n",
    "savefig(\"../../data/trajectories/model_IV.svg\")"
   ]
  },
  {
   "cell_type": "code",
   "execution_count": 99,
   "id": "14d271c7-766e-4337-a222-e098c24dff2c",
   "metadata": {},
   "outputs": [
    {
     "data": {
      "text/latex": [
       "\\begin{align}\n",
       "\\require{mhchem}\n",
       "\\ce{ \\varnothing &->[alpha] m}\\\\\n",
       "\\ce{ m &->[beta] p + m}\\\\\n",
       "\\ce{ m &->[gamma] \\varnothing}\\\\\n",
       "\\ce{ \\varnothing &->[k] n}\n",
       "\\end{align}\n"
      ],
      "text/plain": [
       "\u001b[0m\u001b[1mModel ##ReactionSystem#358 with 4 equations\u001b[22m\n",
       "\u001b[0m\u001b[1mStates (3):\u001b[22m\n",
       "  m(t)\n",
       "  p(t)\n",
       "  n(t)\n",
       "\u001b[0m\u001b[1mParameters (4):\u001b[22m\n",
       "  alpha\n",
       "  beta\n",
       "  gamma\n",
       "  k"
      ]
     },
     "execution_count": 99,
     "metadata": {},
     "output_type": "execute_result"
    }
   ],
   "source": [
    "slc2sm = @reaction_network begin\n",
    "    alpha,  0-->m\n",
    "    beta, m -->p + m\n",
    "    gamma,  m-->0\n",
    "    k, 0-->n\n",
    "end alpha beta gamma k"
   ]
  },
  {
   "cell_type": "code",
   "execution_count": 100,
   "id": "b35b9522-3faa-4e73-a65d-fc4c2dd6b3be",
   "metadata": {},
   "outputs": [],
   "source": [
    "alph = 1.0\n",
    "beta = 0.1\n",
    "gamma = 0.2\n",
    "N = 10\n",
    "T=27.5\n",
    "k = N/T\n",
    "\n",
    "sol = simulate_stochastic_cycle(slc2sm, [alph, beta, gamma, k], 0., 100., T,\n",
    "    [\n",
    "        round(CanonicalTwoStageModel.mrna(alph, gamma, T, 0)),\n",
    "        round(CanonicalTwoStageModel.approximate_protein_mean(alph, beta, gamma, T, 0)),\n",
    "        0\n",
    "    ],\n",
    "    N)\n",
    "plot(sol, ylabel=\"Copy number\", xlabel=\"t\")\n",
    "\n",
    "savefig(\"../../data/trajectories/model_V.svg\")"
   ]
  },
  {
   "cell_type": "code",
   "execution_count": null,
   "id": "e646ffa8-be8e-470d-ad4d-f170ea0c3fbd",
   "metadata": {},
   "outputs": [],
   "source": []
  }
 ],
 "metadata": {
  "kernelspec": {
   "display_name": "Julia 1.6.1",
   "language": "julia",
   "name": "julia-1.6"
  },
  "language_info": {
   "file_extension": ".jl",
   "mimetype": "application/julia",
   "name": "julia",
   "version": "1.6.1"
  }
 },
 "nbformat": 4,
 "nbformat_minor": 5
}
