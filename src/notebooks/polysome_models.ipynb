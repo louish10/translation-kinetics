{
 "cells": [
  {
   "cell_type": "code",
   "execution_count": 50,
   "id": "9cb07ceb-0779-4140-b87a-2705b5e63f26",
   "metadata": {},
   "outputs": [],
   "source": [
    "using Catalyst, DifferentialEquations, Plots, Statistics"
   ]
  },
  {
   "cell_type": "markdown",
   "id": "00a8498c-1399-4d2e-bbd0-25f6c16a42c2",
   "metadata": {},
   "source": [
    "### Model A"
   ]
  },
  {
   "cell_type": "code",
   "execution_count": 29,
   "id": "ac1cafdf-14e7-42f0-b6e7-275712b778a4",
   "metadata": {},
   "outputs": [
    {
     "data": {
      "text/latex": [
       "\\begin{align}\n",
       "\\require{mhchem}\n",
       "\\ce{ \\varnothing &<=>[k1][k2] m1}\\\\\n",
       "\\ce{ \\varnothing &<=>[k1p][k2p] m2}\\\\\n",
       "\\ce{ \\varnothing &<=>[k7][k8] r}\\\\\n",
       "\\ce{ m1 + r &<=>[k3][k4] r1}\\\\\n",
       "\\ce{ r1 &->[k5] m1 + r + p1}\\\\\n",
       "\\ce{ m2 + r &<=>[k3p][k4p] r2}\\\\\n",
       "\\ce{ r2 &->[k5p] m2 + r + p2}\\\\\n",
       "\\ce{ p1 &->[k6] \\varnothing}\\\\\n",
       "\\ce{ p2 &->[k6p] \\varnothing}\n",
       "\\end{align}\n"
      ],
      "text/plain": [
       "\u001b[0m\u001b[1mModel ##ReactionSystem#266 with 14 equations\u001b[22m\n",
       "\u001b[0m\u001b[1mStates (7):\u001b[22m\n",
       "  m1(t)\n",
       "  m2(t)\n",
       "  r(t)\n",
       "  r1(t)\n",
       "  p1(t)\n",
       "  r2(t)\n",
       "⋮\n",
       "\u001b[0m\u001b[1mParameters (14):\u001b[22m\n",
       "  k1\n",
       "  k2\n",
       "  k1p\n",
       "  k2p\n",
       "  k7\n",
       "  k8\n",
       "⋮"
      ]
     },
     "execution_count": 29,
     "metadata": {},
     "output_type": "execute_result"
    }
   ],
   "source": [
    "model_a = @reaction_network begin\n",
    "        k1, 0-->m1\n",
    "        k2, m1-->0\n",
    "        k1p, 0-->m2\n",
    "        k2p, m2-->0\n",
    "        k7, 0-->r\n",
    "        k8, r-->0\n",
    "        k3, m1+r-->r1\n",
    "        k4, r1-->m1+r\n",
    "        k5, r1-->m1+r+p1\n",
    "        k3p, m2+r-->r2\n",
    "        k4p, r2-->m2+r\n",
    "        k5p, r2-->m2+r+p2\n",
    "        k6, p1-->0\n",
    "        k6p, p2-->0\n",
    "end k1 k2 k1p k2p k7 k8 k3 k4 k5 k3p k4p k5p k6 k6p"
   ]
  },
  {
   "cell_type": "code",
   "execution_count": 61,
   "id": "0f38da82-51d4-4217-a379-59e354d6ddaf",
   "metadata": {},
   "outputs": [
    {
     "data": {
      "text/plain": [
       "retcode: Default\n",
       "Interpolation: Piecewise constant interpolation\n",
       "t: 100001-element Array{Float64,1}:\n",
       "    0.0\n",
       "  100.0\n",
       "  200.0\n",
       "  300.0\n",
       "  400.0\n",
       "  500.0\n",
       "  600.0\n",
       "  700.0\n",
       "  800.0\n",
       "  900.0\n",
       " 1000.0\n",
       " 1100.0\n",
       " 1200.0\n",
       "    ⋮\n",
       "    9.9989e6\n",
       "    9.999e6\n",
       "    9.9991e6\n",
       "    9.9992e6\n",
       "    9.9993e6\n",
       "    9.9994e6\n",
       "    9.9995e6\n",
       "    9.9996e6\n",
       "    9.9997e6\n",
       "    9.9998e6\n",
       "    9.9999e6\n",
       "    1.0e7\n",
       "u: 100001-element Array{Array{Float64,1},1}:\n",
       " [10.0, 10.0, 10.0, 100.0, 1000.0, 100.0, 1000.0]\n",
       " [11.0, 10.0, 20.0, 88.0, 938.0, 95.0, 1002.0]\n",
       " [11.0, 9.0, 11.0, 87.0, 899.0, 86.0, 859.0]\n",
       " [12.0, 12.0, 5.0, 85.0, 795.0, 102.0, 1008.0]\n",
       " [13.0, 9.0, 13.0, 88.0, 857.0, 103.0, 1001.0]\n",
       " [13.0, 9.0, 16.0, 77.0, 882.0, 87.0, 863.0]\n",
       " [8.0, 17.0, 10.0, 84.0, 831.0, 84.0, 933.0]\n",
       " [11.0, 12.0, 12.0, 96.0, 907.0, 83.0, 900.0]\n",
       " [9.0, 9.0, 6.0, 78.0, 785.0, 81.0, 822.0]\n",
       " [8.0, 7.0, 8.0, 81.0, 761.0, 86.0, 836.0]\n",
       " [12.0, 8.0, 11.0, 81.0, 787.0, 89.0, 875.0]\n",
       " [5.0, 13.0, 10.0, 96.0, 923.0, 75.0, 804.0]\n",
       " [11.0, 10.0, 16.0, 74.0, 759.0, 81.0, 879.0]\n",
       " ⋮\n",
       " [8.0, 7.0, 14.0, 88.0, 869.0, 88.0, 855.0]\n",
       " [7.0, 9.0, 9.0, 86.0, 900.0, 100.0, 1063.0]\n",
       " [11.0, 11.0, 4.0, 89.0, 878.0, 96.0, 938.0]\n",
       " [4.0, 12.0, 8.0, 94.0, 912.0, 93.0, 942.0]\n",
       " [22.0, 7.0, 12.0, 100.0, 1024.0, 88.0, 844.0]\n",
       " [10.0, 12.0, 7.0, 81.0, 846.0, 100.0, 1025.0]\n",
       " [9.0, 15.0, 11.0, 77.0, 749.0, 87.0, 983.0]\n",
       " [14.0, 13.0, 16.0, 76.0, 798.0, 87.0, 896.0]\n",
       " [7.0, 16.0, 7.0, 89.0, 801.0, 89.0, 879.0]\n",
       " [9.0, 13.0, 10.0, 100.0, 999.0, 90.0, 993.0]\n",
       " [17.0, 11.0, 13.0, 80.0, 883.0, 96.0, 912.0]\n",
       " [8.0, 12.0, 8.0, 81.0, 870.0, 99.0, 937.0]"
      ]
     },
     "execution_count": 61,
     "metadata": {},
     "output_type": "execute_result"
    }
   ],
   "source": [
    "k1 = 1\n",
    "k2 = .1\n",
    "k1p = 1.\n",
    "k2p = .1\n",
    "k7 = 1.\n",
    "k8 = .1\n",
    "k3 = 1\n",
    "k4 = .1\n",
    "k5 = 1\n",
    "k3p = 1.\n",
    "k4p = .1\n",
    "k5p = 1.\n",
    "k6 = .1\n",
    "k6p = .1\n",
    "\n",
    "prob = DiscreteProblem(model_a, [10., 10., 10., 100., 1000., 100., 1000.], (0, 10000000.), [k1, k2, k1p, k2p, k7, k8, k3, k4, k5, k3p, k4p, k5p, k6, k6p])\n",
    "jump_prob = JumpProblem(model_a, prob, Direct(), save_positions=(false, false))\n",
    "\n",
    "sol = solve(jump_prob, SSAStepper(), saveat=100.0)"
   ]
  },
  {
   "cell_type": "code",
   "execution_count": 62,
   "id": "f3e49068-f6a3-4b22-9a92-f7c0f634928b",
   "metadata": {},
   "outputs": [],
   "source": [
    "#plot(sol)"
   ]
  },
  {
   "cell_type": "code",
   "execution_count": 63,
   "id": "3f35b3ec-7332-492a-8204-dd3966318c52",
   "metadata": {},
   "outputs": [
    {
     "data": {
      "text/plain": [
       "100001-element Array{Float64,1}:\n",
       " 1000.0\n",
       " 1002.0\n",
       "  859.0\n",
       " 1008.0\n",
       " 1001.0\n",
       "  863.0\n",
       "  933.0\n",
       "  900.0\n",
       "  822.0\n",
       "  836.0\n",
       "  875.0\n",
       "  804.0\n",
       "  879.0\n",
       "    ⋮\n",
       "  855.0\n",
       " 1063.0\n",
       "  938.0\n",
       "  942.0\n",
       "  844.0\n",
       " 1025.0\n",
       "  983.0\n",
       "  896.0\n",
       "  879.0\n",
       "  993.0\n",
       "  912.0\n",
       "  937.0"
      ]
     },
     "execution_count": 63,
     "metadata": {},
     "output_type": "execute_result"
    }
   ],
   "source": [
    "m1 = map(x -> x[1], sol.u)\n",
    "m2 = map(x -> x[2], sol.u)\n",
    "r = map(x -> x[3], sol.u)\n",
    "r1 = map(x -> x[4], sol.u)\n",
    "p1 = map(x -> x[5], sol.u)\n",
    "r2 = map(x -> x[6], sol.u)\n",
    "p2 = map(x -> x[7], sol.u)"
   ]
  },
  {
   "cell_type": "code",
   "execution_count": 64,
   "id": "2f1da81d-bac4-4659-9044-1aa68bf087b5",
   "metadata": {},
   "outputs": [
    {
     "data": {
      "text/plain": [
       "909.8792112078879"
      ]
     },
     "execution_count": 64,
     "metadata": {},
     "output_type": "execute_result"
    }
   ],
   "source": [
    "mean(p1)"
   ]
  },
  {
   "cell_type": "code",
   "execution_count": 65,
   "id": "b60777b0-11ba-4c0b-b9f1-ae3ae3916fc6",
   "metadata": {},
   "outputs": [
    {
     "data": {
      "text/plain": [
       "909.0909090909089"
      ]
     },
     "execution_count": 65,
     "metadata": {},
     "output_type": "execute_result"
    }
   ],
   "source": [
    "k1 * k3 * k5 * k7 / (k2*k4* k6* k8 + k2* k5* k6* k8)"
   ]
  },
  {
   "cell_type": "code",
   "execution_count": null,
   "id": "d7b9d166-81ea-4318-8f8c-7f3128f43ac1",
   "metadata": {},
   "outputs": [],
   "source": []
  }
 ],
 "metadata": {
  "kernelspec": {
   "display_name": "Julia 1.5.3",
   "language": "julia",
   "name": "julia-1.5"
  },
  "language_info": {
   "file_extension": ".jl",
   "mimetype": "application/julia",
   "name": "julia",
   "version": "1.5.3"
  }
 },
 "nbformat": 4,
 "nbformat_minor": 5
}
