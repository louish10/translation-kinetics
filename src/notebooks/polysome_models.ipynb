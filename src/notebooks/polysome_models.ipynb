{
 "cells": [
  {
   "cell_type": "code",
   "execution_count": 66,
   "id": "9cb07ceb-0779-4140-b87a-2705b5e63f26",
   "metadata": {},
   "outputs": [
    {
     "name": "stderr",
     "output_type": "stream",
     "text": [
      "WARNING: replacing module PolysomeModelA.\n",
      "WARNING: replacing module PolysomeModelB.\n",
      "WARNING: replacing module PolysomeModelC.\n"
     ]
    },
    {
     "data": {
      "text/plain": [
       "Main.PolysomeModelC"
      ]
     },
     "execution_count": 66,
     "metadata": {},
     "output_type": "execute_result"
    }
   ],
   "source": [
    "using Catalyst, DifferentialEquations, Plots, Statistics, LaTeXStrings\n",
    "include(\"../polysome_models.jl\")"
   ]
  },
  {
   "cell_type": "markdown",
   "id": "00a8498c-1399-4d2e-bbd0-25f6c16a42c2",
   "metadata": {},
   "source": [
    "### Model A"
   ]
  },
  {
   "cell_type": "code",
   "execution_count": 4,
   "id": "ac1cafdf-14e7-42f0-b6e7-275712b778a4",
   "metadata": {},
   "outputs": [
    {
     "data": {
      "text/latex": [
       "\\begin{align}\n",
       "\\require{mhchem}\n",
       "\\ce{ \\varnothing &<=>[k1][k2] m1}\\\\\n",
       "\\ce{ \\varnothing &<=>[k1p][k2p] m2}\\\\\n",
       "\\ce{ \\varnothing &<=>[k7][k8] r}\\\\\n",
       "\\ce{ m1 + r &<=>[k3][k4] r1}\\\\\n",
       "\\ce{ r1 &->[k5] m1 + r + p1}\\\\\n",
       "\\ce{ m2 + r &<=>[k3p][k4p] r2}\\\\\n",
       "\\ce{ r2 &->[k5p] m2 + r + p2}\\\\\n",
       "\\ce{ p1 &->[k6] \\varnothing}\\\\\n",
       "\\ce{ p2 &->[k6p] \\varnothing}\n",
       "\\end{align}\n"
      ],
      "text/plain": [
       "\u001b[0m\u001b[1mModel ##ReactionSystem#253 with 14 equations\u001b[22m\n",
       "\u001b[0m\u001b[1mStates (7):\u001b[22m\n",
       "  m1(t)\n",
       "  m2(t)\n",
       "  r(t)\n",
       "  r1(t)\n",
       "  p1(t)\n",
       "  r2(t)\n",
       "⋮\n",
       "\u001b[0m\u001b[1mParameters (14):\u001b[22m\n",
       "  k1\n",
       "  k2\n",
       "  k1p\n",
       "  k2p\n",
       "  k7\n",
       "  k8\n",
       "⋮"
      ]
     },
     "execution_count": 4,
     "metadata": {},
     "output_type": "execute_result"
    }
   ],
   "source": [
    "model_a = @reaction_network begin\n",
    "        k1, 0-->m1\n",
    "        k2, m1-->0\n",
    "        k1p, 0-->m2\n",
    "        k2p, m2-->0\n",
    "        k7, 0-->r\n",
    "        k8, r-->0\n",
    "        k3, m1+r-->r1\n",
    "        k4, r1-->m1+r\n",
    "        k5, r1-->m1+r+p1\n",
    "        k3p, m2+r-->r2\n",
    "        k4p, r2-->m2+r\n",
    "        k5p, r2-->m2+r+p2\n",
    "        k6, p1-->0\n",
    "        k6p, p2-->0\n",
    "end k1 k2 k1p k2p k7 k8 k3 k4 k5 k3p k4p k5p k6 k6p"
   ]
  },
  {
   "cell_type": "code",
   "execution_count": 24,
   "id": "0f38da82-51d4-4217-a379-59e354d6ddaf",
   "metadata": {},
   "outputs": [
    {
     "data": {
      "text/plain": [
       "retcode: Default\n",
       "Interpolation: Piecewise constant interpolation\n",
       "t: 50001-element Array{Float64,1}:\n",
       "    0.0\n",
       "  100.0\n",
       "  200.0\n",
       "  300.0\n",
       "  400.0\n",
       "  500.0\n",
       "  600.0\n",
       "  700.0\n",
       "  800.0\n",
       "  900.0\n",
       " 1000.0\n",
       " 1100.0\n",
       " 1200.0\n",
       "    ⋮\n",
       "    4.9989e6\n",
       "    4.999e6\n",
       "    4.9991e6\n",
       "    4.9992e6\n",
       "    4.9993e6\n",
       "    4.9994e6\n",
       "    4.9995e6\n",
       "    4.9996e6\n",
       "    4.9997e6\n",
       "    4.9998e6\n",
       "    4.9999e6\n",
       "    5.0e6\n",
       "u: 50001-element Array{Array{Float64,1},1}:\n",
       " [10.0, 10.0, 10.0, 100.0, 1000.0, 100.0, 1000.0]\n",
       " [12.0, 15.0, 10.0, 92.0, 1011.0, 95.0, 943.0]\n",
       " [17.0, 7.0, 12.0, 100.0, 1070.0, 91.0, 907.0]\n",
       " [9.0, 8.0, 5.0, 113.0, 1125.0, 109.0, 932.0]\n",
       " [9.0, 14.0, 12.0, 111.0, 1166.0, 93.0, 972.0]\n",
       " [14.0, 10.0, 13.0, 114.0, 1177.0, 95.0, 936.0]\n",
       " [15.0, 12.0, 2.0, 111.0, 1138.0, 93.0, 879.0]\n",
       " [8.0, 7.0, 9.0, 97.0, 954.0, 96.0, 898.0]\n",
       " [9.0, 7.0, 5.0, 114.0, 1057.0, 94.0, 929.0]\n",
       " [8.0, 15.0, 9.0, 107.0, 955.0, 96.0, 999.0]\n",
       " [10.0, 11.0, 8.0, 91.0, 906.0, 92.0, 953.0]\n",
       " [13.0, 6.0, 9.0, 83.0, 901.0, 91.0, 858.0]\n",
       " [14.0, 12.0, 5.0, 102.0, 949.0, 81.0, 812.0]\n",
       " ⋮\n",
       " [8.0, 12.0, 10.0, 79.0, 820.0, 76.0, 774.0]\n",
       " [2.0, 9.0, 6.0, 76.0, 680.0, 74.0, 759.0]\n",
       " [14.0, 8.0, 8.0, 64.0, 658.0, 74.0, 754.0]\n",
       " [14.0, 7.0, 10.0, 77.0, 828.0, 80.0, 774.0]\n",
       " [8.0, 12.0, 12.0, 80.0, 810.0, 73.0, 772.0]\n",
       " [11.0, 5.0, 13.0, 86.0, 851.0, 96.0, 921.0]\n",
       " [9.0, 10.0, 7.0, 92.0, 916.0, 79.0, 856.0]\n",
       " [7.0, 9.0, 10.0, 98.0, 971.0, 82.0, 840.0]\n",
       " [9.0, 12.0, 13.0, 87.0, 852.0, 81.0, 846.0]\n",
       " [12.0, 10.0, 4.0, 81.0, 863.0, 78.0, 836.0]\n",
       " [8.0, 7.0, 14.0, 69.0, 746.0, 78.0, 750.0]\n",
       " [5.0, 13.0, 5.0, 92.0, 863.0, 75.0, 801.0]"
      ]
     },
     "execution_count": 24,
     "metadata": {},
     "output_type": "execute_result"
    }
   ],
   "source": [
    "k1 = 1\n",
    "k2 = .1\n",
    "k1p = 1.\n",
    "k2p = .1\n",
    "k7 = 1.\n",
    "k8 = .1\n",
    "k3 = 1\n",
    "k4 = .1\n",
    "k5 = 1\n",
    "k3p = 1.\n",
    "k4p = .1\n",
    "k5p = 1.\n",
    "k6 = .1\n",
    "k6p = .1\n",
    "\n",
    "prob = DiscreteProblem(model_a, [10., 10., 10., 100., 1000., 100., 1000.], (0, 5000000.), [k1, k2, k1p, k2p, k7, k8, k3, k4, k5, k3p, k4p, k5p, k6, k6p])\n",
    "jump_prob = JumpProblem(model_a, prob, Direct(), save_positions=(false, false))\n",
    "\n",
    "sol = solve(jump_prob, SSAStepper(), saveat=100.0)"
   ]
  },
  {
   "cell_type": "code",
   "execution_count": 25,
   "id": "f3e49068-f6a3-4b22-9a92-f7c0f634928b",
   "metadata": {},
   "outputs": [],
   "source": [
    "#plot(sol)"
   ]
  },
  {
   "cell_type": "code",
   "execution_count": 26,
   "id": "3f35b3ec-7332-492a-8204-dd3966318c52",
   "metadata": {},
   "outputs": [
    {
     "data": {
      "text/plain": [
       "50001-element Array{Float64,1}:\n",
       " 1000.0\n",
       "  943.0\n",
       "  907.0\n",
       "  932.0\n",
       "  972.0\n",
       "  936.0\n",
       "  879.0\n",
       "  898.0\n",
       "  929.0\n",
       "  999.0\n",
       "  953.0\n",
       "  858.0\n",
       "  812.0\n",
       "    ⋮\n",
       "  774.0\n",
       "  759.0\n",
       "  754.0\n",
       "  774.0\n",
       "  772.0\n",
       "  921.0\n",
       "  856.0\n",
       "  840.0\n",
       "  846.0\n",
       "  836.0\n",
       "  750.0\n",
       "  801.0"
      ]
     },
     "execution_count": 26,
     "metadata": {},
     "output_type": "execute_result"
    }
   ],
   "source": [
    "m1 = map(x -> x[1], sol.u)\n",
    "m2 = map(x -> x[2], sol.u)\n",
    "r = map(x -> x[3], sol.u)\n",
    "r1 = map(x -> x[4], sol.u)\n",
    "p1 = map(x -> x[5], sol.u)\n",
    "r2 = map(x -> x[6], sol.u)\n",
    "p2 = map(x -> x[7], sol.u)"
   ]
  },
  {
   "cell_type": "code",
   "execution_count": 27,
   "id": "2f1da81d-bac4-4659-9044-1aa68bf087b5",
   "metadata": {},
   "outputs": [
    {
     "data": {
      "text/plain": [
       "909.0002599948001"
      ]
     },
     "execution_count": 27,
     "metadata": {},
     "output_type": "execute_result"
    }
   ],
   "source": [
    "mean(p1)"
   ]
  },
  {
   "cell_type": "code",
   "execution_count": 28,
   "id": "b60777b0-11ba-4c0b-b9f1-ae3ae3916fc6",
   "metadata": {},
   "outputs": [
    {
     "data": {
      "text/plain": [
       "909.0909090909089"
      ]
     },
     "execution_count": 28,
     "metadata": {},
     "output_type": "execute_result"
    }
   ],
   "source": [
    "k1 * k3 * k5 * k7 / (k2*k4* k6* k8 + k2* k5* k6* k8)"
   ]
  },
  {
   "cell_type": "code",
   "execution_count": 29,
   "id": "d7b9d166-81ea-4318-8f8c-7f3128f43ac1",
   "metadata": {},
   "outputs": [
    {
     "name": "stdout",
     "output_type": "stream",
     "text": [
      "m1\n",
      "Prediction: 10.0\n",
      "Simulation: 10.00879982400352"
     ]
    }
   ],
   "source": [
    "print(\"m1\\nPrediction: $(PolysomeModelA.m1(k1, k2))\\nSimulation: $(mean(m1))\")"
   ]
  },
  {
   "cell_type": "code",
   "execution_count": 30,
   "id": "7c5691fc-c935-4f4e-8e44-dc303f1f4edc",
   "metadata": {},
   "outputs": [
    {
     "name": "stdout",
     "output_type": "stream",
     "text": [
      "m2\n",
      "Prediction: 10.0\n",
      "Simulation: 10.009459810803785"
     ]
    }
   ],
   "source": [
    "print(\"m2\\nPrediction: $(PolysomeModelA.m2(k1p, k2p))\\nSimulation: $(mean(m2))\")"
   ]
  },
  {
   "cell_type": "code",
   "execution_count": 31,
   "id": "427f1ad7-27fd-44ac-86bc-7b95e7eb47d6",
   "metadata": {},
   "outputs": [
    {
     "name": "stdout",
     "output_type": "stream",
     "text": [
      "r\n",
      "Prediction: 10.0\n",
      "Simulation: 10.01839963200736"
     ]
    }
   ],
   "source": [
    "print(\"r\\nPrediction: $(PolysomeModelA.r(k7, k8))\\nSimulation: $(mean(r))\")"
   ]
  },
  {
   "cell_type": "code",
   "execution_count": 32,
   "id": "f7be4f4e-dbb1-4afa-b5d1-570bfc187ef3",
   "metadata": {},
   "outputs": [
    {
     "name": "stdout",
     "output_type": "stream",
     "text": [
      "r1\n",
      "Prediction: 90.90909090909089\n",
      "Simulation: 90.89254214915702"
     ]
    }
   ],
   "source": [
    "print(\"r1\\nPrediction: $(PolysomeModelA.r1(k1, k2, k3, k4, k5, k6, k7, k8))\\nSimulation: $(mean(r1))\")"
   ]
  },
  {
   "cell_type": "code",
   "execution_count": 33,
   "id": "921a7740-a63e-4a7a-b435-8f38ee02b1bb",
   "metadata": {},
   "outputs": [
    {
     "name": "stdout",
     "output_type": "stream",
     "text": [
      "r2\n",
      "Prediction: 90.90909090909089\n",
      "Simulation: 90.99764004719906"
     ]
    }
   ],
   "source": [
    "print(\"r2\\nPrediction: $(PolysomeModelA.r2(k1p, k2p, k3p, k4p, k5p, k6p, k7, k8))\\nSimulation: $(mean(r2))\")"
   ]
  },
  {
   "cell_type": "code",
   "execution_count": 34,
   "id": "191137d1-847b-4941-913b-122be53b6151",
   "metadata": {},
   "outputs": [
    {
     "name": "stdout",
     "output_type": "stream",
     "text": [
      "p1\n",
      "Prediction: 909.0909090909089\n",
      "Simulation: 909.0002599948001"
     ]
    }
   ],
   "source": [
    "print(\"p1\\nPrediction: $(PolysomeModelA.p1(k1, k2, k3, k4, k5, k6, k7, k8))\\nSimulation: $(mean(p1))\")"
   ]
  },
  {
   "cell_type": "code",
   "execution_count": 35,
   "id": "047bbfc2-a678-4938-8e63-b006908b4616",
   "metadata": {},
   "outputs": [
    {
     "name": "stdout",
     "output_type": "stream",
     "text": [
      "p2\n",
      "Prediction: 909.0909090909089\n",
      "Simulation: 910.0876382472351"
     ]
    }
   ],
   "source": [
    "print(\"p2\\nPrediction: $(PolysomeModelA.p2(k1p, k2p, k3p, k4p, k5p, k6p, k7, k8))\\nSimulation: $(mean(p2))\")"
   ]
  },
  {
   "cell_type": "markdown",
   "id": "699ab229-1217-440c-87ac-037f8a694042",
   "metadata": {},
   "source": [
    "### Model B"
   ]
  },
  {
   "cell_type": "code",
   "execution_count": 32,
   "id": "6b33f063-a028-4afe-b561-61bbebf42c81",
   "metadata": {},
   "outputs": [
    {
     "data": {
      "text/latex": [
       "\\begin{align}\n",
       "\\require{mhchem}\n",
       "\\ce{ \\varnothing &<=>[k1][k2] m1}\\\\\n",
       "\\ce{ \\varnothing &<=>[k7][k8] r}\\\\\n",
       "\\ce{ m1 + r &<=>[k3][k4] r1}\\\\\n",
       "\\ce{ r1 &->[k5] m1 + r + p1}\\\\\n",
       "\\ce{ p1 &->[k6] \\varnothing}\n",
       "\\end{align}\n"
      ],
      "text/plain": [
       "\u001b[0m\u001b[1mModel ##ReactionSystem#258 with 8 equations\u001b[22m\n",
       "\u001b[0m\u001b[1mStates (4):\u001b[22m\n",
       "  m1(t)\n",
       "  r(t)\n",
       "  r1(t)\n",
       "  p1(t)\n",
       "\u001b[0m\u001b[1mParameters (8):\u001b[22m\n",
       "  k1\n",
       "  k2\n",
       "  k7\n",
       "  k8\n",
       "  k3\n",
       "  k4\n",
       "⋮"
      ]
     },
     "execution_count": 32,
     "metadata": {},
     "output_type": "execute_result"
    }
   ],
   "source": [
    "model_b = @reaction_network begin\n",
    "        k1, 0-->m1\n",
    "        k2, m1-->0\n",
    "        k7, 0-->r\n",
    "        k8, r-->0\n",
    "        k3, m1+r-->r1\n",
    "        k4, r1-->m1+r\n",
    "        k5, r1-->m1+r+p1\n",
    "        k6, p1-->0\n",
    "end k1 k2 k7 k8 k3 k4 k5 k6"
   ]
  },
  {
   "cell_type": "code",
   "execution_count": 3,
   "id": "b99d60ba-8654-4362-a561-9008b566fa55",
   "metadata": {},
   "outputs": [
    {
     "data": {
      "text/plain": [
       "retcode: Default\n",
       "Interpolation: Piecewise constant interpolation\n",
       "t: 50001-element Vector{Float64}:\n",
       "    0.0\n",
       "  100.0\n",
       "  200.0\n",
       "  300.0\n",
       "  400.0\n",
       "  500.0\n",
       "  600.0\n",
       "  700.0\n",
       "  800.0\n",
       "  900.0\n",
       " 1000.0\n",
       " 1100.0\n",
       " 1200.0\n",
       "    ⋮\n",
       "    4.9989e6\n",
       "    4.999e6\n",
       "    4.9991e6\n",
       "    4.9992e6\n",
       "    4.9993e6\n",
       "    4.9994e6\n",
       "    4.9995e6\n",
       "    4.9996e6\n",
       "    4.9997e6\n",
       "    4.9998e6\n",
       "    4.9999e6\n",
       "    5.0e6\n",
       "u: 50001-element Vector{Vector{Float64}}:\n",
       " [10.0, 10.0, 100.0, 1000.0]\n",
       " [11.0, 13.0, 87.0, 857.0]\n",
       " [14.0, 13.0, 94.0, 960.0]\n",
       " [9.0, 12.0, 89.0, 874.0]\n",
       " [16.0, 7.0, 93.0, 956.0]\n",
       " [17.0, 9.0, 91.0, 1003.0]\n",
       " [7.0, 9.0, 88.0, 856.0]\n",
       " [9.0, 11.0, 74.0, 743.0]\n",
       " [9.0, 4.0, 82.0, 752.0]\n",
       " [13.0, 4.0, 82.0, 810.0]\n",
       " [9.0, 10.0, 91.0, 884.0]\n",
       " [12.0, 8.0, 104.0, 990.0]\n",
       " [10.0, 12.0, 100.0, 1005.0]\n",
       " ⋮\n",
       " [15.0, 9.0, 94.0, 980.0]\n",
       " [10.0, 6.0, 97.0, 954.0]\n",
       " [15.0, 12.0, 98.0, 903.0]\n",
       " [12.0, 11.0, 101.0, 965.0]\n",
       " [11.0, 15.0, 104.0, 1040.0]\n",
       " [10.0, 13.0, 104.0, 1063.0]\n",
       " [7.0, 13.0, 102.0, 1011.0]\n",
       " [14.0, 12.0, 101.0, 1027.0]\n",
       " [15.0, 10.0, 103.0, 1060.0]\n",
       " [16.0, 14.0, 101.0, 1017.0]\n",
       " [10.0, 10.0, 106.0, 1073.0]\n",
       " [13.0, 9.0, 92.0, 903.0]"
      ]
     },
     "execution_count": 3,
     "metadata": {},
     "output_type": "execute_result"
    }
   ],
   "source": [
    "k1 = 1\n",
    "k2 = .1\n",
    "k7 = 1.\n",
    "k8 = .1\n",
    "k3 = 1\n",
    "k4 = .1\n",
    "k5 = 1\n",
    "k6 = .1\n",
    "\n",
    "prob = DiscreteProblem(model_b, [10., 10., 100., 1000.], (0, 5000000.), [k1, k2, k7, k8, k3, k4, k5, k6])\n",
    "jump_prob = JumpProblem(model_b, prob, Direct(), save_positions=(false, false))\n",
    "\n",
    "sol = solve(jump_prob, SSAStepper(), saveat=100.0)"
   ]
  },
  {
   "cell_type": "code",
   "execution_count": 4,
   "id": "c4cd3c37-21a0-4984-8464-726cd02803ff",
   "metadata": {},
   "outputs": [
    {
     "data": {
      "text/plain": [
       "50001-element Vector{Float64}:\n",
       " 1000.0\n",
       "  857.0\n",
       "  960.0\n",
       "  874.0\n",
       "  956.0\n",
       " 1003.0\n",
       "  856.0\n",
       "  743.0\n",
       "  752.0\n",
       "  810.0\n",
       "  884.0\n",
       "  990.0\n",
       " 1005.0\n",
       "    ⋮\n",
       "  980.0\n",
       "  954.0\n",
       "  903.0\n",
       "  965.0\n",
       " 1040.0\n",
       " 1063.0\n",
       " 1011.0\n",
       " 1027.0\n",
       " 1060.0\n",
       " 1017.0\n",
       " 1073.0\n",
       "  903.0"
      ]
     },
     "execution_count": 4,
     "metadata": {},
     "output_type": "execute_result"
    }
   ],
   "source": [
    "m1 = map(x -> x[1], sol.u)\n",
    "r = map(x -> x[2], sol.u)\n",
    "r1 = map(x -> x[3], sol.u)\n",
    "p1 = map(x -> x[4], sol.u)"
   ]
  },
  {
   "cell_type": "code",
   "execution_count": 10,
   "id": "67f61f77-74e2-4397-8f06-4d0dc085760b",
   "metadata": {},
   "outputs": [
    {
     "name": "stdout",
     "output_type": "stream",
     "text": [
      "m1\n",
      "Prediction: 10.0\n",
      "Simulation: 9.977540449191016"
     ]
    }
   ],
   "source": [
    "print(\"m1\\nPrediction: $(PolysomeModelB.m1(k1, k2))\\nSimulation: $(mean(m1))\")"
   ]
  },
  {
   "cell_type": "code",
   "execution_count": 11,
   "id": "c4a452bb-fa21-425e-90ea-0f9d80ef4b92",
   "metadata": {},
   "outputs": [
    {
     "name": "stdout",
     "output_type": "stream",
     "text": [
      "r\n",
      "Prediction: 10.0\n",
      "Simulation: 10.020939581208376"
     ]
    }
   ],
   "source": [
    "print(\"r\\nPrediction: $(PolysomeModelB.r(k7, k8))\\nSimulation: $(mean(r))\")"
   ]
  },
  {
   "cell_type": "code",
   "execution_count": 12,
   "id": "b4305690-e29e-471a-b8b3-352a21ccfa94",
   "metadata": {},
   "outputs": [
    {
     "name": "stdout",
     "output_type": "stream",
     "text": [
      "p1\n",
      "Prediction: 10.0\n",
      "Simulation: 908.7533249335013"
     ]
    }
   ],
   "source": [
    "print(\"p1\\nPrediction: $(PolysomeModelB.m1(k1, k2))\\nSimulation: $(mean(p1))\")"
   ]
  },
  {
   "cell_type": "code",
   "execution_count": 13,
   "id": "14661d1b-8375-4680-9598-4363e267e7fb",
   "metadata": {},
   "outputs": [
    {
     "name": "stdout",
     "output_type": "stream",
     "text": [
      "r1\n",
      "Prediction: 90.90909090909089\n",
      "Simulation: 90.83698326033479"
     ]
    }
   ],
   "source": [
    "print(\"r1\\nPrediction: $(PolysomeModelB.r1(k1, k2, k3, k4, k5, k6, k7, k8))\\nSimulation: $(mean(r1))\")"
   ]
  },
  {
   "cell_type": "code",
   "execution_count": 14,
   "id": "7246fc28-02fb-4c31-ab93-d05e4f13f002",
   "metadata": {},
   "outputs": [
    {
     "name": "stdout",
     "output_type": "stream",
     "text": [
      "p1\n",
      "Prediction: 909.0909090909089\n",
      "Simulation: 908.7533249335013"
     ]
    }
   ],
   "source": [
    "print(\"p1\\nPrediction: $(PolysomeModelB.p1(k1, k2, k3, k4, k5, k6, k7, k8))\\nSimulation: $(mean(p1))\")"
   ]
  },
  {
   "cell_type": "markdown",
   "id": "91f8e79f-16e7-478e-85d2-0801902dec83",
   "metadata": {},
   "source": [
    "### Model C"
   ]
  },
  {
   "cell_type": "code",
   "execution_count": 33,
   "id": "4c3ad68f-c5bd-42cc-935b-ea632854cdda",
   "metadata": {},
   "outputs": [
    {
     "data": {
      "text/latex": [
       "\\begin{align}\n",
       "\\require{mhchem}\n",
       "\\ce{ \\varnothing &<=>[k1][k2] m1}\\\\\n",
       "\\ce{ \\varnothing &<=>[k7][k8] r}\\\\\n",
       "\\ce{ m1 + r &->[k3] r + m1 + p1}\\\\\n",
       "\\ce{ p1 &->[k6] \\varnothing}\n",
       "\\end{align}\n"
      ],
      "text/plain": [
       "\u001b[0m\u001b[1mModel ##ReactionSystem#259 with 6 equations\u001b[22m\n",
       "\u001b[0m\u001b[1mStates (3):\u001b[22m\n",
       "  m1(t)\n",
       "  r(t)\n",
       "  p1(t)\n",
       "\u001b[0m\u001b[1mParameters (6):\u001b[22m\n",
       "  k1\n",
       "  k2\n",
       "  k7\n",
       "  k8\n",
       "  k3\n",
       "  k6"
      ]
     },
     "execution_count": 33,
     "metadata": {},
     "output_type": "execute_result"
    }
   ],
   "source": [
    "model_c = @reaction_network begin\n",
    "        k1, 0-->m1\n",
    "        k2, m1-->0\n",
    "        k7, 0-->r\n",
    "        k8, r-->0\n",
    "        k3, m1+r-->r + m1 + p1\n",
    "        k6, p1-->0\n",
    "end k1 k2 k7 k8 k3 k6"
   ]
  },
  {
   "cell_type": "code",
   "execution_count": 3,
   "id": "11844d58-ed7e-472f-b72d-1d17421eaa3b",
   "metadata": {},
   "outputs": [
    {
     "data": {
      "text/plain": [
       "retcode: Default\n",
       "Interpolation: Piecewise constant interpolation\n",
       "t: 50001-element Vector{Float64}:\n",
       "    0.0\n",
       "  100.0\n",
       "  200.0\n",
       "  300.0\n",
       "  400.0\n",
       "  500.0\n",
       "  600.0\n",
       "  700.0\n",
       "  800.0\n",
       "  900.0\n",
       " 1000.0\n",
       " 1100.0\n",
       " 1200.0\n",
       "    ⋮\n",
       "    4.9989e6\n",
       "    4.999e6\n",
       "    4.9991e6\n",
       "    4.9992e6\n",
       "    4.9993e6\n",
       "    4.9994e6\n",
       "    4.9995e6\n",
       "    4.9996e6\n",
       "    4.9997e6\n",
       "    4.9998e6\n",
       "    4.9999e6\n",
       "    5.0e6\n",
       "u: 50001-element Vector{Vector{Float64}}:\n",
       " [10.0, 10.0, 1000.0]\n",
       " [9.0, 14.0, 1135.0]\n",
       " [13.0, 13.0, 1889.0]\n",
       " [10.0, 10.0, 1236.0]\n",
       " [7.0, 10.0, 1030.0]\n",
       " [9.0, 13.0, 850.0]\n",
       " [9.0, 7.0, 855.0]\n",
       " [9.0, 10.0, 748.0]\n",
       " [5.0, 13.0, 641.0]\n",
       " [7.0, 5.0, 460.0]\n",
       " [8.0, 6.0, 843.0]\n",
       " [17.0, 14.0, 1799.0]\n",
       " [6.0, 11.0, 981.0]\n",
       " ⋮\n",
       " [5.0, 8.0, 510.0]\n",
       " [9.0, 9.0, 873.0]\n",
       " [6.0, 18.0, 1325.0]\n",
       " [5.0, 11.0, 660.0]\n",
       " [4.0, 9.0, 466.0]\n",
       " [11.0, 11.0, 1297.0]\n",
       " [9.0, 10.0, 541.0]\n",
       " [15.0, 10.0, 992.0]\n",
       " [9.0, 8.0, 827.0]\n",
       " [6.0, 16.0, 850.0]\n",
       " [13.0, 8.0, 900.0]\n",
       " [10.0, 13.0, 757.0]"
      ]
     },
     "execution_count": 3,
     "metadata": {},
     "output_type": "execute_result"
    }
   ],
   "source": [
    "k1 = 1\n",
    "k2 = .1\n",
    "k7 = 1.\n",
    "k8 = .1\n",
    "k3 = 1\n",
    "k6 = .1\n",
    "\n",
    "prob = DiscreteProblem(model_c, [10., 10., 1000.], (0, 5000000.), [k1, k2, k7, k8, k3, k6])\n",
    "jump_prob = JumpProblem(model_c, prob, Direct(), save_positions=(false, false))\n",
    "\n",
    "sol = solve(jump_prob, SSAStepper(), saveat=100.0)"
   ]
  },
  {
   "cell_type": "code",
   "execution_count": 4,
   "id": "277f2c12-b81e-4d0d-88da-5f2ca6353ec9",
   "metadata": {},
   "outputs": [
    {
     "data": {
      "text/plain": [
       "50001-element Vector{Float64}:\n",
       " 1000.0\n",
       " 1135.0\n",
       " 1889.0\n",
       " 1236.0\n",
       " 1030.0\n",
       "  850.0\n",
       "  855.0\n",
       "  748.0\n",
       "  641.0\n",
       "  460.0\n",
       "  843.0\n",
       " 1799.0\n",
       "  981.0\n",
       "    ⋮\n",
       "  510.0\n",
       "  873.0\n",
       " 1325.0\n",
       "  660.0\n",
       "  466.0\n",
       " 1297.0\n",
       "  541.0\n",
       "  992.0\n",
       "  827.0\n",
       "  850.0\n",
       "  900.0\n",
       "  757.0"
      ]
     },
     "execution_count": 4,
     "metadata": {},
     "output_type": "execute_result"
    }
   ],
   "source": [
    "m1 = map(x -> x[1], sol.u)\n",
    "r = map(x -> x[2], sol.u)\n",
    "p1 = map(x -> x[3], sol.u)"
   ]
  },
  {
   "cell_type": "code",
   "execution_count": 11,
   "id": "6f7936f7-843a-4e9a-8537-09201dd6faf7",
   "metadata": {},
   "outputs": [
    {
     "name": "stdout",
     "output_type": "stream",
     "text": [
      "m1\n",
      "Prediction: 10.0\n",
      "Simulation: 10.011279774404512"
     ]
    }
   ],
   "source": [
    "print(\"m1\\nPrediction: $(PolysomeModelC.m1(k1, k2))\\nSimulation: $(mean(m1))\")"
   ]
  },
  {
   "cell_type": "code",
   "execution_count": 12,
   "id": "088e0ee0-dbcd-450e-945d-94019d2910a6",
   "metadata": {},
   "outputs": [
    {
     "name": "stdout",
     "output_type": "stream",
     "text": [
      "r\n",
      "Prediction: 10.0\n",
      "Simulation: 9.99160016799664"
     ]
    }
   ],
   "source": [
    "print(\"r\\nPrediction: $(PolysomeModelC.r(k7, k8))\\nSimulation: $(mean(r))\")"
   ]
  },
  {
   "cell_type": "code",
   "execution_count": 13,
   "id": "1368a5ca-c8d6-4cb3-be40-ee605350802a",
   "metadata": {},
   "outputs": [
    {
     "name": "stdout",
     "output_type": "stream",
     "text": [
      "p1\n",
      "Prediction: 999.9999999999998\n",
      "Simulation: 999.6663866722665"
     ]
    }
   ],
   "source": [
    "print(\"p1\\nPrediction: $(PolysomeModelC.p1(k1, k2, k3, k6, k7, k8))\\nSimulation: $(mean(p1))\")"
   ]
  },
  {
   "cell_type": "code",
   "execution_count": 14,
   "id": "4eed3038-9543-4d36-98a9-7f2f48e0037f",
   "metadata": {},
   "outputs": [
    {
     "name": "stdout",
     "output_type": "stream",
     "text": [
      "m1\n",
      "Prediction: 10.0\n",
      "Simulation: 9.976272764144717"
     ]
    }
   ],
   "source": [
    "print(\"m1\\nPrediction: $(PolysomeModelC.m1_var(k1, k2))\\nSimulation: $(var(m1))\")"
   ]
  },
  {
   "cell_type": "code",
   "execution_count": 15,
   "id": "80b472ae-fc78-412e-ac46-042989f7d3f9",
   "metadata": {},
   "outputs": [
    {
     "name": "stdout",
     "output_type": "stream",
     "text": [
      "r\n",
      "Prediction: 10.0\n",
      "Simulation: 10.07720944141117"
     ]
    }
   ],
   "source": [
    "print(\"r\\nPrediction: $(PolysomeModelC.r_var(k7, k8))\\nSimulation: $(var(r))\")"
   ]
  },
  {
   "cell_type": "code",
   "execution_count": 20,
   "id": "519c9300-8186-49ce-ace4-f473afae24bb",
   "metadata": {},
   "outputs": [
    {
     "name": "stdout",
     "output_type": "stream",
     "text": [
      "p1\n",
      "Prediction: 100999.99999999996\n",
      "Simulation: 104224.7911599216"
     ]
    }
   ],
   "source": [
    "print(\"p1\\nPrediction: $(PolysomeModelC.p1_var(k1, k2, k3, k6, k7, k8))\\nSimulation: $(var(p1))\")"
   ]
  },
  {
   "cell_type": "markdown",
   "id": "e000211a-bf63-4bde-a5d9-2322fb6caf5f",
   "metadata": {},
   "source": [
    "### Model D"
   ]
  },
  {
   "cell_type": "code",
   "execution_count": 48,
   "id": "7c6da1b2-162c-4c46-a167-e5408a3e48bc",
   "metadata": {},
   "outputs": [
    {
     "data": {
      "text/latex": [
       "\\begin{align}\n",
       "\\require{mhchem}\n",
       "\\ce{ \\varnothing &<=>[k1][k2] m1}\\\\\n",
       "\\ce{ \\varnothing &<=>[k7][k8] r}\\\\\n",
       "\\ce{ m1 + r &<=>[k3][k4] r1}\\\\\n",
       "\\ce{ r1 &->[k5] m1 + r + p1}\\\\\n",
       "\\ce{ r1 + r &<=>[k3p][k4p] rr1}\\\\\n",
       "\\ce{ rr1 &->[k5p] r1 + r + p1}\\\\\n",
       "\\ce{ p1 &->[k6] \\varnothing}\n",
       "\\end{align}\n"
      ],
      "text/plain": [
       "\u001b[0m\u001b[1mModel ##ReactionSystem#262 with 11 equations\u001b[22m\n",
       "\u001b[0m\u001b[1mStates (5):\u001b[22m\n",
       "  m1(t)\n",
       "  r(t)\n",
       "  r1(t)\n",
       "  p1(t)\n",
       "  rr1(t)\n",
       "\u001b[0m\u001b[1mParameters (11):\u001b[22m\n",
       "  k1\n",
       "  k2\n",
       "  k7\n",
       "  k8\n",
       "  k3\n",
       "  k4\n",
       "⋮"
      ]
     },
     "execution_count": 48,
     "metadata": {},
     "output_type": "execute_result"
    }
   ],
   "source": [
    "model_d = @reaction_network begin\n",
    "        k1, 0-->m1\n",
    "        k2, m1-->0\n",
    "        k7, 0-->r\n",
    "        k8, r-->0\n",
    "        k3, m1+r-->r1\n",
    "        k4, r1-->m1+r\n",
    "        k5, r1-->m1+r+p1\n",
    "        k3p, r1+r-->rr1\n",
    "        k4p, rr1-->r1+r\n",
    "        k5p, rr1-->r1+r+p1\n",
    "        k6, p1-->0\n",
    "end k1 k2 k7 k8 k3 k4 k5 k3p k4p k5p k6"
   ]
  },
  {
   "cell_type": "code",
   "execution_count": 52,
   "id": "3e0e94ca-b8e2-4a82-b0e5-64fe17f67b21",
   "metadata": {},
   "outputs": [
    {
     "data": {
      "text/plain": [
       "retcode: Default\n",
       "Interpolation: Piecewise constant interpolation\n",
       "t: 5001-element Array{Float64,1}:\n",
       "      0.0\n",
       "    100.0\n",
       "    200.0\n",
       "    300.0\n",
       "    400.0\n",
       "    500.0\n",
       "    600.0\n",
       "    700.0\n",
       "    800.0\n",
       "    900.0\n",
       "   1000.0\n",
       "   1100.0\n",
       "   1200.0\n",
       "      ⋮\n",
       " 498900.0\n",
       " 499000.0\n",
       " 499100.0\n",
       " 499200.0\n",
       " 499300.0\n",
       " 499400.0\n",
       " 499500.0\n",
       " 499600.0\n",
       " 499700.0\n",
       " 499800.0\n",
       " 499900.0\n",
       " 500000.0\n",
       "u: 5001-element Array{Array{Float64,1},1}:\n",
       " [10.0, 10.0, 100.0, 1000.0, 100.0]\n",
       " [3.0, 5.0, 43.0, 2062.0, 159.0]\n",
       " [4.0, 1.0, 45.0, 2135.0, 185.0]\n",
       " [12.0, 5.0, 40.0, 2489.0, 208.0]\n",
       " [4.0, 8.0, 39.0, 2732.0, 232.0]\n",
       " [5.0, 11.0, 47.0, 2876.0, 233.0]\n",
       " [1.0, 11.0, 39.0, 2849.0, 247.0]\n",
       " [11.0, 10.0, 47.0, 3132.0, 265.0]\n",
       " [10.0, 0.0, 58.0, 3313.0, 279.0]\n",
       " [18.0, 7.0, 41.0, 3371.0, 304.0]\n",
       " [6.0, 4.0, 49.0, 3716.0, 325.0]\n",
       " [10.0, 2.0, 43.0, 3817.0, 342.0]\n",
       " [10.0, 8.0, 56.0, 4170.0, 357.0]\n",
       " ⋮\n",
       " [3.0, 9.0, 86.0, 9126.0, 812.0]\n",
       " [8.0, 11.0, 83.0, 8930.0, 811.0]\n",
       " [16.0, 13.0, 95.0, 9144.0, 806.0]\n",
       " [9.0, 11.0, 125.0, 9025.0, 785.0]\n",
       " [9.0, 8.0, 96.0, 9037.0, 804.0]\n",
       " [11.0, 10.0, 87.0, 9069.0, 806.0]\n",
       " [8.0, 10.0, 87.0, 9023.0, 810.0]\n",
       " [15.0, 9.0, 93.0, 9120.0, 809.0]\n",
       " [8.0, 5.0, 101.0, 8943.0, 814.0]\n",
       " [10.0, 7.0, 99.0, 9157.0, 826.0]\n",
       " [7.0, 8.0, 81.0, 9291.0, 844.0]\n",
       " [8.0, 10.0, 97.0, 9354.0, 843.0]"
      ]
     },
     "execution_count": 52,
     "metadata": {},
     "output_type": "execute_result"
    }
   ],
   "source": [
    "k1 = 1\n",
    "k2 = .1\n",
    "k7 = 1.\n",
    "k8 = .1\n",
    "k3 = 1\n",
    "k4 = .1\n",
    "k5 = 1\n",
    "k3p = 1\n",
    "k4p = .1\n",
    "k5p = 1\n",
    "k6 = .1\n",
    "\n",
    "prob = DiscreteProblem(model_d, [10., 10., 100., 1000., 100.], (0, 500000.), [k1, k2, k7, k8, k3, k4, k5, k3p, k4p, k5p, k6])\n",
    "jump_prob = JumpProblem(model_d, prob, Direct(), save_positions=(false, false))\n",
    "\n",
    "sol = solve(jump_prob, SSAStepper(), saveat=100.0)"
   ]
  },
  {
   "cell_type": "code",
   "execution_count": 53,
   "id": "44da19d0-e11a-485e-b7f9-c1a7f8925ac5",
   "metadata": {},
   "outputs": [
    {
     "data": {
      "text/plain": [
       "5001-element Array{Float64,1}:\n",
       " 100.0\n",
       " 159.0\n",
       " 185.0\n",
       " 208.0\n",
       " 232.0\n",
       " 233.0\n",
       " 247.0\n",
       " 265.0\n",
       " 279.0\n",
       " 304.0\n",
       " 325.0\n",
       " 342.0\n",
       " 357.0\n",
       "   ⋮\n",
       " 812.0\n",
       " 811.0\n",
       " 806.0\n",
       " 785.0\n",
       " 804.0\n",
       " 806.0\n",
       " 810.0\n",
       " 809.0\n",
       " 814.0\n",
       " 826.0\n",
       " 844.0\n",
       " 843.0"
      ]
     },
     "execution_count": 53,
     "metadata": {},
     "output_type": "execute_result"
    }
   ],
   "source": [
    "m1 = map(x -> x[1], sol.u)\n",
    "r = map(x -> x[2], sol.u)\n",
    "r1 = map(x -> x[3], sol.u)\n",
    "p1 = map(x -> x[4], sol.u)\n",
    "rr1 = map(x -> x[5], sol.u)"
   ]
  },
  {
   "cell_type": "code",
   "execution_count": 56,
   "id": "586f7f24-cd7b-463f-812d-89696db16ec6",
   "metadata": {},
   "outputs": [
    {
     "name": "stdout",
     "output_type": "stream",
     "text": [
      "816.8410317936413\n"
     ]
    }
   ],
   "source": [
    "println(mean(rr1))"
   ]
  },
  {
   "cell_type": "markdown",
   "id": "fc458e55-2851-4788-876d-870b2cf2de64",
   "metadata": {},
   "source": [
    "### Comparison of models"
   ]
  },
  {
   "cell_type": "code",
   "execution_count": 27,
   "id": "d67b0661-70b7-4794-a206-df82323bd908",
   "metadata": {},
   "outputs": [
    {
     "data": {
      "text/plain": [
       "1.1"
      ]
     },
     "execution_count": 27,
     "metadata": {},
     "output_type": "execute_result"
    }
   ],
   "source": [
    "k1 = 1\n",
    "k2 = .1\n",
    "k7 = 1.\n",
    "k8 = .1\n",
    "k3 = 1\n",
    "k4 = .1\n",
    "k5 = 1\n",
    "k6 = .1\n",
    "\n",
    "k3b = (k4+k5)/(k3*k5)"
   ]
  },
  {
   "cell_type": "code",
   "execution_count": 45,
   "id": "36214fa6-a0c3-4890-aa68-a61a161c4705",
   "metadata": {},
   "outputs": [
    {
     "data": {
      "text/plain": [
       "999.9999999999998"
      ]
     },
     "execution_count": 45,
     "metadata": {},
     "output_type": "execute_result"
    }
   ],
   "source": [
    "PolysomeModelC.p1(k1, k2, k3, k6, k7, k8)"
   ]
  },
  {
   "cell_type": "code",
   "execution_count": 46,
   "id": "e5eed873-673f-448e-8904-0923839cef7e",
   "metadata": {},
   "outputs": [
    {
     "data": {
      "text/plain": [
       "999.9999999999998"
      ]
     },
     "execution_count": 46,
     "metadata": {},
     "output_type": "execute_result"
    }
   ],
   "source": [
    "PolysomeModelB.p1(k1, k2, k3b, k4, k5, k6, k7, k8)"
   ]
  },
  {
   "cell_type": "code",
   "execution_count": 47,
   "id": "021c762f-167a-4787-8979-4d390f32954a",
   "metadata": {},
   "outputs": [
    {
     "data": {
      "text/plain": [
       "10016.393442622948"
      ]
     },
     "execution_count": 47,
     "metadata": {},
     "output_type": "execute_result"
    }
   ],
   "source": [
    "PolysomeModelB.p1_var(k1, k2, k3b, k4, k5, k6, k7, k8)"
   ]
  },
  {
   "cell_type": "code",
   "execution_count": 48,
   "id": "e8f04077-cc32-43bc-a577-67a13a5864c6",
   "metadata": {},
   "outputs": [
    {
     "data": {
      "text/plain": [
       "100999.99999999996"
      ]
     },
     "execution_count": 48,
     "metadata": {},
     "output_type": "execute_result"
    }
   ],
   "source": [
    "PolysomeModelC.p1_var(k1, k2, k3, k6, k7, k8)"
   ]
  },
  {
   "cell_type": "code",
   "execution_count": 49,
   "id": "cc391fa8-b21e-43b8-88b9-b8e82596f517",
   "metadata": {},
   "outputs": [
    {
     "data": {
      "text/plain": [
       "50001-element Vector{Float64}:\n",
       " 1000.0\n",
       "  577.0\n",
       "  656.0\n",
       "  935.0\n",
       "  913.0\n",
       " 1193.0\n",
       " 1479.0\n",
       " 1046.0\n",
       "  978.0\n",
       "  969.0\n",
       " 1355.0\n",
       " 1096.0\n",
       "  593.0\n",
       "    ⋮\n",
       "  937.0\n",
       "  841.0\n",
       "  747.0\n",
       "  711.0\n",
       "  795.0\n",
       "  820.0\n",
       "  585.0\n",
       " 1838.0\n",
       "  715.0\n",
       "  818.0\n",
       "  844.0\n",
       " 2468.0"
      ]
     },
     "execution_count": 49,
     "metadata": {},
     "output_type": "execute_result"
    }
   ],
   "source": [
    "prob = DiscreteProblem(model_c, [10., 10., 1000.], (0, 5000000.), [k1, k2, k7, k8, k3, k6])\n",
    "jump_prob = JumpProblem(model_c, prob, Direct(), save_positions=(false, false))\n",
    "\n",
    "sol = solve(jump_prob, SSAStepper(), saveat=100.0)\n",
    "p1 = map(x -> x[3], sol.u)"
   ]
  },
  {
   "cell_type": "code",
   "execution_count": 43,
   "id": "22ff8759-4023-4205-8856-cdeb68fa16ba",
   "metadata": {},
   "outputs": [
    {
     "data": {
      "text/plain": [
       "50001-element Vector{Float64}:\n",
       " 1000.0\n",
       "  991.0\n",
       "  940.0\n",
       "  713.0\n",
       "  812.0\n",
       " 1083.0\n",
       "  534.0\n",
       " 1082.0\n",
       " 1507.0\n",
       " 1340.0\n",
       "  526.0\n",
       " 1159.0\n",
       " 1542.0\n",
       "    ⋮\n",
       " 1865.0\n",
       " 1437.0\n",
       "  800.0\n",
       "  819.0\n",
       " 1337.0\n",
       "  707.0\n",
       " 1504.0\n",
       "  658.0\n",
       " 1353.0\n",
       "  944.0\n",
       "  776.0\n",
       " 1168.0"
      ]
     },
     "execution_count": 43,
     "metadata": {},
     "output_type": "execute_result"
    }
   ],
   "source": [
    "prob = DiscreteProblem(model_d, [10., 10., 1000.], (0, 5000000.), [k1, k2, k7, k8, k3, k6])\n",
    "jump_prob = JumpProblem(model_c, prob, Direct(), save_positions=(false, false))\n",
    "\n",
    "sol = solve(jump_prob, SSAStepper(), saveat=100.0)\n",
    "p1 = map(x -> x[3], sol.u)"
   ]
  },
  {
   "cell_type": "code",
   "execution_count": 44,
   "id": "305269e9-a18a-435e-a025-7c48d3750612",
   "metadata": {},
   "outputs": [
    {
     "data": {
      "text/plain": [
       "105640.86024391674"
      ]
     },
     "execution_count": 44,
     "metadata": {},
     "output_type": "execute_result"
    }
   ],
   "source": [
    "var(p1)"
   ]
  },
  {
   "cell_type": "code",
   "execution_count": 50,
   "id": "c3641cd7-8fed-43f7-8c5a-3ed98d494847",
   "metadata": {},
   "outputs": [
    {
     "data": {
      "text/plain": [
       "retcode: Default\n",
       "Interpolation: Piecewise constant interpolation\n",
       "t: 50001-element Vector{Float64}:\n",
       "    0.0\n",
       "  100.0\n",
       "  200.0\n",
       "  300.0\n",
       "  400.0\n",
       "  500.0\n",
       "  600.0\n",
       "  700.0\n",
       "  800.0\n",
       "  900.0\n",
       " 1000.0\n",
       " 1100.0\n",
       " 1200.0\n",
       "    ⋮\n",
       "    4.9989e6\n",
       "    4.999e6\n",
       "    4.9991e6\n",
       "    4.9992e6\n",
       "    4.9993e6\n",
       "    4.9994e6\n",
       "    4.9995e6\n",
       "    4.9996e6\n",
       "    4.9997e6\n",
       "    4.9998e6\n",
       "    4.9999e6\n",
       "    5.0e6\n",
       "u: 50001-element Vector{Vector{Float64}}:\n",
       " [10.0, 10.0, 100.0, 1000.0]\n",
       " [8.0, 14.0, 103.0, 1053.0]\n",
       " [11.0, 15.0, 105.0, 1034.0]\n",
       " [14.0, 5.0, 97.0, 973.0]\n",
       " [7.0, 10.0, 87.0, 855.0]\n",
       " [8.0, 9.0, 90.0, 934.0]\n",
       " [10.0, 10.0, 101.0, 1001.0]\n",
       " [12.0, 6.0, 104.0, 985.0]\n",
       " [15.0, 11.0, 111.0, 1072.0]\n",
       " [6.0, 9.0, 109.0, 1147.0]\n",
       " [10.0, 6.0, 104.0, 1068.0]\n",
       " [6.0, 7.0, 114.0, 1119.0]\n",
       " [9.0, 11.0, 88.0, 929.0]\n",
       " ⋮\n",
       " [9.0, 5.0, 111.0, 1137.0]\n",
       " [14.0, 9.0, 113.0, 1111.0]\n",
       " [6.0, 7.0, 101.0, 980.0]\n",
       " [12.0, 15.0, 108.0, 1116.0]\n",
       " [16.0, 10.0, 109.0, 1151.0]\n",
       " [10.0, 11.0, 95.0, 985.0]\n",
       " [6.0, 8.0, 73.0, 725.0]\n",
       " [8.0, 3.0, 83.0, 772.0]\n",
       " [11.0, 17.0, 74.0, 841.0]\n",
       " [9.0, 11.0, 85.0, 864.0]\n",
       " [9.0, 8.0, 99.0, 982.0]\n",
       " [11.0, 8.0, 92.0, 1014.0]"
      ]
     },
     "execution_count": 50,
     "metadata": {},
     "output_type": "execute_result"
    }
   ],
   "source": [
    "prob = DiscreteProblem(model_b, [10., 10., 100., 1000.], (0, 5000000.), [k1, k2, k7, k8, k3b, k4, k5, k6])\n",
    "jump_prob = JumpProblem(model_b, prob, Direct(), save_positions=(false, false))\n",
    "\n",
    "sol = solve(jump_prob, SSAStepper(), saveat=100.0)"
   ]
  },
  {
   "cell_type": "code",
   "execution_count": 53,
   "id": "1390e36a-9163-48cb-862c-b9cefabf1b1b",
   "metadata": {},
   "outputs": [
    {
     "data": {
      "text/plain": [
       "50001-element Vector{Float64}:\n",
       " 1000.0\n",
       " 1053.0\n",
       " 1034.0\n",
       "  973.0\n",
       "  855.0\n",
       "  934.0\n",
       " 1001.0\n",
       "  985.0\n",
       " 1072.0\n",
       " 1147.0\n",
       " 1068.0\n",
       " 1119.0\n",
       "  929.0\n",
       "    ⋮\n",
       " 1137.0\n",
       " 1111.0\n",
       "  980.0\n",
       " 1116.0\n",
       " 1151.0\n",
       "  985.0\n",
       "  725.0\n",
       "  772.0\n",
       "  841.0\n",
       "  864.0\n",
       "  982.0\n",
       " 1014.0"
      ]
     },
     "execution_count": 53,
     "metadata": {},
     "output_type": "execute_result"
    }
   ],
   "source": [
    "p1 = map(x -> x[4], sol.u)"
   ]
  },
  {
   "cell_type": "code",
   "execution_count": 54,
   "id": "4dc2c750-897d-4499-8de2-0d5d1831e941",
   "metadata": {},
   "outputs": [
    {
     "data": {
      "text/plain": [
       "9996.665312668147"
      ]
     },
     "execution_count": 54,
     "metadata": {},
     "output_type": "execute_result"
    }
   ],
   "source": [
    "var(p1)"
   ]
  },
  {
   "cell_type": "code",
   "execution_count": 62,
   "id": "2c31bffc-7ac5-4044-9dee-c88f003bf26f",
   "metadata": {},
   "outputs": [
    {
     "data": {
      "text/plain": [
       "var_diff (generic function with 1 method)"
      ]
     },
     "execution_count": 62,
     "metadata": {},
     "output_type": "execute_result"
    }
   ],
   "source": [
    "function var_diff(k4, k5)\n",
    "    k1 = 1\n",
    "    k2 = .1\n",
    "    k7 = 1.\n",
    "    k8 = .1\n",
    "    k3 = 1\n",
    "    k6 = .1\n",
    "\n",
    "    k3b = (k4+k5)/(k3*k5)\n",
    "    \n",
    "    return (PolysomeModelC.p1_var(k1, k2, k3, k6, k7, k8) - PolysomeModelB.p1_var(k1, k2, k3b, k4, k5, k6, k7, k8)) / PolysomeModelB.p1_var(k1, k2, k3b, k4, k5, k6, k7, k8)\n",
    "end"
   ]
  },
  {
   "cell_type": "code",
   "execution_count": 69,
   "id": "f67ad380-ee47-4276-be46-13cbeb7a9aff",
   "metadata": {},
   "outputs": [
    {
     "data": {
      "image/svg+xml": [
       "<?xml version=\"1.0\" encoding=\"utf-8\"?>\n",
       "<svg xmlns=\"http://www.w3.org/2000/svg\" xmlns:xlink=\"http://www.w3.org/1999/xlink\" width=\"600\" height=\"400\" viewBox=\"0 0 2400 1600\">\n",
       "<defs>\n",
       "  <clipPath id=\"clip580\">\n",
       "    <rect x=\"0\" y=\"0\" width=\"2400\" height=\"1600\"/>\n",
       "  </clipPath>\n",
       "</defs>\n",
       "<path clip-path=\"url(#clip580)\" d=\"\n",
       "M0 1600 L2400 1600 L2400 0 L0 0  Z\n",
       "  \" fill=\"#ffffff\" fill-rule=\"evenodd\" fill-opacity=\"1\"/>\n",
       "<defs>\n",
       "  <clipPath id=\"clip581\">\n",
       "    <rect x=\"480\" y=\"0\" width=\"1681\" height=\"1600\"/>\n",
       "  </clipPath>\n",
       "</defs>\n",
       "<defs>\n",
       "  <clipPath id=\"clip582\">\n",
       "    <rect x=\"2160\" y=\"123\" width=\"73\" height=\"1305\"/>\n",
       "  </clipPath>\n",
       "</defs>\n",
       "<path clip-path=\"url(#clip580)\" d=\"\n",
       "M198.271 1427.6 L2112.76 1427.6 L2112.76 123.472 L198.271 123.472  Z\n",
       "  \" fill=\"#ffffff\" fill-rule=\"evenodd\" fill-opacity=\"1\"/>\n",
       "<defs>\n",
       "  <clipPath id=\"clip583\">\n",
       "    <rect x=\"198\" y=\"123\" width=\"1915\" height=\"1305\"/>\n",
       "  </clipPath>\n",
       "</defs>\n",
       "<polyline clip-path=\"url(#clip583)\" style=\"stroke:#000000; stroke-linecap:butt; stroke-linejoin:round; stroke-width:2; stroke-opacity:0.1; fill:none\" points=\"\n",
       "  571.596,1427.6 571.596,123.472 \n",
       "  \"/>\n",
       "<polyline clip-path=\"url(#clip583)\" style=\"stroke:#000000; stroke-linecap:butt; stroke-linejoin:round; stroke-width:2; stroke-opacity:0.1; fill:none\" points=\"\n",
       "  954.493,1427.6 954.493,123.472 \n",
       "  \"/>\n",
       "<polyline clip-path=\"url(#clip583)\" style=\"stroke:#000000; stroke-linecap:butt; stroke-linejoin:round; stroke-width:2; stroke-opacity:0.1; fill:none\" points=\"\n",
       "  1337.39,1427.6 1337.39,123.472 \n",
       "  \"/>\n",
       "<polyline clip-path=\"url(#clip583)\" style=\"stroke:#000000; stroke-linecap:butt; stroke-linejoin:round; stroke-width:2; stroke-opacity:0.1; fill:none\" points=\"\n",
       "  1720.29,1427.6 1720.29,123.472 \n",
       "  \"/>\n",
       "<polyline clip-path=\"url(#clip583)\" style=\"stroke:#000000; stroke-linecap:butt; stroke-linejoin:round; stroke-width:2; stroke-opacity:0.1; fill:none\" points=\"\n",
       "  2103.18,1427.6 2103.18,123.472 \n",
       "  \"/>\n",
       "<polyline clip-path=\"url(#clip580)\" style=\"stroke:#000000; stroke-linecap:butt; stroke-linejoin:round; stroke-width:4; stroke-opacity:1; fill:none\" points=\"\n",
       "  198.271,1427.6 2112.76,1427.6 \n",
       "  \"/>\n",
       "<polyline clip-path=\"url(#clip580)\" style=\"stroke:#000000; stroke-linecap:butt; stroke-linejoin:round; stroke-width:4; stroke-opacity:1; fill:none\" points=\"\n",
       "  571.596,1427.6 571.596,1408.7 \n",
       "  \"/>\n",
       "<polyline clip-path=\"url(#clip580)\" style=\"stroke:#000000; stroke-linecap:butt; stroke-linejoin:round; stroke-width:4; stroke-opacity:1; fill:none\" points=\"\n",
       "  954.493,1427.6 954.493,1408.7 \n",
       "  \"/>\n",
       "<polyline clip-path=\"url(#clip580)\" style=\"stroke:#000000; stroke-linecap:butt; stroke-linejoin:round; stroke-width:4; stroke-opacity:1; fill:none\" points=\"\n",
       "  1337.39,1427.6 1337.39,1408.7 \n",
       "  \"/>\n",
       "<polyline clip-path=\"url(#clip580)\" style=\"stroke:#000000; stroke-linecap:butt; stroke-linejoin:round; stroke-width:4; stroke-opacity:1; fill:none\" points=\"\n",
       "  1720.29,1427.6 1720.29,1408.7 \n",
       "  \"/>\n",
       "<polyline clip-path=\"url(#clip580)\" style=\"stroke:#000000; stroke-linecap:butt; stroke-linejoin:round; stroke-width:4; stroke-opacity:1; fill:none\" points=\"\n",
       "  2103.18,1427.6 2103.18,1408.7 \n",
       "  \"/>\n",
       "<path clip-path=\"url(#clip580)\" d=\"M566.248 1484.34 L582.568 1484.34 L582.568 1488.27 L560.623 1488.27 L560.623 1484.34 Q563.285 1481.58 567.869 1476.95 Q572.475 1472.3 573.656 1470.96 Q575.901 1468.44 576.781 1466.7 Q577.683 1464.94 577.683 1463.25 Q577.683 1460.5 575.739 1458.76 Q573.818 1457.02 570.716 1457.02 Q568.517 1457.02 566.063 1457.79 Q563.633 1458.55 560.855 1460.1 L560.855 1455.38 Q563.679 1454.25 566.133 1453.67 Q568.586 1453.09 570.623 1453.09 Q575.994 1453.09 579.188 1455.77 Q582.383 1458.46 582.383 1462.95 Q582.383 1465.08 581.572 1467 Q580.785 1468.9 578.679 1471.49 Q578.1 1472.16 574.998 1475.38 Q571.896 1478.57 566.248 1484.34 Z\" fill=\"#000000\" fill-rule=\"evenodd\" fill-opacity=\"1\" /><path clip-path=\"url(#clip580)\" d=\"M957.502 1457.79 L945.696 1476.24 L957.502 1476.24 L957.502 1457.79 M956.275 1453.71 L962.155 1453.71 L962.155 1476.24 L967.085 1476.24 L967.085 1480.13 L962.155 1480.13 L962.155 1488.27 L957.502 1488.27 L957.502 1480.13 L941.9 1480.13 L941.9 1475.61 L956.275 1453.71 Z\" fill=\"#000000\" fill-rule=\"evenodd\" fill-opacity=\"1\" /><path clip-path=\"url(#clip580)\" d=\"M1337.79 1469.13 Q1334.65 1469.13 1332.79 1471.28 Q1330.97 1473.44 1330.97 1477.19 Q1330.97 1480.91 1332.79 1483.09 Q1334.65 1485.24 1337.79 1485.24 Q1340.94 1485.24 1342.77 1483.09 Q1344.62 1480.91 1344.62 1477.19 Q1344.62 1473.44 1342.77 1471.28 Q1340.94 1469.13 1337.79 1469.13 M1347.08 1454.48 L1347.08 1458.74 Q1345.32 1457.9 1343.51 1457.46 Q1341.73 1457.02 1339.97 1457.02 Q1335.34 1457.02 1332.89 1460.15 Q1330.46 1463.27 1330.11 1469.59 Q1331.48 1467.58 1333.54 1466.51 Q1335.6 1465.43 1338.07 1465.43 Q1343.28 1465.43 1346.29 1468.6 Q1349.32 1471.75 1349.32 1477.19 Q1349.32 1482.51 1346.17 1485.73 Q1343.03 1488.94 1337.79 1488.94 Q1331.8 1488.94 1328.63 1484.36 Q1325.46 1479.76 1325.46 1471.03 Q1325.46 1462.83 1329.35 1457.97 Q1333.23 1453.09 1339.79 1453.09 Q1341.54 1453.09 1343.33 1453.44 Q1345.13 1453.78 1347.08 1454.48 Z\" fill=\"#000000\" fill-rule=\"evenodd\" fill-opacity=\"1\" /><path clip-path=\"url(#clip580)\" d=\"M1720.29 1471.86 Q1716.95 1471.86 1715.03 1473.64 Q1713.13 1475.43 1713.13 1478.55 Q1713.13 1481.68 1715.03 1483.46 Q1716.95 1485.24 1720.29 1485.24 Q1723.62 1485.24 1725.54 1483.46 Q1727.46 1481.65 1727.46 1478.55 Q1727.46 1475.43 1725.54 1473.64 Q1723.64 1471.86 1720.29 1471.86 M1715.61 1469.87 Q1712.6 1469.13 1710.91 1467.07 Q1709.24 1465.01 1709.24 1462.05 Q1709.24 1457.9 1712.18 1455.5 Q1715.15 1453.09 1720.29 1453.09 Q1725.45 1453.09 1728.39 1455.5 Q1731.33 1457.9 1731.33 1462.05 Q1731.33 1465.01 1729.64 1467.07 Q1727.97 1469.13 1724.99 1469.87 Q1728.37 1470.66 1730.24 1472.95 Q1732.14 1475.24 1732.14 1478.55 Q1732.14 1483.57 1729.06 1486.26 Q1726 1488.94 1720.29 1488.94 Q1714.57 1488.94 1711.49 1486.26 Q1708.43 1483.57 1708.43 1478.55 Q1708.43 1475.24 1710.33 1472.95 Q1712.23 1470.66 1715.61 1469.87 M1713.9 1462.49 Q1713.9 1465.17 1715.56 1466.68 Q1717.25 1468.18 1720.29 1468.18 Q1723.3 1468.18 1724.99 1466.68 Q1726.7 1465.17 1726.7 1462.49 Q1726.7 1459.8 1724.99 1458.3 Q1723.3 1456.79 1720.29 1456.79 Q1717.25 1456.79 1715.56 1458.3 Q1713.9 1459.8 1713.9 1462.49 Z\" fill=\"#000000\" fill-rule=\"evenodd\" fill-opacity=\"1\" /><path clip-path=\"url(#clip580)\" d=\"M2077.87 1484.34 L2085.51 1484.34 L2085.51 1457.97 L2077.2 1459.64 L2077.2 1455.38 L2085.46 1453.71 L2090.14 1453.71 L2090.14 1484.34 L2097.78 1484.34 L2097.78 1488.27 L2077.87 1488.27 L2077.87 1484.34 Z\" fill=\"#000000\" fill-rule=\"evenodd\" fill-opacity=\"1\" /><path clip-path=\"url(#clip580)\" d=\"M2117.22 1456.79 Q2113.61 1456.79 2111.78 1460.36 Q2109.98 1463.9 2109.98 1471.03 Q2109.98 1478.13 2111.78 1481.7 Q2113.61 1485.24 2117.22 1485.24 Q2120.86 1485.24 2122.66 1481.7 Q2124.49 1478.13 2124.49 1471.03 Q2124.49 1463.9 2122.66 1460.36 Q2120.86 1456.79 2117.22 1456.79 M2117.22 1453.09 Q2123.03 1453.09 2126.09 1457.69 Q2129.17 1462.28 2129.17 1471.03 Q2129.17 1479.76 2126.09 1484.36 Q2123.03 1488.94 2117.22 1488.94 Q2111.41 1488.94 2108.33 1484.36 Q2105.28 1479.76 2105.28 1471.03 Q2105.28 1462.28 2108.33 1457.69 Q2111.41 1453.09 2117.22 1453.09 Z\" fill=\"#000000\" fill-rule=\"evenodd\" fill-opacity=\"1\" /><path clip-path=\"url(#clip580)\" d=\"M1153.41 1529.31 Q1153.41 1531.15 1152.29 1532.24 Q1151.19 1533.34 1149.81 1533.34 Q1148.58 1533.34 1147.94 1532.63 Q1147.29 1531.92 1147.29 1531.02 Q1147.29 1530.63 1147.46 1530.15 Q1147.62 1529.64 1147.97 1529.02 Q1148.36 1528.41 1149.16 1527.96 Q1149.97 1527.51 1151.06 1527.45 Q1150.84 1527.22 1150.77 1527.19 Q1150.29 1526.8 1149.39 1526.67 Q1149.26 1526.61 1148.81 1526.61 Q1146.59 1526.61 1144.33 1528.25 Q1142.11 1529.86 1139.37 1532.92 Q1135.93 1536.5 1133.7 1537.82 Q1143.46 1539.1 1143.46 1544.74 Q1143.46 1545.67 1143.2 1546.8 Q1142.69 1548.93 1142.69 1550.47 Q1142.69 1553.56 1144.78 1553.56 Q1146.81 1553.56 1148.1 1551.5 Q1149.42 1549.44 1150.51 1545.42 Q1150.68 1544.68 1150.84 1544.45 Q1151 1544.22 1151.45 1544.22 Q1152.25 1544.22 1152.25 1544.87 Q1151.51 1548.64 1149.87 1551.54 Q1147.78 1555.05 1144.65 1555.05 Q1142.04 1555.05 1140.31 1553.24 Q1138.6 1551.41 1138.6 1548.51 Q1138.6 1547.8 1138.86 1546.19 Q1139.05 1545.54 1139.05 1544.8 Q1139.05 1543.29 1138.21 1542.16 Q1137.37 1541 1136.02 1540.42 Q1134.67 1539.84 1133.54 1539.59 Q1132.45 1539.3 1131.38 1539.2 Q1128.16 1552.82 1127.71 1553.66 Q1127.42 1554.24 1126.78 1554.63 Q1126.14 1555.05 1125.46 1555.05 Q1124.81 1555.05 1124.17 1554.59 Q1123.56 1554.18 1123.56 1553.18 Q1123.56 1552.66 1123.82 1551.73 L1133.38 1513.73 L1133.57 1512.44 Q1133.57 1512.05 1133.41 1511.86 Q1133.28 1511.63 1132.51 1511.47 Q1131.77 1511.31 1130.29 1511.31 Q1129.68 1511.31 1129.39 1511.28 Q1129.13 1511.25 1128.9 1511.08 Q1128.68 1510.89 1128.68 1510.5 Q1128.68 1509.96 1128.9 1509.67 Q1129.16 1509.35 1129.36 1509.28 Q1129.55 1509.22 1129.94 1509.18 Q1130.48 1509.15 1132.32 1508.99 Q1134.15 1508.8 1135.73 1508.67 Q1137.31 1508.54 1137.99 1508.54 Q1138.37 1508.54 1138.57 1508.73 Q1138.79 1508.89 1138.82 1509.09 L1138.86 1509.25 L1132 1537.07 Q1134.83 1535.95 1139.31 1530.96 Q1144.49 1525.16 1148.94 1525.16 Q1151.03 1525.16 1152.22 1526.45 Q1153.41 1527.7 1153.41 1529.31 Z\" fill=\"#000000\" fill-rule=\"evenodd\" fill-opacity=\"1\" /><path clip-path=\"url(#clip580)\" d=\"M1160.16 1566 L1160.16 1564.58 L1174.34 1542.92 Q1174.7 1542.36 1175.27 1542.38 Q1175.78 1542.38 1175.9 1542.58 Q1176.01 1542.78 1176.01 1543.57 L1176.01 1564.58 L1180.63 1564.58 L1180.63 1566 L1176.01 1566 L1176.01 1570.02 Q1176.01 1571.35 1176.55 1571.78 Q1177.11 1572.2 1179.5 1572.2 L1180.47 1572.2 L1180.47 1573.62 Q1178.58 1573.49 1174.21 1573.49 Q1169.86 1573.49 1167.96 1573.62 L1167.96 1572.2 L1168.93 1572.2 Q1171.32 1572.2 1171.88 1571.8 Q1172.45 1571.37 1172.45 1570.02 L1172.45 1566 L1160.16 1566 M1161.47 1564.58 L1172.72 1564.58 L1172.72 1547.36 L1161.47 1564.58 Z\" fill=\"#000000\" fill-rule=\"evenodd\" fill-opacity=\"1\" /><polyline clip-path=\"url(#clip583)\" style=\"stroke:#000000; stroke-linecap:butt; stroke-linejoin:round; stroke-width:2; stroke-opacity:0.1; fill:none\" points=\"\n",
       "  198.271,1173.3 2112.76,1173.3 \n",
       "  \"/>\n",
       "<polyline clip-path=\"url(#clip583)\" style=\"stroke:#000000; stroke-linecap:butt; stroke-linejoin:round; stroke-width:2; stroke-opacity:0.1; fill:none\" points=\"\n",
       "  198.271,912.47 2112.76,912.47 \n",
       "  \"/>\n",
       "<polyline clip-path=\"url(#clip583)\" style=\"stroke:#000000; stroke-linecap:butt; stroke-linejoin:round; stroke-width:2; stroke-opacity:0.1; fill:none\" points=\"\n",
       "  198.271,651.645 2112.76,651.645 \n",
       "  \"/>\n",
       "<polyline clip-path=\"url(#clip583)\" style=\"stroke:#000000; stroke-linecap:butt; stroke-linejoin:round; stroke-width:2; stroke-opacity:0.1; fill:none\" points=\"\n",
       "  198.271,390.819 2112.76,390.819 \n",
       "  \"/>\n",
       "<polyline clip-path=\"url(#clip583)\" style=\"stroke:#000000; stroke-linecap:butt; stroke-linejoin:round; stroke-width:2; stroke-opacity:0.1; fill:none\" points=\"\n",
       "  198.271,129.993 2112.76,129.993 \n",
       "  \"/>\n",
       "<polyline clip-path=\"url(#clip580)\" style=\"stroke:#000000; stroke-linecap:butt; stroke-linejoin:round; stroke-width:4; stroke-opacity:1; fill:none\" points=\"\n",
       "  198.271,1427.6 198.271,123.472 \n",
       "  \"/>\n",
       "<polyline clip-path=\"url(#clip580)\" style=\"stroke:#000000; stroke-linecap:butt; stroke-linejoin:round; stroke-width:4; stroke-opacity:1; fill:none\" points=\"\n",
       "  198.271,1173.3 215.064,1173.3 \n",
       "  \"/>\n",
       "<polyline clip-path=\"url(#clip580)\" style=\"stroke:#000000; stroke-linecap:butt; stroke-linejoin:round; stroke-width:4; stroke-opacity:1; fill:none\" points=\"\n",
       "  198.271,912.47 215.064,912.47 \n",
       "  \"/>\n",
       "<polyline clip-path=\"url(#clip580)\" style=\"stroke:#000000; stroke-linecap:butt; stroke-linejoin:round; stroke-width:4; stroke-opacity:1; fill:none\" points=\"\n",
       "  198.271,651.645 215.064,651.645 \n",
       "  \"/>\n",
       "<polyline clip-path=\"url(#clip580)\" style=\"stroke:#000000; stroke-linecap:butt; stroke-linejoin:round; stroke-width:4; stroke-opacity:1; fill:none\" points=\"\n",
       "  198.271,390.819 215.064,390.819 \n",
       "  \"/>\n",
       "<polyline clip-path=\"url(#clip580)\" style=\"stroke:#000000; stroke-linecap:butt; stroke-linejoin:round; stroke-width:4; stroke-opacity:1; fill:none\" points=\"\n",
       "  198.271,129.993 215.064,129.993 \n",
       "  \"/>\n",
       "<path clip-path=\"url(#clip580)\" d=\"M145.952 1186.64 L162.271 1186.64 L162.271 1190.58 L140.327 1190.58 L140.327 1186.64 Q142.989 1183.89 147.572 1179.26 Q152.178 1174.6 153.359 1173.26 Q155.604 1170.74 156.484 1169 Q157.387 1167.24 157.387 1165.55 Q157.387 1162.8 155.442 1161.06 Q153.521 1159.33 150.419 1159.33 Q148.22 1159.33 145.766 1160.09 Q143.336 1160.85 140.558 1162.41 L140.558 1157.68 Q143.382 1156.55 145.836 1155.97 Q148.29 1155.39 150.327 1155.39 Q155.697 1155.39 158.891 1158.08 Q162.086 1160.76 162.086 1165.25 Q162.086 1167.38 161.276 1169.3 Q160.489 1171.2 158.382 1173.79 Q157.803 1174.47 154.702 1177.68 Q151.6 1180.88 145.952 1186.64 Z\" fill=\"#000000\" fill-rule=\"evenodd\" fill-opacity=\"1\" /><path clip-path=\"url(#clip580)\" d=\"M152.688 899.264 L140.882 917.713 L152.688 917.713 L152.688 899.264 M151.461 895.19 L157.34 895.19 L157.34 917.713 L162.271 917.713 L162.271 921.602 L157.34 921.602 L157.34 929.75 L152.688 929.75 L152.688 921.602 L137.086 921.602 L137.086 917.088 L151.461 895.19 Z\" fill=\"#000000\" fill-rule=\"evenodd\" fill-opacity=\"1\" /><path clip-path=\"url(#clip580)\" d=\"M150.743 649.781 Q147.595 649.781 145.743 651.934 Q143.915 654.087 143.915 657.837 Q143.915 661.563 145.743 663.739 Q147.595 665.892 150.743 665.892 Q153.891 665.892 155.72 663.739 Q157.572 661.563 157.572 657.837 Q157.572 654.087 155.72 651.934 Q153.891 649.781 150.743 649.781 M160.026 635.128 L160.026 639.388 Q158.266 638.554 156.461 638.115 Q154.678 637.675 152.919 637.675 Q148.29 637.675 145.836 640.8 Q143.405 643.925 143.058 650.244 Q144.424 648.23 146.484 647.165 Q148.544 646.077 151.021 646.077 Q156.229 646.077 159.239 649.249 Q162.271 652.397 162.271 657.837 Q162.271 663.161 159.123 666.378 Q155.975 669.596 150.743 669.596 Q144.748 669.596 141.577 665.013 Q138.405 660.406 138.405 651.679 Q138.405 643.485 142.294 638.624 Q146.183 633.74 152.734 633.74 Q154.493 633.74 156.276 634.087 Q158.081 634.434 160.026 635.128 Z\" fill=\"#000000\" fill-rule=\"evenodd\" fill-opacity=\"1\" /><path clip-path=\"url(#clip580)\" d=\"M150.419 391.687 Q147.086 391.687 145.165 393.469 Q143.266 395.251 143.266 398.376 Q143.266 401.501 145.165 403.284 Q147.086 405.066 150.419 405.066 Q153.753 405.066 155.674 403.284 Q157.595 401.478 157.595 398.376 Q157.595 395.251 155.674 393.469 Q153.776 391.687 150.419 391.687 M145.743 389.696 Q142.734 388.955 141.044 386.895 Q139.378 384.835 139.378 381.872 Q139.378 377.728 142.317 375.321 Q145.28 372.914 150.419 372.914 Q155.581 372.914 158.521 375.321 Q161.461 377.728 161.461 381.872 Q161.461 384.835 159.771 386.895 Q158.104 388.955 155.118 389.696 Q158.498 390.483 160.373 392.775 Q162.271 395.066 162.271 398.376 Q162.271 403.4 159.192 406.085 Q156.137 408.77 150.419 408.77 Q144.702 408.77 141.623 406.085 Q138.567 403.4 138.567 398.376 Q138.567 395.066 140.466 392.775 Q142.364 390.483 145.743 389.696 M144.03 382.312 Q144.03 384.997 145.697 386.502 Q147.387 388.006 150.419 388.006 Q153.428 388.006 155.118 386.502 Q156.831 384.997 156.831 382.312 Q156.831 379.627 155.118 378.122 Q153.428 376.617 150.419 376.617 Q147.387 376.617 145.697 378.122 Q144.03 379.627 144.03 382.312 Z\" fill=\"#000000\" fill-rule=\"evenodd\" fill-opacity=\"1\" /><path clip-path=\"url(#clip580)\" d=\"M110.975 143.338 L118.614 143.338 L118.614 116.972 L110.304 118.639 L110.304 114.379 L118.568 112.713 L123.243 112.713 L123.243 143.338 L130.882 143.338 L130.882 147.273 L110.975 147.273 L110.975 143.338 Z\" fill=\"#000000\" fill-rule=\"evenodd\" fill-opacity=\"1\" /><path clip-path=\"url(#clip580)\" d=\"M150.327 115.791 Q146.716 115.791 144.887 119.356 Q143.081 122.898 143.081 130.027 Q143.081 137.134 144.887 140.699 Q146.716 144.24 150.327 144.24 Q153.961 144.24 155.766 140.699 Q157.595 137.134 157.595 130.027 Q157.595 122.898 155.766 119.356 Q153.961 115.791 150.327 115.791 M150.327 112.088 Q156.137 112.088 159.192 116.694 Q162.271 121.278 162.271 130.027 Q162.271 138.754 159.192 143.361 Q156.137 147.944 150.327 147.944 Q144.516 147.944 141.438 143.361 Q138.382 138.754 138.382 130.027 Q138.382 121.278 141.438 116.694 Q144.516 112.088 150.327 112.088 Z\" fill=\"#000000\" fill-rule=\"evenodd\" fill-opacity=\"1\" /><path clip-path=\"url(#clip580)\" d=\"M35.8293 776.631 Q37.665 776.631 38.76 777.758 Q39.855 778.853 39.855 780.238 Q39.855 781.461 39.1465 782.106 Q38.438 782.75 37.5362 782.75 Q37.1497 782.75 36.6666 782.589 Q36.1514 782.428 35.5394 782.073 Q34.9275 781.687 34.4766 780.882 Q34.0258 780.077 33.9614 778.982 Q33.7359 779.207 33.7037 779.271 Q33.3172 779.755 33.1884 780.656 Q33.124 780.785 33.124 781.236 Q33.124 783.458 34.7665 785.713 Q36.3768 787.935 39.4364 790.672 Q43.0112 794.118 44.3316 796.341 Q45.6199 786.582 51.2559 786.582 Q52.1899 786.582 53.3171 786.84 Q55.4427 787.355 56.9885 787.355 Q60.0803 787.355 60.0803 785.262 Q60.0803 783.233 58.0191 781.945 Q55.958 780.624 51.9322 779.529 Q51.1915 779.368 50.966 779.207 Q50.7406 779.046 50.7406 778.595 Q50.7406 777.79 51.3847 777.79 Q55.1528 778.531 58.0513 780.173 Q61.5618 782.267 61.5618 785.391 Q61.5618 787.999 59.7582 789.738 Q57.9225 791.445 55.024 791.445 Q54.3155 791.445 52.7052 791.188 Q52.061 790.994 51.3203 790.994 Q49.8066 790.994 48.6794 791.832 Q47.52 792.669 46.9403 794.022 Q46.3606 795.374 46.103 796.502 Q45.8131 797.597 45.7165 798.659 Q59.3396 801.88 60.1769 802.331 Q60.7566 802.621 61.1431 803.265 Q61.5618 803.909 61.5618 804.585 Q61.5618 805.229 61.1109 805.873 Q60.6922 806.485 59.6938 806.485 Q59.1785 806.485 58.2446 806.228 L20.2417 796.663 L18.9534 796.469 Q18.567 796.469 18.3737 796.63 Q18.1483 796.759 17.9872 797.532 Q17.8262 798.273 17.8262 799.754 Q17.8262 800.366 17.794 800.656 Q17.7618 800.914 17.6008 801.139 Q17.4075 801.365 17.0211 801.365 Q16.4736 801.365 16.1837 801.139 Q15.8617 800.882 15.7972 800.688 Q15.7328 800.495 15.7006 800.109 Q15.6684 799.561 15.5074 797.725 Q15.3142 795.89 15.1853 794.312 Q15.0565 792.734 15.0565 792.057 Q15.0565 791.671 15.2497 791.477 Q15.4108 791.252 15.604 791.22 L15.765 791.188 L43.5909 798.047 Q42.4637 795.213 37.4718 790.737 Q31.6747 785.552 31.6747 781.107 Q31.6747 779.014 32.963 777.822 Q34.219 776.631 35.8293 776.631 Z\" fill=\"#000000\" fill-rule=\"evenodd\" fill-opacity=\"1\" /><path clip-path=\"url(#clip580)\" d=\"M72.3924 769.883 Q71.0172 769.883 70.4987 769.139 Q69.9577 768.395 69.9577 767.606 Q69.9577 766.546 70.634 765.938 Q71.2878 765.306 72.2121 765.306 Q73.1364 765.306 73.8127 765.938 Q74.4665 766.546 74.4665 767.606 Q74.4665 768.124 74.3763 768.395 Q76.4955 767.786 78.0285 765.938 Q79.5615 764.067 79.5615 761.609 Q79.5615 758.521 76.5631 756.672 Q74.6243 755.567 70.2282 755.567 Q66.3506 755.567 64.4118 756.402 Q61.4585 757.687 61.4585 760.324 Q61.4585 764.067 64.6823 766.276 Q65.0881 766.546 65.1107 766.862 Q65.1107 767.313 64.8627 767.426 Q64.5922 767.516 63.8933 767.516 L50.2316 767.516 Q49.1269 767.516 49.1269 767.065 Q49.1269 766.885 49.2622 766.501 Q50.5472 763.593 50.5697 760.369 Q50.5697 757.055 49.2171 754.079 Q49.0818 753.854 49.0818 753.719 Q49.0818 753.268 49.6003 753.245 Q49.7807 753.245 50.3217 753.629 Q50.8403 753.989 51.5391 754.778 Q52.2155 755.567 52.8692 756.582 Q53.523 757.596 53.9739 759.084 Q54.4022 760.55 54.4022 762.173 Q54.4022 764.112 53.7935 766.096 L62.7886 766.096 Q60.4441 763.706 60.4441 760.234 Q60.4441 756.537 63.4199 753.989 Q66.3957 751.442 70.5438 751.442 Q74.8948 751.442 77.8706 754.463 Q80.8465 757.461 80.8465 761.519 Q80.8465 765.216 78.2088 767.561 Q75.5711 769.883 72.3924 769.883 Z\" fill=\"#000000\" fill-rule=\"evenodd\" fill-opacity=\"1\" /><path clip-path=\"url(#clip580)\" d=\"M393.559 44.2197 Q396.192 45.1109 398.663 48.0275 Q401.174 50.9442 403.686 56.0483 L411.99 72.576 L403.2 72.576 L395.463 57.061 Q392.465 50.9847 389.629 48.9997 Q386.834 47.0148 381.973 47.0148 L373.061 47.0148 L373.061 72.576 L364.878 72.576 L364.878 12.096 L383.35 12.096 Q393.721 12.096 398.825 16.4305 Q403.929 20.7649 403.929 29.5149 Q403.929 35.2267 401.255 38.994 Q398.622 42.7613 393.559 44.2197 M373.061 18.8205 L373.061 40.2903 L383.35 40.2903 Q389.265 40.2903 392.262 37.5762 Q395.301 34.8216 395.301 29.5149 Q395.301 24.2082 392.262 21.5346 Q389.265 18.8205 383.35 18.8205 L373.061 18.8205 Z\" fill=\"#000000\" fill-rule=\"evenodd\" fill-opacity=\"1\" /><path clip-path=\"url(#clip580)\" d=\"M457.279 48.0275 L457.279 51.6733 L423.009 51.6733 Q423.495 59.3701 427.627 63.421 Q431.799 67.4314 439.212 67.4314 Q443.506 67.4314 447.517 66.3781 Q451.568 65.3249 455.537 63.2184 L455.537 70.267 Q451.527 71.9684 447.314 72.8596 Q443.101 73.7508 438.767 73.7508 Q427.91 73.7508 421.55 67.4314 Q415.231 61.1119 415.231 50.3365 Q415.231 39.1965 421.226 32.6746 Q427.262 26.1121 437.47 26.1121 Q446.625 26.1121 451.932 32.0264 Q457.279 37.9003 457.279 48.0275 M449.826 45.84 Q449.745 39.7232 446.382 36.0774 Q443.061 32.4315 437.551 32.4315 Q431.313 32.4315 427.546 35.9558 Q423.819 39.4801 423.252 45.8805 L449.826 45.84 Z\" fill=\"#000000\" fill-rule=\"evenodd\" fill-opacity=\"1\" /><path clip-path=\"url(#clip580)\" d=\"M469.513 9.54393 L476.967 9.54393 L476.967 72.576 L469.513 72.576 L469.513 9.54393 Z\" fill=\"#000000\" fill-rule=\"evenodd\" fill-opacity=\"1\" /><path clip-path=\"url(#clip580)\" d=\"M513.182 49.7694 Q504.148 49.7694 500.665 51.8354 Q497.181 53.9013 497.181 58.8839 Q497.181 62.8538 499.773 65.2034 Q502.406 67.5124 506.903 67.5124 Q513.101 67.5124 516.828 63.1374 Q520.595 58.7219 520.595 51.4303 L520.595 49.7694 L513.182 49.7694 M528.049 46.6907 L528.049 72.576 L520.595 72.576 L520.595 65.6895 Q518.043 69.8214 514.235 71.8063 Q510.427 73.7508 504.918 73.7508 Q497.95 73.7508 493.819 69.8619 Q489.727 65.9325 489.727 59.3701 Q489.727 51.7138 494.831 47.825 Q499.976 43.9361 510.144 43.9361 L520.595 43.9361 L520.595 43.2069 Q520.595 38.0623 517.192 35.2672 Q513.83 32.4315 507.713 32.4315 Q503.824 32.4315 500.138 33.3632 Q496.452 34.295 493.049 36.1584 L493.049 29.2718 Q497.14 27.692 500.989 26.9223 Q504.837 26.1121 508.483 26.1121 Q518.326 26.1121 523.188 31.2163 Q528.049 36.3204 528.049 46.6907 Z\" fill=\"#000000\" fill-rule=\"evenodd\" fill-opacity=\"1\" /><path clip-path=\"url(#clip580)\" d=\"M550.774 14.324 L550.774 27.2059 L566.127 27.2059 L566.127 32.9987 L550.774 32.9987 L550.774 57.6282 Q550.774 63.1779 552.273 64.7578 Q553.812 66.3376 558.471 66.3376 L566.127 66.3376 L566.127 72.576 L558.471 72.576 Q549.843 72.576 546.561 69.3758 Q543.28 66.1351 543.28 57.6282 L543.28 32.9987 L537.811 32.9987 L537.811 27.2059 L543.28 27.2059 L543.28 14.324 L550.774 14.324 Z\" fill=\"#000000\" fill-rule=\"evenodd\" fill-opacity=\"1\" /><path clip-path=\"url(#clip580)\" d=\"M575.93 27.2059 L583.384 27.2059 L583.384 72.576 L575.93 72.576 L575.93 27.2059 M575.93 9.54393 L583.384 9.54393 L583.384 18.9825 L575.93 18.9825 L575.93 9.54393 Z\" fill=\"#000000\" fill-rule=\"evenodd\" fill-opacity=\"1\" /><path clip-path=\"url(#clip580)\" d=\"M593.633 27.2059 L601.532 27.2059 L615.71 65.2844 L629.888 27.2059 L637.788 27.2059 L620.774 72.576 L610.647 72.576 L593.633 27.2059 Z\" fill=\"#000000\" fill-rule=\"evenodd\" fill-opacity=\"1\" /><path clip-path=\"url(#clip580)\" d=\"M686.885 48.0275 L686.885 51.6733 L652.614 51.6733 Q653.1 59.3701 657.232 63.421 Q661.404 67.4314 668.818 67.4314 Q673.112 67.4314 677.122 66.3781 Q681.173 65.3249 685.143 63.2184 L685.143 70.267 Q681.132 71.9684 676.919 72.8596 Q672.706 73.7508 668.372 73.7508 Q657.516 73.7508 651.156 67.4314 Q644.836 61.1119 644.836 50.3365 Q644.836 39.1965 650.832 32.6746 Q656.867 26.1121 667.076 26.1121 Q676.231 26.1121 681.537 32.0264 Q686.885 37.9003 686.885 48.0275 M679.431 45.84 Q679.35 39.7232 675.988 36.0774 Q672.666 32.4315 667.157 32.4315 Q660.918 32.4315 657.151 35.9558 Q653.424 39.4801 652.857 45.8805 L679.431 45.84 Z\" fill=\"#000000\" fill-rule=\"evenodd\" fill-opacity=\"1\" /><path clip-path=\"url(#clip580)\" d=\"M733.997 18.8205 L733.997 65.8515 L743.881 65.8515 Q756.398 65.8515 762.191 60.1802 Q768.024 54.509 768.024 42.2752 Q768.024 30.1225 762.191 24.4918 Q756.398 18.8205 743.881 18.8205 L733.997 18.8205 M725.814 12.096 L742.625 12.096 Q760.206 12.096 768.429 19.4281 Q776.653 26.7198 776.653 42.2752 Q776.653 57.9117 768.389 65.2439 Q760.125 72.576 742.625 72.576 L725.814 72.576 L725.814 12.096 Z\" fill=\"#000000\" fill-rule=\"evenodd\" fill-opacity=\"1\" /><path clip-path=\"url(#clip580)\" d=\"M789.372 27.2059 L796.826 27.2059 L796.826 72.576 L789.372 72.576 L789.372 27.2059 M789.372 9.54393 L796.826 9.54393 L796.826 18.9825 L789.372 18.9825 L789.372 9.54393 Z\" fill=\"#000000\" fill-rule=\"evenodd\" fill-opacity=\"1\" /><path clip-path=\"url(#clip580)\" d=\"M835.391 9.54393 L835.391 15.7418 L828.261 15.7418 Q824.251 15.7418 822.671 17.3622 Q821.132 18.9825 821.132 23.1955 L821.132 27.2059 L833.406 27.2059 L833.406 32.9987 L821.132 32.9987 L821.132 72.576 L813.637 72.576 L813.637 32.9987 L806.508 32.9987 L806.508 27.2059 L813.637 27.2059 L813.637 24.0462 Q813.637 16.471 817.162 13.0277 Q820.686 9.54393 828.342 9.54393 L835.391 9.54393 Z\" fill=\"#000000\" fill-rule=\"evenodd\" fill-opacity=\"1\" /><path clip-path=\"url(#clip580)\" d=\"M864.598 9.54393 L864.598 15.7418 L857.468 15.7418 Q853.458 15.7418 851.878 17.3622 Q850.339 18.9825 850.339 23.1955 L850.339 27.2059 L862.613 27.2059 L862.613 32.9987 L850.339 32.9987 L850.339 72.576 L842.844 72.576 L842.844 32.9987 L835.715 32.9987 L835.715 27.2059 L842.844 27.2059 L842.844 24.0462 Q842.844 16.471 846.369 13.0277 Q849.893 9.54393 857.549 9.54393 L864.598 9.54393 Z\" fill=\"#000000\" fill-rule=\"evenodd\" fill-opacity=\"1\" /><path clip-path=\"url(#clip580)\" d=\"M909.644 48.0275 L909.644 51.6733 L875.373 51.6733 Q875.859 59.3701 879.991 63.421 Q884.164 67.4314 891.577 67.4314 Q895.871 67.4314 899.881 66.3781 Q903.932 65.3249 907.902 63.2184 L907.902 70.267 Q903.892 71.9684 899.679 72.8596 Q895.466 73.7508 891.131 73.7508 Q880.275 73.7508 873.915 67.4314 Q867.595 61.1119 867.595 50.3365 Q867.595 39.1965 873.591 32.6746 Q879.627 26.1121 889.835 26.1121 Q898.99 26.1121 904.297 32.0264 Q909.644 37.9003 909.644 48.0275 M902.19 45.84 Q902.109 39.7232 898.747 36.0774 Q895.425 32.4315 889.916 32.4315 Q883.678 32.4315 879.91 35.9558 Q876.183 39.4801 875.616 45.8805 L902.19 45.84 Z\" fill=\"#000000\" fill-rule=\"evenodd\" fill-opacity=\"1\" /><path clip-path=\"url(#clip580)\" d=\"M948.168 34.1734 Q946.912 33.4443 945.413 33.1202 Q943.955 32.7556 942.173 32.7556 Q935.853 32.7556 932.45 36.8875 Q929.088 40.9789 929.088 48.6757 L929.088 72.576 L921.594 72.576 L921.594 27.2059 L929.088 27.2059 L929.088 34.2544 Q931.438 30.1225 935.205 28.1376 Q938.972 26.1121 944.36 26.1121 Q945.13 26.1121 946.061 26.2337 Q946.993 26.3147 948.127 26.5172 L948.168 34.1734 Z\" fill=\"#000000\" fill-rule=\"evenodd\" fill-opacity=\"1\" /><path clip-path=\"url(#clip580)\" d=\"M992.971 48.0275 L992.971 51.6733 L958.7 51.6733 Q959.186 59.3701 963.318 63.421 Q967.491 67.4314 974.904 67.4314 Q979.198 67.4314 983.208 66.3781 Q987.259 65.3249 991.229 63.2184 L991.229 70.267 Q987.219 71.9684 983.006 72.8596 Q978.793 73.7508 974.458 73.7508 Q963.602 73.7508 957.242 67.4314 Q950.923 61.1119 950.923 50.3365 Q950.923 39.1965 956.918 32.6746 Q962.954 26.1121 973.162 26.1121 Q982.317 26.1121 987.624 32.0264 Q992.971 37.9003 992.971 48.0275 M985.517 45.84 Q985.436 39.7232 982.074 36.0774 Q978.752 32.4315 973.243 32.4315 Q967.005 32.4315 963.237 35.9558 Q959.51 39.4801 958.943 45.8805 L985.517 45.84 Z\" fill=\"#000000\" fill-rule=\"evenodd\" fill-opacity=\"1\" /><path clip-path=\"url(#clip580)\" d=\"M1042.92 45.1919 L1042.92 72.576 L1035.46 72.576 L1035.46 45.4349 Q1035.46 38.994 1032.95 35.7938 Q1030.44 32.5936 1025.42 32.5936 Q1019.38 32.5936 1015.9 36.4419 Q1012.42 40.2903 1012.42 46.9338 L1012.42 72.576 L1004.92 72.576 L1004.92 27.2059 L1012.42 27.2059 L1012.42 34.2544 Q1015.09 30.163 1018.69 28.1376 Q1022.34 26.1121 1027.08 26.1121 Q1034.9 26.1121 1038.91 30.9732 Q1042.92 35.7938 1042.92 45.1919 Z\" fill=\"#000000\" fill-rule=\"evenodd\" fill-opacity=\"1\" /><path clip-path=\"url(#clip580)\" d=\"M1090.44 28.9478 L1090.44 35.9153 Q1087.28 34.1734 1084.08 33.3227 Q1080.92 32.4315 1077.68 32.4315 Q1070.42 32.4315 1066.41 37.0496 Q1062.4 41.6271 1062.4 49.9314 Q1062.4 58.2358 1066.41 62.8538 Q1070.42 67.4314 1077.68 67.4314 Q1080.92 67.4314 1084.08 66.5807 Q1087.28 65.6895 1090.44 63.9476 L1090.44 70.8341 Q1087.32 72.2924 1083.95 73.0216 Q1080.63 73.7508 1076.87 73.7508 Q1066.62 73.7508 1060.58 67.3098 Q1054.54 60.8689 1054.54 49.9314 Q1054.54 38.832 1060.62 32.472 Q1066.74 26.1121 1077.35 26.1121 Q1080.79 26.1121 1084.08 26.8413 Q1087.36 27.5299 1090.44 28.9478 Z\" fill=\"#000000\" fill-rule=\"evenodd\" fill-opacity=\"1\" /><path clip-path=\"url(#clip580)\" d=\"M1142.21 48.0275 L1142.21 51.6733 L1107.94 51.6733 Q1108.42 59.3701 1112.55 63.421 Q1116.73 67.4314 1124.14 67.4314 Q1128.43 67.4314 1132.44 66.3781 Q1136.49 65.3249 1140.46 63.2184 L1140.46 70.267 Q1136.45 71.9684 1132.24 72.8596 Q1128.03 73.7508 1123.69 73.7508 Q1112.84 73.7508 1106.48 67.4314 Q1100.16 61.1119 1100.16 50.3365 Q1100.16 39.1965 1106.15 32.6746 Q1112.19 26.1121 1122.4 26.1121 Q1131.55 26.1121 1136.86 32.0264 Q1142.21 37.9003 1142.21 48.0275 M1134.75 45.84 Q1134.67 39.7232 1131.31 36.0774 Q1127.99 32.4315 1122.48 32.4315 Q1116.24 32.4315 1112.47 35.9558 Q1108.75 39.4801 1108.18 45.8805 L1134.75 45.84 Z\" fill=\"#000000\" fill-rule=\"evenodd\" fill-opacity=\"1\" /><path clip-path=\"url(#clip580)\" d=\"M1180.81 27.2059 L1188.27 27.2059 L1188.27 72.576 L1180.81 72.576 L1180.81 27.2059 M1180.81 9.54393 L1188.27 9.54393 L1188.27 18.9825 L1180.81 18.9825 L1180.81 9.54393 Z\" fill=\"#000000\" fill-rule=\"evenodd\" fill-opacity=\"1\" /><path clip-path=\"url(#clip580)\" d=\"M1241.57 45.1919 L1241.57 72.576 L1234.12 72.576 L1234.12 45.4349 Q1234.12 38.994 1231.61 35.7938 Q1229.1 32.5936 1224.08 32.5936 Q1218.04 32.5936 1214.56 36.4419 Q1211.07 40.2903 1211.07 46.9338 L1211.07 72.576 L1203.58 72.576 L1203.58 27.2059 L1211.07 27.2059 L1211.07 34.2544 Q1213.75 30.163 1217.35 28.1376 Q1221 26.1121 1225.74 26.1121 Q1233.55 26.1121 1237.56 30.9732 Q1241.57 35.7938 1241.57 45.1919 Z\" fill=\"#000000\" fill-rule=\"evenodd\" fill-opacity=\"1\" /><path clip-path=\"url(#clip580)\" d=\"M1291.32 18.8205 L1291.32 41.5461 L1301.61 41.5461 Q1307.32 41.5461 1310.44 38.5889 Q1313.56 35.6318 1313.56 30.163 Q1313.56 24.7348 1310.44 21.7777 Q1307.32 18.8205 1301.61 18.8205 L1291.32 18.8205 M1283.14 12.096 L1301.61 12.096 Q1311.78 12.096 1316.96 16.714 Q1322.19 21.2916 1322.19 30.163 Q1322.19 39.1155 1316.96 43.6931 Q1311.78 48.2706 1301.61 48.2706 L1291.32 48.2706 L1291.32 72.576 L1283.14 72.576 L1283.14 12.096 Z\" fill=\"#000000\" fill-rule=\"evenodd\" fill-opacity=\"1\" /><path clip-path=\"url(#clip580)\" d=\"M1357.67 34.1734 Q1356.42 33.4443 1354.92 33.1202 Q1353.46 32.7556 1351.68 32.7556 Q1345.36 32.7556 1341.96 36.8875 Q1338.59 40.9789 1338.59 48.6757 L1338.59 72.576 L1331.1 72.576 L1331.1 27.2059 L1338.59 27.2059 L1338.59 34.2544 Q1340.94 30.1225 1344.71 28.1376 Q1348.48 26.1121 1353.87 26.1121 Q1354.64 26.1121 1355.57 26.2337 Q1356.5 26.3147 1357.63 26.5172 L1357.67 34.1734 Z\" fill=\"#000000\" fill-rule=\"evenodd\" fill-opacity=\"1\" /><path clip-path=\"url(#clip580)\" d=\"M1381.25 32.4315 Q1375.25 32.4315 1371.77 37.1306 Q1368.29 41.7891 1368.29 49.9314 Q1368.29 58.0738 1371.73 62.7728 Q1375.21 67.4314 1381.25 67.4314 Q1387.2 67.4314 1390.69 62.7323 Q1394.17 58.0333 1394.17 49.9314 Q1394.17 41.8701 1390.69 37.1711 Q1387.2 32.4315 1381.25 32.4315 M1381.25 26.1121 Q1390.97 26.1121 1396.52 32.4315 Q1402.07 38.7509 1402.07 49.9314 Q1402.07 61.0714 1396.52 67.4314 Q1390.97 73.7508 1381.25 73.7508 Q1371.49 73.7508 1365.94 67.4314 Q1360.43 61.0714 1360.43 49.9314 Q1360.43 38.7509 1365.94 32.4315 Q1371.49 26.1121 1381.25 26.1121 Z\" fill=\"#000000\" fill-rule=\"evenodd\" fill-opacity=\"1\" /><path clip-path=\"url(#clip580)\" d=\"M1421.8 14.324 L1421.8 27.2059 L1437.15 27.2059 L1437.15 32.9987 L1421.8 32.9987 L1421.8 57.6282 Q1421.8 63.1779 1423.3 64.7578 Q1424.84 66.3376 1429.5 66.3376 L1437.15 66.3376 L1437.15 72.576 L1429.5 72.576 Q1420.87 72.576 1417.59 69.3758 Q1414.31 66.1351 1414.31 57.6282 L1414.31 32.9987 L1408.84 32.9987 L1408.84 27.2059 L1414.31 27.2059 L1414.31 14.324 L1421.8 14.324 Z\" fill=\"#000000\" fill-rule=\"evenodd\" fill-opacity=\"1\" /><path clip-path=\"url(#clip580)\" d=\"M1485.76 48.0275 L1485.76 51.6733 L1451.49 51.6733 Q1451.98 59.3701 1456.11 63.421 Q1460.28 67.4314 1467.7 67.4314 Q1471.99 67.4314 1476 66.3781 Q1480.05 65.3249 1484.02 63.2184 L1484.02 70.267 Q1480.01 71.9684 1475.8 72.8596 Q1471.59 73.7508 1467.25 73.7508 Q1456.39 73.7508 1450.03 67.4314 Q1443.72 61.1119 1443.72 50.3365 Q1443.72 39.1965 1449.71 32.6746 Q1455.75 26.1121 1465.95 26.1121 Q1475.11 26.1121 1480.42 32.0264 Q1485.76 37.9003 1485.76 48.0275 M1478.31 45.84 Q1478.23 39.7232 1474.87 36.0774 Q1471.54 32.4315 1466.04 32.4315 Q1459.8 32.4315 1456.03 35.9558 Q1452.3 39.4801 1451.74 45.8805 L1478.31 45.84 Z\" fill=\"#000000\" fill-rule=\"evenodd\" fill-opacity=\"1\" /><path clip-path=\"url(#clip580)\" d=\"M1498 27.2059 L1505.45 27.2059 L1505.45 72.576 L1498 72.576 L1498 27.2059 M1498 9.54393 L1505.45 9.54393 L1505.45 18.9825 L1498 18.9825 L1498 9.54393 Z\" fill=\"#000000\" fill-rule=\"evenodd\" fill-opacity=\"1\" /><path clip-path=\"url(#clip580)\" d=\"M1558.76 45.1919 L1558.76 72.576 L1551.31 72.576 L1551.31 45.4349 Q1551.31 38.994 1548.8 35.7938 Q1546.28 32.5936 1541.26 32.5936 Q1535.22 32.5936 1531.74 36.4419 Q1528.26 40.2903 1528.26 46.9338 L1528.26 72.576 L1520.76 72.576 L1520.76 27.2059 L1528.26 27.2059 L1528.26 34.2544 Q1530.93 30.163 1534.54 28.1376 Q1538.18 26.1121 1542.92 26.1121 Q1550.74 26.1121 1554.75 30.9732 Q1558.76 35.7938 1558.76 45.1919 Z\" fill=\"#000000\" fill-rule=\"evenodd\" fill-opacity=\"1\" /><path clip-path=\"url(#clip580)\" d=\"M1615.92 72.576 L1592.83 12.096 L1601.38 12.096 L1620.54 63.0159 L1639.74 12.096 L1648.25 12.096 L1625.2 72.576 L1615.92 72.576 Z\" fill=\"#000000\" fill-rule=\"evenodd\" fill-opacity=\"1\" /><path clip-path=\"url(#clip580)\" d=\"M1670.93 49.7694 Q1661.9 49.7694 1658.41 51.8354 Q1654.93 53.9013 1654.93 58.8839 Q1654.93 62.8538 1657.52 65.2034 Q1660.15 67.5124 1664.65 67.5124 Q1670.85 67.5124 1674.58 63.1374 Q1678.34 58.7219 1678.34 51.4303 L1678.34 49.7694 L1670.93 49.7694 M1685.8 46.6907 L1685.8 72.576 L1678.34 72.576 L1678.34 65.6895 Q1675.79 69.8214 1671.98 71.8063 Q1668.18 73.7508 1662.67 73.7508 Q1655.7 73.7508 1651.57 69.8619 Q1647.48 65.9325 1647.48 59.3701 Q1647.48 51.7138 1652.58 47.825 Q1657.72 43.9361 1667.89 43.9361 L1678.34 43.9361 L1678.34 43.2069 Q1678.34 38.0623 1674.94 35.2672 Q1671.58 32.4315 1665.46 32.4315 Q1661.57 32.4315 1657.89 33.3632 Q1654.2 34.295 1650.8 36.1584 L1650.8 29.2718 Q1654.89 27.692 1658.74 26.9223 Q1662.59 26.1121 1666.23 26.1121 Q1676.07 26.1121 1680.94 31.2163 Q1685.8 36.3204 1685.8 46.6907 Z\" fill=\"#000000\" fill-rule=\"evenodd\" fill-opacity=\"1\" /><path clip-path=\"url(#clip580)\" d=\"M1727.44 34.1734 Q1726.18 33.4443 1724.69 33.1202 Q1723.23 32.7556 1721.45 32.7556 Q1715.13 32.7556 1711.72 36.8875 Q1708.36 40.9789 1708.36 48.6757 L1708.36 72.576 L1700.87 72.576 L1700.87 27.2059 L1708.36 27.2059 L1708.36 34.2544 Q1710.71 30.1225 1714.48 28.1376 Q1718.24 26.1121 1723.63 26.1121 Q1724.4 26.1121 1725.33 26.2337 Q1726.27 26.3147 1727.4 26.5172 L1727.44 34.1734 Z\" fill=\"#000000\" fill-rule=\"evenodd\" fill-opacity=\"1\" /><path clip-path=\"url(#clip580)\" d=\"M1735.26 27.2059 L1742.71 27.2059 L1742.71 72.576 L1735.26 72.576 L1735.26 27.2059 M1735.26 9.54393 L1742.71 9.54393 L1742.71 18.9825 L1735.26 18.9825 L1735.26 9.54393 Z\" fill=\"#000000\" fill-rule=\"evenodd\" fill-opacity=\"1\" /><path clip-path=\"url(#clip580)\" d=\"M1778.93 49.7694 Q1769.89 49.7694 1766.41 51.8354 Q1762.93 53.9013 1762.93 58.8839 Q1762.93 62.8538 1765.52 65.2034 Q1768.15 67.5124 1772.65 67.5124 Q1778.85 67.5124 1782.57 63.1374 Q1786.34 58.7219 1786.34 51.4303 L1786.34 49.7694 L1778.93 49.7694 M1793.79 46.6907 L1793.79 72.576 L1786.34 72.576 L1786.34 65.6895 Q1783.79 69.8214 1779.98 71.8063 Q1776.17 73.7508 1770.66 73.7508 Q1763.7 73.7508 1759.56 69.8619 Q1755.47 65.9325 1755.47 59.3701 Q1755.47 51.7138 1760.58 47.825 Q1765.72 43.9361 1775.89 43.9361 L1786.34 43.9361 L1786.34 43.2069 Q1786.34 38.0623 1782.94 35.2672 Q1779.58 32.4315 1773.46 32.4315 Q1769.57 32.4315 1765.88 33.3632 Q1762.2 34.295 1758.79 36.1584 L1758.79 29.2718 Q1762.89 27.692 1766.73 26.9223 Q1770.58 26.1121 1774.23 26.1121 Q1784.07 26.1121 1788.93 31.2163 Q1793.79 36.3204 1793.79 46.6907 Z\" fill=\"#000000\" fill-rule=\"evenodd\" fill-opacity=\"1\" /><path clip-path=\"url(#clip580)\" d=\"M1846.86 45.1919 L1846.86 72.576 L1839.41 72.576 L1839.41 45.4349 Q1839.41 38.994 1836.9 35.7938 Q1834.38 32.5936 1829.36 32.5936 Q1823.33 32.5936 1819.84 36.4419 Q1816.36 40.2903 1816.36 46.9338 L1816.36 72.576 L1808.86 72.576 L1808.86 27.2059 L1816.36 27.2059 L1816.36 34.2544 Q1819.03 30.163 1822.64 28.1376 Q1826.28 26.1121 1831.02 26.1121 Q1838.84 26.1121 1842.85 30.9732 Q1846.86 35.7938 1846.86 45.1919 Z\" fill=\"#000000\" fill-rule=\"evenodd\" fill-opacity=\"1\" /><path clip-path=\"url(#clip580)\" d=\"M1894.38 28.9478 L1894.38 35.9153 Q1891.22 34.1734 1888.02 33.3227 Q1884.86 32.4315 1881.62 32.4315 Q1874.37 32.4315 1870.36 37.0496 Q1866.35 41.6271 1866.35 49.9314 Q1866.35 58.2358 1870.36 62.8538 Q1874.37 67.4314 1881.62 67.4314 Q1884.86 67.4314 1888.02 66.5807 Q1891.22 65.6895 1894.38 63.9476 L1894.38 70.8341 Q1891.26 72.2924 1887.9 73.0216 Q1884.57 73.7508 1880.81 73.7508 Q1870.56 73.7508 1864.52 67.3098 Q1858.49 60.8689 1858.49 49.9314 Q1858.49 38.832 1864.56 32.472 Q1870.68 26.1121 1881.29 26.1121 Q1884.74 26.1121 1888.02 26.8413 Q1891.3 27.5299 1894.38 28.9478 Z\" fill=\"#000000\" fill-rule=\"evenodd\" fill-opacity=\"1\" /><path clip-path=\"url(#clip580)\" d=\"M1946.15 48.0275 L1946.15 51.6733 L1911.88 51.6733 Q1912.36 59.3701 1916.5 63.421 Q1920.67 67.4314 1928.08 67.4314 Q1932.38 67.4314 1936.39 66.3781 Q1940.44 65.3249 1944.41 63.2184 L1944.41 70.267 Q1940.4 71.9684 1936.18 72.8596 Q1931.97 73.7508 1927.64 73.7508 Q1916.78 73.7508 1910.42 67.4314 Q1904.1 61.1119 1904.1 50.3365 Q1904.1 39.1965 1910.1 32.6746 Q1916.13 26.1121 1926.34 26.1121 Q1935.49 26.1121 1940.8 32.0264 Q1946.15 37.9003 1946.15 48.0275 M1938.7 45.84 Q1938.61 39.7232 1935.25 36.0774 Q1931.93 32.4315 1926.42 32.4315 Q1920.18 32.4315 1916.42 35.9558 Q1912.69 39.4801 1912.12 45.8805 L1938.7 45.84 Z\" fill=\"#000000\" fill-rule=\"evenodd\" fill-opacity=\"1\" /><g clip-path=\"url(#clip583)\">\n",
       "<image width=\"1914\" height=\"1304\" xlink:href=\"data:image/png;base64,\n",
       "iVBORw0KGgoAAAANSUhEUgAAB3oAAAUYCAYAAABOZtORAAAgAElEQVR4nOzbwW3EQAwEwV1jM3EK\n",
       "zj81OQZBhyMaqopgHvw1uM/v37UgxckCAAAAAADwbj/TAwAAAAAAAAC4R+gFAAAAAAAAiBF6AQAA\n",
       "AAAAAGKEXgAAAAAAAIAYoRcAAAAAAAAgRugFAAAAAAAAiBF6AQAAAAAAAGKEXgAAAAAAAIAYoRcA\n",
       "AAAAAAAgRugFAAAAAAAAiBF6AQAAAAAAAGKEXgAAAAAAAIAYoRcAAAAAAAAg5kwPgPv29AAAAAAA\n",
       "AAAY5aMXAAAAAAAAIEboBQAAAAAAAIgRegEAAAAAAABihF4AAAAAAACAGKEXAAAAAAAAIEboBQAA\n",
       "AAAAAIgRegEAAAAAAABihF4AAAAAAACAGKEXAAAAAAAAIEboBQAAAAAAAIgRegEAAAAAAABihF4A\n",
       "AAAAAACAGKEXAAAAAAAAIEboBQAAAAAAAIgRegEAAAAAAABihF4AAAAAAACAGKEXAAAAAAAAIEbo\n",
       "BQAAAAAAAIgRegEAAAAAAABihF4AAAAAAACAGKEXAAAAAAAAIEboBQAAAAAAAIgRegEAAAAAAABi\n",
       "hF4AAAAAAACAGKEXAAAAAAAAIEboBQAAAAAAAIgRegEAAAAAAABihF4AAAAAAACAGKEXAAAAAAAA\n",
       "IEboBQAAAAAAAIgRegEAAAAAAABihF4AAAAAAACAGKEXAAAAAAAAIEboBQAAAAAAAIgRegEAAAAA\n",
       "AABihF4AAAAAAACAGKEXAAAAAAAAIEboBQAAAAAAAIgRegEAAAAAAABihF4AAAAAAACAGKEXAAAA\n",
       "AAAAIEboBQAAAAAAAIgRegEAAAAAAABihF4AAAAAAACAGKEXAAAAAAAAIEboBQAAAAAAAIgRegEA\n",
       "AAAAAABihF4AAAAAAACAGKEXAAAAAAAAIEboBQAAAAAAAIgRegEAAAAAAABihF4AAAAAAACAGKEX\n",
       "AAAAAAAAIEboBQAAAAAAAIgRegEAAAAAAABihF4AAAAAAACAGKEXAAAAAAAAIEboBQAAAAAAAIgR\n",
       "egEAAAAAAABihF4AAAAAAACAGKEXAAAAAAAAIEboBQAAAAAAAIgRegEAAAAAAABihF4AAAAAAACA\n",
       "mLP29AQYdE0PAAAAAAAAgPt89AIAAAAAAADECL0AAAAAAAAAMUIvAAAAAAAAQIzQCwAAAAAAABAj\n",
       "9AIAAAAAAADECL0AAAAAAAAAMUIvAAAAAAAAQIzQCwAAAAAAABAj9AIAAAAAAADECL0AAAAAAAAA\n",
       "MUIvAAAAAAAAQIzQCwAAAAAAABBzpgfAqD09AAAAAAAAAO7z0QsAAAAAAAAQI/QCAAAAAAAAxAi9\n",
       "AAAAAAAAADFCLwAAAAAAAECM0AsAAAAAAAAQI/QCAAAAAAAAxAi9AAAAAAAAADFCLwAAAAAAAECM\n",
       "0AsAAAAAAAAQI/QCAAAAAAAAxAi9AAAAAAAAADFCLwAAAAAAAECM0AsAAAAAAAAQI/QCAAAAAAAA\n",
       "xAi9AAAAAAAAADFCLwAAAAAAAECM0AsAAAAAAAAQI/QCAAAAAAAAxAi9AAAAAAAAADFCLwAAAAAA\n",
       "AECM0AsAAAAAAAAQI/QCAAAAAAAAxAi9AAAAAAAAADFCLwAAAAAAAECM0AsAAAAAAAAQI/QCAAAA\n",
       "AAAAxAi9AAAAAAAAADFCLwAAAAAAAECM0AsAAAAAAAAQI/QCAAAAAAAAxAi9AAAAAAAAADFCLwAA\n",
       "AAAAAECM0AsAAAAAAAAQI/QCAAAAAAAAxAi9AAAAAAAAADFCLwAAAAAAAECM0AsAAAAAAAAQI/QC\n",
       "AAAAAAAAxJy19vQGAAAAAIAPuaYHAAB8hY9eAAAAAAAAgBihFwAAAAAAACBG6AUAAAAAAACIEXoB\n",
       "AAAAAAAAYoReAAAAAAAAgBihFwAAAAAAACBG6AUAAAAAAACIEXoBAAAAAAAAYoReAAAAAAAAgBih\n",
       "FwAAAAAAACBG6AUAAAAAAACIEXoBAAAAAAAAYs70AAAAAACAz9nTAwAAvsJHLwAAAAAAAECM0AsA\n",
       "AAAAAAAQI/QCAAAAAAAAxAi9AAAAAAAAADFCLwAAAAAAAECM0AsAAAAAAAAQI/QCAAAAAAAAxAi9\n",
       "AAAAAAAAADFCLwAAAAAAAECM0AsAAAAAAAAQI/QCAAAAAAAAxAi9AAAAAAAAADFCLwAAAAAAAECM\n",
       "0AsAAAAAAAAQI/QCAAAAAAAAxAi9AAAAAAAAADFCLwAAAAAAAECM0AsAAAAAAAAQI/QCAAAAAAAA\n",
       "xAi9AAAAAAAAADFCLwAAAAAAAECM0AsAAAAAAAAQI/QCAAAAAAAAxAi9AAAAAAAAADFCLwAAAAAA\n",
       "AECM0AsAAAAAAAAQI/QCAAAAAAAAxAi9AAAAAAAAADFCLwAAAAAAAECM0AsAAAAAAAAQI/QCAAAA\n",
       "AAAAxAi9AAAAAAAAADFCLwAAAAAAAECM0AsAAAAAAAAQI/QCAAAAAAAAxAi9AAAAAAAAADFCLwAA\n",
       "AAAAAECM0AsAAAAAAAAQI/QCAAAAAAAAxAi9AAAAAAAAADFCLwAAAAAAAECM0AsAAAAAAAAQI/QC\n",
       "AAAAAAAAxAi9AAAAAAAAADFCLwAAAAAAAECM0AsAAAAAAAAQI/QCAAAAAAAAxAi9AAAAAAAAADFC\n",
       "LwAAAAAAAECM0AsAAAAAAAAQI/QCAAAAAAAAxAi9AAAAAAAAADFCLwAAAAAAAECM0AsAAAAAAAAQ\n",
       "I/QCAAAAAAAAxAi9AAAAAAAAADFCLwAAAAAAAECM0AsAAAAAAAAQI/QCAAAAAAAAxAi9AAAAAAAA\n",
       "ADFCLwAAAAAAAECM0AsAAAAAAAAQI/QCAAAAAAAAxAi9AAAAAAAAADFCLwAAAAAAAECM0AsAAAAA\n",
       "AAAQI/QCAAAAAAAAxAi9AAAAAAAAADFCLwAAAAAAAECM0AsAAAAAAAAQI/QCAAAAAAAAxAi9AAAA\n",
       "AAAAADFCLwAAAAAAAECM0AsAAAAAAAAQI/QCAAAAAAAAxAi9AAAAAAAAADFCLwAAAAAAAECM0AsA\n",
       "AAAAAAAQI/QCAAAAAAAAxAi9AAAAAAAAADFCLwAAAAAAAECM0AsAAAAAAAAQI/QCAAAAAAAAxAi9\n",
       "AAAAAAAAADFCLwAAAAAAAECM0AsAAAAAAAAQI/QCAAAAAAAAxAi9AAAAAAAAADFCLwAAAAAAAECM\n",
       "0AsAAAAAAAAQc9ba0xsAAAAAAADCrukBwAv56AUAAAAAAACIEXoBAAAAAAAAYoReAAAAAAAAgBih\n",
       "FwAAAAAAACBG6AUAAAAAAACIEXoBAAAAAAAAYoReAAAAAAAAgBihFwAAAAAAACBG6AUAAAAAAACI\n",
       "EXoBAAAAAAAAYoReAAAAAAAAgBihFwAAAAAAACDmTA8AAAAAAABo29MDgBfy0QsAAAAAAAAQI/QC\n",
       "AAAAAAAAxAi9AAAAAAAAADFCLwAAAAAAAECM0AsAAAAAAAAQI/QCAAAAAAAAxAi9AAAAAAAAADFC\n",
       "LwAAAAAAAECM0AsAAAAAAAAQI/QCAAAAAAAAxAi9AAAAAAAAADFCLwAAAAAAAECM0AsAAAAAAAAQ\n",
       "I/QCAAAAAAAAxAi9AAAAAAAAADFCLwAAAAAAAECM0AsAAAAAAAAQI/QCAAAAAAAAxAi9AAAAAAAA\n",
       "ADFCLwAAAAAAAECM0AsAAAAAAAAQI/QCAAAAAAAAxAi9AAAAAAAAADFCLwAAAAAAAECM0AsAAAAA\n",
       "AAAQI/QCAAAAAAAAxAi9AAAAAAAAADFCLwAAAAAAAECM0AsAAAAAAAAQI/QCAAAAAAAAxAi9AAAA\n",
       "AAAAADFCLwAAAAAAAECM0AsAAAAAAAAQI/QCAAAAAAAAxAi9AAAAAAAAADFCLwAAAAAAAECM0AsA\n",
       "AAAAAAAQI/QCAAAAAAAAxAi9AAAAAAAAADFCLwAAAAAAAECM0AsAAAAAAAAQI/QCAAAAAAAAxAi9\n",
       "AAAAAAAAADFCLwAAAAAAAECM0AsAAAAAAAAQI/QCAAAAAAAAxAi9AAAAAAAAADFCLwAAAAAAAECM\n",
       "0AsAAAAAAAAQI/QCAAAAAAAAxAi9AAAAAAAAADFCLwAAAAAAAECM0AsAAAAAAAAQI/QCAAAAAAAA\n",
       "xAi9AAAAAAAAADFCLwAAAAAAAECM0AsAAAAAAAAQI/QCAAAAAAAAxAi9AAAAAAAAADFCLwAAAAAA\n",
       "AECM0AsAAAAAAAAQI/QCAAAAAAAAxAi9AAAAAAAAADFCLwAAAAAAAECM0AsAAAAAAAAQI/QCAAAA\n",
       "AAAAxAi9AAAAAAAAADFCLwAAAAAAAECM0AsAAAAAAAAQI/QCAAAAAAAAxAi9AAAAAAAAADFCLwAA\n",
       "AAAAAECM0AsAAAAAAAAQI/QCAAAAAAAAxAi9AAAAAAAAADFCLwAAAAAAAECM0AsAAAAAAAAQc9ba\n",
       "0xsAAAAAAAAAuMFHLwAAAAAAAECM0AsAAAAAAAAQI/QCAAAAAAAAxAi9AAAAAAAAADFCLwAAAAAA\n",
       "AECM0AsAAAAAAAAQI/QCAAAAAAAAxAi9AAAAAAAAADFCLwAAAAAAAECM0AsAAAAAAAAQI/QCAAAA\n",
       "AAAAxAi9AAAAAAAAADFCLwAAAAAAAEDMWXt6AgAAAAAAAAB3+OgFAAAAAAAAiBF6AQAAAAAAAGKE\n",
       "XgAAAAAAAIAYoRcAAAAAAAAgRugFAAAAAAAAiBF6AQAAAAAAAGKEXgAAAAAAAIAYoRcAAAAAAAAg\n",
       "RugFAAAAAAAAiBF6AQAAAAAAAGKEXgAAAAAAAIAYoRcAAAAAAAAgRugFAAAAAAAAiBF6AQAAAAAA\n",
       "AGKEXgAAAAAAAIAYoRcAAAAAAAAgRugFAAAAAAAAiBF6AQAAAAAAAGKEXgAAAAAAAIAYoRcAAAAA\n",
       "AAAgRugFAAAAAAAAiBF6AQAAAAAAAGKEXgAAAAAAAIAYoRcAAAAAAAAgRugFAAAAAAAAiBF6AQAA\n",
       "AAAAAGKEXgAAAAAAAIAYoRcAAAAAAAAgRugFAAAAAAAAiBF6AQAAAAAAAGKEXgAAAAAAAIAYoRcA\n",
       "AAAAAAAgRugFAAAAAAAAiBF6AQAAAAAAAGKEXgAAAAAAAIAYoRcAAAAAAAAgRugFAAAAAAAAiBF6\n",
       "AQAAAAAAAGKEXgAAAAAAAIAYoRcAAAAAAAAgRugFAAAAAAAAiBF6AQAAAAAAAGKEXgAAAAAAAIAY\n",
       "oRcAAAAAAAAgRugFAAAAAAAAiBF6AQAAAAAAAGKEXgAAAAAAAIAYoRcAAAAAAAAgRugFAAAAAAAA\n",
       "iBF6AQAAAAAAAGKEXgAAAAAAAICYs9ae3gDA113TAwAAAAAAgAd89AIAAAAAAADECL0AAAAAAAAA\n",
       "MUIvAAAAAAAAQIzQCwAAAAAAABAj9AIAAAAAAADECL0AAAAAAAAAMUIvAAAAAAAAQIzQCwAAAAAA\n",
       "ABAj9AIAAAAAAADECL0AAAAAAAAAMUIvAAAAAAAAQIzQCwAAAAAAABBzpgcAMGFPDwAAAAAAAB7w\n",
       "0QsAAAAAAAAQI/QCAAAAAAAAxAi9AAAAAAAAADFCLwAAAAAAAECM0AsAAAAAAAAQI/QCAAAAAAAA\n",
       "xAi9AAAAAAAAADFCLwAAAAAAAECM0AsAAAAAAAAQI/QCAAAAAAAAxAi9AAAAAAAAADFCLwAAAAAA\n",
       "AECM0AsAAAAAAAAQI/QCAAAAAAAAxAi9AAAAAAAAADFCLwAAAAAAAECM0AsAAAAAAAAQI/QCAAAA\n",
       "AAAAxAi9AAAAAAAAADFCLwAAAAAAAECM0AsAAAAAAAAQI/QCAAAAAAAAxAi9AAAAAAAAADFCLwAA\n",
       "AAAAAECM0AsAAAAAAAAQI/QCAAAAAAAAxAi9AAAAAAAAADFCLwAAAAAAAECM0AsAAAAAAAAQI/QC\n",
       "AAAAAAAAxAi9AAAAAAAAADFCLwAAAAAAAECM0AsAAAAAAAAQI/QCAAAAAAAAxAi9AAAAAAAAADFC\n",
       "LwAAAAAAAECM0AsAAAAAAAAQI/QCAAAAAAAAxAi9AAAAAAAAADFCLwAAAAAAAECM0AsAAAAAAAAQ\n",
       "I/QCAAAAAAAAxAi9AAAAAAAAADFCLwAAAAAAAECM0AsAAAAAAAAQI/QCAAAAAAAAxAi9AAAAAAAA\n",
       "ADFCLwAAAAAAAECM0AsAAAAAAAAQI/QCAAAAAAAAxAi9AAAAAAAAADFnrT29AQAAAAB4tWt6AABA\n",
       "jo9eAAAAAAAAgBihFwAAAAAAACBG6AUAAAAAAACIEXoBAAAAAAAAYoReAAAAAAAAgBihFwAAAAAA\n",
       "ACBG6AUAAAAAAACIEXoBAAAAAAAAYoReAAAAAAAAgBihFwAAAAAAACBG6AUAAAAAAACIEXoBAAAA\n",
       "AAAAYs70AAAAAADg7fb0AACAHB+9AAAAAAAAADFCLwAAAAAAAECM0AsAAAAAAAAQI/QCAAAAAAAA\n",
       "xAi9AAAAAAAAADFCLwAAAAAAAECM0AsAAAAAAAAQI/QCAAAAAAAAxAi9AAAAAAAAADFCLwAAAAAA\n",
       "AECM0AsAAAAAAAAQI/QCAAAAAAAAxAi9AAAAAAAAADFCLwAAAAAAAECM0AsAAAAAAAAQI/QCAAAA\n",
       "AAAAxAi9AAAAAAAAADFCLwAAAAAAAECM0AsAAAAAAAAQI/QCAAAAAAAAxAi9AAAAAAAAADFCLwAA\n",
       "AAAAAECM0AsAAAAAAAAQI/QCAAAAAAAAxAi9AAAAAAAAADFCLwAAAAAAAECM0AsAAAAAAAAQI/QC\n",
       "AAAAAAAAxAi9AAAAAAAAADFCLwAAAAAAAECM0AsAAAAAAAAQI/QCAAAAAAAAxAi9AAAAAAAAADFC\n",
       "LwAAAAAAAECM0AsAAAAAAAAQI/QCAAAAAAAAxAi9AAAAAAAAADFCLwAAAAAAAEDM2XtPbwDg667p\n",
       "AQAAAAAAwAM+egEAAAAAAABihF4AAAAAAACAGKEXAAAAAAAAIEboBQAAAAAAAIgRegEAAAAAAABi\n",
       "hF4AAAAAAACAGKEXAAAAAAAAIEboBQAAAAAAAIgRegEAAAAAAABihF4AAAAAAACAGKEXAAAAAAAA\n",
       "IEboBQAAAAAAAIg50wMAmLCnBwAAAAAAAA/46AUAAAAAAACIEXoBAAAAAAAAYoReAAAAAAAAgBih\n",
       "FwAAAAAAACBG6AUAAAAAAACIEXoBAAAAAAAAYoReAAAAAAAAgBihFwAAAAAAACBG6AUAAAAAAACI\n",
       "EXoBAAAAAAAAYoReAAAAAAAAgBihFwAAAAAAACBG6AUAAAAAAACIEXoBAAAAAAAAYoReAAAAAAAA\n",
       "gBihFwAAAAAAACBG6AUAAAAAAACIEXoBAAAAAAAAYoReAAAAAAAAgBihFwAAAAAAACBG6AUAgH/2\n",
       "7SDFbiSIomgGlfvf8u+pTbsxMlWOf6vPWYB4SBPBJQAAAAAgRugFAAAAAAAAiBF6AQAAAAAAAGKE\n",
       "XgAAAAAAAIAYoRcAAAAAAAAgRugFAAAAAAAAiBF6AQAAAAAAAGKEXgAAAAAAAIAYoRcAAAAAAAAg\n",
       "RugFAAAAAAAAiBF6AQAAAAAAAGKEXgAAAAAAAIAYoRcAAAAAAAAgRugFAAAAAAAAiBF6AQAAAAAA\n",
       "AGKEXgAAAAAAAIAYoRcAAAAAAAAgRugFAAAAAAAAiLnnzPYGAAAAAAAAAB5w0QsAAAAAAAAQI/QC\n",
       "AAAAAAAAxAi9AAAAAAAAADFCLwAAAAAAAECM0AsAAAAAAAAQI/QCAAAAAAAAxAi9AAAAAAAAADFC\n",
       "LwAAAAAAAECM0AsAAAAAAAAQI/QCAAAAAAAAxAi9AAAAAAAAADFCLwAAAAAAAECM0AsAAAAAAAAQ\n",
       "I/QCAAAAAAAAxAi9AAAAAAAAADFCLwAAAAAAAECM0AsAAAAAAAAQI/QCAAAAAAAAxAi9AAAAAAAA\n",
       "ADFCLwAAAAAAAECM0AsAAAAAAAAQI/QCAAAAAAAAxAi9AAAAAAAAADFCLwAAAAAAAECM0AsAAAAA\n",
       "AAAQI/QCAAAAAAAAxAi9AAAAAAAAADFCLwAAAAAAAECM0AsAAAAAAAAQI/QCAAAAAAAAxAi9AAAA\n",
       "AAAAADFCLwAAAAAAAECM0AsAAAAAAAAQI/QCAAAAAAAAxAi9AAAAAAAAADFCLwAAAAAAAECM0AsA\n",
       "AAAAAAAQI/QCAAAAAAAAxNxzZnsDAAAA/OC1PQAAAADenoteAAAAAAAAgBihFwAAAAAAACBG6AUA\n",
       "AAAAAACIEXoBAAAAAAAAYoReAAAAAAAAgBihFwAAAAAAACBG6AUAAAAAAACIEXoBAAAAAAAAYoRe\n",
       "AAAAAAAAgBihFwAAAAAAACBG6AUAAAAAAACIEXoBAAAAAAAAYu72AAAAAPjZbA8AAACAt+eiFwAA\n",
       "AAAAACBG6AUAAAAAAACIEXoBAAAAAAAAYoReAAAAAAAAgBihFwAAAAAAACBG6AUAAAAAAACIEXoB\n",
       "AAAAAAAAYoReAAAAAAAAgBihFwAAAAAAACBG6AUAAAAAAACIEXoBAAAAAAAAYoReAAAAAAAAgJh7\n",
       "ZnsCAAAAAAAAAE+46AUAAAAAAACIEXoBAAAAAAAAYoReAAAAAAAAgBihFwAAAAAAACBG6AUAAAAA\n",
       "AACIEXoBAAAAAAAAYoReAAAAAAAAgBihFwAAAAAAACBG6AUAAAAAAACIEXoBAAAAAAAAYoReAAAA\n",
       "AAAAgBihFwAAAAAAACDmnjPbGwAAAAAAAAB4wEUvAAAAAAAAQIzQCwAAAAAAABAj9AIAAAAAAADE\n",
       "CL0AAAAAAAAAMUIvAAAAAAAAQIzQCwAAAAAAABAj9AIAAAAAAADECL0AAAAAAAAAMUIvAAAAAAAA\n",
       "QIzQCwAAAAAAABAj9AIAAAAAAADECL0AAAAAAAAAMUIvAAAAAAAAQIzQCwAAAAAAABAj9AIAAAAA\n",
       "AADECL0AAAAAAAAAMUIvAAAAAAAAQIzQCwAAAAAAABAj9AIAAAAAAADECL0AAAAAAAAAMUIvAAAA\n",
       "AAAAQIzQCwAAAAAAABAj9AIAAAAAAADECL0AAAAAAAAAMUIvAAAAAAAAQIzQCwAAAAAAABAj9AIA\n",
       "AAAAAADECL0AAAAAAAAAMUIvAAAAAAAAQIzQCwAAAAAAABAj9AIAAAAAAADECL0AAAAAAAAAMUIv\n",
       "AAAAAAAAQIzQCwAAAAAAABAj9AIAAAAAAADECL0AAAAAAAAAMUIvAAAAAAAAQIzQCwAAAAAAABAj\n",
       "9AIAAAAAAADE3HNmewMAAAAAAAAAD7joBQAAAAAAAIgRegEAAAAAAABihF4AAAAAAACAGKEXAAAA\n",
       "AAAAIEboBQAAAAAAAIgRegEAAAAAAABihF4AAAAAAACAGKEXAAAAAAAAIEboBQAAAAAAAIgRegEA\n",
       "AAAAAABihF4AAAAAAACAGKEXAAAAAAAAIEboBQAAAAAAAIgRegEAAAAAAABihF4AAAAAAACAGKEX\n",
       "AAAAAAAAIEboBQAAAAAAAIgRegEAAAAAAABihF4AAAAAAACAGKEXAAAAAAAAIEboBQAAAAAAAIgR\n",
       "egEAAAAAAABihF4AAAAAAACAGKEXAAAAAAAAIEboBQAAAAAAAIi558z2BgAAAAAAAAAecNELAAAA\n",
       "AAAAECP0AgAAAAAAAMQIvQAAAAAAAAAxQi8AAAAAAABAjNALAAAAAAAAECP0AgAAAAAAAMQIvQAA\n",
       "AAAAAAAxQi8AAAAAAABAjNALAAAAAAAAECP0AgAAAAAAAMQIvQAAAAAAAAAxQi8AAAAAAABAzD2z\n",
       "PQEAAAAAAACAJ1z0AgAAAAAAAMQIvQAAAAAAAAAxQi8AAAAAAABAjNALAAAAAAAAECP0AgAAAAAA\n",
       "AMQIvQAAAAAAAAAxQi8AAAAAAABAjNALAAAAAAAAECP0AgAAAAAAAMQIvQAAAAAAAAAxQi8AAAAA\n",
       "AABAjNALAAAAAAAAEHPPme0NAAAAAAAAADzgohcAAAAAAAAgRugFAAAAAAAAiBF6AQAAAAAAAGKE\n",
       "XgAAAAAAAIAYoRcAAAAAAAAgRugFAAAAAAAAiBF6AQAAAAAAAGKEXgAAAAAAAIAYoRcAAAAAAAAg\n",
       "RugFAAAAAAAAiBF6AQAAAAAAAGKEXgAAAAAAAIAYoRcAAAAAAAAgRugFAAAAAAAAiBF6AQAAAAAA\n",
       "AGKEXgAAAAAAAIAYoRcAAAAAAAAgRugFAAAAAAAAiBF6AQAAAAAAAGKEXgAAAAAAAIAYoRcAAAAA\n",
       "AAAgRugFAAAAAAAAiBF6AQAAAAAAAGKEXgAAAAAAAIAYoRcAAAAAAAAg5p4z2xsAAAAAAAAAeMBF\n",
       "LwAAAAAAAECM0AsAAAAAAAAQI/QCAAAAAAAAxAi9AAAAAAAAADFCLwAAAAAAAECM0AsAAAAAAAAQ\n",
       "I/QCAAAAAAAAxAi9AAAAAAAAADFCLwAAAAAAAECM0AsAAAAAAAAQI/QCAAAAAAAAxAi9AAAAAAAA\n",
       "ADFCLwAAAAAAAECM0AsAAAAAAAAQI/QCAAAAAAAAxAi9AAAAAAAAADFCLwAAAAAAAECM0AsAAAAA\n",
       "AAAQI/QCAAAAAAAAxAi9AAAAAAAAADFCLwAAAAAAAECM0AsAAAAAAAAQI/QCAAAAAAAAxAi9AAAA\n",
       "AAAAADFCLwAAAAAAAEDMPWe2NwAAAAAAAADwgIteAAAAAAAAgBihFwAAAAAAACBG6AUAAAAAAACI\n",
       "EXoBAAAAAAAAYoReAAAAAAAAgBihFwAAAAAAACBG6AUAAAAAAACIEXoBAAAAAAAAYoReAAAAAAAA\n",
       "gBihFwAAAAAAACBG6AUAAAAAAACIEXoBAAAAAAAAYu6Z2d4AAPAbr+0BAAAAAABvxUUvAAAAAAAA\n",
       "QIzQCwAAAAAAABAj9AIAAAAAAADECL0AAAAAAAAAMUIvAAAAAAAAQIzQCwAAAAAAABAj9AIAAAAA\n",
       "AADECL0AAAAAAAAAMUIvAAAAAAAAQIzQCwAAAAAAABAj9AIAAAAAAADECL0AAAAAAAAAMXe2F/Bp\n",
       "XtsDAODL+GMBAAAAAPiRi14AAAAAAACAGKEXAAAAAAAAIEboBQAAAAAAAIgRegEAAAAAAABihF4A\n",
       "AAAAAACAGKEXAAAAAAAAIEboBQAAAAAAAIxEjrcAABQBSURBVIgRegEAAAAAAABihF4AAAAAAACA\n",
       "GKEXAAAAAAAAIEboBQAAAAAAAIgRegEAAAAAAABi7jmzvYFP4ksCAAAAAADA/4OLXgAAAAAAAIAY\n",
       "oRcAAAAAAAAgRugFAAAAAAAAiBF6AQAAAAAAAGKEXgAAAAAAAIAYoRcAAAAAAAAgRugFAAAAAAAA\n",
       "iBF6AQAAAAAAAGKEXgAAAAAAAIAYoRcAAAAAAAAgRugFAAAAAAAAiBF6AQAAAAAAAGLuObO9AQAA\n",
       "AAAAAIAHXPQCAAAAAAAAxAi9AAAAAAAAADFCLwAAAAAAAECM0AsAAAAAAAAQI/QCAAAAAAAAxAi9\n",
       "AAAAAAAAADFCLwAAAAAAAECM0AsAAAAAAAAQI/QCAAAAAAAAxAi9AAAAAAAAADFCLwAAAAAAAECM\n",
       "0AsAAAAAAAAQc8/M9gbgX17bAwAAAAAAAHhjLnoBAAAAAAAAYoReAAAAAAAAgBihFwAAAAAAACBG\n",
       "6AUAAAAAAACIEXoBAAAAAAAAYoReAAAAAAAAgBihFwAAAAAAACBG6AUAAAAAAACIEXoBAAAAAAAA\n",
       "YoReAAAAAAAAgBihFwAAAAAAACBG6AUAAAAAAACIudsDgF+Z7QEAAAAAAAC8MRe9AAAAAAAAADFC\n",
       "LwAAAAAAAECM0AsAAAAAAAAQI/QCAAAAAAAAxAi9AAAAAAAAADFCLwAAAAAAAECM0AsAAAAAAAAQ\n",
       "I/QCAAAAAAAAxAi9AAAAAAAAADFCLwAAAAAAAECM0AsAAAAAAAAQI/QCAAAAAAAAxNxzZnsDAAAA\n",
       "AAAAAA+46AUAAAAAAACIEXoBAAAAAAAAYoReAAAAAAAAgBihFwAAAAAAACBG6AUAAAAAAACIEXoB\n",
       "AAAAAAAAYoReAAAAAAAAgBihFwAAAAAAACBG6AUAAAAAAACIEXoBAAAAAAAAYoReAAAAAAAAgBih\n",
       "FwAAAAAAACDmnjPbGwAAAAAAAAB4wEUvAAAAAAAAQIzQCwAAAAAAABAj9AIAAAAAAADECL0AAAAA\n",
       "AAAAMUIvAAAAAAAAQIzQCwAAAAAAABAj9AIAAAAAAADECL0AAAAAAAAAMUIvAAAAAAAAQIzQCwAA\n",
       "AAAAABAj9AIAAAAAAADECL0AAAAAAAAAMffMbG8AAAAAAAAA4AEXvQAAAAAAAAAxQi8AAAAAAABA\n",
       "jNALAAAAAAAAECP0AgAAAAAAAMQIvQAAAAAAAAAxQi8AAAAAAABAjNALAAAAAAAAECP0AgAAAAAA\n",
       "AMQIvQAAAAAAAAAxQi8AAAAAAABAjNALAAAAAAAAECP0AgAAAAAAAMTcc2Z7AwAAAAAAAAAPuOgF\n",
       "AAAAAAAAiBF6AQAAAAAAAGKEXgAAAAAAAIAYoRcAAAAAAAAgRugFAAAAAAAAiBF6AQAAAAAAAGKE\n",
       "XgAAAAAAAIAYoRcAAAAAAAAgRugFAAAAAAAAiBF6AQAAAAAAAGKEXgAAAAAAAIAYoRcAAAAAAAAg\n",
       "5o7WCwDAf3ptDwAAAAAAfkHlBQAAAAAAAIgRegEAAAAAAABihF4AAAAAAACAGKEXAAAAAAAAIEbo\n",
       "BQAAAAAAAIgRegEAAAAAAABihF4AAAAAAACAGKEXAAAAAAAAIEboBQAAAAAAAIgRegEAAAAAAABi\n",
       "hF4AAAAAAACAGKEXAAAAAAAAIOaeme0NAAC8Lf+KAAAAAPCOXPQCAAAAAAAAxAi9AAAAAAAAADFC\n",
       "LwAAAAAAAECM0AsAAAAAAAAQI/QCAAAAAAAAxAi9AAAAAAAAADFCLwAAAAAAAECM0AsAAAAAAAAQ\n",
       "I/QCAAAAAAAAxAi9AAAAAAAAADFCLwAAAAAAAECM0AsAAAAAAAAQc8+Z7Q0AAAAAAAAAPOCiFwAA\n",
       "AAAAACBG6AUAAAAAAACIEXoBAAAAAAAAYoReAAAAAAAAgBihFwAAAAAAACBG6AUAAAAAAACIEXoB\n",
       "AAAAAAAAYoReAAAAAAAAgBihFwAAAAAAACBG6AUAAAAAAACIEXoBAAAAAAAAYoReAAAAAAAAgJh7\n",
       "Ruv9Nl7bAwAAAAAAAIC/QeUFAAAAAAAAiBF6AQAAAAAAAGKEXgAAAAAAAIAYoRcAAAAAAAAgRugF\n",
       "AAAAAAAAiBF6AQAAAAAAAGKEXgAAAAAAAIAYoRcAAAAAAAAgRugFAAAAAAAAiBF6AQAAAAAAAGKE\n",
       "XgAAAAAAAIAYoRcAAAAAAAAg5o7W+wde2wN+bbYHAAAAAAAAAH+DygsAAAAAAAAQI/QCAAAAAAAA\n",
       "xAi9AAAAAAAAADFCLwAAAAAAAECM0AsAAAAAAAAQI/QCAAAAAAAAxAi9AAAAAAAAADFCLwAAAAAA\n",
       "AECM0AsAAAAAAAAQI/QCAAAAAAAAxAi9AAAAAAAAADFCLwAAAAAAAECM0AsAAAAAAAAQc8+Z7Q1B\n",
       "3hkAAAAAAACwx0UvAAAAAAAAQIzQCwAAAAAAABAj9AIAAAAAAADECL0AAAAAAAAAMUIvAAAAAAAA\n",
       "QIzQCwAAAAAAABAj9AIAAAAAAADECL0AAAAAAAAAMUIvAAAAAAAAQIzQCwAAAAAAABAj9AIAAAAA\n",
       "AADECL0AAAAAAAAAMXdG6+XrvbYHAAAAAAAAwDei8gIAAAAAAADECL0AAAAAAAAAMUIvAAAAAAAA\n",
       "QIzQCwAAAAAAABAj9AIAAAAAAADECL0AAAAAAAAAMUIvAAAAAAAAQIzQCwAAAAAAABAj9AIAAAAA\n",
       "AADECL0AAAAAAAAAMUIvAAAAAAAAQIzQCwAAAAAAABBzz/n45Ee+Pvl5fAezPQAAAAAAAAC+ERe9\n",
       "AAAAAAAAADFCLwAAAAAAAECM0AsAAAAAAAAQI/QCAAAAAAAAxAi9AAAAAAAAADFCLwAAAAAAAECM\n",
       "0AsAAAAAAAAQI/QCAAAAAAAAxAi9AAAAAAAAADFCLwAAAAAAAECM0AsAAAAAAAAQI/QCAAAAAAAA\n",
       "xNwZrRcAAAAAAACgROUFAAAAAAAAiBF6AQAAAAAAAGKEXgAAAAAAAIAYoRcAAAAAAAAgRugFAAAA\n",
       "AAAAiBF6AQAAAAAAAGKEXgAAAAAAAIAYoRcAAAAAAAAgRugFAAAAAAAAiBF6AQAAAAAAAGKEXgAA\n",
       "AAAAAIAYoRcAAAAAAAAg5s752N7Ap3ltD8jxxgAAAAAAAChy0QsAAAAAAAAQI/QCAAAAAAAAxAi9\n",
       "AAAAAAAAADFCLwAAAAAAAECM0AsAAAAAAAAQI/QCAAAAAAAAxAi9AAAAAAAAADFCLwAAAAAAAECM\n",
       "0AsAAAAAAAAQI/QCAAAAAAAAxAi9AAAAAAAAADFCLwAAAAAAAEDMnfnY3pDzOq/tCXyS2R4AAAAA\n",
       "AAAAf8BFLwAAAAAAAECM0AsAAAAAAAAQI/QCAAAAAAAAxAi9AAAAAAAAADFCLwAAAAAAAECM0AsA\n",
       "AAAAAAAQI/QCAAAAAAAAxAi9AAAAAAAAADFCLwAAAAAAAECM0AsAAAAAAAAQI/QCAAAAAAAAxAi9\n",
       "AAAAAAAAADF35mN7Q85sDwAAAAD4rdf2AAAA4Au56AUAAAAAAACIEXoBAAAAAAAAYoReAAAAAAAA\n",
       "gBihFwAAAAAAACBG6AUAAAAAAACIEXoBAAAAAAAAYoReAAAAAAAAgBihFwAAAAAAACBG6AUAAAAA\n",
       "AACIEXoBAAAAAAAAYoReAAAAAAAAgBihFwAAAAAAACDmzrnbG4Av9doe8E/79pIaVRSFYbRucszD\n",
       "F9jTATgMR+LAnYITsJOA16YgIRAoavvlrjWAy8+hOsnHBgAAAAAA4Mxc9AIAAAAAAADECL0AAAAA\n",
       "AAAAMUIvAAAAAAAAQIzQCwAAAAAAABAj9AIAAAAAAADECL0AAAAAAAAAMUIvAAAAAAAAQIzQCwAA\n",
       "AAAAABAj9AIAAAAAAADECL0AAAAAAAAAMUIvAAAAAAAAQIzQCwAAAAAAABCzrrY1vQEAAAAAAACA\n",
       "F3DRCwAAAAAAABAj9AIAAAAAAADECL0AAAAAAAAAMUIvAAAAAAAAQIzQCwAAAAAAABAj9AIAAAAA\n",
       "AADECL0AAAAAAAAAMUIvAAAAAAAAQIzQCwAAAAAAABAj9AIAAAAAAADECL0AAAAAAAAAMUIvAAAA\n",
       "AAAAQMy6Or2Z3gAAAAAHtE8PAAAAIMxFLwAAAAAAAECM0AsAAAAAAAAQI/QCAAAAAAAAxAi9AAAA\n",
       "AAAAADFCLwAAAAAAAECM0AsAAAAAAAAQI/QCAAAAAAAAxAi9AAAAAAAAADFCLwAAAAAAAECM0AsA\n",
       "AAAAAAAQI/QCAAAAAAAAxAi9AAAAAAAAADHreruZ3gCD9ukBAAAAAAAA8GIuegEAAAAAAABihF4A\n",
       "AAAAAACAGKEXAAAAAAAAIEboBQAAAAAAAIgRegEAAAAAAABihF4AAAAAAACAGKEXAAAAAAAAIEbo\n",
       "BQAAAAAAAIgRegEAAAAAAABihF4AAAAAAACAGKEXAAAAAAAAIEboBQAAAAAAAIhZa7uZ3tCzTw/o\n",
       "8WQAAAAAAABwPi56AQAAAAAAAGKEXgAAAAAAAIAYoRcAAAAAAAAgRugFAAAAAAAAiBF6AQAAAAAA\n",
       "AGKEXgAAAAAAAIAYoRcAAAAAAAAgRugFAAAAAAAAiBF6AQAAAAAAAGKEXgAAAAAAAIAYoRcAAAAA\n",
       "AAAgRugFAAAAAAAAiFnrdDe9oWebHgAAcCn79AAAAAAA4AkuegEAAAAAAABihF4AAAAAAACAGKEX\n",
       "AAAAAAAAIEboBQAAAAAAAIgRegEAAAAAAABihF4AAAAAAACAGKEXAAAAAAAAIEboBQAAAAAAAIgR\n",
       "egEAAAAAAABihF4AAAAAAACAGKEXAAAAAAAAIEboBQAAAAAAAIhZt6f76Q0cwj49IMVrAQAAAAAA\n",
       "8BwXvQAAAAAAAAAxQi8AAAAAAABAjNALAAAAAAAAECP0AgAAAAAAAMQIvQAAAAAAAAAxQi8AAAAA\n",
       "AABAjNALAAAAAAAAECP0AgAAAAAAAMQIvQAAAAAAAAAxQi8AAAAAAABAjNALAAAAAAAAECP0AgAA\n",
       "AAAAAMSsu/1+egO8Evv0AAAAAAAAAA7CRS8AAAAAAABAjNALAAAAAAAAECP0AgAAAAAAAMQIvQAA\n",
       "AAAAAAAxQi8AAAAAAABAjNALAAAAAAAAECP0AgAAAAAAAMQIvQAAAAAAAAAxQi8AAAAAAABAjNAL\n",
       "AAAAAAAAECP0AgAAAAAAAMQIvQAAAAAAAAAx693pdnoDAMDh7dMDAAAAAIAUF70AAAAAAAAAMUIv\n",
       "AAAAAAAAQIzQCwAAAAAAABAj9AIAAAAAAADECL0AAAAAAAAAMUIvAAAAAAAAQIzQCwAAAAAAABAj\n",
       "9AIAAAAAAADECL0AAAAAAAAAMUIvAAAAAAAAQIzQCwAAAAAAABAj9AIAAAAAAADErPdX19Mbevbp\n",
       "AQAAAPCXP1MBAACOx0UvAAAAAAAAQIzQCwAAAAAAABAj9AIAAAAAAADECL0AAAAAAAAAMUIvAAAA\n",
       "AAAAQIzQCwAAAAAAABAj9AIAAAAAAADECL0AAAAAAAAAMUIvAAAAAAAAQIzQCwAAAAAAABAj9AIA\n",
       "AAAAAADECL0AAAAAAAAAMevD+j29oWefHnBsnh8AAAAAAICjc9ELAAAAAAAAECP0AgAAAAAAAMQI\n",
       "vQAAAAAAAAAxQi8AAAAAAABAjNALAAAAAAAAECP0AgAAAAAAAMQIvQAAAAAAAAAxQi8AAAAAAABA\n",
       "jNALAAAAAAAAECP0AgAAAAAAAMQIvQAAAAAAAAAxQi8AAAAAAABAzPp48zi9gbPZpgfwH9qnBwAA\n",
       "AABwHP4ZBQAX46IXAAAAAAAAIEboBQAAAAAAAIgRegEAAAAAAABihF4AAAAAAACAGKEXAAAAAAAA\n",
       "IEboBQAAAAAAAIgRegEAAAAAAABihF4AAAAAAACAGKEXAAAAAAAAIEboBQAAAAAAAIgRegEAAAAA\n",
       "AABihF4AAAAAAACAmPXp7nF6AwDwyuzTAwAAAAAAXjkXvQAAAAAAAAAxQi8AAAAAAABAjNALAAAA\n",
       "AAAAECP0AgAAAAAAAMQIvQAAAAAAAAAxQi8AAAAAAABAjNALAAAAAAAAECP0AgAAAAAAAMQIvQAA\n",
       "AAAAAAAxQi8AAAAAAABAjNALAAAAAAAAECP0AgAAAAAAAMSsz28fzvrB/axfAwAAAAAAAOBfLnoB\n",
       "AAAAAAAAYoReAAAAAAAAgBihFwAAAAAAACBG6AUAAAAAAACIEXoBAAAAAAAAYoReAAAAAAAAgBih\n",
       "FwAAAAAAACBG6AUAAAAAAACIEXoBAAAAAAAAYoReAAAAAAAAgBihFwAAAAAAACBG6AUAAAAAAACI\n",
       "WV8//Jre8IxtesCT9ukBAAAAAAAAwKG56AUAAAAAAACIEXoBAAAAAAAAYoReAAAAAAAAgBihFwAA\n",
       "AAAAACBG6AUAAAAAAACIEXoBAAAAAAAAYoReAAAAAAAAgBihFwAAAAAAACBG6AUAAAAAAACIEXoB\n",
       "AAAAAAAAYoReAAAAAAAAgBihFwAAAAAAACBmffvyY3rDRezTA2o8GE/apgcAAAAAAABwctELAAAA\n",
       "AAAAkCP0AgAAAAAAAMQIvQAAAAAAAAAxQi8AAAAAAABAjNALAAAAAAAAECP0AgAAAAAAAMQIvQAA\n",
       "AAAAAAAxQi8AAAAAAABAjNALAAAAAAAAECP0AgAAAAAAAMQIvQAAAAAAAAAxQi8AAAAAAABAzPbz\n",
       "4ft+3k+e+XNQ4acPAAAAAADAhbjoBQAAAAAAAIgRegEAAAAAAABihF4AAAAAAACAGKEXAAAAAAAA\n",
       "IEboBQAAAAAAAIgRegEAAAAAAABihF4AAAAAAACAGKEXAAAAAAAAIEboBQAAAAAAAIgRegEAAAAA\n",
       "AABihF4AAAAAAACAGKEXAAAAAAAAIOYPXp5DjVePjIgAAAAASUVORK5CYII=\n",
       "\" transform=\"translate(198, 123)\"/>\n",
       "</g>\n",
       "<g clip-path=\"url(#clip582)\">\n",
       "<image width=\"72\" height=\"1304\" xlink:href=\"data:image/png;base64,\n",
       "iVBORw0KGgoAAAANSUhEUgAAAEgAAAUYCAYAAAALW5QXAAALS0lEQVR4nO3dy40bQRAFwaFQVsp/\n",
       "QD4I2G5ZoMoj5xBhgZB4GDWbn/38+fv7PvzXr2//A95OoCBQECgIFOZz/Ce2saAgUBAoCBQ8pIMF\n",
       "BYGCQEGgMJ/rIb2xoCBQECgIFJykgwUFgYJAQaAwz/n2P+HdLCgIFAQKAgXXHcGCgkBBoCBQcN0R\n",
       "LCgIFAQKAgUP6WBBQaAgUBAozOMhvbKgIFAQKAgU3EkHCwoCBYGCQEGg4KVGsKAgUBAoCBRc2gcL\n",
       "CgIFgYJAwX1QsKAgUBAoCBRcdwQLCgIFgYJAYT6+krmyoCBQECgIFOZx3bGyoCBQECgIFLxxGCwo\n",
       "CBQECgIFd9LBgoJAQaAgUPDpjmBBQaAgUBAoOEkHCwoCBYGCQMGnO4IFBYGCQEGgIFDw8ZdgQUGg\n",
       "IFAQKPj4S7CgIFAQKAgUXNoHCwoCBYGCQGEez+iVBQWBgkBBoOC6I1hQECgIFAQKrjuCBQWBgkBB\n",
       "oDAfz+iVBQWBgkBBoOAkHSwoCBQECgIFD+lgQUGgIFAQKLjuCBYUBAoCBYGCk3SwoCBQECgIFAQK\n",
       "8/j1l5UFBYGCQEGg4MdNggUFgYJAQaDgdxSDBQWBgkBBoODSPlhQECgIFAQKftwkWFAQKAgUBAre\n",
       "OAwWFAQKAgWBguuOYEFBoCBQECj4tk+woCBQECgIFFx3BAsKAgWBgkDB56SDBQWBgkBBoCBQ8FIj\n",
       "WFAQKAgUBAoe0sGCgkBBoCBQ8EHyYEFBoCBQECg4SQcLCgIFgYJAwUk6WFAQKAgUBApO0sGCgkBB\n",
       "oCBQ8JAOFhQECgIFgYLrjmBBQaAgUBAoOEkHCwoCBYGCQMFJOlhQECgIFAQKTtLBgoJAQaAgUBAo\n",
       "zHM/3/43vJoFBYGCQEGg4KVGsKAgUBAoCBQ8pIMFBYGCQEGgMNd1x8qCgkBBoCBQcJIOFhQECgIF\n",
       "gYLPKAYLCgIFgYJAYZ7jumNjQUGgIFAQKDhJBwsKAgWBgkBhrpP0yoKCQEGgIFDwZZZgQUGgIFAQ\n",
       "KLjuCBYUBAoCBYGCQMF9ULCgIFAQKAgU3AcFCwoCBYGCQMFJOlhQECgIFAQKTtLBgoJAQaAgUJjr\n",
       "ndWVBQWBgkBBoOArmcGCgkBBoCBQ8DOBwYKCQEGgIFBwJx0sKAgUBAoCBZ/uCBYUBAoCBYGC645g\n",
       "QUGgIFAQKAgU3AcFCwoCBYGCQMFLjWBBQaAgUBAozD0abdQJAgWBgkDBdUewoCBQECgIFFx3BAsK\n",
       "AgWBgkDBQzpYUBAoCBQECh7SwYKCQEGgIFDwkA4WFAQKAgWBwtyr0UadIFAQKAgUnKSDBQWBgkBB\n",
       "oOAhHSwoCBQECgIFgYL/xYIFBYGCQEGg4NI+qBMECgIFgYKTdLCgIFAQKAgUPKSDBQWBgkBBoDD3\n",
       "8ZDeWFAQKAgUBApz3Emv1AkCBYGCQMF1R7CgIFAQKAgUPKSDBQWBgkBBoOAhHSwoCBQECgKFORqt\n",
       "1AkCBYGCQMFJOlhQECgIFAQKAgX/iwULCgIFgYJAwQfJgwUFgYJAQaAwx0l6ZUFBoCBQECi47ggW\n",
       "FAQKAgWBgo+/BHWCQEGgIFBwkg4WFAQKAgWBgjcOgwUFgYJAQaDgjcNgQUGgIFAQKLjuCBYUBAoC\n",
       "BYHCHNcdKwsKAgWBgkBBoOClRrCgIFAQKAgUvLMaLCgIFAQKAgXvrAYLCgIFgYJAwUk6WFAQKAgU\n",
       "BApO0sGCgkBBoCBQcJIOFhQECgIFgYKTdLCgIFAQKAgUnKSDBQWBgkBBoDDnfvuf8G4WFAQKAgWB\n",
       "gpN0sKAgUBAoCBTcSQcLCgIFgYJAQaDgpUawoCBQECgIFLzUCBYUBAoCBYHCeGN1Z0FBoCBQECg4\n",
       "SQcLCgIFgYJAwZ10sKAgUBAoCBT82YhgQUGgIFAQKMx1Kb2yoCBQECgIFJykgwUFgYJAQaDg74sF\n",
       "CwoCBYGCQGHOt/8FL2dBQaAgUBAoOEkHCwoCBYGCQEGg4KVGsKAgUBAoCBS81AgWFAQKAgWBgpN0\n",
       "sKAgUBAoCBR8JTNYUBAoCBQECn7cJFhQECgIFAQKfiYwWFAQKAgUBAr+SmawoCBQECgIFNxJBwsK\n",
       "AgWBgkDBSTpYUBAoCBQECk7SwYKCQEGgIFAQKHipESwoCBQECgIFLzWCBQWBgkBBoOAkHSwoCBQE\n",
       "CgIFHyQPFhQECgIFgYKvZAYLCgIFgYJAwUk6WFAQKAgUBAp+yzVYUBAoCBQECn7LNVhQECgIFAQK\n",
       "c913rCwoCBQECgKFOT4nvbKgIFAQKAgUnKSDBQWBgkBBoCBQcGkfLCgIFAQKAgUffwkWFAQKAgWB\n",
       "gg+SBwsKAgWBgkDBj5sECwoCBYGCQMHPBAYLCgIFgYJAwUk6WFAQKAgUBArupIMFBYGCQEGg4NMd\n",
       "wYKCQEGgIFDwOelgQUGgIFAQKPhKZrCgIFAQKAgUPKSDBQWBgkBBoCBQ8BNdwYKCQEGgIFDwUiNY\n",
       "UBAoCBQECj6jGCwoCBQECgIFf8o4WFAQKAgUBApO0sGCgkBBoCBQcCcdLCgIFAQKAgXXHcGCgkBB\n",
       "oCBQcN0RLCgIFAQKAgU/bhIsKAgUBAoCBT9uEiwoCBQECgIFgYJ3VoMFBYGCQEGg4J3VYEFBoCBQ\n",
       "ECh4ZzVYUBAoCBQECq47ggUFgYJAQaDguiNYUBAoCBQECq47ggUFgYJAQaDgg+TBgoJAQaAgUJjj\n",
       "KL2yoCBQECgIFOb60zUrCwoCBYGCQMGnO4IFBYGCQEGg4I9ABgsKAgWBgkBBoOClRrCgIFAQKAgU\n",
       "fJA8WFAQKAgUBApO0sGCgkBBoCBQ8PGXYEFBoCBQECj4IHmwoCBQECgIFHwlM1hQECgIFAQK/rZP\n",
       "sKAgUBAoCBScpIMFBYGCQEGg4E46WFAQKAgUBAo+3REsKAgUBAoCBSfpYEFBoCBQECgIFHzbJ1hQ\n",
       "ECgIFAQKfqIrWFAQKAgUBArug4IFBYGCQEGg4DOKwYKCQEGgIFDwbZ9gQUGgIFAQKPgt12BBQaAg\n",
       "UBAojCvpnQUFgYJAQaDgjcNgQUGgIFAQKLiTDhYUBAoCBYGCk3SwoCBQECgIFAQKXmoECwoCBYGC\n",
       "QMFLjWBBQaAgUBAoOEkHCwoCBYGCQGHO4yi9saAgUBAoCBQ8pIMFBYGCQEGg4LojWFAQKAgUBApz\n",
       "rsf0xoKCQEGgIFCYH9cdKwsKAgWBgkBhzsdDemNBQaAgUBAozHlcd2wsKAgUBAoChfnxkF5ZUBAo\n",
       "CBQECgIFLzWCBQWBgkBBoOAhHSwoCBQECgKFOc/Pt/8Nr2ZBQaAgUBAoOEkHCwoCBYGCQMFJOlhQ\n",
       "ECgIFAQKHtLBgoJAQaAgUHDdESwoCBQECgIFJ+lgQUGgIFAQKMz1kF5ZUBAoCBQECq47ggUFgYJA\n",
       "QaDguiNYUBAoCBQECgIF90HBgoJAQaAgUJjrz0asLCgIFAQKAgX3QcGCgkBBoCBQcN0RLCgIFAQK\n",
       "AoW5Pv6ysqAgUBAoCBTmXifpjQUFgYJAQaDgJB0sKAgUBAoCBSfpYEFBoCBQECg4SQcLCgIFgYJA\n",
       "wac7ggUFgYJAQaAgUPBtn2BBQaAgUBAozOOlxsqCgkBBoCBQcJIOFhQECgIFgYJ3VoMFBYGCQEGg\n",
       "MI+T9MqCgkBBoCBQ8EHyYEFBoCBQECjM47pjZUFBoCBQECh44zBYUBAoCBQECk7SwYKCQEGgIFDw\n",
       "xmGwoCBQECgIFHxvPlhQECgIFAQKAgUvNYIFBYGCQEGg4CEdLCgIFAQKAgXvrAYLCgIFgYJAwUk6\n",
       "WFAQKAgUBAo+SB4sKAgUBAoCBdcdwYKCQEGgIFCY595v/xtezYKCQEGgIFBwJx0sKAgUBAoCBQ/p\n",
       "YEFBoCBQECj4qwjBgoJAQaAgUPgHJrC1lfJM2dwAAAAASUVORK5CYII=\n",
       "\" transform=\"translate(2161, 123)\"/>\n",
       "</g>\n",
       "<path clip-path=\"url(#clip580)\" d=\"M2270.21 1299.6 L2288.57 1299.6 L2288.57 1303.54 L2274.5 1303.54 L2274.5 1312.01 Q2275.52 1311.66 2276.53 1311.5 Q2277.55 1311.31 2278.57 1311.31 Q2284.36 1311.31 2287.74 1314.49 Q2291.12 1317.66 2291.12 1323.07 Q2291.12 1328.65 2287.64 1331.75 Q2284.17 1334.83 2277.85 1334.83 Q2275.68 1334.83 2273.41 1334.46 Q2271.16 1334.09 2268.76 1333.35 L2268.76 1328.65 Q2270.84 1329.79 2273.06 1330.34 Q2275.28 1330.9 2277.76 1330.9 Q2281.77 1330.9 2284.1 1328.79 Q2286.44 1326.68 2286.44 1323.07 Q2286.44 1319.46 2284.1 1317.36 Q2281.77 1315.25 2277.76 1315.25 Q2275.89 1315.25 2274.01 1315.67 Q2272.16 1316.08 2270.21 1316.96 L2270.21 1299.6 Z\" fill=\"#000000\" fill-rule=\"evenodd\" fill-opacity=\"1\" /><path clip-path=\"url(#clip580)\" d=\"M2269.43 1196.85 L2277.07 1196.85 L2277.07 1170.49 L2268.76 1172.16 L2268.76 1167.9 L2277.02 1166.23 L2281.7 1166.23 L2281.7 1196.85 L2289.33 1196.85 L2289.33 1200.79 L2269.43 1200.79 L2269.43 1196.85 Z\" fill=\"#000000\" fill-rule=\"evenodd\" fill-opacity=\"1\" /><path clip-path=\"url(#clip580)\" d=\"M2308.78 1169.31 Q2305.17 1169.31 2303.34 1172.87 Q2301.53 1176.41 2301.53 1183.54 Q2301.53 1190.65 2303.34 1194.22 Q2305.17 1197.76 2308.78 1197.76 Q2312.41 1197.76 2314.22 1194.22 Q2316.05 1190.65 2316.05 1183.54 Q2316.05 1176.41 2314.22 1172.87 Q2312.41 1169.31 2308.78 1169.31 M2308.78 1165.6 Q2314.59 1165.6 2317.64 1170.21 Q2320.72 1174.79 2320.72 1183.54 Q2320.72 1192.27 2317.64 1196.88 Q2314.59 1201.46 2308.78 1201.46 Q2302.97 1201.46 2299.89 1196.88 Q2296.83 1192.27 2296.83 1183.54 Q2296.83 1174.79 2299.89 1170.21 Q2302.97 1165.6 2308.78 1165.6 Z\" fill=\"#000000\" fill-rule=\"evenodd\" fill-opacity=\"1\" /><path clip-path=\"url(#clip580)\" d=\"M2269.43 1063.48 L2277.07 1063.48 L2277.07 1037.12 L2268.76 1038.78 L2268.76 1034.52 L2277.02 1032.86 L2281.7 1032.86 L2281.7 1063.48 L2289.33 1063.48 L2289.33 1067.42 L2269.43 1067.42 L2269.43 1063.48 Z\" fill=\"#000000\" fill-rule=\"evenodd\" fill-opacity=\"1\" /><path clip-path=\"url(#clip580)\" d=\"M2298.83 1032.86 L2317.18 1032.86 L2317.18 1036.79 L2303.11 1036.79 L2303.11 1045.26 Q2304.13 1044.92 2305.14 1044.76 Q2306.16 1044.57 2307.18 1044.57 Q2312.97 1044.57 2316.35 1047.74 Q2319.73 1050.91 2319.73 1056.33 Q2319.73 1061.91 2316.26 1065.01 Q2312.78 1068.09 2306.46 1068.09 Q2304.29 1068.09 2302.02 1067.72 Q2299.77 1067.35 2297.37 1066.61 L2297.37 1061.91 Q2299.45 1063.04 2301.67 1063.6 Q2303.89 1064.15 2306.37 1064.15 Q2310.38 1064.15 2312.71 1062.05 Q2315.05 1059.94 2315.05 1056.33 Q2315.05 1052.72 2312.71 1050.61 Q2310.38 1048.51 2306.37 1048.51 Q2304.5 1048.51 2302.62 1048.92 Q2300.77 1049.34 2298.83 1050.22 L2298.83 1032.86 Z\" fill=\"#000000\" fill-rule=\"evenodd\" fill-opacity=\"1\" /><path clip-path=\"url(#clip580)\" d=\"M2274.38 930.111 L2290.7 930.111 L2290.7 934.046 L2268.76 934.046 L2268.76 930.111 Q2271.42 927.356 2276 922.726 Q2280.61 918.074 2281.79 916.731 Q2284.03 914.208 2284.91 912.472 Q2285.82 910.712 2285.82 909.023 Q2285.82 906.268 2283.87 904.532 Q2281.95 902.796 2278.85 902.796 Q2276.65 902.796 2274.2 903.56 Q2271.77 904.324 2268.99 905.875 L2268.99 901.152 Q2271.81 900.018 2274.27 899.439 Q2276.72 898.861 2278.76 898.861 Q2284.13 898.861 2287.32 901.546 Q2290.52 904.231 2290.52 908.722 Q2290.52 910.851 2289.7 912.773 Q2288.92 914.671 2286.81 917.263 Q2286.23 917.935 2283.13 921.152 Q2280.03 924.347 2274.38 930.111 Z\" fill=\"#000000\" fill-rule=\"evenodd\" fill-opacity=\"1\" /><path clip-path=\"url(#clip580)\" d=\"M2310.51 902.564 Q2306.9 902.564 2305.08 906.129 Q2303.27 909.671 2303.27 916.8 Q2303.27 923.907 2305.08 927.472 Q2306.9 931.013 2310.51 931.013 Q2314.15 931.013 2315.95 927.472 Q2317.78 923.907 2317.78 916.8 Q2317.78 909.671 2315.95 906.129 Q2314.15 902.564 2310.51 902.564 M2310.51 898.861 Q2316.33 898.861 2319.38 903.467 Q2322.46 908.05 2322.46 916.8 Q2322.46 925.527 2319.38 930.134 Q2316.33 934.717 2310.51 934.717 Q2304.7 934.717 2301.63 930.134 Q2298.57 925.527 2298.57 916.8 Q2298.57 908.05 2301.63 903.467 Q2304.7 898.861 2310.51 898.861 Z\" fill=\"#000000\" fill-rule=\"evenodd\" fill-opacity=\"1\" /><path clip-path=\"url(#clip580)\" d=\"M2274.38 796.739 L2290.7 796.739 L2290.7 800.674 L2268.76 800.674 L2268.76 796.739 Q2271.42 793.984 2276 789.354 Q2280.61 784.702 2281.79 783.359 Q2284.03 780.836 2284.91 779.1 Q2285.82 777.34 2285.82 775.651 Q2285.82 772.896 2283.87 771.16 Q2281.95 769.424 2278.85 769.424 Q2276.65 769.424 2274.2 770.188 Q2271.77 770.952 2268.99 772.503 L2268.99 767.78 Q2271.81 766.646 2274.27 766.067 Q2276.72 765.489 2278.76 765.489 Q2284.13 765.489 2287.32 768.174 Q2290.52 770.859 2290.52 775.35 Q2290.52 777.479 2289.7 779.401 Q2288.92 781.299 2286.81 783.891 Q2286.23 784.563 2283.13 787.78 Q2280.03 790.975 2274.38 796.739 Z\" fill=\"#000000\" fill-rule=\"evenodd\" fill-opacity=\"1\" /><path clip-path=\"url(#clip580)\" d=\"M2300.56 766.114 L2318.92 766.114 L2318.92 770.049 L2304.84 770.049 L2304.84 778.521 Q2305.86 778.174 2306.88 778.012 Q2307.9 777.827 2308.92 777.827 Q2314.7 777.827 2318.08 780.998 Q2321.46 784.169 2321.46 789.586 Q2321.46 795.164 2317.99 798.266 Q2314.52 801.345 2308.2 801.345 Q2306.02 801.345 2303.76 800.975 Q2301.51 800.604 2299.1 799.864 L2299.1 795.164 Q2301.19 796.299 2303.41 796.854 Q2305.63 797.41 2308.11 797.41 Q2312.11 797.41 2314.45 795.303 Q2316.79 793.197 2316.79 789.586 Q2316.79 785.975 2314.45 783.868 Q2312.11 781.762 2308.11 781.762 Q2306.23 781.762 2304.36 782.178 Q2302.51 782.595 2300.56 783.475 L2300.56 766.114 Z\" fill=\"#000000\" fill-rule=\"evenodd\" fill-opacity=\"1\" /><path clip-path=\"url(#clip580)\" d=\"M2284.38 648.668 Q2287.74 649.385 2289.61 651.654 Q2291.51 653.922 2291.51 657.255 Q2291.51 662.371 2287.99 665.172 Q2284.47 667.973 2277.99 667.973 Q2275.82 667.973 2273.5 667.533 Q2271.21 667.117 2268.76 666.26 L2268.76 661.746 Q2270.7 662.88 2273.02 663.459 Q2275.33 664.038 2277.85 664.038 Q2282.25 664.038 2284.54 662.302 Q2286.86 660.566 2286.86 657.255 Q2286.86 654.2 2284.7 652.487 Q2282.58 650.751 2278.76 650.751 L2274.73 650.751 L2274.73 646.908 L2278.94 646.908 Q2282.39 646.908 2284.22 645.543 Q2286.05 644.154 2286.05 641.561 Q2286.05 638.899 2284.15 637.487 Q2282.27 636.052 2278.76 636.052 Q2276.83 636.052 2274.64 636.469 Q2272.44 636.885 2269.8 637.765 L2269.8 633.598 Q2272.46 632.857 2274.77 632.487 Q2277.11 632.117 2279.17 632.117 Q2284.5 632.117 2287.6 634.547 Q2290.7 636.955 2290.7 641.075 Q2290.7 643.945 2289.06 645.936 Q2287.41 647.904 2284.38 648.668 Z\" fill=\"#000000\" fill-rule=\"evenodd\" fill-opacity=\"1\" /><path clip-path=\"url(#clip580)\" d=\"M2310.38 635.82 Q2306.76 635.82 2304.94 639.385 Q2303.13 642.927 2303.13 650.056 Q2303.13 657.163 2304.94 660.728 Q2306.76 664.269 2310.38 664.269 Q2314.01 664.269 2315.82 660.728 Q2317.64 657.163 2317.64 650.056 Q2317.64 642.927 2315.82 639.385 Q2314.01 635.82 2310.38 635.82 M2310.38 632.117 Q2316.19 632.117 2319.24 636.723 Q2322.32 641.306 2322.32 650.056 Q2322.32 658.783 2319.24 663.39 Q2316.19 667.973 2310.38 667.973 Q2304.57 667.973 2301.49 663.39 Q2298.43 658.783 2298.43 650.056 Q2298.43 641.306 2301.49 636.723 Q2304.57 632.117 2310.38 632.117 Z\" fill=\"#000000\" fill-rule=\"evenodd\" fill-opacity=\"1\" /><path clip-path=\"url(#clip580)\" d=\"M2284.38 515.296 Q2287.74 516.013 2289.61 518.282 Q2291.51 520.55 2291.51 523.884 Q2291.51 528.999 2287.99 531.8 Q2284.47 534.601 2277.99 534.601 Q2275.82 534.601 2273.5 534.161 Q2271.21 533.745 2268.76 532.888 L2268.76 528.374 Q2270.7 529.508 2273.02 530.087 Q2275.33 530.666 2277.85 530.666 Q2282.25 530.666 2284.54 528.93 Q2286.86 527.194 2286.86 523.884 Q2286.86 520.828 2284.7 519.115 Q2282.58 517.379 2278.76 517.379 L2274.73 517.379 L2274.73 513.536 L2278.94 513.536 Q2282.39 513.536 2284.22 512.171 Q2286.05 510.782 2286.05 508.189 Q2286.05 505.527 2284.15 504.115 Q2282.27 502.68 2278.76 502.68 Q2276.83 502.68 2274.64 503.097 Q2272.44 503.513 2269.8 504.393 L2269.8 500.226 Q2272.46 499.485 2274.77 499.115 Q2277.11 498.745 2279.17 498.745 Q2284.5 498.745 2287.6 501.175 Q2290.7 503.583 2290.7 507.703 Q2290.7 510.573 2289.06 512.564 Q2287.41 514.532 2284.38 515.296 Z\" fill=\"#000000\" fill-rule=\"evenodd\" fill-opacity=\"1\" /><path clip-path=\"url(#clip580)\" d=\"M2300.42 499.37 L2318.78 499.37 L2318.78 503.305 L2304.7 503.305 L2304.7 511.777 Q2305.72 511.43 2306.74 511.268 Q2307.76 511.083 2308.78 511.083 Q2314.57 511.083 2317.95 514.254 Q2321.33 517.425 2321.33 522.842 Q2321.33 528.421 2317.85 531.522 Q2314.38 534.601 2308.06 534.601 Q2305.89 534.601 2303.62 534.231 Q2301.37 533.86 2298.96 533.12 L2298.96 528.421 Q2301.05 529.555 2303.27 530.11 Q2305.49 530.666 2307.97 530.666 Q2311.97 530.666 2314.31 528.559 Q2316.65 526.453 2316.65 522.842 Q2316.65 519.231 2314.31 517.124 Q2311.97 515.018 2307.97 515.018 Q2306.09 515.018 2304.22 515.434 Q2302.37 515.851 2300.42 516.731 L2300.42 499.37 Z\" fill=\"#000000\" fill-rule=\"evenodd\" fill-opacity=\"1\" /><path clip-path=\"url(#clip580)\" d=\"M2284.36 370.072 L2272.55 388.521 L2284.36 388.521 L2284.36 370.072 M2283.13 365.998 L2289.01 365.998 L2289.01 388.521 L2293.94 388.521 L2293.94 392.41 L2289.01 392.41 L2289.01 400.558 L2284.36 400.558 L2284.36 392.41 L2268.76 392.41 L2268.76 387.896 L2283.13 365.998 Z\" fill=\"#000000\" fill-rule=\"evenodd\" fill-opacity=\"1\" /><path clip-path=\"url(#clip580)\" d=\"M2311.67 369.076 Q2308.06 369.076 2306.23 372.641 Q2304.43 376.183 2304.43 383.313 Q2304.43 390.419 2306.23 393.984 Q2308.06 397.525 2311.67 397.525 Q2315.31 397.525 2317.11 393.984 Q2318.94 390.419 2318.94 383.313 Q2318.94 376.183 2317.11 372.641 Q2315.31 369.076 2311.67 369.076 M2311.67 365.373 Q2317.48 365.373 2320.54 369.979 Q2323.62 374.563 2323.62 383.313 Q2323.62 392.039 2320.54 396.646 Q2317.48 401.229 2311.67 401.229 Q2305.86 401.229 2302.78 396.646 Q2299.73 392.039 2299.73 383.313 Q2299.73 374.563 2302.78 369.979 Q2305.86 365.373 2311.67 365.373 Z\" fill=\"#000000\" fill-rule=\"evenodd\" fill-opacity=\"1\" /><path clip-path=\"url(#clip580)\" d=\"M2284.36 236.7 L2272.55 255.149 L2284.36 255.149 L2284.36 236.7 M2283.13 232.626 L2289.01 232.626 L2289.01 255.149 L2293.94 255.149 L2293.94 259.038 L2289.01 259.038 L2289.01 267.186 L2284.36 267.186 L2284.36 259.038 L2268.76 259.038 L2268.76 254.524 L2283.13 232.626 Z\" fill=\"#000000\" fill-rule=\"evenodd\" fill-opacity=\"1\" /><path clip-path=\"url(#clip580)\" d=\"M2301.72 232.626 L2320.08 232.626 L2320.08 236.561 L2306 236.561 L2306 245.033 Q2307.02 244.686 2308.04 244.524 Q2309.06 244.339 2310.08 244.339 Q2315.86 244.339 2319.24 247.51 Q2322.62 250.681 2322.62 256.098 Q2322.62 261.677 2319.15 264.778 Q2315.68 267.857 2309.36 267.857 Q2307.18 267.857 2304.91 267.487 Q2302.67 267.116 2300.26 266.376 L2300.26 261.677 Q2302.34 262.811 2304.57 263.366 Q2306.79 263.922 2309.26 263.922 Q2313.27 263.922 2315.61 261.815 Q2317.95 259.709 2317.95 256.098 Q2317.95 252.487 2315.61 250.38 Q2313.27 248.274 2309.26 248.274 Q2307.39 248.274 2305.51 248.691 Q2303.66 249.107 2301.72 249.987 L2301.72 232.626 Z\" fill=\"#000000\" fill-rule=\"evenodd\" fill-opacity=\"1\" /><polyline clip-path=\"url(#clip580)\" style=\"stroke:#000000; stroke-linecap:butt; stroke-linejoin:round; stroke-width:4; stroke-opacity:1; fill:none\" points=\"\n",
       "  2232.76,1427.6 2232.76,1320.51 2256.76,1320.51 2232.76,1320.51 2232.76,1187.14 2256.76,1187.14 2232.76,1187.14 2232.76,1053.77 2256.76,1053.77 2232.76,1053.77 \n",
       "  2232.76,920.394 2256.76,920.394 2232.76,920.394 2232.76,787.022 2256.76,787.022 2232.76,787.022 2232.76,653.651 2256.76,653.651 2232.76,653.651 2232.76,520.279 \n",
       "  2256.76,520.279 2232.76,520.279 2232.76,386.907 2256.76,386.907 2232.76,386.907 2232.76,253.535 2256.76,253.535 2232.76,253.535 2232.76,123.472 \n",
       "  \"/>\n",
       "</svg>\n"
      ]
     },
     "execution_count": 69,
     "metadata": {},
     "output_type": "execute_result"
    }
   ],
   "source": [
    "k4 = range(0.1, 10, length=100)\n",
    "k5 = range(0.1, 10, length=100)\n",
    "\n",
    "\n",
    "heatmap(k4, k5, var_diff, c = :thermal, title = \"Relative Difference in Protein Variance\")\n",
    "xlabel!(L\"k_4\")\n",
    "ylabel!(L\"k_5\")"
   ]
  },
  {
   "cell_type": "code",
   "execution_count": null,
   "id": "1eb71575-e68d-466a-9d2d-91046447ee4b",
   "metadata": {},
   "outputs": [],
   "source": []
  }
 ],
 "metadata": {
  "kernelspec": {
   "display_name": "Julia 1.6.1",
   "language": "julia",
   "name": "julia-1.6"
  },
  "language_info": {
   "file_extension": ".jl",
   "mimetype": "application/julia",
   "name": "julia",
   "version": "1.6.1"
  }
 },
 "nbformat": 4,
 "nbformat_minor": 5
}
