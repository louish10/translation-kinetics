{
 "cells": [
  {
   "cell_type": "code",
   "execution_count": 47,
   "id": "9cb07ceb-0779-4140-b87a-2705b5e63f26",
   "metadata": {},
   "outputs": [
    {
     "name": "stderr",
     "output_type": "stream",
     "text": [
      "WARNING: replacing module PolysomeModelA.\n",
      "WARNING: replacing module PolysomeModelC.\n"
     ]
    },
    {
     "data": {
      "text/plain": [
       "Main.PolysomeModelC"
      ]
     },
     "execution_count": 47,
     "metadata": {},
     "output_type": "execute_result"
    }
   ],
   "source": [
    "using Catalyst, DifferentialEquations, Plots, Statistics\n",
    "include(\"../polysome_models.jl\")"
   ]
  },
  {
   "cell_type": "markdown",
   "id": "00a8498c-1399-4d2e-bbd0-25f6c16a42c2",
   "metadata": {},
   "source": [
    "### Model A"
   ]
  },
  {
   "cell_type": "code",
   "execution_count": 4,
   "id": "ac1cafdf-14e7-42f0-b6e7-275712b778a4",
   "metadata": {},
   "outputs": [
    {
     "data": {
      "text/latex": [
       "\\begin{align}\n",
       "\\require{mhchem}\n",
       "\\ce{ \\varnothing &<=>[k1][k2] m1}\\\\\n",
       "\\ce{ \\varnothing &<=>[k1p][k2p] m2}\\\\\n",
       "\\ce{ \\varnothing &<=>[k7][k8] r}\\\\\n",
       "\\ce{ m1 + r &<=>[k3][k4] r1}\\\\\n",
       "\\ce{ r1 &->[k5] m1 + r + p1}\\\\\n",
       "\\ce{ m2 + r &<=>[k3p][k4p] r2}\\\\\n",
       "\\ce{ r2 &->[k5p] m2 + r + p2}\\\\\n",
       "\\ce{ p1 &->[k6] \\varnothing}\\\\\n",
       "\\ce{ p2 &->[k6p] \\varnothing}\n",
       "\\end{align}\n"
      ],
      "text/plain": [
       "\u001b[0m\u001b[1mModel ##ReactionSystem#253 with 14 equations\u001b[22m\n",
       "\u001b[0m\u001b[1mStates (7):\u001b[22m\n",
       "  m1(t)\n",
       "  m2(t)\n",
       "  r(t)\n",
       "  r1(t)\n",
       "  p1(t)\n",
       "  r2(t)\n",
       "⋮\n",
       "\u001b[0m\u001b[1mParameters (14):\u001b[22m\n",
       "  k1\n",
       "  k2\n",
       "  k1p\n",
       "  k2p\n",
       "  k7\n",
       "  k8\n",
       "⋮"
      ]
     },
     "execution_count": 4,
     "metadata": {},
     "output_type": "execute_result"
    }
   ],
   "source": [
    "model_a = @reaction_network begin\n",
    "        k1, 0-->m1\n",
    "        k2, m1-->0\n",
    "        k1p, 0-->m2\n",
    "        k2p, m2-->0\n",
    "        k7, 0-->r\n",
    "        k8, r-->0\n",
    "        k3, m1+r-->r1\n",
    "        k4, r1-->m1+r\n",
    "        k5, r1-->m1+r+p1\n",
    "        k3p, m2+r-->r2\n",
    "        k4p, r2-->m2+r\n",
    "        k5p, r2-->m2+r+p2\n",
    "        k6, p1-->0\n",
    "        k6p, p2-->0\n",
    "end k1 k2 k1p k2p k7 k8 k3 k4 k5 k3p k4p k5p k6 k6p"
   ]
  },
  {
   "cell_type": "code",
   "execution_count": 24,
   "id": "0f38da82-51d4-4217-a379-59e354d6ddaf",
   "metadata": {},
   "outputs": [
    {
     "data": {
      "text/plain": [
       "retcode: Default\n",
       "Interpolation: Piecewise constant interpolation\n",
       "t: 50001-element Array{Float64,1}:\n",
       "    0.0\n",
       "  100.0\n",
       "  200.0\n",
       "  300.0\n",
       "  400.0\n",
       "  500.0\n",
       "  600.0\n",
       "  700.0\n",
       "  800.0\n",
       "  900.0\n",
       " 1000.0\n",
       " 1100.0\n",
       " 1200.0\n",
       "    ⋮\n",
       "    4.9989e6\n",
       "    4.999e6\n",
       "    4.9991e6\n",
       "    4.9992e6\n",
       "    4.9993e6\n",
       "    4.9994e6\n",
       "    4.9995e6\n",
       "    4.9996e6\n",
       "    4.9997e6\n",
       "    4.9998e6\n",
       "    4.9999e6\n",
       "    5.0e6\n",
       "u: 50001-element Array{Array{Float64,1},1}:\n",
       " [10.0, 10.0, 10.0, 100.0, 1000.0, 100.0, 1000.0]\n",
       " [12.0, 15.0, 10.0, 92.0, 1011.0, 95.0, 943.0]\n",
       " [17.0, 7.0, 12.0, 100.0, 1070.0, 91.0, 907.0]\n",
       " [9.0, 8.0, 5.0, 113.0, 1125.0, 109.0, 932.0]\n",
       " [9.0, 14.0, 12.0, 111.0, 1166.0, 93.0, 972.0]\n",
       " [14.0, 10.0, 13.0, 114.0, 1177.0, 95.0, 936.0]\n",
       " [15.0, 12.0, 2.0, 111.0, 1138.0, 93.0, 879.0]\n",
       " [8.0, 7.0, 9.0, 97.0, 954.0, 96.0, 898.0]\n",
       " [9.0, 7.0, 5.0, 114.0, 1057.0, 94.0, 929.0]\n",
       " [8.0, 15.0, 9.0, 107.0, 955.0, 96.0, 999.0]\n",
       " [10.0, 11.0, 8.0, 91.0, 906.0, 92.0, 953.0]\n",
       " [13.0, 6.0, 9.0, 83.0, 901.0, 91.0, 858.0]\n",
       " [14.0, 12.0, 5.0, 102.0, 949.0, 81.0, 812.0]\n",
       " ⋮\n",
       " [8.0, 12.0, 10.0, 79.0, 820.0, 76.0, 774.0]\n",
       " [2.0, 9.0, 6.0, 76.0, 680.0, 74.0, 759.0]\n",
       " [14.0, 8.0, 8.0, 64.0, 658.0, 74.0, 754.0]\n",
       " [14.0, 7.0, 10.0, 77.0, 828.0, 80.0, 774.0]\n",
       " [8.0, 12.0, 12.0, 80.0, 810.0, 73.0, 772.0]\n",
       " [11.0, 5.0, 13.0, 86.0, 851.0, 96.0, 921.0]\n",
       " [9.0, 10.0, 7.0, 92.0, 916.0, 79.0, 856.0]\n",
       " [7.0, 9.0, 10.0, 98.0, 971.0, 82.0, 840.0]\n",
       " [9.0, 12.0, 13.0, 87.0, 852.0, 81.0, 846.0]\n",
       " [12.0, 10.0, 4.0, 81.0, 863.0, 78.0, 836.0]\n",
       " [8.0, 7.0, 14.0, 69.0, 746.0, 78.0, 750.0]\n",
       " [5.0, 13.0, 5.0, 92.0, 863.0, 75.0, 801.0]"
      ]
     },
     "execution_count": 24,
     "metadata": {},
     "output_type": "execute_result"
    }
   ],
   "source": [
    "k1 = 1\n",
    "k2 = .1\n",
    "k1p = 1.\n",
    "k2p = .1\n",
    "k7 = 1.\n",
    "k8 = .1\n",
    "k3 = 1\n",
    "k4 = .1\n",
    "k5 = 1\n",
    "k3p = 1.\n",
    "k4p = .1\n",
    "k5p = 1.\n",
    "k6 = .1\n",
    "k6p = .1\n",
    "\n",
    "prob = DiscreteProblem(model_a, [10., 10., 10., 100., 1000., 100., 1000.], (0, 5000000.), [k1, k2, k1p, k2p, k7, k8, k3, k4, k5, k3p, k4p, k5p, k6, k6p])\n",
    "jump_prob = JumpProblem(model_a, prob, Direct(), save_positions=(false, false))\n",
    "\n",
    "sol = solve(jump_prob, SSAStepper(), saveat=100.0)"
   ]
  },
  {
   "cell_type": "code",
   "execution_count": 25,
   "id": "f3e49068-f6a3-4b22-9a92-f7c0f634928b",
   "metadata": {},
   "outputs": [],
   "source": [
    "#plot(sol)"
   ]
  },
  {
   "cell_type": "code",
   "execution_count": 26,
   "id": "3f35b3ec-7332-492a-8204-dd3966318c52",
   "metadata": {},
   "outputs": [
    {
     "data": {
      "text/plain": [
       "50001-element Array{Float64,1}:\n",
       " 1000.0\n",
       "  943.0\n",
       "  907.0\n",
       "  932.0\n",
       "  972.0\n",
       "  936.0\n",
       "  879.0\n",
       "  898.0\n",
       "  929.0\n",
       "  999.0\n",
       "  953.0\n",
       "  858.0\n",
       "  812.0\n",
       "    ⋮\n",
       "  774.0\n",
       "  759.0\n",
       "  754.0\n",
       "  774.0\n",
       "  772.0\n",
       "  921.0\n",
       "  856.0\n",
       "  840.0\n",
       "  846.0\n",
       "  836.0\n",
       "  750.0\n",
       "  801.0"
      ]
     },
     "execution_count": 26,
     "metadata": {},
     "output_type": "execute_result"
    }
   ],
   "source": [
    "m1 = map(x -> x[1], sol.u)\n",
    "m2 = map(x -> x[2], sol.u)\n",
    "r = map(x -> x[3], sol.u)\n",
    "r1 = map(x -> x[4], sol.u)\n",
    "p1 = map(x -> x[5], sol.u)\n",
    "r2 = map(x -> x[6], sol.u)\n",
    "p2 = map(x -> x[7], sol.u)"
   ]
  },
  {
   "cell_type": "code",
   "execution_count": 27,
   "id": "2f1da81d-bac4-4659-9044-1aa68bf087b5",
   "metadata": {},
   "outputs": [
    {
     "data": {
      "text/plain": [
       "909.0002599948001"
      ]
     },
     "execution_count": 27,
     "metadata": {},
     "output_type": "execute_result"
    }
   ],
   "source": [
    "mean(p1)"
   ]
  },
  {
   "cell_type": "code",
   "execution_count": 28,
   "id": "b60777b0-11ba-4c0b-b9f1-ae3ae3916fc6",
   "metadata": {},
   "outputs": [
    {
     "data": {
      "text/plain": [
       "909.0909090909089"
      ]
     },
     "execution_count": 28,
     "metadata": {},
     "output_type": "execute_result"
    }
   ],
   "source": [
    "k1 * k3 * k5 * k7 / (k2*k4* k6* k8 + k2* k5* k6* k8)"
   ]
  },
  {
   "cell_type": "code",
   "execution_count": 29,
   "id": "d7b9d166-81ea-4318-8f8c-7f3128f43ac1",
   "metadata": {},
   "outputs": [
    {
     "name": "stdout",
     "output_type": "stream",
     "text": [
      "m1\n",
      "Prediction: 10.0\n",
      "Simulation: 10.00879982400352"
     ]
    }
   ],
   "source": [
    "print(\"m1\\nPrediction: $(PolysomeModelA.m1(k1, k2))\\nSimulation: $(mean(m1))\")"
   ]
  },
  {
   "cell_type": "code",
   "execution_count": 30,
   "id": "7c5691fc-c935-4f4e-8e44-dc303f1f4edc",
   "metadata": {},
   "outputs": [
    {
     "name": "stdout",
     "output_type": "stream",
     "text": [
      "m2\n",
      "Prediction: 10.0\n",
      "Simulation: 10.009459810803785"
     ]
    }
   ],
   "source": [
    "print(\"m2\\nPrediction: $(PolysomeModelA.m2(k1p, k2p))\\nSimulation: $(mean(m2))\")"
   ]
  },
  {
   "cell_type": "code",
   "execution_count": 31,
   "id": "427f1ad7-27fd-44ac-86bc-7b95e7eb47d6",
   "metadata": {},
   "outputs": [
    {
     "name": "stdout",
     "output_type": "stream",
     "text": [
      "r\n",
      "Prediction: 10.0\n",
      "Simulation: 10.01839963200736"
     ]
    }
   ],
   "source": [
    "print(\"r\\nPrediction: $(PolysomeModelA.r(k7, k8))\\nSimulation: $(mean(r))\")"
   ]
  },
  {
   "cell_type": "code",
   "execution_count": 32,
   "id": "f7be4f4e-dbb1-4afa-b5d1-570bfc187ef3",
   "metadata": {},
   "outputs": [
    {
     "name": "stdout",
     "output_type": "stream",
     "text": [
      "r1\n",
      "Prediction: 90.90909090909089\n",
      "Simulation: 90.89254214915702"
     ]
    }
   ],
   "source": [
    "print(\"r1\\nPrediction: $(PolysomeModelA.r1(k1, k2, k3, k4, k5, k6, k7, k8))\\nSimulation: $(mean(r1))\")"
   ]
  },
  {
   "cell_type": "code",
   "execution_count": 33,
   "id": "921a7740-a63e-4a7a-b435-8f38ee02b1bb",
   "metadata": {},
   "outputs": [
    {
     "name": "stdout",
     "output_type": "stream",
     "text": [
      "r2\n",
      "Prediction: 90.90909090909089\n",
      "Simulation: 90.99764004719906"
     ]
    }
   ],
   "source": [
    "print(\"r2\\nPrediction: $(PolysomeModelA.r2(k1p, k2p, k3p, k4p, k5p, k6p, k7, k8))\\nSimulation: $(mean(r2))\")"
   ]
  },
  {
   "cell_type": "code",
   "execution_count": 34,
   "id": "191137d1-847b-4941-913b-122be53b6151",
   "metadata": {},
   "outputs": [
    {
     "name": "stdout",
     "output_type": "stream",
     "text": [
      "p1\n",
      "Prediction: 909.0909090909089\n",
      "Simulation: 909.0002599948001"
     ]
    }
   ],
   "source": [
    "print(\"p1\\nPrediction: $(PolysomeModelA.p1(k1, k2, k3, k4, k5, k6, k7, k8))\\nSimulation: $(mean(p1))\")"
   ]
  },
  {
   "cell_type": "code",
   "execution_count": 35,
   "id": "047bbfc2-a678-4938-8e63-b006908b4616",
   "metadata": {},
   "outputs": [
    {
     "name": "stdout",
     "output_type": "stream",
     "text": [
      "p2\n",
      "Prediction: 909.0909090909089\n",
      "Simulation: 910.0876382472351"
     ]
    }
   ],
   "source": [
    "print(\"p2\\nPrediction: $(PolysomeModelA.p2(k1p, k2p, k3p, k4p, k5p, k6p, k7, k8))\\nSimulation: $(mean(p2))\")"
   ]
  },
  {
   "cell_type": "markdown",
   "id": "699ab229-1217-440c-87ac-037f8a694042",
   "metadata": {},
   "source": [
    "### Model B"
   ]
  },
  {
   "cell_type": "code",
   "execution_count": 2,
   "id": "6b33f063-a028-4afe-b561-61bbebf42c81",
   "metadata": {},
   "outputs": [
    {
     "data": {
      "text/latex": [
       "\\begin{align}\n",
       "\\require{mhchem}\n",
       "\\ce{ \\varnothing &<=>[k1][k2] m1}\\\\\n",
       "\\ce{ \\varnothing &<=>[k7][k8] r}\\\\\n",
       "\\ce{ m1 + r &<=>[k3][k4] r1}\\\\\n",
       "\\ce{ r1 &->[k5] m1 + r + p1}\\\\\n",
       "\\ce{ p1 &->[k6] \\varnothing}\n",
       "\\end{align}\n"
      ],
      "text/plain": [
       "\u001b[0m\u001b[1mModel ##ReactionSystem#253 with 8 equations\u001b[22m\n",
       "\u001b[0m\u001b[1mStates (4):\u001b[22m\n",
       "  m1(t)\n",
       "  r(t)\n",
       "  r1(t)\n",
       "  p1(t)\n",
       "\u001b[0m\u001b[1mParameters (8):\u001b[22m\n",
       "  k1\n",
       "  k2\n",
       "  k7\n",
       "  k8\n",
       "  k3\n",
       "  k4\n",
       "⋮"
      ]
     },
     "execution_count": 2,
     "metadata": {},
     "output_type": "execute_result"
    }
   ],
   "source": [
    "model_b = @reaction_network begin\n",
    "        k1, 0-->m1\n",
    "        k2, m1-->0\n",
    "        k7, 0-->r\n",
    "        k8, r-->0\n",
    "        k3, m1+r-->r1\n",
    "        k4, r1-->m1+r\n",
    "        k5, r1-->m1+r+p1\n",
    "        k6, p1-->0\n",
    "end k1 k2 k7 k8 k3 k4 k5 k6"
   ]
  },
  {
   "cell_type": "code",
   "execution_count": 4,
   "id": "b99d60ba-8654-4362-a561-9008b566fa55",
   "metadata": {},
   "outputs": [
    {
     "data": {
      "text/plain": [
       "retcode: Default\n",
       "Interpolation: Piecewise constant interpolation\n",
       "t: 50001-element Array{Float64,1}:\n",
       "    0.0\n",
       "  100.0\n",
       "  200.0\n",
       "  300.0\n",
       "  400.0\n",
       "  500.0\n",
       "  600.0\n",
       "  700.0\n",
       "  800.0\n",
       "  900.0\n",
       " 1000.0\n",
       " 1100.0\n",
       " 1200.0\n",
       "    ⋮\n",
       "    4.9989e6\n",
       "    4.999e6\n",
       "    4.9991e6\n",
       "    4.9992e6\n",
       "    4.9993e6\n",
       "    4.9994e6\n",
       "    4.9995e6\n",
       "    4.9996e6\n",
       "    4.9997e6\n",
       "    4.9998e6\n",
       "    4.9999e6\n",
       "    5.0e6\n",
       "u: 50001-element Array{Array{Float64,1},1}:\n",
       " [10.0, 10.0, 100.0, 1000.0]\n",
       " [10.0, 11.0, 88.0, 879.0]\n",
       " [21.0, 11.0, 80.0, 919.0]\n",
       " [7.0, 13.0, 88.0, 907.0]\n",
       " [4.0, 8.0, 97.0, 967.0]\n",
       " [11.0, 9.0, 99.0, 978.0]\n",
       " [7.0, 10.0, 92.0, 911.0]\n",
       " [10.0, 7.0, 80.0, 808.0]\n",
       " [12.0, 10.0, 87.0, 899.0]\n",
       " [10.0, 14.0, 88.0, 892.0]\n",
       " [15.0, 7.0, 107.0, 990.0]\n",
       " [6.0, 9.0, 100.0, 1016.0]\n",
       " [9.0, 12.0, 96.0, 973.0]\n",
       " ⋮\n",
       " [10.0, 10.0, 101.0, 987.0]\n",
       " [10.0, 9.0, 104.0, 1047.0]\n",
       " [10.0, 13.0, 86.0, 824.0]\n",
       " [11.0, 13.0, 97.0, 946.0]\n",
       " [13.0, 9.0, 86.0, 858.0]\n",
       " [9.0, 10.0, 88.0, 784.0]\n",
       " [7.0, 4.0, 89.0, 787.0]\n",
       " [9.0, 6.0, 92.0, 870.0]\n",
       " [12.0, 10.0, 94.0, 952.0]\n",
       " [8.0, 14.0, 97.0, 992.0]\n",
       " [6.0, 11.0, 117.0, 1185.0]\n",
       " [13.0, 8.0, 120.0, 1227.0]"
      ]
     },
     "execution_count": 4,
     "metadata": {},
     "output_type": "execute_result"
    }
   ],
   "source": [
    "k1 = 1\n",
    "k2 = .1\n",
    "k7 = 1.\n",
    "k8 = .1\n",
    "k3 = 1\n",
    "k4 = .1\n",
    "k5 = 1\n",
    "k6 = .1\n",
    "\n",
    "prob = DiscreteProblem(model_b, [10., 10., 100., 1000.], (0, 5000000.), [k1, k2, k7, k8, k3, k4, k5, k6])\n",
    "jump_prob = JumpProblem(model_b, prob, Direct(), save_positions=(false, false))\n",
    "\n",
    "sol = solve(jump_prob, SSAStepper(), saveat=100.0)"
   ]
  },
  {
   "cell_type": "code",
   "execution_count": 10,
   "id": "c4cd3c37-21a0-4984-8464-726cd02803ff",
   "metadata": {},
   "outputs": [
    {
     "data": {
      "text/plain": [
       "50001-element Array{Float64,1}:\n",
       " 1000.0\n",
       "  879.0\n",
       "  919.0\n",
       "  907.0\n",
       "  967.0\n",
       "  978.0\n",
       "  911.0\n",
       "  808.0\n",
       "  899.0\n",
       "  892.0\n",
       "  990.0\n",
       " 1016.0\n",
       "  973.0\n",
       "    ⋮\n",
       "  987.0\n",
       " 1047.0\n",
       "  824.0\n",
       "  946.0\n",
       "  858.0\n",
       "  784.0\n",
       "  787.0\n",
       "  870.0\n",
       "  952.0\n",
       "  992.0\n",
       " 1185.0\n",
       " 1227.0"
      ]
     },
     "execution_count": 10,
     "metadata": {},
     "output_type": "execute_result"
    }
   ],
   "source": [
    "m1 = map(x -> x[1], sol.u)\n",
    "r = map(x -> x[2], sol.u)\n",
    "r1 = map(x -> x[3], sol.u)\n",
    "p1 = map(x -> x[4], sol.u)"
   ]
  },
  {
   "cell_type": "code",
   "execution_count": 11,
   "id": "67f61f77-74e2-4397-8f06-4d0dc085760b",
   "metadata": {},
   "outputs": [
    {
     "name": "stdout",
     "output_type": "stream",
     "text": [
      "m1\n",
      "Prediction: 10.0\n",
      "Simulation: 10.001639967200656"
     ]
    }
   ],
   "source": [
    "print(\"m1\\nPrediction: $(PolysomeModelA.m1(k1, k2))\\nSimulation: $(mean(m1))\")"
   ]
  },
  {
   "cell_type": "code",
   "execution_count": 12,
   "id": "c4a452bb-fa21-425e-90ea-0f9d80ef4b92",
   "metadata": {},
   "outputs": [
    {
     "name": "stdout",
     "output_type": "stream",
     "text": [
      "r\n",
      "Prediction: 10.0\n",
      "Simulation: 10.026439471210576"
     ]
    }
   ],
   "source": [
    "print(\"r\\nPrediction: $(PolysomeModelA.r(k7, k8))\\nSimulation: $(mean(r))\")"
   ]
  },
  {
   "cell_type": "code",
   "execution_count": 13,
   "id": "b4305690-e29e-471a-b8b3-352a21ccfa94",
   "metadata": {},
   "outputs": [
    {
     "name": "stdout",
     "output_type": "stream",
     "text": [
      "p1\n",
      "Prediction: 10.0\n",
      "Simulation: 910.3152736945261"
     ]
    }
   ],
   "source": [
    "print(\"p1\\nPrediction: $(PolysomeModelA.m1(k1, k2))\\nSimulation: $(mean(p1))\")"
   ]
  },
  {
   "cell_type": "code",
   "execution_count": 14,
   "id": "14661d1b-8375-4680-9598-4363e267e7fb",
   "metadata": {},
   "outputs": [
    {
     "name": "stdout",
     "output_type": "stream",
     "text": [
      "r1\n",
      "Prediction: 90.90909090909089\n",
      "Simulation: 91.0102397952041"
     ]
    }
   ],
   "source": [
    "print(\"r1\\nPrediction: $(PolysomeModelA.r1(k1, k2, k3, k4, k5, k6, k7, k8))\\nSimulation: $(mean(r1))\")"
   ]
  },
  {
   "cell_type": "code",
   "execution_count": 15,
   "id": "7246fc28-02fb-4c31-ab93-d05e4f13f002",
   "metadata": {},
   "outputs": [
    {
     "name": "stdout",
     "output_type": "stream",
     "text": [
      "p1\n",
      "Prediction: 909.0909090909089\n",
      "Simulation: 910.3152736945261"
     ]
    }
   ],
   "source": [
    "print(\"p1\\nPrediction: $(PolysomeModelA.p1(k1, k2, k3, k4, k5, k6, k7, k8))\\nSimulation: $(mean(p1))\")"
   ]
  },
  {
   "cell_type": "markdown",
   "id": "91f8e79f-16e7-478e-85d2-0801902dec83",
   "metadata": {},
   "source": [
    "### Model C"
   ]
  },
  {
   "cell_type": "code",
   "execution_count": 19,
   "id": "4c3ad68f-c5bd-42cc-935b-ea632854cdda",
   "metadata": {},
   "outputs": [
    {
     "data": {
      "text/latex": [
       "\\begin{align}\n",
       "\\require{mhchem}\n",
       "\\ce{ \\varnothing &<=>[k1][k2] m1}\\\\\n",
       "\\ce{ \\varnothing &<=>[k7][k8] r}\\\\\n",
       "\\ce{ m1 + r &->[k3] r + m1 + p1}\\\\\n",
       "\\ce{ p1 &->[k6] \\varnothing}\n",
       "\\end{align}\n"
      ],
      "text/plain": [
       "\u001b[0m\u001b[1mModel ##ReactionSystem#256 with 6 equations\u001b[22m\n",
       "\u001b[0m\u001b[1mStates (3):\u001b[22m\n",
       "  m1(t)\n",
       "  r(t)\n",
       "  p1(t)\n",
       "\u001b[0m\u001b[1mParameters (6):\u001b[22m\n",
       "  k1\n",
       "  k2\n",
       "  k7\n",
       "  k8\n",
       "  k3\n",
       "  k6"
      ]
     },
     "execution_count": 19,
     "metadata": {},
     "output_type": "execute_result"
    }
   ],
   "source": [
    "model_c = @reaction_network begin\n",
    "        k1, 0-->m1\n",
    "        k2, m1-->0\n",
    "        k7, 0-->r\n",
    "        k8, r-->0\n",
    "        k3, m1+r-->r + m1 + p1\n",
    "        k6, p1-->0\n",
    "end k1 k2 k7 k8 k3 k6"
   ]
  },
  {
   "cell_type": "code",
   "execution_count": 20,
   "id": "11844d58-ed7e-472f-b72d-1d17421eaa3b",
   "metadata": {},
   "outputs": [
    {
     "data": {
      "text/plain": [
       "retcode: Default\n",
       "Interpolation: Piecewise constant interpolation\n",
       "t: 50001-element Array{Float64,1}:\n",
       "    0.0\n",
       "  100.0\n",
       "  200.0\n",
       "  300.0\n",
       "  400.0\n",
       "  500.0\n",
       "  600.0\n",
       "  700.0\n",
       "  800.0\n",
       "  900.0\n",
       " 1000.0\n",
       " 1100.0\n",
       " 1200.0\n",
       "    ⋮\n",
       "    4.9989e6\n",
       "    4.999e6\n",
       "    4.9991e6\n",
       "    4.9992e6\n",
       "    4.9993e6\n",
       "    4.9994e6\n",
       "    4.9995e6\n",
       "    4.9996e6\n",
       "    4.9997e6\n",
       "    4.9998e6\n",
       "    4.9999e6\n",
       "    5.0e6\n",
       "u: 50001-element Array{Array{Float64,1},1}:\n",
       " [10.0, 10.0, 1000.0]\n",
       " [13.0, 15.0, 1397.0]\n",
       " [9.0, 7.0, 750.0]\n",
       " [11.0, 6.0, 714.0]\n",
       " [9.0, 7.0, 645.0]\n",
       " [8.0, 11.0, 680.0]\n",
       " [9.0, 12.0, 1039.0]\n",
       " [13.0, 12.0, 1497.0]\n",
       " [11.0, 11.0, 1938.0]\n",
       " [10.0, 14.0, 1493.0]\n",
       " [10.0, 5.0, 1308.0]\n",
       " [12.0, 8.0, 975.0]\n",
       " [9.0, 9.0, 1271.0]\n",
       " ⋮\n",
       " [8.0, 9.0, 868.0]\n",
       " [8.0, 13.0, 974.0]\n",
       " [14.0, 7.0, 777.0]\n",
       " [6.0, 11.0, 651.0]\n",
       " [15.0, 9.0, 1148.0]\n",
       " [3.0, 12.0, 580.0]\n",
       " [10.0, 6.0, 689.0]\n",
       " [14.0, 14.0, 1662.0]\n",
       " [11.0, 9.0, 1174.0]\n",
       " [12.0, 11.0, 1037.0]\n",
       " [8.0, 11.0, 933.0]\n",
       " [8.0, 14.0, 945.0]"
      ]
     },
     "execution_count": 20,
     "metadata": {},
     "output_type": "execute_result"
    }
   ],
   "source": [
    "k1 = 1\n",
    "k2 = .1\n",
    "k7 = 1.\n",
    "k8 = .1\n",
    "k3 = 1\n",
    "k6 = .1\n",
    "\n",
    "prob = DiscreteProblem(model_c, [10., 10., 1000.], (0, 5000000.), [k1, k2, k7, k8, k3, k6])\n",
    "jump_prob = JumpProblem(model_c, prob, Direct(), save_positions=(false, false))\n",
    "\n",
    "sol = solve(jump_prob, SSAStepper(), saveat=100.0)"
   ]
  },
  {
   "cell_type": "code",
   "execution_count": 21,
   "id": "277f2c12-b81e-4d0d-88da-5f2ca6353ec9",
   "metadata": {},
   "outputs": [
    {
     "data": {
      "text/plain": [
       "50001-element Array{Float64,1}:\n",
       " 1000.0\n",
       " 1397.0\n",
       "  750.0\n",
       "  714.0\n",
       "  645.0\n",
       "  680.0\n",
       " 1039.0\n",
       " 1497.0\n",
       " 1938.0\n",
       " 1493.0\n",
       " 1308.0\n",
       "  975.0\n",
       " 1271.0\n",
       "    ⋮\n",
       "  868.0\n",
       "  974.0\n",
       "  777.0\n",
       "  651.0\n",
       " 1148.0\n",
       "  580.0\n",
       "  689.0\n",
       " 1662.0\n",
       " 1174.0\n",
       " 1037.0\n",
       "  933.0\n",
       "  945.0"
      ]
     },
     "execution_count": 21,
     "metadata": {},
     "output_type": "execute_result"
    }
   ],
   "source": [
    "m1 = map(x -> x[1], sol.u)\n",
    "r = map(x -> x[2], sol.u)\n",
    "p1 = map(x -> x[3], sol.u)"
   ]
  },
  {
   "cell_type": "code",
   "execution_count": 22,
   "id": "6f7936f7-843a-4e9a-8537-09201dd6faf7",
   "metadata": {},
   "outputs": [
    {
     "name": "stdout",
     "output_type": "stream",
     "text": [
      "m1\n",
      "Prediction: 10.0\n",
      "Simulation: 9.983960320793583"
     ]
    }
   ],
   "source": [
    "print(\"m1\\nPrediction: $(PolysomeModelC.m1(k1, k2))\\nSimulation: $(mean(m1))\")"
   ]
  },
  {
   "cell_type": "code",
   "execution_count": 23,
   "id": "088e0ee0-dbcd-450e-945d-94019d2910a6",
   "metadata": {},
   "outputs": [
    {
     "name": "stdout",
     "output_type": "stream",
     "text": [
      "r\n",
      "Prediction: 10.0\n",
      "Simulation: 10.011879762404751"
     ]
    }
   ],
   "source": [
    "print(\"r\\nPrediction: $(PolysomeModelC.r(k7, k8))\\nSimulation: $(mean(r))\")"
   ]
  },
  {
   "cell_type": "code",
   "execution_count": 32,
   "id": "1368a5ca-c8d6-4cb3-be40-ee605350802a",
   "metadata": {},
   "outputs": [
    {
     "name": "stdout",
     "output_type": "stream",
     "text": [
      "p1\n",
      "Prediction: 999.9999999999998\n",
      "Simulation: 998.159796804064"
     ]
    }
   ],
   "source": [
    "print(\"p1\\nPrediction: $(PolysomeModelC.p1(k1, k2, k3, k6, k7, k8))\\nSimulation: $(mean(p1))\")"
   ]
  },
  {
   "cell_type": "markdown",
   "id": "e000211a-bf63-4bde-a5d9-2322fb6caf5f",
   "metadata": {},
   "source": [
    "### Model D"
   ]
  },
  {
   "cell_type": "code",
   "execution_count": 48,
   "id": "7c6da1b2-162c-4c46-a167-e5408a3e48bc",
   "metadata": {},
   "outputs": [
    {
     "data": {
      "text/latex": [
       "\\begin{align}\n",
       "\\require{mhchem}\n",
       "\\ce{ \\varnothing &<=>[k1][k2] m1}\\\\\n",
       "\\ce{ \\varnothing &<=>[k7][k8] r}\\\\\n",
       "\\ce{ m1 + r &<=>[k3][k4] r1}\\\\\n",
       "\\ce{ r1 &->[k5] m1 + r + p1}\\\\\n",
       "\\ce{ r1 + r &<=>[k3p][k4p] rr1}\\\\\n",
       "\\ce{ rr1 &->[k5p] r1 + r + p1}\\\\\n",
       "\\ce{ p1 &->[k6] \\varnothing}\n",
       "\\end{align}\n"
      ],
      "text/plain": [
       "\u001b[0m\u001b[1mModel ##ReactionSystem#262 with 11 equations\u001b[22m\n",
       "\u001b[0m\u001b[1mStates (5):\u001b[22m\n",
       "  m1(t)\n",
       "  r(t)\n",
       "  r1(t)\n",
       "  p1(t)\n",
       "  rr1(t)\n",
       "\u001b[0m\u001b[1mParameters (11):\u001b[22m\n",
       "  k1\n",
       "  k2\n",
       "  k7\n",
       "  k8\n",
       "  k3\n",
       "  k4\n",
       "⋮"
      ]
     },
     "execution_count": 48,
     "metadata": {},
     "output_type": "execute_result"
    }
   ],
   "source": [
    "model_d = @reaction_network begin\n",
    "        k1, 0-->m1\n",
    "        k2, m1-->0\n",
    "        k7, 0-->r\n",
    "        k8, r-->0\n",
    "        k3, m1+r-->r1\n",
    "        k4, r1-->m1+r\n",
    "        k5, r1-->m1+r+p1\n",
    "        k3p, r1+r-->rr1\n",
    "        k4p, rr1-->r1+r\n",
    "        k5p, rr1-->r1+r+p1\n",
    "        k6, p1-->0\n",
    "end k1 k2 k7 k8 k3 k4 k5 k3p k4p k5p k6"
   ]
  },
  {
   "cell_type": "code",
   "execution_count": 52,
   "id": "3e0e94ca-b8e2-4a82-b0e5-64fe17f67b21",
   "metadata": {},
   "outputs": [
    {
     "data": {
      "text/plain": [
       "retcode: Default\n",
       "Interpolation: Piecewise constant interpolation\n",
       "t: 5001-element Array{Float64,1}:\n",
       "      0.0\n",
       "    100.0\n",
       "    200.0\n",
       "    300.0\n",
       "    400.0\n",
       "    500.0\n",
       "    600.0\n",
       "    700.0\n",
       "    800.0\n",
       "    900.0\n",
       "   1000.0\n",
       "   1100.0\n",
       "   1200.0\n",
       "      ⋮\n",
       " 498900.0\n",
       " 499000.0\n",
       " 499100.0\n",
       " 499200.0\n",
       " 499300.0\n",
       " 499400.0\n",
       " 499500.0\n",
       " 499600.0\n",
       " 499700.0\n",
       " 499800.0\n",
       " 499900.0\n",
       " 500000.0\n",
       "u: 5001-element Array{Array{Float64,1},1}:\n",
       " [10.0, 10.0, 100.0, 1000.0, 100.0]\n",
       " [3.0, 5.0, 43.0, 2062.0, 159.0]\n",
       " [4.0, 1.0, 45.0, 2135.0, 185.0]\n",
       " [12.0, 5.0, 40.0, 2489.0, 208.0]\n",
       " [4.0, 8.0, 39.0, 2732.0, 232.0]\n",
       " [5.0, 11.0, 47.0, 2876.0, 233.0]\n",
       " [1.0, 11.0, 39.0, 2849.0, 247.0]\n",
       " [11.0, 10.0, 47.0, 3132.0, 265.0]\n",
       " [10.0, 0.0, 58.0, 3313.0, 279.0]\n",
       " [18.0, 7.0, 41.0, 3371.0, 304.0]\n",
       " [6.0, 4.0, 49.0, 3716.0, 325.0]\n",
       " [10.0, 2.0, 43.0, 3817.0, 342.0]\n",
       " [10.0, 8.0, 56.0, 4170.0, 357.0]\n",
       " ⋮\n",
       " [3.0, 9.0, 86.0, 9126.0, 812.0]\n",
       " [8.0, 11.0, 83.0, 8930.0, 811.0]\n",
       " [16.0, 13.0, 95.0, 9144.0, 806.0]\n",
       " [9.0, 11.0, 125.0, 9025.0, 785.0]\n",
       " [9.0, 8.0, 96.0, 9037.0, 804.0]\n",
       " [11.0, 10.0, 87.0, 9069.0, 806.0]\n",
       " [8.0, 10.0, 87.0, 9023.0, 810.0]\n",
       " [15.0, 9.0, 93.0, 9120.0, 809.0]\n",
       " [8.0, 5.0, 101.0, 8943.0, 814.0]\n",
       " [10.0, 7.0, 99.0, 9157.0, 826.0]\n",
       " [7.0, 8.0, 81.0, 9291.0, 844.0]\n",
       " [8.0, 10.0, 97.0, 9354.0, 843.0]"
      ]
     },
     "execution_count": 52,
     "metadata": {},
     "output_type": "execute_result"
    }
   ],
   "source": [
    "k1 = 1\n",
    "k2 = .1\n",
    "k7 = 1.\n",
    "k8 = .1\n",
    "k3 = 1\n",
    "k4 = .1\n",
    "k5 = 1\n",
    "k3p = 1\n",
    "k4p = .1\n",
    "k5p = 1\n",
    "k6 = .1\n",
    "\n",
    "prob = DiscreteProblem(model_d, [10., 10., 100., 1000., 100.], (0, 500000.), [k1, k2, k7, k8, k3, k4, k5, k3p, k4p, k5p, k6])\n",
    "jump_prob = JumpProblem(model_d, prob, Direct(), save_positions=(false, false))\n",
    "\n",
    "sol = solve(jump_prob, SSAStepper(), saveat=100.0)"
   ]
  },
  {
   "cell_type": "code",
   "execution_count": 53,
   "id": "44da19d0-e11a-485e-b7f9-c1a7f8925ac5",
   "metadata": {},
   "outputs": [
    {
     "data": {
      "text/plain": [
       "5001-element Array{Float64,1}:\n",
       " 100.0\n",
       " 159.0\n",
       " 185.0\n",
       " 208.0\n",
       " 232.0\n",
       " 233.0\n",
       " 247.0\n",
       " 265.0\n",
       " 279.0\n",
       " 304.0\n",
       " 325.0\n",
       " 342.0\n",
       " 357.0\n",
       "   ⋮\n",
       " 812.0\n",
       " 811.0\n",
       " 806.0\n",
       " 785.0\n",
       " 804.0\n",
       " 806.0\n",
       " 810.0\n",
       " 809.0\n",
       " 814.0\n",
       " 826.0\n",
       " 844.0\n",
       " 843.0"
      ]
     },
     "execution_count": 53,
     "metadata": {},
     "output_type": "execute_result"
    }
   ],
   "source": [
    "m1 = map(x -> x[1], sol.u)\n",
    "r = map(x -> x[2], sol.u)\n",
    "r1 = map(x -> x[3], sol.u)\n",
    "p1 = map(x -> x[4], sol.u)\n",
    "rr1 = map(x -> x[5], sol.u)"
   ]
  },
  {
   "cell_type": "code",
   "execution_count": 56,
   "id": "586f7f24-cd7b-463f-812d-89696db16ec6",
   "metadata": {},
   "outputs": [
    {
     "name": "stdout",
     "output_type": "stream",
     "text": [
      "816.8410317936413\n"
     ]
    }
   ],
   "source": [
    "println(mean(rr1))"
   ]
  },
  {
   "cell_type": "code",
   "execution_count": null,
   "id": "45621ede-0c02-4c60-84a1-2f9ef95fca39",
   "metadata": {},
   "outputs": [],
   "source": []
  }
 ],
 "metadata": {
  "kernelspec": {
   "display_name": "Julia 1.5.3",
   "language": "julia",
   "name": "julia-1.5"
  },
  "language_info": {
   "file_extension": ".jl",
   "mimetype": "application/julia",
   "name": "julia",
   "version": "1.5.3"
  }
 },
 "nbformat": 4,
 "nbformat_minor": 5
}
