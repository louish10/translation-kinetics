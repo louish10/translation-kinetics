{
 "cells": [
  {
   "cell_type": "code",
   "execution_count": 38,
   "id": "67a84c9c-48e8-442f-bd97-447fc36a34c6",
   "metadata": {},
   "outputs": [],
   "source": [
    "include(\"lna.jl\")\n",
    "using DifferentialEquations, StatsBase"
   ]
  },
  {
   "cell_type": "markdown",
   "id": "9880dd36-bfca-4b0a-8b68-7ad5f0870c13",
   "metadata": {},
   "source": [
    "## One mrna species"
   ]
  },
  {
   "cell_type": "code",
   "execution_count": 9,
   "id": "bc205f02-dd5a-4453-8b5f-6eb52d416941",
   "metadata": {},
   "outputs": [
    {
     "data": {
      "text/plain": [
       "4×4 Array{Float64,2}:\n",
       "  3.40394   -2.25494   -0.137453   0.110009\n",
       " -2.25494    3.40394   -0.137453   0.110009\n",
       " -0.137453  -0.137453   6.87097    3.25675\n",
       "  0.110009   0.110009   3.25675   11.939"
      ]
     },
     "execution_count": 9,
     "metadata": {},
     "output_type": "execute_result"
    }
   ],
   "source": [
    "rn = @reaction_network begin\n",
    "    ρ_r, 0 --> R\n",
    "    δ_r, R --> 0\n",
    "    ρ_m, 0 --> M\n",
    "    δ_m, M --> 0\n",
    "    σ_b, M + R --> MR\n",
    "    δ_u, MR --> M + R\n",
    "    ρ_p, MR --> MR + P\n",
    "    δ_r, MR --> 0\n",
    "    δ_r, P --> 0\n",
    "end ρ_r δ_r ρ_m δ_m σ_b δ_u σ_u ρ_p\n",
    "\n",
    "ps = [ 1, 0.1, 1, 0.1, 1, 0.1, 1, 0.1 ]\n",
    "\n",
    "prob = LNAProblem(rn, [0,0,0,0], ps)\n",
    "\n",
    "sol = solve(prob)\n",
    "\n",
    "lnameans = mean(sol)\n",
    "lnacovs = StatsBase.cov(sol)"
   ]
  },
  {
   "cell_type": "code",
   "execution_count": 10,
   "id": "1c4b90bb-d0e7-4d4c-811b-e3c0575131c3",
   "metadata": {},
   "outputs": [
    {
     "data": {
      "text/plain": [
       "retcode: Default\n",
       "Interpolation: Piecewise constant interpolation\n",
       "t: 50001-element Array{Float64,1}:\n",
       "    0.0\n",
       "  100.0\n",
       "  200.0\n",
       "  300.0\n",
       "  400.0\n",
       "  500.0\n",
       "  600.0\n",
       "  700.0\n",
       "  800.0\n",
       "  900.0\n",
       " 1000.0\n",
       " 1100.0\n",
       " 1200.0\n",
       "    ⋮\n",
       "    4.9989e6\n",
       "    4.999e6\n",
       "    4.9991e6\n",
       "    4.9992e6\n",
       "    4.9993e6\n",
       "    4.9994e6\n",
       "    4.9995e6\n",
       "    4.9996e6\n",
       "    4.9997e6\n",
       "    4.9998e6\n",
       "    4.9999e6\n",
       "    5.0e6\n",
       "u: 50001-element Array{Array{Int64,1},1}:\n",
       " [1, 1, 8, 8]\n",
       " [1, 2, 12, 10]\n",
       " [5, 0, 9, 10]\n",
       " [2, 1, 9, 8]\n",
       " [1, 0, 8, 6]\n",
       " [0, 3, 12, 7]\n",
       " [2, 0, 11, 10]\n",
       " [1, 0, 9, 8]\n",
       " [0, 5, 10, 11]\n",
       " [2, 0, 7, 8]\n",
       " [0, 5, 9, 5]\n",
       " [5, 0, 15, 10]\n",
       " [5, 0, 12, 11]\n",
       " ⋮\n",
       " [2, 3, 8, 6]\n",
       " [0, 9, 11, 3]\n",
       " [0, 4, 3, 5]\n",
       " [2, 0, 3, 4]\n",
       " [1, 2, 12, 8]\n",
       " [1, 5, 3, 7]\n",
       " [2, 1, 6, 5]\n",
       " [4, 0, 9, 7]\n",
       " [0, 3, 10, 5]\n",
       " [1, 5, 11, 11]\n",
       " [4, 0, 11, 13]\n",
       " [2, 1, 6, 10]"
      ]
     },
     "execution_count": 10,
     "metadata": {},
     "output_type": "execute_result"
    }
   ],
   "source": [
    "prob = DiscreteProblem(rn, [1, 1, 8, 8], (0, 5000000.),  ps)\n",
    "jump_prob = JumpProblem(rn, prob, Direct(), save_positions=(false, false))\n",
    "\n",
    "sol = solve(jump_prob, SSAStepper(), saveat=100.0)"
   ]
  },
  {
   "cell_type": "code",
   "execution_count": 11,
   "id": "a934f252-4332-45de-9982-85c9e80080cd",
   "metadata": {},
   "outputs": [
    {
     "data": {
      "text/plain": [
       "4-element Array{Float64,1}:\n",
       "  0.5601377533738203\n",
       "  0.5441580729674209\n",
       " -0.5613777285743105\n",
       " -0.5703975481779189"
      ]
     },
     "execution_count": 11,
     "metadata": {},
     "output_type": "execute_result"
    }
   ],
   "source": [
    "mean(sol.u) - [1.3177446889773325, 1.31774468897734, 8.682255311022661, 8.682255311022661]"
   ]
  },
  {
   "cell_type": "code",
   "execution_count": 12,
   "id": "439aeb56-2165-4a31-a0ac-1ff2ada98c0f",
   "metadata": {},
   "outputs": [
    {
     "data": {
      "text/plain": [
       "4×4 Array{Float64,2}:\n",
       "  0.663272   0.372572  -0.339305    -0.153189\n",
       "  0.372572   0.652133  -0.329813    -0.161702\n",
       " -0.339305  -0.329813  -0.00814294  -0.00401122\n",
       " -0.153189  -0.161702  -0.00401122  -0.560378"
      ]
     },
     "execution_count": 12,
     "metadata": {},
     "output_type": "execute_result"
    }
   ],
   "source": [
    "(StatsBase.cov(sol.u) - lnacovs)"
   ]
  },
  {
   "cell_type": "markdown",
   "id": "9946248c-2402-4c4a-be68-5a2487a70e5e",
   "metadata": {},
   "source": [
    "## Two mrna species"
   ]
  },
  {
   "cell_type": "code",
   "execution_count": 13,
   "id": "076c74fd-ce83-486a-b897-5f4146480fee",
   "metadata": {},
   "outputs": [
    {
     "data": {
      "text/plain": [
       "6×6 Array{Float64,2}:\n",
       "  0.198997   -0.15389   0.0408867   0.0875771  -0.15389   0.0408867\n",
       " -0.15389     7.39258  -1.12692    -1.10357     2.29636  -1.12692\n",
       "  0.0408867  -1.12692   4.86125     2.38602    -1.12692  -0.042524\n",
       "  0.0875771  -1.10357   2.38602    14.5796     -1.10357   2.38602\n",
       " -0.15389     2.29636  -1.12692    -1.10357     7.39258  -1.12692\n",
       "  0.0408867  -1.12692  -0.042524    2.38602    -1.12692   4.86125"
      ]
     },
     "execution_count": 13,
     "metadata": {},
     "output_type": "execute_result"
    }
   ],
   "source": [
    "rn = @reaction_network begin\n",
    "    ρ_r, 0 --> R\n",
    "    δ_r, R --> 0\n",
    "    ρ_m1, 0 --> M1\n",
    "    δ_m1, M1 --> 0\n",
    "    σ_b1, M1 + R --> MR1\n",
    "    δ_u1, MR1 --> M1 + R\n",
    "    ρ_p1, MR1 --> MR1 + P\n",
    "    ρ_m2, 0 --> M2\n",
    "    δ_m2, M2 --> 0\n",
    "    σ_b2, M2 + R --> MR2\n",
    "    δ_u2, MR2 --> M2 + R\n",
    "    ρ_p2, MR2 --> MR2 + P\n",
    "    δ_r, MR1 --> 0\n",
    "    δ_r, MR2 --> 0\n",
    "    δ_r, P --> 0\n",
    "end ρ_r δ_r ρ_m1 δ_m1 σ_b1 δ_u1 σ_u1 ρ_p1 ρ_m2 δ_m2 σ_b2 δ_u2 σ_u2 ρ_p2\n",
    "\n",
    "ps = [ 1, 0.1, 1, 0.1, 1, 0.1, 1, 0.1, 1, 0.1, 1, 0.1, 1, 0.1 ]\n",
    "\n",
    "prob = LNAProblem(rn, [0,0,0,0,0,0], ps)\n",
    "\n",
    "sol = solve(prob)\n",
    "\n",
    "lnameans = mean(sol)\n",
    "lnacovs = StatsBase.cov(sol)"
   ]
  },
  {
   "cell_type": "code",
   "execution_count": 14,
   "id": "c671dc38-f28f-4988-8542-54ca8fec7a6b",
   "metadata": {},
   "outputs": [
    {
     "data": {
      "text/plain": [
       "retcode: Default\n",
       "Interpolation: Piecewise constant interpolation\n",
       "t: 50001-element Array{Float64,1}:\n",
       "    0.0\n",
       "  100.0\n",
       "  200.0\n",
       "  300.0\n",
       "  400.0\n",
       "  500.0\n",
       "  600.0\n",
       "  700.0\n",
       "  800.0\n",
       "  900.0\n",
       " 1000.0\n",
       " 1100.0\n",
       " 1200.0\n",
       "    ⋮\n",
       "    4.9989e6\n",
       "    4.999e6\n",
       "    4.9991e6\n",
       "    4.9992e6\n",
       "    4.9993e6\n",
       "    4.9994e6\n",
       "    4.9995e6\n",
       "    4.9996e6\n",
       "    4.9997e6\n",
       "    4.9998e6\n",
       "    4.9999e6\n",
       "    5.0e6\n",
       "u: 50001-element Array{Array{Int64,1},1}:\n",
       " [1, 1, 8, 8, 8, 8]\n",
       " [2, 4, 5, 9, 5, 10]\n",
       " [0, 5, 5, 4, 4, 3]\n",
       " [0, 5, 6, 13, 8, 10]\n",
       " [0, 2, 6, 9, 2, 3]\n",
       " [0, 2, 3, 10, 6, 8]\n",
       " [0, 5, 6, 11, 3, 6]\n",
       " [1, 5, 5, 7, 5, 6]\n",
       " [2, 4, 1, 11, 5, 3]\n",
       " [0, 15, 2, 10, 12, 6]\n",
       " [0, 1, 7, 18, 5, 9]\n",
       " [0, 3, 5, 10, 6, 4]\n",
       " [0, 7, 2, 9, 7, 5]\n",
       " ⋮\n",
       " [0, 6, 3, 9, 10, 3]\n",
       " [1, 10, 2, 6, 6, 6]\n",
       " [0, 5, 5, 8, 6, 2]\n",
       " [1, 2, 5, 10, 3, 5]\n",
       " [0, 9, 4, 12, 6, 2]\n",
       " [0, 6, 3, 17, 11, 5]\n",
       " [0, 2, 5, 15, 1, 7]\n",
       " [0, 3, 2, 10, 8, 8]\n",
       " [0, 2, 8, 9, 7, 4]\n",
       " [0, 6, 7, 14, 7, 4]\n",
       " [0, 2, 5, 4, 6, 12]\n",
       " [0, 12, 3, 10, 11, 4]"
      ]
     },
     "execution_count": 14,
     "metadata": {},
     "output_type": "execute_result"
    }
   ],
   "source": [
    "prob = DiscreteProblem(rn, [1, 1, 8, 8, 8, 8], (0, 5000000.),  ps)\n",
    "jump_prob = JumpProblem(rn, prob, Direct(), save_positions=(false, false))\n",
    "\n",
    "sol = solve(jump_prob, SSAStepper(), saveat=100.0)"
   ]
  },
  {
   "cell_type": "code",
   "execution_count": 15,
   "id": "ec304667-6d38-4eb2-b97e-df759f4c9554",
   "metadata": {},
   "outputs": [
    {
     "data": {
      "text/plain": [
       "6-element Array{Float64,1}:\n",
       "  0.0496677087371494\n",
       "  0.0033742835599905874\n",
       " -0.026773815569350212\n",
       " -0.06504740114329799\n",
       "  0.024653857968503168\n",
       " -0.024693857168517575"
      ]
     },
     "execution_count": 15,
     "metadata": {},
     "output_type": "execute_result"
    }
   ],
   "source": [
    "mean(sol.u) - lnameans"
   ]
  },
  {
   "cell_type": "code",
   "execution_count": 16,
   "id": "c8760aa3-8852-45de-9485-5f68f707f247",
   "metadata": {},
   "outputs": [
    {
     "data": {
      "text/plain": [
       "6×6 Array{Float64,2}:\n",
       "  0.0818223  -0.111845      0.0298335    0.0362275    -0.113657    0.0265499\n",
       " -0.111845   -0.0726247     0.00880905  -0.000700242  -0.0888804   0.0719419\n",
       "  0.0298335   0.00880905   -0.0982209   -0.0840707     0.0795864  -0.0192288\n",
       "  0.0362275  -0.000700242  -0.0840707   -0.0148752     0.0833792  -0.0320352\n",
       " -0.113657   -0.0888804     0.0795864    0.0833792     0.0231636   0.060215\n",
       "  0.0265499   0.0719419    -0.0192288   -0.0320352     0.060215   -0.0258736"
      ]
     },
     "execution_count": 16,
     "metadata": {},
     "output_type": "execute_result"
    }
   ],
   "source": [
    "StatsBase.cov(sol.u) - lnacovs"
   ]
  },
  {
   "cell_type": "markdown",
   "id": "fc287d2d-374b-4488-853e-55d7d9d1e51f",
   "metadata": {},
   "source": [
    "# Arbitrary number of mRNA"
   ]
  },
  {
   "cell_type": "code",
   "execution_count": 65,
   "id": "b746e600-7475-4adc-b2b9-7a08b37f8299",
   "metadata": {},
   "outputs": [
    {
     "data": {
      "text/plain": [
       "relative_error (generic function with 1 method)"
      ]
     },
     "execution_count": 65,
     "metadata": {},
     "output_type": "execute_result"
    }
   ],
   "source": [
    "function reaction(n)\n",
    "    \"ρ_m$(n), 0 --> M$(n)\n",
    "    δ_m$(n), M$(n) --> 0\n",
    "    σ_b$(n), M$(n) + R --> MR$(n)\n",
    "    δ_u$(n), MR$(n) --> M$(n) + R\n",
    "    ρ_p$(n), MR$(n) --> MR$(n) + P$(n)\n",
    "    δ_r, MR$(n) --> 0\n",
    "    δ_r, P$(n) --> 0\n",
    "    \"\n",
    "end\n",
    "\n",
    "function endstring(n)\n",
    "    cumulative_string = \"end ρ_r δ_r \"\n",
    "    for i in 1:n\n",
    "        cumulative_string = string(cumulative_string, \"ρ_m$(i) δ_m$(i) σ_b$(i) δ_u$(i) σ_u$(i) ρ_p$(i) \")\n",
    "    end\n",
    "    cumulative_string\n",
    "end\n",
    "\n",
    "function generate_rn(n)\n",
    "    rnstring = \"rn = @reaction_network begin\n",
    "        ρ_r, 0 --> R\n",
    "        δ_r, R --> 0\n",
    "    \"\n",
    "    for i in 1:n\n",
    "        rnstring = string(rnstring, reaction(i))\n",
    "    end\n",
    "    rnstring = string(rnstring, endstring(n))\n",
    "    rnexpression = Base.Meta.parse(rnstring)\n",
    "    eval(rnexpression)\n",
    "end\n",
    "\n",
    "function generate_propensities(n)\n",
    "    rand(Float64, (6*n+2))\n",
    "end\n",
    "\n",
    "function relative_error(true_val, approx_val)\n",
    "    map(abs, 1 .- approx_val./true_val)\n",
    "end"
   ]
  },
  {
   "cell_type": "code",
   "execution_count": 82,
   "id": "19a981b2-4be5-4ca6-bdb4-d72bfdea7430",
   "metadata": {},
   "outputs": [
    {
     "data": {
      "text/plain": [
       "retcode: Default\n",
       "Interpolation: Piecewise constant interpolation\n",
       "t: 5001-element Array{Float64,1}:\n",
       "      0.0\n",
       "    100.0\n",
       "    200.0\n",
       "    300.0\n",
       "    400.0\n",
       "    500.0\n",
       "    600.0\n",
       "    700.0\n",
       "    800.0\n",
       "    900.0\n",
       "   1000.0\n",
       "   1100.0\n",
       "   1200.0\n",
       "      ⋮\n",
       " 498900.0\n",
       " 499000.0\n",
       " 499100.0\n",
       " 499200.0\n",
       " 499300.0\n",
       " 499400.0\n",
       " 499500.0\n",
       " 499600.0\n",
       " 499700.0\n",
       " 499800.0\n",
       " 499900.0\n",
       " 500000.0\n",
       "u: 5001-element Array{Array{Int64,1},1}:\n",
       " [1, 3, 1, 1, 2, 1, 1, 1, 1, 1  …  1, 1, 1, 1, 2, 1, 1, 2, 1, 1]\n",
       " [0, 3, 0, 1, 5, 0, 0, 0, 0, 0  …  0, 1, 1, 3, 0, 0, 0, 2, 0, 0]\n",
       " [0, 1, 0, 0, 4, 0, 0, 2, 0, 0  …  0, 0, 0, 0, 1, 0, 0, 2, 0, 0]\n",
       " [1, 3, 0, 0, 2, 0, 0, 1, 1, 0  …  0, 0, 0, 0, 0, 0, 0, 0, 0, 0]\n",
       " [0, 1, 0, 0, 1, 0, 0, 0, 0, 0  …  0, 0, 0, 0, 2, 0, 0, 1, 0, 0]\n",
       " [0, 3, 0, 0, 0, 0, 0, 1, 0, 0  …  0, 0, 0, 0, 0, 0, 0, 1, 0, 0]\n",
       " [0, 4, 1, 0, 4, 0, 0, 1, 0, 0  …  0, 0, 0, 0, 1, 0, 0, 0, 0, 0]\n",
       " [0, 3, 1, 2, 1, 0, 0, 1, 0, 0  …  0, 1, 0, 0, 0, 0, 0, 0, 0, 0]\n",
       " [0, 4, 1, 0, 5, 0, 0, 0, 0, 0  …  0, 0, 0, 0, 2, 0, 0, 0, 0, 0]\n",
       " [1, 0, 0, 1, 0, 0, 0, 0, 0, 0  …  0, 0, 1, 1, 0, 0, 0, 1, 0, 0]\n",
       " [0, 1, 1, 0, 4, 0, 0, 2, 0, 0  …  0, 1, 0, 0, 0, 0, 0, 0, 0, 0]\n",
       " [0, 4, 1, 0, 1, 0, 0, 0, 0, 0  …  0, 0, 0, 0, 2, 1, 0, 0, 0, 0]\n",
       " [0, 6, 1, 0, 1, 0, 0, 1, 0, 0  …  0, 1, 0, 0, 2, 0, 0, 1, 0, 0]\n",
       " ⋮\n",
       " [0, 1, 0, 0, 1, 0, 0, 0, 0, 1  …  0, 0, 0, 0, 0, 0, 0, 1, 0, 0]\n",
       " [0, 1, 0, 0, 3, 0, 0, 1, 0, 0  …  0, 1, 0, 0, 3, 0, 0, 3, 0, 2]\n",
       " [0, 2, 0, 0, 0, 0, 0, 1, 0, 0  …  0, 0, 0, 0, 1, 0, 0, 0, 0, 0]\n",
       " [0, 1, 0, 0, 0, 0, 0, 0, 0, 0  …  0, 0, 0, 0, 1, 0, 0, 2, 0, 0]\n",
       " [0, 1, 0, 0, 2, 0, 0, 0, 0, 0  …  0, 0, 0, 0, 3, 0, 0, 1, 0, 0]\n",
       " [0, 4, 0, 0, 1, 0, 0, 0, 0, 0  …  0, 0, 0, 0, 0, 0, 0, 0, 0, 0]\n",
       " [0, 0, 0, 1, 2, 1, 1, 0, 0, 0  …  0, 0, 0, 0, 2, 0, 0, 0, 2, 2]\n",
       " [0, 2, 0, 0, 4, 0, 0, 1, 0, 0  …  0, 0, 0, 0, 1, 0, 0, 3, 0, 0]\n",
       " [0, 2, 0, 0, 1, 0, 0, 0, 0, 0  …  0, 1, 0, 0, 0, 0, 0, 1, 0, 0]\n",
       " [1, 2, 0, 0, 1, 0, 0, 1, 0, 0  …  0, 0, 0, 0, 1, 0, 0, 2, 0, 0]\n",
       " [0, 3, 0, 0, 5, 1, 0, 0, 0, 0  …  0, 0, 0, 0, 0, 0, 0, 0, 0, 0]\n",
       " [0, 3, 0, 0, 3, 0, 0, 0, 0, 0  …  0, 2, 0, 0, 0, 0, 0, 1, 0, 0]"
      ]
     },
     "execution_count": 82,
     "metadata": {},
     "output_type": "execute_result"
    }
   ],
   "source": [
    "N = 11\n",
    "\n",
    "rn = generate_rn(N)\n",
    "\n",
    "ps = generate_propensities(N)\n",
    "prob = LNAProblem(rn, zeros(Int, 3*N+1), ps)\n",
    "\n",
    "sol = solve(prob)\n",
    "\n",
    "lnameans = mean(sol)\n",
    "lnacovs = StatsBase.cov(sol)\n",
    "\n",
    "initial_values = map(Int64, map(ceil, lnameans))\n",
    "\n",
    "prob = DiscreteProblem(rn, initial_values, (0, 500000.),  ps)\n",
    "jump_prob = JumpProblem(rn, prob, Direct(), save_positions=(false, false))\n",
    "\n",
    "sol = solve(jump_prob, SSAStepper(), saveat=100.0)"
   ]
  },
  {
   "cell_type": "code",
   "execution_count": 58,
   "id": "352c367b-c5b8-4146-b4f2-6996a704b5c4",
   "metadata": {},
   "outputs": [
    {
     "data": {
      "text/plain": [
       "31-element Array{Float64,1}:\n",
       "  0.17333381595310726\n",
       " -0.06840542042700881\n",
       "  0.11728708406457067\n",
       " -0.019717591577941285\n",
       " -0.0408932039094263\n",
       " -0.9970640973604106\n",
       " -5.208947432138827\n",
       " -0.012031356341333899\n",
       "  0.25141765089500656\n",
       "  0.021286434078033878\n",
       " -0.0004504881443159192\n",
       " -0.15878477859077855\n",
       " -0.2586306974932846\n",
       "  ⋮\n",
       " -0.0009589054770748895\n",
       " -0.012918667151200047\n",
       " -0.055455992350669\n",
       " -0.0477705868719025\n",
       " -0.1215002307804196\n",
       " -0.019602307638992622\n",
       " -0.031345243806040424\n",
       "  0.009906987917959964\n",
       " -0.18282100968233816\n",
       " -0.04835518372438852\n",
       "  0.4512102717514884\n",
       "  0.5754635782190224"
      ]
     },
     "execution_count": 58,
     "metadata": {},
     "output_type": "execute_result"
    }
   ],
   "source": [
    "1 .- (lnameans ./ mean(sol.u))"
   ]
  },
  {
   "cell_type": "code",
   "execution_count": 62,
   "id": "09dba741-2e36-4394-94ae-13c5f3e8c229",
   "metadata": {},
   "outputs": [
    {
     "data": {
      "text/plain": [
       "31-element Array{Float64,1}:\n",
       " 0.17333381595310726\n",
       " 0.06840542042700881\n",
       " 0.11728708406457067\n",
       " 0.019717591577941285\n",
       " 0.0408932039094263\n",
       " 0.9970640973604106\n",
       " 5.208947432138827\n",
       " 0.012031356341333899\n",
       " 0.25141765089500656\n",
       " 0.021286434078033878\n",
       " 0.0004504881443159192\n",
       " 0.15878477859077855\n",
       " 0.2586306974932846\n",
       " ⋮\n",
       " 0.0009589054770748895\n",
       " 0.012918667151200047\n",
       " 0.055455992350669\n",
       " 0.0477705868719025\n",
       " 0.1215002307804196\n",
       " 0.019602307638992622\n",
       " 0.031345243806040424\n",
       " 0.009906987917959964\n",
       " 0.18282100968233816\n",
       " 0.04835518372438852\n",
       " 0.4512102717514884\n",
       " 0.5754635782190224"
      ]
     },
     "execution_count": 62,
     "metadata": {},
     "output_type": "execute_result"
    }
   ],
   "source": [
    "relative_error(mean(sol.u), lnameans)"
   ]
  },
  {
   "cell_type": "code",
   "execution_count": 64,
   "id": "6f014709-cc9f-40ab-a9c1-515d23d727e4",
   "metadata": {},
   "outputs": [
    {
     "data": {
      "text/plain": [
       "31×31 Array{Float64,2}:\n",
       "  0.265212  0.827898   0.975425  0.863489   …  1.08714    0.993001  0.991408\n",
       "  0.827898  0.15771    0.948288  1.72074       0.821179   1.10336   0.871578\n",
       "  0.975425  0.948288   0.13165   0.366091      0.764792   0.991883  0.995835\n",
       "  0.863489  1.72074    0.366091  0.0998104     1.04553    0.9949    0.996588\n",
       "  0.934369  0.959655   0.975545  1.02675       1.0034     1.04826   1.00409\n",
       "  0.929297  1.15603    0.972698  0.981652   …  0.97699    0.996303  0.995828\n",
       "  0.973211  1.09632    0.986111  0.99412       1.01995    0.997871  0.997905\n",
       "  0.973033  1.00866    0.945384  0.989257      1.00532    0.995519  0.996166\n",
       "  0.978971  1.13227    0.996382  0.992985      0.99338    0.998771  0.998622\n",
       "  0.964222  0.507335   0.982788  0.996613      0.950648   0.99812   0.99868\n",
       "  0.468217  0.915967   1.92573   1.27746    …  0.980566   0.171701  1.02239\n",
       "  0.898477  0.825274   0.977446  0.483649      0.589578   0.986833  1.07714\n",
       "  0.459205  0.493597   0.3088    0.867656      0.984715   0.989657  0.989488\n",
       "  ⋮                                         ⋱                       ⋮\n",
       "  0.538774  0.610465  72.3914    9.63626       1.11459    0.323805  1.17156\n",
       "  1.17349   0.044338   1.31402   0.436458   …  1.05312    1.00032   1.00037\n",
       " 10.4535    0.190449   0.436404  0.795991      1.0752     4.12439   1.10482\n",
       "  0.644326  0.949978   0.730324  1.1739        0.984818   1.03391   1.00941\n",
       "  0.865663  1.24521    1.06279   0.963709      0.977855   0.996145  0.995094\n",
       "  0.911621  0.967731   0.969302  0.993255      1.00902    0.997324  0.99802\n",
       "  1.04704   0.992345   0.14568   1.00482    …  1.00454    0.588981  0.996259\n",
       "  0.991882  0.906094   0.996306  0.992208      0.989114   0.998719  0.998553\n",
       "  0.910108  0.915438   0.958319  0.992856      0.985189   0.995799  0.997169\n",
       "  1.08714   0.821179   0.764792  1.04553       0.0307167  1.00298   0.997215\n",
       "  0.993001  1.10336    0.991883  0.9949        1.00298    0.445498  0.75768\n",
       "  0.991408  0.871578   0.995835  0.996588   …  0.997215   0.75768   0.631268"
      ]
     },
     "execution_count": 64,
     "metadata": {},
     "output_type": "execute_result"
    }
   ],
   "source": [
    "relative_error(StatsBase.cov(sol.u), lnacovs)"
   ]
  },
  {
   "cell_type": "code",
   "execution_count": 45,
   "id": "3de64bd4-a694-41c7-9973-550651708e68",
   "metadata": {},
   "outputs": [
    {
     "data": {
      "text/plain": [
       "2×2 Array{Float64,2}:\n",
       " 1.0  1.0\n",
       " 1.0  1.0"
      ]
     },
     "execution_count": 45,
     "metadata": {},
     "output_type": "execute_result"
    }
   ],
   "source": [
    "[[1,2] [3,4]] ./[[1,2] [3,4]]"
   ]
  },
  {
   "cell_type": "markdown",
   "id": "40e4f1af-a1b9-434c-b801-fcfc3df8b995",
   "metadata": {},
   "source": [
    "### Testing without simulation"
   ]
  },
  {
   "cell_type": "code",
   "execution_count": 87,
   "id": "7979c481-42b5-4683-a149-8fd2d7a41b6e",
   "metadata": {},
   "outputs": [
    {
     "ename": "LoadError",
     "evalue": "\u001b[91mMethodError: no method matching solve(::LNAProblem{ReactionSystem,Num,Array{Int64,1},Array{Float64,1}}; abstol=0.01)\u001b[39m\n\u001b[91m\u001b[0mClosest candidates are:\u001b[39m\n\u001b[91m\u001b[0m  solve(::LNAProblem; solver) at /Users/Louis/projects/translation-kinetics/src/lna.jl:44\u001b[91m got unsupported keyword argument \"abstol\"\u001b[39m\u001b[39m\n\u001b[91m\u001b[0m  solve(::LNAProblem, \u001b[91m::Any\u001b[39m; kwargs...) at /Users/Louis/projects/translation-kinetics/src/lna.jl:42\u001b[39m\n\u001b[91m\u001b[0m  solve(::Any...; kwargs...) at /Users/Louis/.julia/packages/CommonSolve/alZRX/src/CommonSolve.jl:3\u001b[39m\n\u001b[91m\u001b[0m  ...\u001b[39m",
     "output_type": "error",
     "traceback": [
      "\u001b[91mMethodError: no method matching solve(::LNAProblem{ReactionSystem,Num,Array{Int64,1},Array{Float64,1}}; abstol=0.01)\u001b[39m\n\u001b[91m\u001b[0mClosest candidates are:\u001b[39m\n\u001b[91m\u001b[0m  solve(::LNAProblem; solver) at /Users/Louis/projects/translation-kinetics/src/lna.jl:44\u001b[91m got unsupported keyword argument \"abstol\"\u001b[39m\u001b[39m\n\u001b[91m\u001b[0m  solve(::LNAProblem, \u001b[91m::Any\u001b[39m; kwargs...) at /Users/Louis/projects/translation-kinetics/src/lna.jl:42\u001b[39m\n\u001b[91m\u001b[0m  solve(::Any...; kwargs...) at /Users/Louis/.julia/packages/CommonSolve/alZRX/src/CommonSolve.jl:3\u001b[39m\n\u001b[91m\u001b[0m  ...\u001b[39m",
      "",
      "Stacktrace:",
      " [1] kwerr(::NamedTuple{(:abstol,),Tuple{Float64}}, ::Function, ::LNAProblem{ReactionSystem,Num,Array{Int64,1},Array{Float64,1}}) at ./error.jl:157",
      " [2] top-level scope at In[87]:8",
      " [3] include_string(::Function, ::Module, ::String, ::String) at ./loading.jl:1091"
     ]
    }
   ],
   "source": [
    "N = 10\n",
    "\n",
    "rn = generate_rn(N)\n",
    "\n",
    "ps = generate_propensities(N)\n",
    "prob = LNAProblem(rn, zeros(Int, 3*N+1), ps)\n",
    "\n",
    "sol = solve(prob, abstol=0.01)\n",
    "\n",
    "lnameans = mean(sol)\n",
    "lnacovs = StatsBase.cov(sol)"
   ]
  },
  {
   "cell_type": "code",
   "execution_count": 72,
   "id": "acd25a46-4bc1-428e-b955-c0921d9380b6",
   "metadata": {},
   "outputs": [
    {
     "data": {
      "text/plain": [
       "solve_lna (generic function with 1 method)"
      ]
     },
     "execution_count": 72,
     "metadata": {},
     "output_type": "execute_result"
    }
   ],
   "source": [
    "function solve_lna(N)\n",
    "    rn = generate_rn(N)\n",
    "\n",
    "    ps = generate_propensities(N)\n",
    "    prob = LNAProblem(rn, zeros(Int, 3*N+1), ps)\n",
    "\n",
    "    sol = solve(prob)\n",
    "\n",
    "    lnameans = mean(sol)\n",
    "    lnacovs = StatsBase.cov(sol)\n",
    "    [lnameans, lnacovs]\n",
    "end"
   ]
  },
  {
   "cell_type": "code",
   "execution_count": 75,
   "id": "685e29cb-556c-4ce7-9e9a-3c0b07fedcd8",
   "metadata": {},
   "outputs": [
    {
     "name": "stdout",
     "output_type": "stream",
     "text": [
      " 72.680345 seconds (401.98 M allocations: 14.492 GiB, 3.91% gc time)\n"
     ]
    },
    {
     "data": {
      "text/plain": [
       "2-element Array{AbstractArray{Float64,N} where N,1}:\n",
       " [0.003913516354825914, 1.076787348759288, 0.0020010325504505604, 0.022880449397966268, 15.493708002617643, 0.1102177732260926, 0.6028795916834687, 167.32618205103256, 0.1788828402631831, 1.2484475864650617  …  0.012011146159977193, 0.26890302824092216, 0.0021722386922661263, 0.010090981422567733, 0.16482244261043894, 0.00040930464501283187, 0.001766838249567656, 1.1900488518465795, 0.002710526335915963, 0.011462196277007898]\n",
       " [0.0039137203208215 -3.4983775110564858e-6 … 1.319027887738619e-7 2.8808279438182706e-5; -3.4983775110564858e-6 1.0767885733097855 … -1.4993486371801812e-6 -3.769567056736251e-6; … ; 1.319027887738619e-7 -1.4993486371801812e-6 … 0.0027106139959581247 0.0008565633374646718; 2.8808279438182706e-5 -3.769567056736251e-6 … 0.0008565633374646718 0.015084406829849174]"
      ]
     },
     "execution_count": 75,
     "metadata": {},
     "output_type": "execute_result"
    }
   ],
   "source": [
    "@time solve_lna(50)"
   ]
  },
  {
   "cell_type": "code",
   "execution_count": 76,
   "id": "7831e8d1-956f-44c4-8ed5-6b6e8344b6ba",
   "metadata": {},
   "outputs": [
    {
     "name": "stdout",
     "output_type": "stream",
     "text": [
      "687.974690 seconds (3.64 G allocations: 133.870 GiB, 4.39% gc time)\n"
     ]
    },
    {
     "data": {
      "text/plain": [
       "2-element Array{AbstractArray{Float64,N} where N,1}:\n",
       " [0.005428926552676555, 3.2884818291280697, 0.0014060506173262455, 0.0015234765242582759, 6.718138634611124, 0.012130824879603498, 0.009092624828238015, 6.591033439770696, 0.0016249664045856103, 0.0008969100980871376  …  0.0053903525764823325, 1.1802732695604508, 0.002665210033710848, 0.0008577120751289995, 5.637753953179722, 0.018620740950920835, 0.017920021280236263, 0.5500119929022896, 0.00018126745258929927, 0.00014801737127886886]\n",
       " [0.005429110046703831 -1.278198664506243e-5 … 5.1090012641481775e-9 4.330888479067435e-7; -1.278198664506243e-5 3.2884928357118595 … -3.702636123151617e-7 -3.2735304821659323e-7; … ; 5.1090012641481775e-9 -3.702636123151617e-7 … 0.00018126761125042412 4.769695944550095e-5; 4.330888479067435e-7 -3.2735304821659323e-7 … 4.769695944550095e-5 0.00018696522680544138]"
      ]
     },
     "execution_count": 76,
     "metadata": {},
     "output_type": "execute_result"
    }
   ],
   "source": [
    "@time solve_lna(100)"
   ]
  },
  {
   "cell_type": "code",
   "execution_count": 77,
   "id": "b339bb8b-9f5e-4885-8cb7-2c5866f91623",
   "metadata": {},
   "outputs": [
    {
     "name": "stdout",
     "output_type": "stream",
     "text": [
      "2031.423012 seconds (11.77 G allocations: 410.204 GiB, 3.99% gc time)\n"
     ]
    },
    {
     "data": {
      "text/plain": [
       "2-element Array{AbstractArray{Float64,N} where N,1}:\n",
       " [0.001258839046408539, 0.3957753679401318, 0.0003039513749389921, 0.00022607662197215262, 1.4898369389574384, 0.0002667781743536397, 0.00014065430292929757, 3.3149953520815214, 0.000503566846364554, 0.00015444076033805957  …  0.0009233224095313113, 11.572257949067708, 0.004612146003009105, 0.004319188789774388, 2.6898613957316067, 0.0005210509124357742, 0.000374229018904343, 0.811660574972732, 0.0005885039530277535, 0.0005238312494578427]\n",
       " [0.0012588467309683142 -1.9058440290957088e-6 … 2.4139878904410467e-9 3.651168290178134e-7; -1.9058440290957088e-6 0.395775941902496 … -4.912515222835027e-7 -2.7230527737963027e-7; … ; 2.4139878904410467e-9 -4.912515222835027e-7 … 0.0005885040158917425 0.00023306415233822033; 3.651168290178134e-7 -2.7230527737963027e-7 … 0.00023306415233822033 0.000731283188387139]"
      ]
     },
     "execution_count": 77,
     "metadata": {},
     "output_type": "execute_result"
    }
   ],
   "source": [
    "@time solve_lna(150)"
   ]
  },
  {
   "cell_type": "code",
   "execution_count": 81,
   "id": "09c15f26-1d05-437d-9c64-8efd1052f7fe",
   "metadata": {},
   "outputs": [
    {
     "name": "stdout",
     "output_type": "stream",
     "text": [
      " Count  Overhead File                    Line Function\n",
      " =====  ======== ====                    ==== ========\n",
      "     1         1 @Base/Base.jl             33 getproperty\n",
      "     7         0 In[65]                    29 generate_rn(::Int64)\n",
      "    68         0 In[65]                    30 generate_rn(::Int64)\n",
      "    75         0 In[72]                     2 solve_lna(::Int64)\n",
      "   314         0 In[72]                     5 solve_lna(::Int64)\n",
      "   139         0 In[72]                     7 solve_lna(::Int64)\n",
      "     2         0 @Base/abstractarray.jl  1654 #cat#111\n",
      "     2         0 @Base/abstractarray.jl  1518 #cat_t#110\n",
      "     1         1 @Base/abstractarray.jl  1536 __cat(::Array{Any,1}, ::Tuple{I...\n",
      "     1         1 @Base/abstractarray.jl  1546 __cat(::Array{Any,1}, ::Tuple{I...\n",
      "     2         0 @Base/abstractarray.jl  1516 _cat\n",
      "     2         0 @Base/abstractarray.jl  1526 _cat_t\n",
      "     2         0 @Base/abstractarray.jl  1654 cat##kw\n",
      "     2         0 @Base/abstractarray.jl  1518 cat_t##kw\n",
      "     1         0 @Base/abstractarray.jl   732 copyto!(::Array{SymbolicUtils.R...\n",
      "     6         0 @Base/abstractarray.jl   341 first(::Dict{Any,Number})\n",
      "     4         0 @Base/abstractarray.jl  2009 foreach(::typeof(ModelingToolki...\n",
      "    65        10 @Base/abstractarray.jl  2162 map(::Function, ::Array{Symboli...\n",
      "     2         0 @Base/abstractarray.jl  2162 map\n",
      "     6         0 @Base/abstractarray.jl   638 similar\n",
      "    40         0 @Base/abstractarray.jl   674 similar\n",
      "    40         0 @Base/abstractarray.jl   675 similar\n",
      "     2         0 @Base/abstractarray.jl  1583 vcat(::Int64, ::Array{SymbolicU...\n",
      "     3         0 @Base/abstractdict.jl    533 dict_with_eltype\n",
      "    82         0 @Base/abstractdict.jl    540 dict_with_eltype\n",
      "     7         0 @Base/abstractdict.jl    483 hash(::Dict{Any,Number}, ::UInt64)\n",
      "     4         0 @Base/abstractdict.jl    484 hash(::Dict{Any,Number}, ::UInt64)\n",
      "     1         1 @Base/abstractdict.jl    486 hash(::Dict{Any,Number}, ::UInt64)\n",
      "    11         0 @Base/abstractdict.jl    180 merge!(::Dict{SymbolicUtils.Sym...\n",
      "    40         0 @Base/array.jl           678 _array_for\n",
      "     3         3 @Base/array.jl             ? _collect\n",
      "    12         0 @Base/array.jl           699 _collect(::Array{SymbolicUtils....\n",
      "    54        13 @Base/array.jl           704 _collect(::Array{SymbolicUtils....\n",
      "     1         1 @Base/array.jl           903 _deleteat!\n",
      "     1         1 @Base/array.jl           892 _growend!\n",
      "     1         0 @Base/array.jl          2563 _shrink(::Function, ::Array{Sym...\n",
      "     1         0 @Base/array.jl          2532 _shrink_filter!\n",
      "     6         0 @Base/array.jl           599 _similar_for(::Array{SymbolicUt...\n",
      "     1         1 @Base/array.jl          2522 _unique_filter!\n",
      "     1         0 @Base/array.jl           684 collect\n",
      "     4         0 @Base/array.jl           686 collect(::Base.Generator{UnitRa...\n",
      "     8         0 @Base/array.jl           691 collect(::Base.Generator{Dict{A...\n",
      "    57         0 @Base/array.jl           628 collect_similar(::Array{Symboli...\n",
      "     6         0 @Base/array.jl           628 collect_similar\n",
      "    37         0 @Base/array.jl           732 collect_to!(::Array{Bool,1}, ::...\n",
      "     8         0 @Base/array.jl           732 collect_to!\n",
      "     5         1 @Base/array.jl           740 collect_to!(::Array{Sym{Real,Ba...\n",
      "    25         0 @Base/array.jl           710 collect_to_with_first!\n",
      "    20         0 @Base/array.jl           710 collect_to_with_first!(::Array{...\n",
      "     1         0 @Base/array.jl          1306 deleteat!\n",
      "     1         1 @Base/array.jl           809 getindex\n",
      "     1         0 @Base/array.jl           751 grow_to!(::Array{Pair{Any,Int64...\n",
      "     1         0 @Base/array.jl           778 grow_to!(::Array{Pair{Any,Int64...\n",
      "     1         0 @Base/array.jl          2566 intersect(::Array{Symbol,1}, ::...\n",
      "     1         0 @Base/array.jl           941 push!\n",
      "     5         5 @Base/array.jl           847 setindex!\n",
      "     1         1 @Base/array.jl           849 setindex!\n",
      "     6         0 @Base/array.jl           380 similar\n",
      "     1         0 @Base/array.jl           129 vect\n",
      "    42         0 @Base/array.jl           130 vect\n",
      "     2         1 @Base/array.jl           151 vect(::SymbolicUtils.Rule{Term{...\n",
      "     3         0 @Base/array.jl           521 zeros\n",
      "     1         0 @Base/array.jl           521 zeros(::Type{Int64}, ::Int64, :...\n",
      "     4         0 @Base/array.jl           525 zeros\n",
      "    65        65 @Base/boot.jl            406 Array\n",
      "     1         1 @Base/boot.jl            408 Array\n",
      "    49         0 @Base/boot.jl            415 Array\n",
      "     1         0 @Base/boot.jl            416 Array\n",
      "     1         0 @Base/boot.jl            425 Array\n",
      "     1         1 @Base/boot.jl            438 Symbol\n",
      "    68        58 @Base/boot.jl            331 eval\n",
      "   104         0 @Base/broadcast.jl       621 _broadcast_getindex\n",
      "     1         0 @Base/broadcast.jl       621 _broadcast_getindex(::Base.Broa...\n",
      "   104         0 @Base/broadcast.jl       648 _broadcast_getindex_evalf\n",
      "     1         0 @Base/broadcast.jl       648 _broadcast_getindex_evalf(::typ...\n",
      "     2         0 @Base/broadcast.jl       695 combine_eltypes(::Function, ::T...\n",
      "     2         0 @Base/broadcast.jl       859 copy(::Base.Broadcast.Broadcast...\n",
      "     2         0 @Base/broadcast.jl       876 copy\n",
      "   103         0 @Base/broadcast.jl       880 copy\n",
      "     1         0 @Base/broadcast.jl       880 copy(::Base.Broadcast.Broadcast...\n",
      "   103         0 @Base/broadcast.jl      1026 copyto_nonleaf!(::Array{Float64...\n",
      "     1         0 @Base/broadcast.jl      1028 copyto_nonleaf!(::Array{Float64...\n",
      "   105         0 @Base/broadcast.jl       575 getindex\n",
      "   108         0 @Base/broadcast.jl       837 materialize(::Base.Broadcast.Br...\n",
      "    68         0 @Base/client.jl          467 eval(::Expr)\n",
      "     2         0 ...mpiler/typeinfer.jl   623 return_type(::Any, ::Any)\n",
      "     1         0 ...mpiler/typeinfer.jl   637 return_type(::Any, ::Any, ::UIn...\n",
      "     1         0 ...mpiler/typeinfer.jl   638 return_type(::Any, ::Any, ::UIn...\n",
      "     1         0 ...mpiler/typeinfer.jl   584 typeinf_type(::Method, ::Any, :...\n",
      "     1         1 ...mpiler/utilities.jl   122 inf_for_methodinstance\n",
      "     6         1 @Base/dict.jl             90 Dict{Any,Number}()\n",
      "     1         1 @Base/dict.jl            127 Dict(::Base.Generator{Array{Pai...\n",
      "    82         0 @Base/dict.jl            128 Dict(::Base.Generator{Array{Pai...\n",
      "    25         0 @Base/dict.jl            669 _iterate\n",
      "     3         0 @Base/dict.jl            355 _setindex!\n",
      "    23         0 @Base/dict.jl            367 _setindex!\n",
      "     9         0 @Base/dict.jl            490 get(::Dict{Any,Number}, ::Term{...\n",
      "     1         0 @Base/dict.jl            466 getindex\n",
      "     1         0 @Base/dict.jl            139 grow_to!(::Dict{Any,Any}, ::Bas...\n",
      "     1         0 @Base/dict.jl            143 grow_to!(::Dict{Any,Any}, ::Bas...\n",
      "    77         0 @Base/dict.jl            144 grow_to!(::Dict{Any,Any}, ::Bas...\n",
      "     8         0 @Base/dict.jl            152 grow_to!(::Dict{SymbolicUtils.S...\n",
      "     4         4 @Base/dict.jl            153 grow_to!(::Dict{SymbolicUtils.S...\n",
      "    36         2 @Base/dict.jl            154 grow_to!(::Dict{Term{Real,Base....\n",
      "     4         1 @Base/dict.jl            156 grow_to!(::Dict{Term{Real,Base....\n",
      "    11         0 @Base/dict.jl            157 grow_to!(::Dict{Term{Real,Base....\n",
      "    41         1 @Base/dict.jl            159 grow_to!(::Dict{Term{Real,Base....\n",
      "    13         0 @Base/dict.jl            161 grow_to!(::Dict{SymbolicUtils.S...\n",
      "    33        13 @Base/dict.jl            168 hashindex(::Term{Real,Base.Immu...\n",
      "     3         0 @Base/dict.jl            168 hashindex\n",
      "     5         0 @Base/dict.jl            535 haskey\n",
      "    14         0 @Base/dict.jl            282 ht_keyindex(::Dict{Any,Number},...\n",
      "     1         0 @Base/dict.jl            289 ht_keyindex(::Dict{Any,Symbol},...\n",
      "    14         0 @Base/dict.jl            308 ht_keyindex2!(::Dict{Term{Real,...\n",
      "     6         4 @Base/dict.jl            326 ht_keyindex2!(::Dict{Term{Real,...\n",
      "    18         0 @Base/dict.jl            671 iterate\n",
      "     9         0 @Base/dict.jl            673 iterate\n",
      "     1         1 @Base/dict.jl              ? rehash!(::Dict{SymbolicUtils.Sy...\n",
      "     1         0 @Base/dict.jl            191 rehash!(::Dict{SymbolicUtils.Sy...\n",
      "     6         0 @Base/dict.jl            192 rehash!(::Dict{Term{Real,Base.I...\n",
      "     6         0 @Base/dict.jl            193 rehash!(::Dict{Term{Real,Base.I...\n",
      "     8         0 @Base/dict.jl            202 rehash!(::Dict{SymbolicUtils.Sy...\n",
      "     1         0 @Base/dict.jl            210 rehash!(::Dict{Term{Real,Base.I...\n",
      "    20         0 @Base/dict.jl            381 setindex!(::Dict{Term{Real,Base...\n",
      "    26         0 @Base/dict.jl            388 setindex!(::Dict{Term{Real,Base...\n",
      "     1         1 @Base/dict.jl              ? skip_deleted\n",
      "     1         0 @Base/dict.jl            662 skip_deleted_floor!\n",
      "   530         0 @Base/essentials.jl      710 #invokelatest#1\n",
      "    13        13 @Base/essentials.jl      696 Val(::Int64)\n",
      "   530         0 @Base/essentials.jl      709 invokelatest\n",
      "     1         1 @Base/essentials.jl      452 setindex!\n",
      "     1         1 @Base/expr.jl             15 gensym\n",
      "     6         0 @Base/generator.jl        44 iterate\n",
      "    67         4 @Base/generator.jl        47 iterate\n",
      "     1         0 @Base/generator.jl        47 iterate(::Base.Generator{Array{...\n",
      "    23         0 @Base/hashing.jl          18 hash\n",
      "     3         0 @Base/hashing.jl          23 hash\n",
      "     1         0 @Base/hashing.jl          32 hash_64_64\n",
      "     1         0 @Base/hashing.jl          33 hash_64_64\n",
      "     2         0 @Base/hashing.jl          63 hash_uint\n",
      "     1         1 @Base/int.jl              86 +\n",
      "     1         1 @Base/int.jl             455 >>\n",
      "     1         0 @Base/int.jl             461 >>\n",
      "     1         0 @Base/io.jl              626 write\n",
      "     1         0 @Base/iterators.jl       429 iterate(::Base.Iterators.Filter...\n",
      "   530         2 @Base/loading.jl        1091 include_string(::Function, ::Mo...\n",
      "     7         0 @Base/logging.jl         514 with_logger(::Function, ::Base....\n",
      "     7         0 @Base/logging.jl         408 with_logstate(::Function, ::Any)\n",
      "     7         7 @Base/meta.jl            179 (::Base.Meta.var\"#2#3\"{Bool,Str...\n",
      "     7         0 @Base/meta.jl            178 parse(::String, ::Int64; greedy...\n",
      "     7         0 @Base/meta.jl            215 parse(::String; raise::Bool, de...\n",
      "     7         0 @Base/meta.jl            215 parse\n",
      "     7         0 @Base/meta.jl            176 parse##kw\n",
      "     1         0 ...multidimensional.jl   559 setindex!\n",
      "    14        14 none                       ? (::Symbolics.var\"#15#18\")(::Pai...\n",
      "     1         0 none                       ? (::SymbolicUtils.Code.var\"#20#2...\n",
      "   259         1 none                       ? (::var\"#24#27\"{Array{Term{Real,...\n",
      "     3         0 none                       ? (::Symbolics.var\"#279#282\"{Arra...\n",
      "     2         0 none                       ? (::SymbolicUtils.var\"#30#31\")(:...\n",
      "     1         0 none                       ? (::SymbolicUtils.var\"#39#40\")(:...\n",
      "     1         0 @Base/operators.jl       538 +\n",
      "     6         0 @Base/ordering.jl         73 #1\n",
      "     2         0 @Base/ordering.jl         60 lt(::Base.Order.Lt{Base.Order.v...\n",
      "     4         0 @Base/ordering.jl         60 lt\n",
      "    25        25 @Base/pair.jl             12 Pair\n",
      "     8         8 @Base/pair.jl             50 indexed_iterate\n",
      "     2         0 @Base/promotion.jl       131 _promote_typejoin(::Any, ::Any)\n",
      "     3         1 @Base/promotion.jl       130 promote_typejoin(::Any, ::Any)\n",
      "     1         1 @Base/promotion.jl       102 typejoin(::Any, ::Any)\n",
      "     1         1 @Base/promotion.jl       118 typejoin(::Any, ::Any)\n",
      "     1         1 @Base/range.jl           620 iterate\n",
      "   311         0 @Base/reduce.jl          160 #mapfoldl#204\n",
      "   311         0 @Base/reduce.jl          287 #mapreduce#208\n",
      "    48         0 @Base/reduce.jl           81 BottomRF\n",
      "     5         1 @Base/reduce.jl           81 (::Base.BottomRF{typeof(Base.ad...\n",
      "   311         0 @Base/reduce.jl           93 MappingRF\n",
      "    12         6 @Base/reduce.jl          781 _any(::typeof(Symbolics.hasderi...\n",
      "     2         2 @Base/reduce.jl          782 _any(::typeof(Symbolics.hasderi...\n",
      "   311         0 @Base/reduce.jl           62 _foldl_impl(::Base.MappingRF{va...\n",
      "     4         0 @Base/reduce.jl           24 add_sum\n",
      "    48         1 @Base/reduce.jl           27 add_sum\n",
      "   311         0 @Base/reduce.jl           48 foldl_impl\n",
      "   311         0 @Base/reduce.jl          160 mapfoldl\n",
      "   311         0 @Base/reduce.jl           44 mapfoldl_impl\n",
      "   311         0 @Base/reduce.jl          287 mapreduce\n",
      "   311         0 @Base/reduce.jl          494 sum\n",
      "   311         0 @Base/reduce.jl          511 sum(::Base.Generator{UnitRange{...\n",
      "     1         1 @Base/reducedim.jl       735 all(::Function, ::Array{Bool,1}...\n",
      "    16         4 @Base/reducedim.jl       732 any(::Function, ::Array{Symboli...\n",
      "     3         2 @Base/reducedim.jl       735 all(::Function, ::Array{Bool,1})\n",
      "    16         0 @Base/reducedim.jl       732 any(::Function, ::Array{Symboli...\n",
      "     1         0 @Base/reflection.jl      854 _methods\n",
      "     1         0 @Base/reflection.jl      858 _methods_by_ftype(::Any, ::Int6...\n",
      "     1         1 @Base/reflection.jl      861 _methods_by_ftype\n",
      "     1         1 @Base/reflection.jl      312 objectid\n",
      "     1         0 @Base/refpointer.jl       94 Ref\n",
      "     3         0 @Base/refpointer.jl       96 Ref\n",
      "     4         4 @Base/refvalue.jl          8 RefValue\n",
      "     1         0 @Base/refvalue.jl         10 RefValue\n",
      "     7         0 @Base/sort.jl            733 #sort!#7\n",
      "     7         1 @Base/sort.jl            498 sort!(::Array{SymbolicUtils.Sym...\n",
      "     7         0 @Base/sort.jl            582 sort!\n",
      "     7         0 @Base/sort.jl            583 sort!(::Array{SymbolicUtils.Sym...\n",
      "     7         0 @Base/sort.jl            673 sort!\n",
      "     7         0 @Base/sort.jl            721 (::Base.var\"#sort!##kw\")(::Name...\n",
      "   530         0 @Base/task.jl            356 (::IJulia.var\"#15#18\")()\n",
      "     1         0 @Base/tuple.jl            84 indexed_iterate(::Base.Generato...\n",
      "     3         0 @Base/tuple.jl            89 indexed_iterate(::Base.Generato...\n",
      "     1         0 ...t/src/networkapi.jl   230 netstoichmat(::Type{Array{Int64...\n",
      "     1         0 ...t/src/networkapi.jl   239 netstoichmat(::ReactionSystem; ...\n",
      "     1         0 ...t/src/networkapi.jl   239 netstoichmat(::ReactionSystem)\n",
      "     1         0 ...t/src/networkapi.jl   230 netstoichmat##kw\n",
      "     1         0 ...t/src/networkapi.jl   765 validate\n",
      "     1         1 ...t/src/networkapi.jl   783 validate(::ReactionSystem, ::St...\n",
      "     1         0 ...reaction_network.jl   171 make_reaction_system(::Expr, ::...\n",
      "     1         0 ...reaction_network.jl   173 make_reaction_system(::Expr, ::...\n",
      "     5         0 ...reaction_network.jl   114 @reaction_network(::LineNumberN...\n",
      "     1         0 ...reaction_network.jl   161 ReactionStruct\n",
      "     1         0 ...reaction_network.jl   198 get_reactions\n",
      "     1         0 ...reaction_network.jl   209 get_reactions(::Expr, ::Array{C...\n",
      "     3         0 ...reaction_network.jl   171 make_reaction_system(::Expr, ::...\n",
      "     1         0 ...reaction_network.jl   224 push_reactions!(::Array{Catalys...\n",
      "     1         1 ...reaction_network.jl   231 recursive_find_reactants!(::Sym...\n",
      "     1         0 ...c/reactionsystem.jl    83 Reaction(::Num, ::Array{Num,1},...\n",
      "     1         1 ...c/reactionsystem.jl    84 Reaction(::Num, ::Array{Num,1},...\n",
      "     1         0 ...c/reactionsystem.jl   218 #ReactionSystem#17\n",
      "    33         0 ...c/reactionsystem.jl   596 SteadyStateProblem(::ReactionSy...\n",
      "     3         0 ...c/reactionsystem.jl   284 assemble_drift(::ReactionSystem...\n",
      "     3         0 ...c/reactionsystem.jl   275 assemble_oderhs(::ReactionSyste...\n",
      "     3         0 ...c/reactionsystem.jl   456 convert(::Type{ODESystem}, ::Re...\n",
      "     1         0 ...c/reactionsystem.jl   459 convert(::Type{ODESystem}, ::Re...\n",
      "     1         0 ...c/reactionsystem.jl   201 ReactionSystem(::Array{Reaction...\n",
      "    33         0 ...c/reactionsystem.jl   596 SteadyStateProblem\n",
      "     2         0 ...c/reactionsystem.jl    69 (::Core.var\"#Type##kw\")(::Named...\n",
      "     1         0 ...c/reactionsystem.jl   191 Type##kw\n",
      "     1         0 ...c/reactionsystem.jl   216 (::Core.var\"#Type##kw\")(::Named...\n",
      "     3         0 ...c/reactionsystem.jl   284 assemble_drift##kw\n",
      "     3         0 ...c/reactionsystem.jl   262 assemble_oderhs##kw\n",
      "     4         0 ...c/reactionsystem.jl   456 convert(::Type{ODESystem}, ::Re...\n",
      "     1         0 ...c/reactionsystem.jl   141 get_netstoich(::Array{Term{Real...\n",
      "     1         1 ...ols/src/function.jl    79 splitdef(::Expr; throw::Bool)\n",
      "     1         0 ...ols/src/function.jl    24 splitdef\n",
      "   530         0 ...ia/src/eventloop.jl     8 eventloop(::ZMQ.Socket)\n",
      "   530         0 .../execute_request.jl    67 execute_request(::ZMQ.Socket, :...\n",
      "     1         0 ...oTools/src/utils.jl   134 (::MacroTools.var\"#21#22\"{typeo...\n",
      "     2         0 ...oTools/src/utils.jl   134 prewalk(::typeof(MacroTools.rml...\n",
      "     1         1 ...oTools/src/utils.jl    83 rmlines(::Expr)\n",
      "     2         0 ...oTools/src/utils.jl    87 striplines(::Expr)\n",
      "     1         0 ...oTools/src/utils.jl   112 walk\n",
      "    29         0 ...bstractodesystem.jl   200 #ODEFunction#194\n",
      "    24         0 ...bstractodesystem.jl   229 ODEFunction{true,F,TMM,Ta,Tt,TJ...\n",
      "     4         0 ...bstractodesystem.jl   230 ODEFunction{true,F,TMM,Ta,Tt,TJ...\n",
      "     1         1 ...bstractodesystem.jl   293 ODEFunction{true,F,TMM,Ta,Tt,TJ...\n",
      "     4         0 ...bstractodesystem.jl    95 generate_function(::ODESystem, ...\n",
      "     1         1 ...bstractodesystem.jl    97 generate_function(::ODESystem, ...\n",
      "    19         0 ...bstractodesystem.jl   111 generate_function(::ODESystem, ...\n",
      "    29         0 ...bstractodesystem.jl   200 ODEFunction\n",
      "    29         0 ...bstractodesystem.jl   229 ODEFunction{true,F,TMM,Ta,Tt,TJ...\n",
      "     4         0 ...bstractodesystem.jl    81 check_derivative_variables\n",
      "    24         0 ...bstractodesystem.jl    94 (::ModelingToolkit.var\"#generat...\n",
      "     1         0 ...iffeqs/odesystem.jl   120 ODESystem(::Array{Equation,1}, ...\n",
      "     1         0 ...iffeqs/odesystem.jl   115 (::Core.var\"#Type##kw\")(::Named...\n",
      "     4         0 ...oolkit/src/utils.jl   215 check_operator_variables(::Equa...\n",
      "     4         1 ...oolkit/src/utils.jl   219 check_operator_variables(::Equa...\n",
      "     4         0 ...neratedFunctions.jl   100 #197\n",
      "     4         0 ...neratedFunctions.jl    85 RuntimeGeneratedFunctions.Runti...\n",
      "     1         0 ...neratedFunctions.jl    55 RuntimeGeneratedFunctions.Runti...\n",
      "     2         0 ...neratedFunctions.jl    61 RuntimeGeneratedFunctions.Runti...\n",
      "     1         0 ...neratedFunctions.jl    62 RuntimeGeneratedFunctions.Runti...\n",
      "     4         0 ...neratedFunctions.jl    55 (::Core.var\"#Type##kw\")(::Named...\n",
      "     4         0 ...neratedFunctions.jl    84 Type##kw\n",
      "     1         1 ...neratedFunctions.jl   156 _cache_body(::Type{T} where T, ...\n",
      "     2         0 ...neratedFunctions.jl   232 expr_to_id(::Expr)\n",
      "   530         0 .../SoftGlobalScope.jl    65 softscope_include_string(::Modu...\n",
      "     3         0 ...licUtils/src/api.jl    63 (::SymbolicUtils.var\"#292#294\"{...\n",
      "     4         0 ...licUtils/src/api.jl    63 #292\n",
      "     5         0 ...licUtils/src/api.jl    57 substitute(::SymbolicUtils.Add{...\n",
      "     1         0 ...licUtils/src/api.jl    57 #substitute#291\n",
      "    16         1 ...licUtils/src/api.jl    62 substitute(::SymbolicUtils.Mul{...\n",
      "    20         0 ...licUtils/src/api.jl    57 substitute\n",
      "     5         1 ...licUtils/src/api.jl    57 substitute##kw\n",
      "     2         0 ...icUtils/src/code.jl   130 (::SymbolicUtils.Code.var\"#1#2\"...\n",
      "     1         0 ...icUtils/src/code.jl   130 #1\n",
      "     2         0 ...icUtils/src/code.jl   379 #22\n",
      "     1         0 ...icUtils/src/code.jl   119 function_to_expr(::Sym{Symbolic...\n",
      "     3         0 ...icUtils/src/code.jl   586 recurse_expr(::Expr, ::Symbolic...\n",
      "     1         0 ...icUtils/src/code.jl   587 recurse_expr\n",
      "     8         0 ...icUtils/src/code.jl    74 toexpr\n",
      "     2         1 ...icUtils/src/code.jl   124 toexpr(::Term{Real,Nothing}, ::...\n",
      "     3         0 ...icUtils/src/code.jl   130 toexpr(::Term{Real,Nothing}, ::...\n",
      "     7         0 ...icUtils/src/code.jl   203 toexpr(::SymbolicUtils.Code.Let...\n",
      "     1         0 ...icUtils/src/code.jl   206 toexpr(::SymbolicUtils.Code.Let...\n",
      "     1         0 ...icUtils/src/code.jl   207 toexpr(::SymbolicUtils.Code.Let...\n",
      "     5         0 ...icUtils/src/code.jl   209 toexpr(::SymbolicUtils.Code.Let...\n",
      "     1         1 ...icUtils/src/code.jl   273 toexpr(::SymbolicUtils.Code.Fun...\n",
      "     7         0 ...icUtils/src/code.jl   282 toexpr(::SymbolicUtils.Code.Fun...\n",
      "     1         0 ...icUtils/src/code.jl   320 toexpr(::SymbolicUtils.Code.AtI...\n",
      "     1         0 ...icUtils/src/code.jl   324 toexpr(::SymbolicUtils.Code.Set...\n",
      "     2         0 ...icUtils/src/code.jl   374 toexpr(::SymbolicUtils.Code.Mak...\n",
      "     3         0 ...icUtils/src/code.jl   590 toexpr(::SymbolicUtils.Code.Lit...\n",
      "     1         0 ...icUtils/src/code.jl    20 union_symbolify!(::Dict{Any,Sym...\n",
      "     1         1 ...ils/src/matchers.jl   101 (::SymbolicUtils.var\"#101#104\"{...\n",
      "     1         0 ...ils/src/matchers.jl    10 (::SymbolicUtils.var\"#literal_m...\n",
      "     1         0 ...ils/src/matchers.jl   100 (::SymbolicUtils.var\"#loop#103\"...\n",
      "     1         0 ...ils/src/matchers.jl    87 matcher(::Term{Any,Nothing})\n",
      "     1         0 ...ils/src/matchers.jl   105 (::SymbolicUtils.var\"#term_matc...\n",
      "    21        21 ...tils/src/methods.jl    42 *(::Int64, ::Num)\n",
      "     3         1 ...tils/src/methods.jl    58 *(::Int64, ::Num)\n",
      "    42        23 ...tils/src/methods.jl    42 +(::Num, ::Num)\n",
      "     5         1 ...tils/src/methods.jl    56 +(::Num, ::Num)\n",
      "     5         0 ...tils/src/methods.jl    26 assert_like\n",
      "     1         0 ...tils/src/methods.jl    26 assert_like(::Function, ::Type{...\n",
      "     3         0 ...tils/src/methods.jl    28 assert_like(::Function, ::Type{...\n",
      "     2         0 ...tils/src/methods.jl    28 assert_like\n",
      "     6         4 ...tils/src/methods.jl    31 islike\n",
      "     5         0 ...ils/src/ordering.jl    20 <ₑ\n",
      "     1         0 ...ils/src/ordering.jl    20 <ₑ(::Term{Real,Base.ImmutableDi...\n",
      "     5         0 ...ils/src/ordering.jl    11 arglength(::SymbolicUtils.Mul{R...\n",
      "     2         0 ...ils/src/ordering.jl    52 cmp_term_term(::SymbolicUtils.M...\n",
      "     3         0 ...ils/src/ordering.jl    53 cmp_term_term(::SymbolicUtils.M...\n",
      "     1         1 ...ils/src/ordering.jl    81 cmp_term_term(::Term{Real,Base....\n",
      "     1         1 ...ls/src/rewriters.jl    61 (::SymbolicUtils.Rewriters.Chai...\n",
      "     1         0 ...ls/src/rewriters.jl    62 (::SymbolicUtils.Rewriters.Chai...\n",
      "     3         0 ...ls/src/rewriters.jl   132 (::SymbolicUtils.Rewriters.Pass...\n",
      "     5         1 ...ls/src/rewriters.jl   142 (::SymbolicUtils.Rewriters.Walk...\n",
      "     1         0 ...ls/src/rewriters.jl   144 (::SymbolicUtils.Rewriters.Walk...\n",
      "     1         0 ...ls/src/rewriters.jl   146 Walk\n",
      "     1         0 ...icUtils/src/rule.jl   141 (::SymbolicUtils.Rule{Term{Any,...\n",
      "     2         0 ...icUtils/src/rule.jl   275 macro expansion\n",
      "     1         0 ...icUtils/src/rule.jl   123 rule_depth\n",
      "     1         1 ...icUtils/src/rule.jl   124 rule_depth(::Term{Any,Nothing},...\n",
      "     6         0 ...cUtils/src/types.jl   621 SymbolicUtils.Add(::Type{T} whe...\n",
      "     7         2 ...cUtils/src/types.jl   622 SymbolicUtils.Add(::Type{T} whe...\n",
      "     3         3 ...cUtils/src/types.jl   768 SymbolicUtils.Mul(::Type{T} whe...\n",
      "     3         0 ...cUtils/src/types.jl   345 #_#14\n",
      "     3         0 ...cUtils/src/types.jl   935 _merge!(::typeof(+), ::Dict{Any...\n",
      "     2         1 ...cUtils/src/types.jl   943 _merge!(::typeof(+), ::Dict{Any...\n",
      "     5         0 ...cUtils/src/types.jl   798 #makemul#41\n",
      "     1         0 ...cUtils/src/types.jl   800 makemul(::Int64, ::Sym{Real,Bas...\n",
      "     1         0 ...cUtils/src/types.jl   816 *(::Sym{Real,Base.ImmutableDict...\n",
      "     2         0 ...cUtils/src/types.jl   832 *(::Int64, ::SymbolicUtils.Mul{...\n",
      "     1         0 ...cUtils/src/types.jl   685 +(::SymbolicUtils.Add{Real,Int6...\n",
      "     1         0 ...cUtils/src/types.jl   691 +\n",
      "     3         0 ...cUtils/src/types.jl   694 +\n",
      "    19         0 ...cUtils/src/types.jl   696 +(::SymbolicUtils.Mul{Real,Int6...\n",
      "     2         0 ...cUtils/src/types.jl   710 -\n",
      "     3         0 ...cUtils/src/types.jl   716 -(::SymbolicUtils.Add{Real,Int6...\n",
      "    13         0 ...cUtils/src/types.jl   618 Add\n",
      "     2         0 ...cUtils/src/types.jl   759 Mul\n",
      "     1         0 ...cUtils/src/types.jl   759 SymbolicUtils.Mul(::Type{T} whe...\n",
      "     2         0 ...cUtils/src/types.jl   345 Term\n",
      "     1         0 ...cUtils/src/types.jl   345 Term{Real,M} where M(::Bool, ::...\n",
      "     5         0 ...cUtils/src/types.jl   933 _merge!##kw\n",
      "    10         1 ...cUtils/src/types.jl   637 arguments(::SymbolicUtils.Add{R...\n",
      "     8         4 ...cUtils/src/types.jl   781 arguments(::SymbolicUtils.Mul{R...\n",
      "     6         0 ...cUtils/src/types.jl   782 arguments(::SymbolicUtils.Mul{R...\n",
      "     2         0 ...cUtils/src/types.jl   783 arguments(::SymbolicUtils.Mul{R...\n",
      "     3         0 ...cUtils/src/types.jl   191 hash(::Sym{Real,Base.ImmutableD...\n",
      "     2         2 ...cUtils/src/types.jl   373 hash(::Term{Real,Base.Immutable...\n",
      "     1         0 ...cUtils/src/types.jl   374 hash(::Term{Real,Base.Immutable...\n",
      "     1         1 ...cUtils/src/types.jl   375 hash(::Term{Real,Base.Immutable...\n",
      "     6         6 ...cUtils/src/types.jl   376 hash(::Term{Real,Base.Immutable...\n",
      "    12         0 ...cUtils/src/types.jl   981 hash(::SymbolicUtils.Mul{Real,I...\n",
      "     6         6 ...cUtils/src/types.jl   359 isequal(::Term{Real,Base.Immuta...\n",
      "     3         3 ...cUtils/src/types.jl   365 isequal(::Term{Real,Base.Immuta...\n",
      "     2         0 ...cUtils/src/types.jl   652 makeadd(::Int64, ::Int64, ::Sym...\n",
      "     2         0 ...cUtils/src/types.jl   664 makeadd(::Int64, ::Int64, ::Sym...\n",
      "     8         1 ...cUtils/src/types.jl   665 makeadd(::Int64, ::Int64, ::Sym...\n",
      "     1         0 ...cUtils/src/types.jl   673 makeadd(::Int64, ::Int64, ::Sym...\n",
      "     3         0 ...cUtils/src/types.jl   791 makemul\n",
      "     4         0 ...cUtils/src/types.jl   791 makemul(::Int64, ::SymbolicUtil...\n",
      "     3         0 ...cUtils/src/types.jl   593 sdict\n",
      "     1         1 ...cUtils/src/types.jl   778 unstable_pow(::Sym{Real,Base.Im...\n",
      "   103         0 ...cs/src/Symbolics.jl   129 substitute(::Num, ::Array{Pair{...\n",
      "   103         0 ...cs/src/Symbolics.jl   129 substitute\n",
      "     1         0 ...olics/src/arrays.jl   496 scalarize\n",
      "     1         1 ...olics/src/arrays.jl   645 scalarize(::Term{Real,Base.Immu...\n",
      "     8         0 ...c/build_function.jl   307 #272\n",
      "     8         0 ...c/build_function.jl   223 _build_function(::Symbolics.Jul...\n",
      "     3         0 ...c/build_function.jl   231 _build_function(::Symbolics.Jul...\n",
      "     8         0 ...c/build_function.jl   245 _build_function(::Symbolics.Jul...\n",
      "    19         0 ...c/build_function.jl    52 build_function(::Array{Symbolic...\n",
      "    19         0 ...c/build_function.jl   219 (::Symbolics.var\"#_build_functi...\n",
      "     8         0 ...c/build_function.jl   307 _make_array\n",
      "     8         0 ...c/build_function.jl   316 _make_array\n",
      "     3         0 ...c/build_function.jl   363 _set_array(::Sym{Any,Nothing}, ...\n",
      "    19         0 ...c/build_function.jl    52 (::Symbolics.var\"#build_functio...\n",
      "     8         0 ...c/build_function.jl   258 make_array\n",
      "     3         0 ...c/build_function.jl   326 set_array\n",
      "     1         1 ...c/build_function.jl    65 termify(::SymbolicUtils.Add{Rea...\n",
      "     3         0 ...c/build_function.jl   143 toexpr(::Num, ::SymbolicUtils.C...\n",
      "    11         0 ...c/build_function.jl    69 unflatten_long_ops\n",
      "     1         0 ...c/build_function.jl    70 unflatten_long_ops(::SymbolicUt...\n",
      "     1         0 ...c/build_function.jl    72 unflatten_long_ops(::SymbolicUt...\n",
      "     1         0 ...c/build_function.jl    73 unflatten_long_ops(::SymbolicUt...\n",
      "     8         0 ...c/build_function.jl    80 unflatten_long_ops(::SymbolicUt...\n",
      "    23         0 @Symbolics/src/diff.jl    59 (::Symbolics.var\"#134#135\"{Term...\n",
      "   234        30 @Symbolics/src/diff.jl   335 derivative(::SymbolicUtils.Mul{...\n",
      "    18         0 @Symbolics/src/diff.jl     ? expand_derivatives(::Term{Real,...\n",
      "     6         6 @Symbolics/src/diff.jl    80 expand_derivatives(::Term{Real,...\n",
      "    37         5 @Symbolics/src/diff.jl    81 expand_derivatives(::Term{Real,...\n",
      "    82        20 @Symbolics/src/diff.jl    84 expand_derivatives(::Term{Real,...\n",
      "     1         1 @Symbolics/src/diff.jl    94 expand_derivatives(::Term{Real,...\n",
      "     1         0 @Symbolics/src/diff.jl   148 expand_derivatives(::Term{Real,...\n",
      "     2         2 @Symbolics/src/diff.jl   151 expand_derivatives(::Term{Real,...\n",
      "    14         8 @Symbolics/src/diff.jl   152 expand_derivatives(::Term{Real,...\n",
      "     1         1 @Symbolics/src/diff.jl   156 expand_derivatives(::Term{Real,...\n",
      "     1         0 @Symbolics/src/diff.jl   168 expand_derivatives(::Term{Real,...\n",
      "    31         1 @Symbolics/src/diff.jl   185 expand_derivatives(::SymbolicUt...\n",
      "     1         1 @Symbolics/src/diff.jl   186 expand_derivatives(::SymbolicUt...\n",
      "    44         0 @Symbolics/src/diff.jl    34 Differential\n",
      "     2         0 @Symbolics/src/diff.jl   264 derivative(::typeof(*), ::Tuple...\n",
      "   234         0 @Symbolics/src/diff.jl   332 derivative(::SymbolicUtils.Mul{...\n",
      "    18         3 @Symbolics/src/diff.jl   240 derivative_idx(::SymbolicUtils....\n",
      "   160         0 @Symbolics/src/diff.jl    79 expand_derivatives\n",
      "    32         0 @Symbolics/src/diff.jl    79 expand_derivatives(::SymbolicUt...\n",
      "     4         1 @Symbolics/src/diff.jl    79 (::Symbolics.var\"#expand_deriva...\n",
      "    30        11 @Symbolics/src/diff.jl    71 hasderiv(::SymbolicUtils.Mul{Re...\n",
      "     7         0 @Symbolics/src/diff.jl    56 occursin_info(::Term{Real,Base....\n",
      "    59        19 @Symbolics/src/diff.jl    59 occursin_info(::Term{Real,Base....\n",
      "     6         3 @Symbolics/src/diff.jl    60 occursin_info(::Term{Real,Base....\n",
      "     3         2 @Symbolics/src/diff.jl    63 occursin_info(::Term{Real,Base....\n",
      "    20         0 @Symbolics/src/num.jl     85 (::Symbolics.var\"#16#19\"{Symbol...\n",
      "    20         0 @Symbolics/src/num.jl     85 #16#17\n",
      "     5         5 @Symbolics/src/num.jl    119 getproperty(::SymbolicUtils.Mul...\n",
      "    83         0 @Symbolics/src/num.jl     84 substituter\n",
      "     2         2 @Symbolics/src/num.jl     88 symtype(::Num)\n",
      "     2         0 ...ics/src/variable.jl   339 @variables(::LineNumberNode, ::...\n",
      "     2         0 ...ics/src/variable.jl    81 _parse_vars(::Symbol, ::Type{T}...\n",
      "     1         1 ...ics/src/variable.jl   120 _parse_vars(::Symbol, ::Type{T}...\n",
      "     1         0 ...ics/src/variable.jl   134 _parse_vars(::Symbol, ::Type{T}...\n",
      "     1         1 ...ics/src/variable.jl   165 construct_vars(::Symbol, ::Symb...\n",
      "   104         1 ...kinetics/src/lna.jl    57 (::var\"#33#36\"{Array{Pair{Symbo...\n",
      "     1         0 ...kinetics/src/lna.jl    23 LNAProblem(::ReactionSystem, ::...\n",
      "   308         2 ...kinetics/src/lna.jl    25 LNAProblem(::ReactionSystem, ::...\n",
      "     5         0 ...kinetics/src/lna.jl    26 LNAProblem(::ReactionSystem, ::...\n",
      "    33         0 ...kinetics/src/lna.jl    45 solve(::LNAProblem{ReactionSyst...\n",
      "     1         1 ...kinetics/src/lna.jl    52 solve(::LNAProblem{ReactionSyst...\n",
      "    47         0 ...kinetics/src/lna.jl    58 solve(::LNAProblem{ReactionSyst...\n",
      "    58         0 ...kinetics/src/lna.jl    59 solve(::LNAProblem{ReactionSyst...\n",
      "   314         0 ...kinetics/src/lna.jl    20 LNAProblem\n",
      "   139         0 ...kinetics/src/lna.jl    45 solve\n",
      "     2         0 ...rc/Serialization.jl   334 serialize(::Serialization.Seria...\n",
      "     2         0 ...rc/Serialization.jl   627 serialize(::Serialization.Seria...\n",
      "     2         0 ...rc/Serialization.jl   736 serialize\n",
      "     2         0 ...rc/Serialization.jl   644 serialize_any(::Serialization.S...\n",
      "     1         0 ...rc/Serialization.jl   155 serialize_cycle(::Serialization...\n",
      "     1         1 ...rc/Serialization.jl   570 serialize_type(::Serialization....\n",
      "     1         0 ...rc/Serialization.jl   574 serialize_type(::Serialization....\n",
      "     1         0 ...rc/Serialization.jl   533 serialize_type_data(::Serializa...\n",
      "Total snapshots: 545\n"
     ]
    }
   ],
   "source": [
    "using Profile\n",
    "@profile solve_lna(5)\n",
    "Profile.print(format=:flat)"
   ]
  },
  {
   "cell_type": "code",
   "execution_count": null,
   "id": "0176b437-ff34-48ff-b1f7-e82cb1a2662b",
   "metadata": {},
   "outputs": [],
   "source": []
  }
 ],
 "metadata": {
  "kernelspec": {
   "display_name": "Julia 1.5.3",
   "language": "julia",
   "name": "julia-1.5"
  },
  "language_info": {
   "file_extension": ".jl",
   "mimetype": "application/julia",
   "name": "julia",
   "version": "1.5.3"
  }
 },
 "nbformat": 4,
 "nbformat_minor": 5
}
